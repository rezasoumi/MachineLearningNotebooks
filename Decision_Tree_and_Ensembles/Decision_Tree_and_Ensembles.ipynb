{
  "metadata": {
    "kernelspec": {
      "language": "python",
      "display_name": "Python 3",
      "name": "python3"
    },
    "language_info": {
      "name": "python",
      "version": "3.10.10",
      "mimetype": "text/x-python",
      "codemirror_mode": {
        "name": "ipython",
        "version": 3
      },
      "pygments_lexer": "ipython3",
      "nbconvert_exporter": "python",
      "file_extension": ".py"
    },
    "colab": {
      "provenance": []
    }
  },
  "nbformat_minor": 0,
  "nbformat": 4,
  "cells": [
    {
      "cell_type": "markdown",
      "metadata": {
        "id": "b07eb33c"
      },
      "source": [
        "<div>\n",
        "<img src='https://upload.wikimedia.org/wikipedia/commons/6/64/Sharif_University_Logo.jpg' alt=\"SUT logo\" width=220 height=220 align=left class=\"saturate\">\n",
        "\n",
        "<br>\n",
        "<font face=\"Times New Roman\">\n",
        "<div dir=ltr align=center> \n",
        "<!-- <font color=0F5298 size=7> -->\n",
        "<font color=0F5298 size=6>\n",
        "    Introduction to Machine Learning <br> <br>\n",
        "<!-- <font color=2565AE size=5> -->\n",
        "<font size=5>\n",
        "    Computer Engineering Department <br>\n",
        "    Spring 2023 <br> <br>\n",
        "<font color=606060 size=5>\n",
        "    Homework 7: Practical - Decision Tree and Ensembles <br> <br>\n",
        "<font color=686880 size=4>\n",
        "    TAs: Amirhossein Ramazani Bonab - Arman Malekzadeh\n",
        "    \n",
        "____"
      ]
    },
    {
      "cell_type": "markdown",
      "metadata": {
        "id": "f5a79508"
      },
      "source": [
        "### Full Name : Reza Soumi\n",
        "### Student Number : 98105857\n",
        "### Colab Link: https://colab.research.google.com/drive/1uLFUs3OhoP8_P2ZzRJtPHtPXOGXnP0ae?usp=sharing\n",
        "___"
      ]
    },
    {
      "cell_type": "markdown",
      "source": [
        "**About the Dataset:**\n",
        "\n",
        "\n",
        "Measurements of geometrical properties of kernels belonging to three different varieties of wheat.\n",
        "\n",
        "A soft X-ray technique and GRAINS package were used to construct all seven, real-valued attributes.\n",
        "\n",
        "**Data Set Information:**\n",
        "\n",
        "\n",
        "The examined group comprised kernels belonging to three different varieties of wheat: Kama, Rosa and Canadian, 70 elements each, randomly selected for\n",
        "the experiment. High quality visualization of the internal kernel structure was detected using a soft X-ray technique. It is non-destructive and considerably cheaper than other more sophisticated imaging techniques like scanning microscopy or laser technology. The images were recorded on 13x18 cm X-ray KODAK plates. Studies were conducted using combine harvested wheat grain originating from experimental fields, explored at the Institute of Agrophysics of the Polish Academy of Sciences in Lublin.\n",
        "\n",
        "To construct the data, seven geometric parameters of wheat kernels were measured:\n",
        "\n",
        "- area A,\n",
        "- perimeter P,\n",
        "- compactness C = 4piA/P^2,\n",
        "- length of kernel,\n",
        "- width of kernel,\n",
        "- asymmetry coefficient\n",
        "- length of kernel groove.\n",
        "\n",
        "The target column is \"Type\".\n",
        "\n",
        "The data set can be used for the tasks of classification and cluster analysis.\n",
        "\n",
        "https://archive.ics.uci.edu/ml/datasets/seeds"
      ],
      "metadata": {
        "id": "8R9A8RKJa07c"
      }
    },
    {
      "cell_type": "code",
      "source": [
        "import pandas as pd\n",
        "import numpy as np\n",
        "\n",
        "import matplotlib.pyplot as plt\n",
        "%matplotlib inline\n",
        "import seaborn as sns\n",
        "\n",
        "from sklearn.model_selection import train_test_split\n",
        "from sklearn.metrics import accuracy_score\n",
        "\n",
        "from random import choices\n",
        "import math"
      ],
      "metadata": {
        "execution": {
          "iopub.status.busy": "2023-05-24T07:40:35.643418Z",
          "iopub.execute_input": "2023-05-24T07:40:35.643859Z",
          "iopub.status.idle": "2023-05-24T07:40:35.652079Z",
          "shell.execute_reply.started": "2023-05-24T07:40:35.643823Z",
          "shell.execute_reply": "2023-05-24T07:40:35.650632Z"
        },
        "trusted": true,
        "id": "_s9VlwRcUmDE"
      },
      "execution_count": 22,
      "outputs": []
    },
    {
      "cell_type": "markdown",
      "source": [
        "## P1: Explore the Dataset"
      ],
      "metadata": {
        "id": "pXav8LQyUmDG"
      }
    },
    {
      "cell_type": "code",
      "source": [
        "!wget -O dataset.csv https://www.dropbox.com/s/xc1tbfju2mn59yj/seeds%20%281%29.csv?dl=1"
      ],
      "metadata": {
        "id": "Qp8d_3l88cOp",
        "colab": {
          "base_uri": "https://localhost:8080/"
        },
        "outputId": "bbfe7390-33dd-4428-a353-d7cc08f92247"
      },
      "execution_count": 2,
      "outputs": [
        {
          "output_type": "stream",
          "name": "stdout",
          "text": [
            "--2023-06-05 09:04:17--  https://www.dropbox.com/s/xc1tbfju2mn59yj/seeds%20%281%29.csv?dl=1\n",
            "Resolving www.dropbox.com (www.dropbox.com)... 162.125.66.18, 2620:100:6018:18::a27d:312\n",
            "Connecting to www.dropbox.com (www.dropbox.com)|162.125.66.18|:443... connected.\n",
            "HTTP request sent, awaiting response... 302 Found\n",
            "Location: /s/dl/xc1tbfju2mn59yj/seeds%20%281%29.csv [following]\n",
            "--2023-06-05 09:04:18--  https://www.dropbox.com/s/dl/xc1tbfju2mn59yj/seeds%20%281%29.csv\n",
            "Reusing existing connection to www.dropbox.com:443.\n",
            "HTTP request sent, awaiting response... 302 Found\n",
            "Location: https://uc8e27e679b7e48a462ee53dace3.dl.dropboxusercontent.com/cd/0/get/B9bbNJBUBWoNk00pfCu0CSlWbJcjyH8Lgzf1i2bBlmRQ1ZivGM4Lj9tW9mn2TOIuCbqcZD0VrdFizETHCwliGixo2yDlodQ1C2PUUVQ5SgSuUXlTP8KTRXPhXrht9ta1A_1ITVpJhxY7jrBTmR11xlv_evDve7dzkbx-zWY9z---LOjkL7aQS9-5D2gWuongYZY/file?dl=1# [following]\n",
            "--2023-06-05 09:04:19--  https://uc8e27e679b7e48a462ee53dace3.dl.dropboxusercontent.com/cd/0/get/B9bbNJBUBWoNk00pfCu0CSlWbJcjyH8Lgzf1i2bBlmRQ1ZivGM4Lj9tW9mn2TOIuCbqcZD0VrdFizETHCwliGixo2yDlodQ1C2PUUVQ5SgSuUXlTP8KTRXPhXrht9ta1A_1ITVpJhxY7jrBTmR11xlv_evDve7dzkbx-zWY9z---LOjkL7aQS9-5D2gWuongYZY/file?dl=1\n",
            "Resolving uc8e27e679b7e48a462ee53dace3.dl.dropboxusercontent.com (uc8e27e679b7e48a462ee53dace3.dl.dropboxusercontent.com)... 162.125.3.15, 2620:100:6018:15::a27d:30f\n",
            "Connecting to uc8e27e679b7e48a462ee53dace3.dl.dropboxusercontent.com (uc8e27e679b7e48a462ee53dace3.dl.dropboxusercontent.com)|162.125.3.15|:443... connected.\n",
            "HTTP request sent, awaiting response... 200 OK\n",
            "Length: 9125 (8.9K) [application/binary]\n",
            "Saving to: ‘dataset.csv’\n",
            "\n",
            "dataset.csv         100%[===================>]   8.91K  --.-KB/s    in 0s      \n",
            "\n",
            "2023-06-05 09:04:19 (81.1 MB/s) - ‘dataset.csv’ saved [9125/9125]\n",
            "\n"
          ]
        }
      ]
    },
    {
      "cell_type": "markdown",
      "source": [
        "Load the dataset as a dataframe"
      ],
      "metadata": {
        "id": "d9Imt5hubwiz"
      }
    },
    {
      "cell_type": "code",
      "source": [
        "df = pd.read_csv(\"dataset.csv\")\n",
        "df"
      ],
      "metadata": {
        "id": "RuRn5PGpskHI",
        "colab": {
          "base_uri": "https://localhost:8080/",
          "height": 423
        },
        "outputId": "be62a496-cb82-4721-8598-ea53c0ec484f"
      },
      "execution_count": 3,
      "outputs": [
        {
          "output_type": "execute_result",
          "data": {
            "text/plain": [
              "      Area  Perimeter  Compactness  Kernel.Length  Kernel.Width  \\\n",
              "0    15.26      14.84       0.8710          5.763         3.312   \n",
              "1    14.88      14.57       0.8811          5.554         3.333   \n",
              "2    14.29      14.09       0.9050          5.291         3.337   \n",
              "3    13.84      13.94       0.8955          5.324         3.379   \n",
              "4    16.14      14.99       0.9034          5.658         3.562   \n",
              "..     ...        ...          ...            ...           ...   \n",
              "194  12.19      13.20       0.8783          5.137         2.981   \n",
              "195  11.23      12.88       0.8511          5.140         2.795   \n",
              "196  13.20      13.66       0.8883          5.236         3.232   \n",
              "197  11.84      13.21       0.8521          5.175         2.836   \n",
              "198  12.30      13.34       0.8684          5.243         2.974   \n",
              "\n",
              "     Asymmetry.Coeff  Kernel.Groove  Type  \n",
              "0              2.221          5.220     1  \n",
              "1              1.018          4.956     1  \n",
              "2              2.699          4.825     1  \n",
              "3              2.259          4.805     1  \n",
              "4              1.355          5.175     1  \n",
              "..               ...            ...   ...  \n",
              "194            3.631          4.870     3  \n",
              "195            4.325          5.003     3  \n",
              "196            8.315          5.056     3  \n",
              "197            3.598          5.044     3  \n",
              "198            5.637          5.063     3  \n",
              "\n",
              "[199 rows x 8 columns]"
            ],
            "text/html": [
              "\n",
              "  <div id=\"df-80d86efc-c617-4369-b7c1-b911984d691d\">\n",
              "    <div class=\"colab-df-container\">\n",
              "      <div>\n",
              "<style scoped>\n",
              "    .dataframe tbody tr th:only-of-type {\n",
              "        vertical-align: middle;\n",
              "    }\n",
              "\n",
              "    .dataframe tbody tr th {\n",
              "        vertical-align: top;\n",
              "    }\n",
              "\n",
              "    .dataframe thead th {\n",
              "        text-align: right;\n",
              "    }\n",
              "</style>\n",
              "<table border=\"1\" class=\"dataframe\">\n",
              "  <thead>\n",
              "    <tr style=\"text-align: right;\">\n",
              "      <th></th>\n",
              "      <th>Area</th>\n",
              "      <th>Perimeter</th>\n",
              "      <th>Compactness</th>\n",
              "      <th>Kernel.Length</th>\n",
              "      <th>Kernel.Width</th>\n",
              "      <th>Asymmetry.Coeff</th>\n",
              "      <th>Kernel.Groove</th>\n",
              "      <th>Type</th>\n",
              "    </tr>\n",
              "  </thead>\n",
              "  <tbody>\n",
              "    <tr>\n",
              "      <th>0</th>\n",
              "      <td>15.26</td>\n",
              "      <td>14.84</td>\n",
              "      <td>0.8710</td>\n",
              "      <td>5.763</td>\n",
              "      <td>3.312</td>\n",
              "      <td>2.221</td>\n",
              "      <td>5.220</td>\n",
              "      <td>1</td>\n",
              "    </tr>\n",
              "    <tr>\n",
              "      <th>1</th>\n",
              "      <td>14.88</td>\n",
              "      <td>14.57</td>\n",
              "      <td>0.8811</td>\n",
              "      <td>5.554</td>\n",
              "      <td>3.333</td>\n",
              "      <td>1.018</td>\n",
              "      <td>4.956</td>\n",
              "      <td>1</td>\n",
              "    </tr>\n",
              "    <tr>\n",
              "      <th>2</th>\n",
              "      <td>14.29</td>\n",
              "      <td>14.09</td>\n",
              "      <td>0.9050</td>\n",
              "      <td>5.291</td>\n",
              "      <td>3.337</td>\n",
              "      <td>2.699</td>\n",
              "      <td>4.825</td>\n",
              "      <td>1</td>\n",
              "    </tr>\n",
              "    <tr>\n",
              "      <th>3</th>\n",
              "      <td>13.84</td>\n",
              "      <td>13.94</td>\n",
              "      <td>0.8955</td>\n",
              "      <td>5.324</td>\n",
              "      <td>3.379</td>\n",
              "      <td>2.259</td>\n",
              "      <td>4.805</td>\n",
              "      <td>1</td>\n",
              "    </tr>\n",
              "    <tr>\n",
              "      <th>4</th>\n",
              "      <td>16.14</td>\n",
              "      <td>14.99</td>\n",
              "      <td>0.9034</td>\n",
              "      <td>5.658</td>\n",
              "      <td>3.562</td>\n",
              "      <td>1.355</td>\n",
              "      <td>5.175</td>\n",
              "      <td>1</td>\n",
              "    </tr>\n",
              "    <tr>\n",
              "      <th>...</th>\n",
              "      <td>...</td>\n",
              "      <td>...</td>\n",
              "      <td>...</td>\n",
              "      <td>...</td>\n",
              "      <td>...</td>\n",
              "      <td>...</td>\n",
              "      <td>...</td>\n",
              "      <td>...</td>\n",
              "    </tr>\n",
              "    <tr>\n",
              "      <th>194</th>\n",
              "      <td>12.19</td>\n",
              "      <td>13.20</td>\n",
              "      <td>0.8783</td>\n",
              "      <td>5.137</td>\n",
              "      <td>2.981</td>\n",
              "      <td>3.631</td>\n",
              "      <td>4.870</td>\n",
              "      <td>3</td>\n",
              "    </tr>\n",
              "    <tr>\n",
              "      <th>195</th>\n",
              "      <td>11.23</td>\n",
              "      <td>12.88</td>\n",
              "      <td>0.8511</td>\n",
              "      <td>5.140</td>\n",
              "      <td>2.795</td>\n",
              "      <td>4.325</td>\n",
              "      <td>5.003</td>\n",
              "      <td>3</td>\n",
              "    </tr>\n",
              "    <tr>\n",
              "      <th>196</th>\n",
              "      <td>13.20</td>\n",
              "      <td>13.66</td>\n",
              "      <td>0.8883</td>\n",
              "      <td>5.236</td>\n",
              "      <td>3.232</td>\n",
              "      <td>8.315</td>\n",
              "      <td>5.056</td>\n",
              "      <td>3</td>\n",
              "    </tr>\n",
              "    <tr>\n",
              "      <th>197</th>\n",
              "      <td>11.84</td>\n",
              "      <td>13.21</td>\n",
              "      <td>0.8521</td>\n",
              "      <td>5.175</td>\n",
              "      <td>2.836</td>\n",
              "      <td>3.598</td>\n",
              "      <td>5.044</td>\n",
              "      <td>3</td>\n",
              "    </tr>\n",
              "    <tr>\n",
              "      <th>198</th>\n",
              "      <td>12.30</td>\n",
              "      <td>13.34</td>\n",
              "      <td>0.8684</td>\n",
              "      <td>5.243</td>\n",
              "      <td>2.974</td>\n",
              "      <td>5.637</td>\n",
              "      <td>5.063</td>\n",
              "      <td>3</td>\n",
              "    </tr>\n",
              "  </tbody>\n",
              "</table>\n",
              "<p>199 rows × 8 columns</p>\n",
              "</div>\n",
              "      <button class=\"colab-df-convert\" onclick=\"convertToInteractive('df-80d86efc-c617-4369-b7c1-b911984d691d')\"\n",
              "              title=\"Convert this dataframe to an interactive table.\"\n",
              "              style=\"display:none;\">\n",
              "        \n",
              "  <svg xmlns=\"http://www.w3.org/2000/svg\" height=\"24px\"viewBox=\"0 0 24 24\"\n",
              "       width=\"24px\">\n",
              "    <path d=\"M0 0h24v24H0V0z\" fill=\"none\"/>\n",
              "    <path d=\"M18.56 5.44l.94 2.06.94-2.06 2.06-.94-2.06-.94-.94-2.06-.94 2.06-2.06.94zm-11 1L8.5 8.5l.94-2.06 2.06-.94-2.06-.94L8.5 2.5l-.94 2.06-2.06.94zm10 10l.94 2.06.94-2.06 2.06-.94-2.06-.94-.94-2.06-.94 2.06-2.06.94z\"/><path d=\"M17.41 7.96l-1.37-1.37c-.4-.4-.92-.59-1.43-.59-.52 0-1.04.2-1.43.59L10.3 9.45l-7.72 7.72c-.78.78-.78 2.05 0 2.83L4 21.41c.39.39.9.59 1.41.59.51 0 1.02-.2 1.41-.59l7.78-7.78 2.81-2.81c.8-.78.8-2.07 0-2.86zM5.41 20L4 18.59l7.72-7.72 1.47 1.35L5.41 20z\"/>\n",
              "  </svg>\n",
              "      </button>\n",
              "      \n",
              "  <style>\n",
              "    .colab-df-container {\n",
              "      display:flex;\n",
              "      flex-wrap:wrap;\n",
              "      gap: 12px;\n",
              "    }\n",
              "\n",
              "    .colab-df-convert {\n",
              "      background-color: #E8F0FE;\n",
              "      border: none;\n",
              "      border-radius: 50%;\n",
              "      cursor: pointer;\n",
              "      display: none;\n",
              "      fill: #1967D2;\n",
              "      height: 32px;\n",
              "      padding: 0 0 0 0;\n",
              "      width: 32px;\n",
              "    }\n",
              "\n",
              "    .colab-df-convert:hover {\n",
              "      background-color: #E2EBFA;\n",
              "      box-shadow: 0px 1px 2px rgba(60, 64, 67, 0.3), 0px 1px 3px 1px rgba(60, 64, 67, 0.15);\n",
              "      fill: #174EA6;\n",
              "    }\n",
              "\n",
              "    [theme=dark] .colab-df-convert {\n",
              "      background-color: #3B4455;\n",
              "      fill: #D2E3FC;\n",
              "    }\n",
              "\n",
              "    [theme=dark] .colab-df-convert:hover {\n",
              "      background-color: #434B5C;\n",
              "      box-shadow: 0px 1px 3px 1px rgba(0, 0, 0, 0.15);\n",
              "      filter: drop-shadow(0px 1px 2px rgba(0, 0, 0, 0.3));\n",
              "      fill: #FFFFFF;\n",
              "    }\n",
              "  </style>\n",
              "\n",
              "      <script>\n",
              "        const buttonEl =\n",
              "          document.querySelector('#df-80d86efc-c617-4369-b7c1-b911984d691d button.colab-df-convert');\n",
              "        buttonEl.style.display =\n",
              "          google.colab.kernel.accessAllowed ? 'block' : 'none';\n",
              "\n",
              "        async function convertToInteractive(key) {\n",
              "          const element = document.querySelector('#df-80d86efc-c617-4369-b7c1-b911984d691d');\n",
              "          const dataTable =\n",
              "            await google.colab.kernel.invokeFunction('convertToInteractive',\n",
              "                                                     [key], {});\n",
              "          if (!dataTable) return;\n",
              "\n",
              "          const docLinkHtml = 'Like what you see? Visit the ' +\n",
              "            '<a target=\"_blank\" href=https://colab.research.google.com/notebooks/data_table.ipynb>data table notebook</a>'\n",
              "            + ' to learn more about interactive tables.';\n",
              "          element.innerHTML = '';\n",
              "          dataTable['output_type'] = 'display_data';\n",
              "          await google.colab.output.renderOutput(dataTable, element);\n",
              "          const docLink = document.createElement('div');\n",
              "          docLink.innerHTML = docLinkHtml;\n",
              "          element.appendChild(docLink);\n",
              "        }\n",
              "      </script>\n",
              "    </div>\n",
              "  </div>\n",
              "  "
            ]
          },
          "metadata": {},
          "execution_count": 3
        }
      ]
    },
    {
      "cell_type": "markdown",
      "source": [
        "Check if there are any missing values (and remove them) **(P1-1: 2 points)**"
      ],
      "metadata": {
        "id": "RWiHRlHkb1Bf"
      }
    },
    {
      "cell_type": "code",
      "source": [
        "print(df.isnull().sum())\n",
        "df.dropna(inplace=True)\n",
        "df"
      ],
      "metadata": {
        "execution": {
          "iopub.status.busy": "2023-05-24T06:42:35.080087Z",
          "iopub.execute_input": "2023-05-24T06:42:35.080727Z",
          "iopub.status.idle": "2023-05-24T06:42:35.091722Z",
          "shell.execute_reply.started": "2023-05-24T06:42:35.080676Z",
          "shell.execute_reply": "2023-05-24T06:42:35.089794Z"
        },
        "trusted": true,
        "id": "YqfwGyG9UmDI",
        "colab": {
          "base_uri": "https://localhost:8080/",
          "height": 579
        },
        "outputId": "96dad276-c110-4891-9403-1bda6df4556f"
      },
      "execution_count": 4,
      "outputs": [
        {
          "output_type": "stream",
          "name": "stdout",
          "text": [
            "Area               0\n",
            "Perimeter          0\n",
            "Compactness        0\n",
            "Kernel.Length      0\n",
            "Kernel.Width       0\n",
            "Asymmetry.Coeff    0\n",
            "Kernel.Groove      0\n",
            "Type               0\n",
            "dtype: int64\n"
          ]
        },
        {
          "output_type": "execute_result",
          "data": {
            "text/plain": [
              "      Area  Perimeter  Compactness  Kernel.Length  Kernel.Width  \\\n",
              "0    15.26      14.84       0.8710          5.763         3.312   \n",
              "1    14.88      14.57       0.8811          5.554         3.333   \n",
              "2    14.29      14.09       0.9050          5.291         3.337   \n",
              "3    13.84      13.94       0.8955          5.324         3.379   \n",
              "4    16.14      14.99       0.9034          5.658         3.562   \n",
              "..     ...        ...          ...            ...           ...   \n",
              "194  12.19      13.20       0.8783          5.137         2.981   \n",
              "195  11.23      12.88       0.8511          5.140         2.795   \n",
              "196  13.20      13.66       0.8883          5.236         3.232   \n",
              "197  11.84      13.21       0.8521          5.175         2.836   \n",
              "198  12.30      13.34       0.8684          5.243         2.974   \n",
              "\n",
              "     Asymmetry.Coeff  Kernel.Groove  Type  \n",
              "0              2.221          5.220     1  \n",
              "1              1.018          4.956     1  \n",
              "2              2.699          4.825     1  \n",
              "3              2.259          4.805     1  \n",
              "4              1.355          5.175     1  \n",
              "..               ...            ...   ...  \n",
              "194            3.631          4.870     3  \n",
              "195            4.325          5.003     3  \n",
              "196            8.315          5.056     3  \n",
              "197            3.598          5.044     3  \n",
              "198            5.637          5.063     3  \n",
              "\n",
              "[199 rows x 8 columns]"
            ],
            "text/html": [
              "\n",
              "  <div id=\"df-168d15fa-a1f6-430d-b4f0-aba85a8f27fd\">\n",
              "    <div class=\"colab-df-container\">\n",
              "      <div>\n",
              "<style scoped>\n",
              "    .dataframe tbody tr th:only-of-type {\n",
              "        vertical-align: middle;\n",
              "    }\n",
              "\n",
              "    .dataframe tbody tr th {\n",
              "        vertical-align: top;\n",
              "    }\n",
              "\n",
              "    .dataframe thead th {\n",
              "        text-align: right;\n",
              "    }\n",
              "</style>\n",
              "<table border=\"1\" class=\"dataframe\">\n",
              "  <thead>\n",
              "    <tr style=\"text-align: right;\">\n",
              "      <th></th>\n",
              "      <th>Area</th>\n",
              "      <th>Perimeter</th>\n",
              "      <th>Compactness</th>\n",
              "      <th>Kernel.Length</th>\n",
              "      <th>Kernel.Width</th>\n",
              "      <th>Asymmetry.Coeff</th>\n",
              "      <th>Kernel.Groove</th>\n",
              "      <th>Type</th>\n",
              "    </tr>\n",
              "  </thead>\n",
              "  <tbody>\n",
              "    <tr>\n",
              "      <th>0</th>\n",
              "      <td>15.26</td>\n",
              "      <td>14.84</td>\n",
              "      <td>0.8710</td>\n",
              "      <td>5.763</td>\n",
              "      <td>3.312</td>\n",
              "      <td>2.221</td>\n",
              "      <td>5.220</td>\n",
              "      <td>1</td>\n",
              "    </tr>\n",
              "    <tr>\n",
              "      <th>1</th>\n",
              "      <td>14.88</td>\n",
              "      <td>14.57</td>\n",
              "      <td>0.8811</td>\n",
              "      <td>5.554</td>\n",
              "      <td>3.333</td>\n",
              "      <td>1.018</td>\n",
              "      <td>4.956</td>\n",
              "      <td>1</td>\n",
              "    </tr>\n",
              "    <tr>\n",
              "      <th>2</th>\n",
              "      <td>14.29</td>\n",
              "      <td>14.09</td>\n",
              "      <td>0.9050</td>\n",
              "      <td>5.291</td>\n",
              "      <td>3.337</td>\n",
              "      <td>2.699</td>\n",
              "      <td>4.825</td>\n",
              "      <td>1</td>\n",
              "    </tr>\n",
              "    <tr>\n",
              "      <th>3</th>\n",
              "      <td>13.84</td>\n",
              "      <td>13.94</td>\n",
              "      <td>0.8955</td>\n",
              "      <td>5.324</td>\n",
              "      <td>3.379</td>\n",
              "      <td>2.259</td>\n",
              "      <td>4.805</td>\n",
              "      <td>1</td>\n",
              "    </tr>\n",
              "    <tr>\n",
              "      <th>4</th>\n",
              "      <td>16.14</td>\n",
              "      <td>14.99</td>\n",
              "      <td>0.9034</td>\n",
              "      <td>5.658</td>\n",
              "      <td>3.562</td>\n",
              "      <td>1.355</td>\n",
              "      <td>5.175</td>\n",
              "      <td>1</td>\n",
              "    </tr>\n",
              "    <tr>\n",
              "      <th>...</th>\n",
              "      <td>...</td>\n",
              "      <td>...</td>\n",
              "      <td>...</td>\n",
              "      <td>...</td>\n",
              "      <td>...</td>\n",
              "      <td>...</td>\n",
              "      <td>...</td>\n",
              "      <td>...</td>\n",
              "    </tr>\n",
              "    <tr>\n",
              "      <th>194</th>\n",
              "      <td>12.19</td>\n",
              "      <td>13.20</td>\n",
              "      <td>0.8783</td>\n",
              "      <td>5.137</td>\n",
              "      <td>2.981</td>\n",
              "      <td>3.631</td>\n",
              "      <td>4.870</td>\n",
              "      <td>3</td>\n",
              "    </tr>\n",
              "    <tr>\n",
              "      <th>195</th>\n",
              "      <td>11.23</td>\n",
              "      <td>12.88</td>\n",
              "      <td>0.8511</td>\n",
              "      <td>5.140</td>\n",
              "      <td>2.795</td>\n",
              "      <td>4.325</td>\n",
              "      <td>5.003</td>\n",
              "      <td>3</td>\n",
              "    </tr>\n",
              "    <tr>\n",
              "      <th>196</th>\n",
              "      <td>13.20</td>\n",
              "      <td>13.66</td>\n",
              "      <td>0.8883</td>\n",
              "      <td>5.236</td>\n",
              "      <td>3.232</td>\n",
              "      <td>8.315</td>\n",
              "      <td>5.056</td>\n",
              "      <td>3</td>\n",
              "    </tr>\n",
              "    <tr>\n",
              "      <th>197</th>\n",
              "      <td>11.84</td>\n",
              "      <td>13.21</td>\n",
              "      <td>0.8521</td>\n",
              "      <td>5.175</td>\n",
              "      <td>2.836</td>\n",
              "      <td>3.598</td>\n",
              "      <td>5.044</td>\n",
              "      <td>3</td>\n",
              "    </tr>\n",
              "    <tr>\n",
              "      <th>198</th>\n",
              "      <td>12.30</td>\n",
              "      <td>13.34</td>\n",
              "      <td>0.8684</td>\n",
              "      <td>5.243</td>\n",
              "      <td>2.974</td>\n",
              "      <td>5.637</td>\n",
              "      <td>5.063</td>\n",
              "      <td>3</td>\n",
              "    </tr>\n",
              "  </tbody>\n",
              "</table>\n",
              "<p>199 rows × 8 columns</p>\n",
              "</div>\n",
              "      <button class=\"colab-df-convert\" onclick=\"convertToInteractive('df-168d15fa-a1f6-430d-b4f0-aba85a8f27fd')\"\n",
              "              title=\"Convert this dataframe to an interactive table.\"\n",
              "              style=\"display:none;\">\n",
              "        \n",
              "  <svg xmlns=\"http://www.w3.org/2000/svg\" height=\"24px\"viewBox=\"0 0 24 24\"\n",
              "       width=\"24px\">\n",
              "    <path d=\"M0 0h24v24H0V0z\" fill=\"none\"/>\n",
              "    <path d=\"M18.56 5.44l.94 2.06.94-2.06 2.06-.94-2.06-.94-.94-2.06-.94 2.06-2.06.94zm-11 1L8.5 8.5l.94-2.06 2.06-.94-2.06-.94L8.5 2.5l-.94 2.06-2.06.94zm10 10l.94 2.06.94-2.06 2.06-.94-2.06-.94-.94-2.06-.94 2.06-2.06.94z\"/><path d=\"M17.41 7.96l-1.37-1.37c-.4-.4-.92-.59-1.43-.59-.52 0-1.04.2-1.43.59L10.3 9.45l-7.72 7.72c-.78.78-.78 2.05 0 2.83L4 21.41c.39.39.9.59 1.41.59.51 0 1.02-.2 1.41-.59l7.78-7.78 2.81-2.81c.8-.78.8-2.07 0-2.86zM5.41 20L4 18.59l7.72-7.72 1.47 1.35L5.41 20z\"/>\n",
              "  </svg>\n",
              "      </button>\n",
              "      \n",
              "  <style>\n",
              "    .colab-df-container {\n",
              "      display:flex;\n",
              "      flex-wrap:wrap;\n",
              "      gap: 12px;\n",
              "    }\n",
              "\n",
              "    .colab-df-convert {\n",
              "      background-color: #E8F0FE;\n",
              "      border: none;\n",
              "      border-radius: 50%;\n",
              "      cursor: pointer;\n",
              "      display: none;\n",
              "      fill: #1967D2;\n",
              "      height: 32px;\n",
              "      padding: 0 0 0 0;\n",
              "      width: 32px;\n",
              "    }\n",
              "\n",
              "    .colab-df-convert:hover {\n",
              "      background-color: #E2EBFA;\n",
              "      box-shadow: 0px 1px 2px rgba(60, 64, 67, 0.3), 0px 1px 3px 1px rgba(60, 64, 67, 0.15);\n",
              "      fill: #174EA6;\n",
              "    }\n",
              "\n",
              "    [theme=dark] .colab-df-convert {\n",
              "      background-color: #3B4455;\n",
              "      fill: #D2E3FC;\n",
              "    }\n",
              "\n",
              "    [theme=dark] .colab-df-convert:hover {\n",
              "      background-color: #434B5C;\n",
              "      box-shadow: 0px 1px 3px 1px rgba(0, 0, 0, 0.15);\n",
              "      filter: drop-shadow(0px 1px 2px rgba(0, 0, 0, 0.3));\n",
              "      fill: #FFFFFF;\n",
              "    }\n",
              "  </style>\n",
              "\n",
              "      <script>\n",
              "        const buttonEl =\n",
              "          document.querySelector('#df-168d15fa-a1f6-430d-b4f0-aba85a8f27fd button.colab-df-convert');\n",
              "        buttonEl.style.display =\n",
              "          google.colab.kernel.accessAllowed ? 'block' : 'none';\n",
              "\n",
              "        async function convertToInteractive(key) {\n",
              "          const element = document.querySelector('#df-168d15fa-a1f6-430d-b4f0-aba85a8f27fd');\n",
              "          const dataTable =\n",
              "            await google.colab.kernel.invokeFunction('convertToInteractive',\n",
              "                                                     [key], {});\n",
              "          if (!dataTable) return;\n",
              "\n",
              "          const docLinkHtml = 'Like what you see? Visit the ' +\n",
              "            '<a target=\"_blank\" href=https://colab.research.google.com/notebooks/data_table.ipynb>data table notebook</a>'\n",
              "            + ' to learn more about interactive tables.';\n",
              "          element.innerHTML = '';\n",
              "          dataTable['output_type'] = 'display_data';\n",
              "          await google.colab.output.renderOutput(dataTable, element);\n",
              "          const docLink = document.createElement('div');\n",
              "          docLink.innerHTML = docLinkHtml;\n",
              "          element.appendChild(docLink);\n",
              "        }\n",
              "      </script>\n",
              "    </div>\n",
              "  </div>\n",
              "  "
            ]
          },
          "metadata": {},
          "execution_count": 4
        }
      ]
    },
    {
      "cell_type": "markdown",
      "source": [
        "Plot the heatmap of the correlation matrix between features **(P1-2: 3 points)**"
      ],
      "metadata": {
        "id": "VF5wHd-8b-aE"
      }
    },
    {
      "cell_type": "code",
      "source": [
        "corr_matrix = df.corr()\n",
        "\n",
        "plt.figure(figsize=(10, 8))\n",
        "sns.heatmap(corr_matrix, annot=True, cmap=\"coolwarm\", linewidths=0.5)\n",
        "plt.title(\"Correlation Matrix Heatmap\")\n",
        "plt.show()"
      ],
      "metadata": {
        "execution": {
          "iopub.status.busy": "2023-05-24T06:43:36.794295Z",
          "iopub.execute_input": "2023-05-24T06:43:36.794843Z",
          "iopub.status.idle": "2023-05-24T06:43:37.411526Z",
          "shell.execute_reply.started": "2023-05-24T06:43:36.794803Z",
          "shell.execute_reply": "2023-05-24T06:43:37.410238Z"
        },
        "trusted": true,
        "id": "NP0TksdUUmDI",
        "colab": {
          "base_uri": "https://localhost:8080/",
          "height": 804
        },
        "outputId": "3c2868f6-c362-4300-cb66-ec696f20e7bc"
      },
      "execution_count": 5,
      "outputs": [
        {
          "output_type": "display_data",
          "data": {
            "text/plain": [
              "<Figure size 1000x800 with 2 Axes>"
            ],
            "image/png": "[encoded data removed]"
          },
          "metadata": {}
        }
      ]
    },
    {
      "cell_type": "markdown",
      "source": [
        "Remove features which are highly correlated (> 95%) with the other ones **(P1-3: 5 points)**"
      ],
      "metadata": {
        "id": "DC874nRgcG38"
      }
    },
    {
      "cell_type": "code",
      "source": [
        "highly_correlated = set()\n",
        "for i in range(len(corr_matrix.columns)):\n",
        "    for j in range(i):\n",
        "        if abs(corr_matrix.iloc[i, j]) > 0.95:\n",
        "            colname_i = corr_matrix.columns[i]\n",
        "            colname_j = corr_matrix.columns[j]\n",
        "            if colname_j in highly_correlated:\n",
        "                continue\n",
        "            highly_correlated.add(colname_i)\n",
        "            break\n",
        "\n",
        "df_filtered = df.drop(columns=highly_correlated)\n",
        "df_filtered"
      ],
      "metadata": {
        "execution": {
          "iopub.status.busy": "2023-05-24T06:47:34.398266Z",
          "iopub.execute_input": "2023-05-24T06:47:34.398700Z",
          "iopub.status.idle": "2023-05-24T06:47:34.418229Z",
          "shell.execute_reply.started": "2023-05-24T06:47:34.398658Z",
          "shell.execute_reply": "2023-05-24T06:47:34.417048Z"
        },
        "trusted": true,
        "id": "yPdwUIV4UmDJ",
        "colab": {
          "base_uri": "https://localhost:8080/",
          "height": 423
        },
        "outputId": "7ad3ba08-bff6-437c-87de-f71810b48b07"
      },
      "execution_count": 6,
      "outputs": [
        {
          "output_type": "execute_result",
          "data": {
            "text/plain": [
              "      Area  Compactness  Asymmetry.Coeff  Kernel.Groove  Type\n",
              "0    15.26       0.8710            2.221          5.220     1\n",
              "1    14.88       0.8811            1.018          4.956     1\n",
              "2    14.29       0.9050            2.699          4.825     1\n",
              "3    13.84       0.8955            2.259          4.805     1\n",
              "4    16.14       0.9034            1.355          5.175     1\n",
              "..     ...          ...              ...            ...   ...\n",
              "194  12.19       0.8783            3.631          4.870     3\n",
              "195  11.23       0.8511            4.325          5.003     3\n",
              "196  13.20       0.8883            8.315          5.056     3\n",
              "197  11.84       0.8521            3.598          5.044     3\n",
              "198  12.30       0.8684            5.637          5.063     3\n",
              "\n",
              "[199 rows x 5 columns]"
            ],
            "text/html": [
              "\n",
              "  <div id=\"df-69d7948f-18d7-4e58-94ae-2e931783fc5d\">\n",
              "    <div class=\"colab-df-container\">\n",
              "      <div>\n",
              "<style scoped>\n",
              "    .dataframe tbody tr th:only-of-type {\n",
              "        vertical-align: middle;\n",
              "    }\n",
              "\n",
              "    .dataframe tbody tr th {\n",
              "        vertical-align: top;\n",
              "    }\n",
              "\n",
              "    .dataframe thead th {\n",
              "        text-align: right;\n",
              "    }\n",
              "</style>\n",
              "<table border=\"1\" class=\"dataframe\">\n",
              "  <thead>\n",
              "    <tr style=\"text-align: right;\">\n",
              "      <th></th>\n",
              "      <th>Area</th>\n",
              "      <th>Compactness</th>\n",
              "      <th>Asymmetry.Coeff</th>\n",
              "      <th>Kernel.Groove</th>\n",
              "      <th>Type</th>\n",
              "    </tr>\n",
              "  </thead>\n",
              "  <tbody>\n",
              "    <tr>\n",
              "      <th>0</th>\n",
              "      <td>15.26</td>\n",
              "      <td>0.8710</td>\n",
              "      <td>2.221</td>\n",
              "      <td>5.220</td>\n",
              "      <td>1</td>\n",
              "    </tr>\n",
              "    <tr>\n",
              "      <th>1</th>\n",
              "      <td>14.88</td>\n",
              "      <td>0.8811</td>\n",
              "      <td>1.018</td>\n",
              "      <td>4.956</td>\n",
              "      <td>1</td>\n",
              "    </tr>\n",
              "    <tr>\n",
              "      <th>2</th>\n",
              "      <td>14.29</td>\n",
              "      <td>0.9050</td>\n",
              "      <td>2.699</td>\n",
              "      <td>4.825</td>\n",
              "      <td>1</td>\n",
              "    </tr>\n",
              "    <tr>\n",
              "      <th>3</th>\n",
              "      <td>13.84</td>\n",
              "      <td>0.8955</td>\n",
              "      <td>2.259</td>\n",
              "      <td>4.805</td>\n",
              "      <td>1</td>\n",
              "    </tr>\n",
              "    <tr>\n",
              "      <th>4</th>\n",
              "      <td>16.14</td>\n",
              "      <td>0.9034</td>\n",
              "      <td>1.355</td>\n",
              "      <td>5.175</td>\n",
              "      <td>1</td>\n",
              "    </tr>\n",
              "    <tr>\n",
              "      <th>...</th>\n",
              "      <td>...</td>\n",
              "      <td>...</td>\n",
              "      <td>...</td>\n",
              "      <td>...</td>\n",
              "      <td>...</td>\n",
              "    </tr>\n",
              "    <tr>\n",
              "      <th>194</th>\n",
              "      <td>12.19</td>\n",
              "      <td>0.8783</td>\n",
              "      <td>3.631</td>\n",
              "      <td>4.870</td>\n",
              "      <td>3</td>\n",
              "    </tr>\n",
              "    <tr>\n",
              "      <th>195</th>\n",
              "      <td>11.23</td>\n",
              "      <td>0.8511</td>\n",
              "      <td>4.325</td>\n",
              "      <td>5.003</td>\n",
              "      <td>3</td>\n",
              "    </tr>\n",
              "    <tr>\n",
              "      <th>196</th>\n",
              "      <td>13.20</td>\n",
              "      <td>0.8883</td>\n",
              "      <td>8.315</td>\n",
              "      <td>5.056</td>\n",
              "      <td>3</td>\n",
              "    </tr>\n",
              "    <tr>\n",
              "      <th>197</th>\n",
              "      <td>11.84</td>\n",
              "      <td>0.8521</td>\n",
              "      <td>3.598</td>\n",
              "      <td>5.044</td>\n",
              "      <td>3</td>\n",
              "    </tr>\n",
              "    <tr>\n",
              "      <th>198</th>\n",
              "      <td>12.30</td>\n",
              "      <td>0.8684</td>\n",
              "      <td>5.637</td>\n",
              "      <td>5.063</td>\n",
              "      <td>3</td>\n",
              "    </tr>\n",
              "  </tbody>\n",
              "</table>\n",
              "<p>199 rows × 5 columns</p>\n",
              "</div>\n",
              "      <button class=\"colab-df-convert\" onclick=\"convertToInteractive('df-69d7948f-18d7-4e58-94ae-2e931783fc5d')\"\n",
              "              title=\"Convert this dataframe to an interactive table.\"\n",
              "              style=\"display:none;\">\n",
              "        \n",
              "  <svg xmlns=\"http://www.w3.org/2000/svg\" height=\"24px\"viewBox=\"0 0 24 24\"\n",
              "       width=\"24px\">\n",
              "    <path d=\"M0 0h24v24H0V0z\" fill=\"none\"/>\n",
              "    <path d=\"M18.56 5.44l.94 2.06.94-2.06 2.06-.94-2.06-.94-.94-2.06-.94 2.06-2.06.94zm-11 1L8.5 8.5l.94-2.06 2.06-.94-2.06-.94L8.5 2.5l-.94 2.06-2.06.94zm10 10l.94 2.06.94-2.06 2.06-.94-2.06-.94-.94-2.06-.94 2.06-2.06.94z\"/><path d=\"M17.41 7.96l-1.37-1.37c-.4-.4-.92-.59-1.43-.59-.52 0-1.04.2-1.43.59L10.3 9.45l-7.72 7.72c-.78.78-.78 2.05 0 2.83L4 21.41c.39.39.9.59 1.41.59.51 0 1.02-.2 1.41-.59l7.78-7.78 2.81-2.81c.8-.78.8-2.07 0-2.86zM5.41 20L4 18.59l7.72-7.72 1.47 1.35L5.41 20z\"/>\n",
              "  </svg>\n",
              "      </button>\n",
              "      \n",
              "  <style>\n",
              "    .colab-df-container {\n",
              "      display:flex;\n",
              "      flex-wrap:wrap;\n",
              "      gap: 12px;\n",
              "    }\n",
              "\n",
              "    .colab-df-convert {\n",
              "      background-color: #E8F0FE;\n",
              "      border: none;\n",
              "      border-radius: 50%;\n",
              "      cursor: pointer;\n",
              "      display: none;\n",
              "      fill: #1967D2;\n",
              "      height: 32px;\n",
              "      padding: 0 0 0 0;\n",
              "      width: 32px;\n",
              "    }\n",
              "\n",
              "    .colab-df-convert:hover {\n",
              "      background-color: #E2EBFA;\n",
              "      box-shadow: 0px 1px 2px rgba(60, 64, 67, 0.3), 0px 1px 3px 1px rgba(60, 64, 67, 0.15);\n",
              "      fill: #174EA6;\n",
              "    }\n",
              "\n",
              "    [theme=dark] .colab-df-convert {\n",
              "      background-color: #3B4455;\n",
              "      fill: #D2E3FC;\n",
              "    }\n",
              "\n",
              "    [theme=dark] .colab-df-convert:hover {\n",
              "      background-color: #434B5C;\n",
              "      box-shadow: 0px 1px 3px 1px rgba(0, 0, 0, 0.15);\n",
              "      filter: drop-shadow(0px 1px 2px rgba(0, 0, 0, 0.3));\n",
              "      fill: #FFFFFF;\n",
              "    }\n",
              "  </style>\n",
              "\n",
              "      <script>\n",
              "        const buttonEl =\n",
              "          document.querySelector('#df-69d7948f-18d7-4e58-94ae-2e931783fc5d button.colab-df-convert');\n",
              "        buttonEl.style.display =\n",
              "          google.colab.kernel.accessAllowed ? 'block' : 'none';\n",
              "\n",
              "        async function convertToInteractive(key) {\n",
              "          const element = document.querySelector('#df-69d7948f-18d7-4e58-94ae-2e931783fc5d');\n",
              "          const dataTable =\n",
              "            await google.colab.kernel.invokeFunction('convertToInteractive',\n",
              "                                                     [key], {});\n",
              "          if (!dataTable) return;\n",
              "\n",
              "          const docLinkHtml = 'Like what you see? Visit the ' +\n",
              "            '<a target=\"_blank\" href=https://colab.research.google.com/notebooks/data_table.ipynb>data table notebook</a>'\n",
              "            + ' to learn more about interactive tables.';\n",
              "          element.innerHTML = '';\n",
              "          dataTable['output_type'] = 'display_data';\n",
              "          await google.colab.output.renderOutput(dataTable, element);\n",
              "          const docLink = document.createElement('div');\n",
              "          docLink.innerHTML = docLinkHtml;\n",
              "          element.appendChild(docLink);\n",
              "        }\n",
              "      </script>\n",
              "    </div>\n",
              "  </div>\n",
              "  "
            ]
          },
          "metadata": {},
          "execution_count": 6
        }
      ]
    },
    {
      "cell_type": "markdown",
      "source": [
        "Check for imbalance between classes **(P1-4: 3 points)**"
      ],
      "metadata": {
        "id": "2O2NEn6McNgN"
      }
    },
    {
      "cell_type": "code",
      "source": [
        "class_counts = df_filtered['Type'].value_counts()\n",
        "\n",
        "plt.figure(figsize=(8, 6))\n",
        "plt.bar(class_counts.index, class_counts.values)\n",
        "plt.xlabel(\"Class\")\n",
        "plt.ylabel(\"Count\")\n",
        "plt.title(\"Class Distribution\")\n",
        "plt.show()\n",
        "\n",
        "class_proportions = class_counts / len(df)\n",
        "print(class_proportions)"
      ],
      "metadata": {
        "execution": {
          "iopub.status.busy": "2023-05-24T06:50:13.895162Z",
          "iopub.execute_input": "2023-05-24T06:50:13.895599Z",
          "iopub.status.idle": "2023-05-24T06:50:13.905600Z",
          "shell.execute_reply.started": "2023-05-24T06:50:13.895565Z",
          "shell.execute_reply": "2023-05-24T06:50:13.904313Z"
        },
        "trusted": true,
        "id": "jfApFEhjUmDJ",
        "colab": {
          "base_uri": "https://localhost:8080/",
          "height": 633
        },
        "outputId": "7cf5953a-f133-4fc2-8796-caac3788590c"
      },
      "execution_count": 7,
      "outputs": [
        {
          "output_type": "display_data",
          "data": {
            "text/plain": [
              "<Figure size 800x600 with 1 Axes>"
            ],
            "image/png": "[encoded data removed]"
          },
          "metadata": {}
        },
        {
          "output_type": "stream",
          "name": "stdout",
          "text": [
            "2    0.341709\n",
            "1    0.331658\n",
            "3    0.326633\n",
            "Name: Type, dtype: float64\n"
          ]
        }
      ]
    },
    {
      "cell_type": "markdown",
      "source": [
        "## P2: Prepare the Training Data"
      ],
      "metadata": {
        "id": "iqg_DkvfUmDK"
      }
    },
    {
      "cell_type": "markdown",
      "source": [
        "Convert features and the target into numpy arrays **(P2-1: 2 points)**"
      ],
      "metadata": {
        "id": "SNbqym9_cfX7"
      }
    },
    {
      "cell_type": "code",
      "source": [
        "features = df_filtered.drop('Type', axis=1).values\n",
        "target = df_filtered['Type'].values\n",
        "\n",
        "print(\"Features shape:\", features.shape)\n",
        "print(\"Target shape:\", target.shape)"
      ],
      "metadata": {
        "execution": {
          "iopub.status.busy": "2023-05-24T06:53:36.362537Z",
          "iopub.execute_input": "2023-05-24T06:53:36.362962Z",
          "iopub.status.idle": "2023-05-24T06:53:36.372547Z",
          "shell.execute_reply.started": "2023-05-24T06:53:36.362921Z",
          "shell.execute_reply": "2023-05-24T06:53:36.371066Z"
        },
        "trusted": true,
        "id": "bjIaMSwDUmDK",
        "colab": {
          "base_uri": "https://localhost:8080/"
        },
        "outputId": "00694a50-bcd7-41fe-e5d6-cf1efa3dc817"
      },
      "execution_count": 8,
      "outputs": [
        {
          "output_type": "stream",
          "name": "stdout",
          "text": [
            "Features shape: (199, 4)\n",
            "Target shape: (199,)\n"
          ]
        }
      ]
    },
    {
      "cell_type": "markdown",
      "source": [
        "Split the samples into training (80%) and testing (20%) arrays **(P2-2: 5 points)**"
      ],
      "metadata": {
        "id": "WAbTVPmsc_NZ"
      }
    },
    {
      "cell_type": "code",
      "source": [
        "X_train, X_test, y_train, y_test = train_test_split(features, target, test_size=0.2, random_state=42)\n",
        "\n",
        "print(\"Training data - Features shape:\", X_train.shape)\n",
        "print(\"Training data - Target shape:\", y_train.shape)\n",
        "print(\"Testing data - Features shape:\", X_test.shape)\n",
        "print(\"Testing data - Target shape:\", y_test.shape)"
      ],
      "metadata": {
        "execution": {
          "iopub.status.busy": "2023-05-24T06:55:50.649173Z",
          "iopub.execute_input": "2023-05-24T06:55:50.649684Z",
          "iopub.status.idle": "2023-05-24T06:55:50.657736Z",
          "shell.execute_reply.started": "2023-05-24T06:55:50.649644Z",
          "shell.execute_reply": "2023-05-24T06:55:50.656442Z"
        },
        "trusted": true,
        "id": "tuVoQeG5UmDK",
        "colab": {
          "base_uri": "https://localhost:8080/"
        },
        "outputId": "d442b691-7d6d-4900-c0fc-dcd0ef3ad326"
      },
      "execution_count": 10,
      "outputs": [
        {
          "output_type": "stream",
          "name": "stdout",
          "text": [
            "Training data - Features shape: (159, 4)\n",
            "Training data - Target shape: (159,)\n",
            "Testing data - Features shape: (40, 4)\n",
            "Testing data - Target shape: (40,)\n"
          ]
        }
      ]
    },
    {
      "cell_type": "markdown",
      "source": [
        "## P3: Decision Tree Implementation"
      ],
      "metadata": {
        "id": "vK8uumlAUmDL"
      }
    },
    {
      "cell_type": "markdown",
      "source": [
        "Implement desicion tree for classification from scratch **(P3-1: 20 points)**"
      ],
      "metadata": {
        "id": "cjUlsiCYdd69"
      }
    },
    {
      "cell_type": "code",
      "source": [
        "class DecisionTree:\n",
        "     \n",
        "    def __init__(self, criterion=\"entropy\", max_depth=None):\n",
        "        \"\"\"\n",
        "        Parameters:\n",
        "        \n",
        "        criterion -- “gini” for the Gini impurity and “entropy” for the Information Gain. (default “entropy”)\n",
        "        max_depth -- The maximum depth of the tree. If None, then nodes are expanded until all leaves are pure. (default=None)\n",
        "        \"\"\"\n",
        "        \n",
        "        self.criterion = criterion\n",
        "        self.max_depth = max_depth\n",
        "        self.tree = None\n",
        "    \n",
        "    def fit(self, X, y):\n",
        "        \"\"\"\n",
        "        Build a decision tree classifier from the training set (X, y).\n",
        "\n",
        "        Returns:\n",
        "        self : Fitted estimator\n",
        "        \"\"\"\n",
        "\n",
        "        self.tree = self._build_tree(X, y, depth=0)\n",
        "        return self\n",
        "    \n",
        "    def predict(self, X):\n",
        "        \"\"\"\n",
        "        Predict class value for X.\n",
        "\n",
        "        Returns:\n",
        "        y : The predicted classes\n",
        "        \"\"\"\n",
        "\n",
        "        y_pred = np.array([self._predict_sample(x, self.tree) for x in X])\n",
        "        return y_pred\n",
        "    \n",
        "    def _build_tree(self, X, y, depth):\n",
        "        if depth == self.max_depth or len(np.unique(y)) == 1:\n",
        "            return {'class': self._get_majority_class(y)}\n",
        "        \n",
        "        best_split = self._find_best_split(X, y)\n",
        "        if best_split is None:\n",
        "            return {'class': self._get_majority_class(y)}\n",
        "        \n",
        "        feature_idx, threshold = best_split\n",
        "        \n",
        "        left_idxs = X[:, feature_idx] < threshold\n",
        "        X_left, y_left = X[left_idxs], y[left_idxs]\n",
        "        X_right, y_right = X[~left_idxs], y[~left_idxs]\n",
        "        \n",
        "        left_subtree = self._build_tree(X_left, y_left, depth + 1)\n",
        "        right_subtree = self._build_tree(X_right, y_right, depth + 1)\n",
        "        \n",
        "        return {'feature_idx': feature_idx, 'threshold': threshold, 'left': left_subtree, 'right': right_subtree}\n",
        "\n",
        "    def _find_best_split(self, X, y):\n",
        "        best_info_gain = -1\n",
        "        best_split = None\n",
        "        \n",
        "        for feature_idx in range(X.shape[1]):\n",
        "            thresholds = np.unique(X[:, feature_idx])\n",
        "            for threshold in thresholds:\n",
        "                info_gain = self._calculate_info_gain(X, y, feature_idx, threshold)\n",
        "                if info_gain > best_info_gain:\n",
        "                    best_info_gain = info_gain\n",
        "                    best_split = (feature_idx, threshold)\n",
        "        \n",
        "        return best_split\n",
        "\n",
        "    def _calculate_info_gain(self, X, y, feature_idx, threshold):\n",
        "        parent_entropy = self._calculate_entropy(y)\n",
        "        \n",
        "        left_idxs = X[:, feature_idx] < threshold\n",
        "        right_idxs = X[:, feature_idx] >= threshold\n",
        "        \n",
        "        if self.criterion == 'gini':\n",
        "            left_child_entropy = self._calculate_gini_index(y[left_idxs])\n",
        "            right_child_entropy = self._calculate_gini_index(y[right_idxs])\n",
        "        else:\n",
        "            left_child_entropy = self._calculate_entropy(y[left_idxs])\n",
        "            right_child_entropy = self._calculate_entropy(y[right_idxs])\n",
        "        \n",
        "        n = len(y)\n",
        "        left_weight = len(y[left_idxs]) / n\n",
        "        right_weight = len(y[right_idxs]) / n\n",
        "        \n",
        "        info_gain = parent_entropy - (left_weight * left_child_entropy + right_weight * right_child_entropy)\n",
        "        return info_gain\n",
        "\n",
        "    def _calculate_entropy(self, y):\n",
        "        unique_classes, class_counts = np.unique(y, return_counts=True)\n",
        "        probabilities = class_counts / len(y)\n",
        "        entropy = -np.sum(probabilities * np.log2(probabilities))\n",
        "        return entropy\n",
        "    \n",
        "    def _calculate_gini_index(self, y):\n",
        "        unique_classes, class_counts = np.unique(y, return_counts=True)\n",
        "        probabilities = class_counts / len(y)\n",
        "        gini_index = 1 - np.sum(probabilities**2)\n",
        "        return gini_index\n",
        "\n",
        "    def _get_majority_class(self, y):\n",
        "        unique_classes, class_counts = np.unique(y, return_counts=True)\n",
        "        majority_class = unique_classes[np.argmax(class_counts)]\n",
        "        return majority_class\n",
        "    \n",
        "    def _predict_sample(self, x, node):\n",
        "        if 'class' in node:\n",
        "            return node['class']\n",
        "        \n",
        "        feature_idx = node['feature_idx']\n",
        "        threshold = node['threshold']\n",
        "        \n",
        "        if x[feature_idx] < threshold:\n",
        "            return self._predict_sample(x, node['left'])\n",
        "        else:\n",
        "            return self._predict_sample(x, node['right'])"
      ],
      "metadata": {
        "id": "b9N9B5KpUmDL"
      },
      "execution_count": 49,
      "outputs": []
    },
    {
      "cell_type": "markdown",
      "source": [
        "Define two decision trees with two different criterion **(P3-2: 3 points)**"
      ],
      "metadata": {
        "id": "0zZRBqIwdjfX"
      }
    },
    {
      "cell_type": "code",
      "source": [
        "tree_entropy = DecisionTree(criterion=\"entropy\")\n",
        "tree_gini = DecisionTree(criterion=\"entropy\")"
      ],
      "metadata": {
        "id": "48Gvh2AvUmDM"
      },
      "execution_count": 50,
      "outputs": []
    },
    {
      "cell_type": "markdown",
      "source": [
        "Fit the defined decision trees on training samples **(P3-3: 2 points)**"
      ],
      "metadata": {
        "id": "yP1tHIzsdvdf"
      }
    },
    {
      "cell_type": "code",
      "source": [
        "tree_entropy.fit(X_train, y_train)\n",
        "tree_gini.fit(X_train, y_train)"
      ],
      "metadata": {
        "id": "hYINieZEUmDM",
        "colab": {
          "base_uri": "https://localhost:8080/"
        },
        "outputId": "b67d3600-7298-445a-b7ac-8ba5c4645d0e"
      },
      "execution_count": 51,
      "outputs": [
        {
          "output_type": "execute_result",
          "data": {
            "text/plain": [
              "<__main__.DecisionTree at 0x7fe3ce9f50f0>"
            ]
          },
          "metadata": {},
          "execution_count": 51
        }
      ]
    },
    {
      "cell_type": "markdown",
      "source": [
        "Get the results on the test set **(P3-4: 5 points)**"
      ],
      "metadata": {
        "id": "8OFAB5DZdz7s"
      }
    },
    {
      "cell_type": "code",
      "source": [
        "y_pred_entropy = tree_entropy.predict(X_test)\n",
        "y_pred_gini = tree_gini.predict(X_test)"
      ],
      "metadata": {
        "id": "4PSIJEkmUmDM"
      },
      "execution_count": 52,
      "outputs": []
    },
    {
      "cell_type": "markdown",
      "source": [
        "Train the decision trees, considering the values [1,2,3,4,5] as the maximum depth **(P3-5: 5 points)**"
      ],
      "metadata": {
        "id": "4fVMCCuMd6uC"
      }
    },
    {
      "cell_type": "code",
      "source": [
        "tree_depth_1 = DecisionTree(criterion=\"entropy\", max_depth=1)\n",
        "tree_depth_2 = DecisionTree(criterion=\"entropy\", max_depth=2)\n",
        "tree_depth_3 = DecisionTree(criterion=\"entropy\", max_depth=3)\n",
        "tree_depth_4 = DecisionTree(criterion=\"entropy\", max_depth=4)\n",
        "tree_depth_5 = DecisionTree(criterion=\"entropy\", max_depth=5)\n",
        "\n",
        "tree_depth_1.fit(X_train, y_train)\n",
        "tree_depth_2.fit(X_train, y_train)\n",
        "tree_depth_3.fit(X_train, y_train)\n",
        "tree_depth_4.fit(X_train, y_train)\n",
        "tree_depth_5.fit(X_train, y_train)\n",
        "\n",
        "y_pred_depth_1 = tree_depth_1.predict(X_test)\n",
        "y_pred_depth_2 = tree_depth_2.predict(X_test)\n",
        "y_pred_depth_3 = tree_depth_3.predict(X_test)\n",
        "y_pred_depth_4 = tree_depth_4.predict(X_test)\n",
        "y_pred_depth_5 = tree_depth_5.predict(X_test)"
      ],
      "metadata": {
        "id": "W6iKq_N6UmDM"
      },
      "execution_count": 54,
      "outputs": []
    },
    {
      "cell_type": "markdown",
      "source": [
        "Compare the accuracy score of the decision trees with and without using the \"max_depth\" parameter and discuss the effects of limiting the maximum depth of decision trees. **(P3-6: 5 points)**"
      ],
      "metadata": {
        "id": "RzSv_Rb5eR6M"
      }
    },
    {
      "cell_type": "code",
      "source": [
        "accuracy_no_limit_entropy = accuracy_score(y_test, y_pred_entropy)\n",
        "accuracy_no_limit_gini = accuracy_score(y_test, y_pred_gini)\n",
        "accuracy_with_limit_entropy_max_depth_1 = accuracy_score(y_test, y_pred_depth_1)\n",
        "accuracy_with_limit_entropy_max_depth_2 = accuracy_score(y_test, y_pred_depth_2)\n",
        "accuracy_with_limit_entropy_max_depth_3 = accuracy_score(y_test, y_pred_depth_3)\n",
        "accuracy_with_limit_entropy_max_depth_4 = accuracy_score(y_test, y_pred_depth_4)\n",
        "accuracy_with_limit_entropy_max_depth_5 = accuracy_score(y_test, y_pred_depth_5)\n",
        "\n",
        "print(\"Accuracy without max depth entropy:\", accuracy_no_limit_entropy)\n",
        "print(\"Accuracy without max depth gini:\", accuracy_no_limit_gini)\n",
        "print(\"Accuracy with max depth 1 entropy:\", accuracy_with_limit_entropy_max_depth_1)\n",
        "print(\"Accuracy with max depth 2 entropy:\", accuracy_with_limit_entropy_max_depth_2)\n",
        "print(\"Accuracy with max depth 3 entropy:\", accuracy_with_limit_entropy_max_depth_3)\n",
        "print(\"Accuracy with max depth 4 entropy:\", accuracy_with_limit_entropy_max_depth_4)\n",
        "print(\"Accuracy with max depth 5 entropy:\", accuracy_with_limit_entropy_max_depth_5)"
      ],
      "metadata": {
        "id": "Si-JEqhsUmDN",
        "colab": {
          "base_uri": "https://localhost:8080/"
        },
        "outputId": "5b984bde-1101-428b-839b-69e1f688bb94"
      },
      "execution_count": 57,
      "outputs": [
        {
          "output_type": "stream",
          "name": "stdout",
          "text": [
            "Accuracy without max depth entropy: 0.825\n",
            "Accuracy without max depth gini: 0.825\n",
            "Accuracy with max depth 1 entropy: 0.65\n",
            "Accuracy with max depth 2 entropy: 0.875\n",
            "Accuracy with max depth 3 entropy: 0.8\n",
            "Accuracy with max depth 4 entropy: 0.825\n",
            "Accuracy with max depth 5 entropy: 0.825\n"
          ]
        }
      ]
    },
    {
      "cell_type": "markdown",
      "source": [
        "<p>Generally, limiting the maximum depth can help prevent overfitting and improve the generalization of the model. It can help reduce the complexity of the decision trees and make them less prone to capturing noise or irrelevant patterns in the data. However, setting the maximum depth too low may lead to underfitting, where the decision tree may struggle to capture the underlying patterns and achieve lower accuracy. It is essential to find the right balance for the maximum depth parameter based on the specific dataset and problem at hand. In this case, it seems max depth 5 is good threshold and also it can derive from cross validation strategy.</p>"
      ],
      "metadata": {
        "id": "WaIAS7cH95d4"
      }
    },
    {
      "cell_type": "markdown",
      "source": [
        "## P4: Ensemble Models"
      ],
      "metadata": {
        "id": "FDJ3KWH2UmDN"
      }
    },
    {
      "cell_type": "markdown",
      "source": [
        "### P4-1: Bagging"
      ],
      "metadata": {
        "id": "CoVu14uOUmDN"
      }
    },
    {
      "cell_type": "markdown",
      "source": [
        "Implement the bagging algorithm for classification from scratch **(P4-1-1: 15 points)**"
      ],
      "metadata": {
        "id": "QSFF3YN2exyE"
      }
    },
    {
      "cell_type": "code",
      "source": [
        "class BaggingDecisionTree:\n",
        "     \n",
        "    def __init__(self, bootstraped_training_num=50, predictors_num=50):\n",
        "        \"\"\"\n",
        "        Parameters:\n",
        "        \n",
        "        bootstraped_training_num -- The number of training sets we are gonna have\n",
        "        predictors_num -- The number of predictors we want to use for each test sample\n",
        "        \"\"\"\n",
        "\n",
        "        self.bootstraped_training_num = bootstraped_training_num\n",
        "        self.predictors_num = predictors_num\n",
        "        self.classifiers = []\n",
        "    \n",
        "    def fit(self, X, y):\n",
        "        \"\"\"\n",
        "        Create `self.bootstraped_training_num` training sets by random sampling of the input training elements with replacement.\n",
        "        Then create the same number of classifiers and fit each classifier on the corresponding training set.\n",
        "        \n",
        "        Paramters:\n",
        "        X : training features array\n",
        "        y : target array\n",
        "        \n",
        "        Returns:\n",
        "        self : Fitted estimator\n",
        "        \"\"\"\n",
        "        \n",
        "        for _ in range(self.bootstraped_training_num):\n",
        "            indices = np.random.choice(len(X), len(X), replace=True)\n",
        "            X_bootstrap = X[indices]\n",
        "            y_bootstrap = y[indices]\n",
        "            \n",
        "            tree = DecisionTree()\n",
        "            tree.fit(X_bootstrap, y_bootstrap)\n",
        "            \n",
        "            self.classifiers.append(tree)\n",
        "        \n",
        "        return self\n",
        "    \n",
        "    def predict(self, X):\n",
        "        \"\"\"\n",
        "        Predict class value for X using majority voting of `self.predictors_num` classifiers.\n",
        "\n",
        "        Paramters:\n",
        "        X : training features array\n",
        "        \n",
        "        Returns:\n",
        "        y : The predicted classes\n",
        "        \"\"\"\n",
        "\n",
        "        selected_classifiers = np.random.choice(self.classifiers, size=self.predictors_num, replace=False)\n",
        "        \n",
        "        predictions = np.zeros((len(X), self.predictors_num))\n",
        "        \n",
        "        for i, tree in enumerate(selected_classifiers):\n",
        "            predictions[:, i] = tree.predict(X)\n",
        "        \n",
        "        y_pred = []\n",
        "        for i in range(len(X)):\n",
        "            counts = np.bincount(predictions[i, :].astype(int))\n",
        "            majority_class = np.argmax(counts)\n",
        "            y_pred.append(majority_class)\n",
        "        \n",
        "        return np.array(y_pred)"
      ],
      "metadata": {
        "id": "Fftoht45UmDN"
      },
      "execution_count": 67,
      "outputs": []
    },
    {
      "cell_type": "markdown",
      "source": [
        "Create an instance of the BaggingDecisionTree class with `bootstraped_training_num=50`, `predictors_num=50` and fit it on the training data **(P4-1-2: 3 points)**"
      ],
      "metadata": {
        "id": "2g__7Wppe-8x"
      }
    },
    {
      "cell_type": "code",
      "source": [
        "bagging_tree = BaggingDecisionTree(bootstraped_training_num=50, predictors_num=50)\n",
        "\n",
        "bagging_tree.fit(X_train, y_train)"
      ],
      "metadata": {
        "execution": {
          "iopub.status.busy": "2023-05-24T07:37:02.732776Z",
          "iopub.execute_input": "2023-05-24T07:37:02.733345Z",
          "iopub.status.idle": "2023-05-24T07:37:02.755458Z",
          "shell.execute_reply.started": "2023-05-24T07:37:02.733301Z",
          "shell.execute_reply": "2023-05-24T07:37:02.754110Z"
        },
        "trusted": true,
        "id": "0DO4IpI8UmDO",
        "colab": {
          "base_uri": "https://localhost:8080/"
        },
        "outputId": "900da253-42bf-4c56-c9f6-493286a3089b"
      },
      "execution_count": 68,
      "outputs": [
        {
          "output_type": "execute_result",
          "data": {
            "text/plain": [
              "<__main__.BaggingDecisionTree at 0x7fe3cc5565f0>"
            ]
          },
          "metadata": {},
          "execution_count": 68
        }
      ]
    },
    {
      "cell_type": "markdown",
      "source": [
        "Create another instance of the BaggingDecisionTree class with `bootstraped_training_num=50`, `predictors_num=7` and fit it on the training data **(P4-1-3: 2 points)**"
      ],
      "metadata": {
        "id": "C3P5M4QtfOn4"
      }
    },
    {
      "cell_type": "code",
      "source": [
        "bagging_tree_2 = BaggingDecisionTree(bootstraped_training_num=50, predictors_num=7)\n",
        "\n",
        "bagging_tree_2.fit(X_train, y_train)"
      ],
      "metadata": {
        "id": "aovAzNhPUmDO",
        "colab": {
          "base_uri": "https://localhost:8080/"
        },
        "outputId": "9c7af856-ae41-41ad-e3d0-eec615b7c8fe"
      },
      "execution_count": 69,
      "outputs": [
        {
          "output_type": "execute_result",
          "data": {
            "text/plain": [
              "<__main__.BaggingDecisionTree at 0x7fe3cc5575b0>"
            ]
          },
          "metadata": {},
          "execution_count": 69
        }
      ]
    },
    {
      "cell_type": "markdown",
      "source": [
        "Test the created models on the test set. Discuss differences of two approaches we adopted. **(P4-1-4: 5 points)**"
      ],
      "metadata": {
        "id": "wbncvgGBoiHF"
      }
    },
    {
      "cell_type": "code",
      "source": [
        "y_pred_1 = bagging_tree.predict(X_test)\n",
        "\n",
        "y_pred_2 = bagging_tree_2.predict(X_test)\n",
        "\n",
        "accuracy_1 = accuracy_score(y_test, y_pred_1)\n",
        "accuracy_2 = accuracy_score(y_test, y_pred_2)\n",
        "\n",
        "print(\"Accuracy with bootstraped training number 50 and predictors number of 50:\", accuracy_1)\n",
        "print(\"Accuracy with bootstraped training number 50 and predictors number of 7:\", accuracy_2)"
      ],
      "metadata": {
        "id": "4R7mpMH3oqnM",
        "colab": {
          "base_uri": "https://localhost:8080/"
        },
        "outputId": "78258098-2a88-4e4a-b93e-47247e8acb66"
      },
      "execution_count": 70,
      "outputs": [
        {
          "output_type": "stream",
          "name": "stdout",
          "text": [
            "Accuracy with bootstraped training number 50 and predictors number of 50: 0.825\n",
            "Accuracy with bootstraped training number 50 and predictors number of 7: 0.825\n"
          ]
        }
      ]
    },
    {
      "cell_type": "markdown",
      "source": [
        "<p>Let's discuss the differences between the two approaches we adopted:\n",
        "\n",
        "Number of Predictors: In the first approach (bagging_tree), we used all the classifiers (decision trees) trained during the bagging process for predicting the class value. In contrast, in the second approach (bagging_tree_2), we randomly selected a subset of predictors_num classifiers from the total number of classifiers to make predictions. This allows for greater variability in predictions and can help reduce overfitting when using a smaller number of predictors.\n",
        "\n",
        "Effect on Variance and Bias: The first approach with all classifiers (bagging_tree) tends to have lower variance as it uses more diverse models. However, it may have a higher bias due to potential overfitting if the individual classifiers are too complex or the number of classifiers is large. On the other hand, the second approach with a smaller number of predictors (bagging_tree_2) reduces variance by introducing randomness in the model selection process. It may have a slightly higher bias due to using fewer classifiers, but it helps to control overfitting.\n",
        "\n",
        "Trade-off between Diversity and Performance: The first approach aims for higher diversity among classifiers by considering all of them, potentially leading to better performance if the individual classifiers are diverse and accurate. However, it can be computationally expensive and may not be necessary when there is a large number of classifiers. The second approach balances diversity and computational efficiency by randomly selecting a subset of classifiers. It can achieve similar or slightly lower performance compared to using all classifiers but with reduced computational cost.</p>"
      ],
      "metadata": {
        "id": "U-rBHssUG_TC"
      }
    },
    {
      "cell_type": "markdown",
      "source": [
        "### P4-2: Boosting"
      ],
      "metadata": {
        "id": "oZDz7B3DUmDO"
      }
    },
    {
      "cell_type": "markdown",
      "source": [
        "Implement the Adaboost algorithm for classification from scratch **(P4-2-1: 10 points)**"
      ],
      "metadata": {
        "id": "rJhWmus3pDHI"
      }
    },
    {
      "cell_type": "code",
      "source": [
        "class DecisionTreeWeighted:\n",
        "     \n",
        "    def __init__(self, criterion=\"entropy\", max_depth=None):\n",
        "        \"\"\"\n",
        "        Parameters:\n",
        "        \n",
        "        criterion -- “gini” for the Gini impurity and “entropy” for the Information Gain. (default “entropy”)\n",
        "        max_depth -- The maximum depth of the tree. If None, then nodes are expanded until all leaves are pure. (default=None)\n",
        "        \"\"\"\n",
        "        self.criterion = criterion\n",
        "        self.max_depth = max_depth\n",
        "        self.tree = None\n",
        "    \n",
        "    def fit(self, X, y, sample_weight=None):\n",
        "        \"\"\"\n",
        "        Build a decision tree classifier from the training set (X, y).\n",
        "\n",
        "        Returns:\n",
        "        self : Fitted estimator\n",
        "        \"\"\"\n",
        "        self.tree = self._build_tree(X, y, sample_weight, depth=0)\n",
        "        return self\n",
        "    \n",
        "    def predict(self, X):\n",
        "        \"\"\"\n",
        "        Predict class value for X.\n",
        "\n",
        "        Returns:\n",
        "        y : The predicted classes\n",
        "        \"\"\"\n",
        "        y_pred = np.array([self._predict_sample(x, self.tree) for x in X])\n",
        "        return y_pred\n",
        "    \n",
        "    def _build_tree(self, X, y, sample_weight, depth):\n",
        "        if depth == self.max_depth or len(np.unique(y)) == 1:\n",
        "            return {'class': self._get_majority_class(y)}\n",
        "        \n",
        "        best_split = self._find_best_split(X, y, sample_weight)\n",
        "        if best_split is None:\n",
        "            return {'class': self._get_majority_class(y)}\n",
        "        \n",
        "        feature_idx, threshold = best_split\n",
        "        \n",
        "        left_idxs = X[:, feature_idx] < threshold\n",
        "        X_left, y_left = X[left_idxs], y[left_idxs]\n",
        "        X_right, y_right = X[~left_idxs], y[~left_idxs]\n",
        "        sample_weight_left, sample_weight_right = sample_weight[left_idxs], sample_weight[~left_idxs]\n",
        "        \n",
        "        left_subtree = self._build_tree(X_left, y_left, sample_weight_left, depth + 1)\n",
        "        right_subtree = self._build_tree(X_right, y_right, sample_weight_right, depth + 1)\n",
        "        \n",
        "        return {'feature_idx': feature_idx, 'threshold': threshold, 'left': left_subtree, 'right': right_subtree}\n",
        "    \n",
        "    def _find_best_split(self, X, y, sample_weight):\n",
        "        best_info_gain = -1\n",
        "        best_split = None\n",
        "        \n",
        "        for feature_idx in range(X.shape[1]):\n",
        "            thresholds = np.unique(X[:, feature_idx])\n",
        "            for threshold in thresholds:\n",
        "                info_gain = self._calculate_info_gain(X, y, sample_weight, feature_idx, threshold)\n",
        "                if info_gain > best_info_gain:\n",
        "                    best_info_gain = info_gain\n",
        "                    best_split = (feature_idx, threshold)\n",
        "        \n",
        "        return best_split\n",
        "    \n",
        "    def _calculate_info_gain(self, X, y, sample_weight, feature_idx, threshold):\n",
        "        parent_criterion = self._calculate_criterion(y)\n",
        "        \n",
        "        left_idxs = X[:, feature_idx] < threshold\n",
        "        right_idxs = X[:, feature_idx] >= threshold\n",
        "        \n",
        "        left_weight = np.sum(sample_weight[left_idxs])/(np.sum(sample_weight[left_idxs])+np.sum(sample_weight[right_idxs])) # Added\n",
        "        right_weight = np.sum(sample_weight[right_idxs])/(np.sum(sample_weight[left_idxs])+np.sum(sample_weight[right_idxs])) # Added\n",
        "\n",
        "        if self.criterion == 'gini':\n",
        "            left_child_criterion = self._calculate_criterion(y[left_idxs])\n",
        "            right_child_criterion = self._calculate_criterion(y[right_idxs])\n",
        "        else:\n",
        "            left_child_criterion = self._calculate_criterion(y[left_idxs])\n",
        "            right_child_criterion = self._calculate_criterion(y[right_idxs])\n",
        "        \n",
        "        info_gain = parent_criterion - (left_weight * left_child_criterion + right_weight * right_child_criterion)\n",
        "        return info_gain\n",
        "    \n",
        "    def _calculate_criterion(self, y):\n",
        "        unique_classes, class_counts = np.unique(y, return_counts=True)\n",
        "        probabilities = class_counts / len(y)\n",
        "        if self.criterion == 'gini':\n",
        "            criterion = 1 - np.sum(probabilities**2)\n",
        "        else:\n",
        "            criterion = -np.sum(probabilities * np.log2(probabilities + 1e-16))\n",
        "        return criterion\n",
        "    \n",
        "    def _get_majority_class(self, y):\n",
        "        unique_classes, class_counts = np.unique(y, return_counts=True)\n",
        "        majority_class = unique_classes[np.argmax(class_counts)]\n",
        "        return majority_class\n",
        "    \n",
        "    def _predict_sample(self, x, node):\n",
        "        if 'class' in node:\n",
        "            return node['class']\n",
        "        \n",
        "        feature_idx = node['feature_idx']\n",
        "        threshold = node['threshold']\n",
        "        \n",
        "        if x[feature_idx] < threshold:\n",
        "            return self._predict_sample(x, node['left'])\n",
        "        else:\n",
        "            return self._predict_sample(x, node['right'])\n"
      ],
      "metadata": {
        "id": "qdqIUzmPbrR3"
      },
      "execution_count": 78,
      "outputs": []
    },
    {
      "cell_type": "code",
      "source": [
        "import numpy as np\n",
        "from sklearn.tree import DecisionTreeClassifier\n",
        "\n",
        "class AdaBoost:\n",
        "     \n",
        "    def __init__(self, weak_classifiers_count=50):\n",
        "        \"\"\"\n",
        "        Parameters:\n",
        "        weak_classifiers_count -- The number of weak classifiers we are gonna have\n",
        "        \"\"\"\n",
        "        self.weak_classifiers_count = weak_classifiers_count\n",
        "        self.classifiers = []\n",
        "        self.classifier_weights = []\n",
        "    \n",
        "    def fit(self, X, y):\n",
        "        \"\"\"\n",
        "        Fit the Adaboost on training data. Take DecisionTree with max_depth of 1 (stump) as your weak classifier.\n",
        "        \n",
        "        Parameters:\n",
        "        X : training features array\n",
        "        y : target array\n",
        "        \n",
        "        Returns:\n",
        "        self : Fitted estimator\n",
        "        \"\"\"\n",
        "        n_samples = len(X)\n",
        "        weights = np.ones(n_samples) / n_samples\n",
        "        \n",
        "        for _ in range(self.weak_classifiers_count):\n",
        "            classifier = DecisionTreeWeighted(max_depth=1)\n",
        "            \n",
        "            classifier.fit(X, y, sample_weight=weights)\n",
        "            \n",
        "            predictions = classifier.predict(X)\n",
        "            \n",
        "            error = np.sum(weights[predictions != y])\n",
        "            \n",
        "            alpha = 0.5 * np.log((1 - error) / max(error, 1e-16))\n",
        "            \n",
        "            weights *= np.exp(-alpha * y * predictions)\n",
        "            weights /= np.sum(weights)\n",
        "            \n",
        "            self.classifiers.append(classifier)\n",
        "            self.classifier_weights.append(alpha)\n",
        "        \n",
        "        return self\n",
        "    \n",
        "    def predict(self, X):\n",
        "        \"\"\"\n",
        "        Predict class value for X using majority voting of `self.predictors_num` classifiers.\n",
        "\n",
        "        Parameters:\n",
        "        X : training features array\n",
        "        \n",
        "        Returns:\n",
        "        y : The predicted classes\n",
        "        \"\"\"\n",
        "        n_samples = len(X)\n",
        "        predictions = np.zeros((n_samples, self.weak_classifiers_count))\n",
        "        \n",
        "        for i, classifier in enumerate(self.classifiers):\n",
        "            predictions[:, i] = classifier.predict(X)\n",
        "        \n",
        "        weighted_predictions = np.zeros(n_samples)\n",
        "        for i, alpha in enumerate(self.classifier_weights):\n",
        "            weighted_predictions += alpha * predictions[:, i]\n",
        "        \n",
        "        y_pred = np.sign(weighted_predictions)\n",
        "        \n",
        "        return y_pred\n"
      ],
      "metadata": {
        "id": "3xkDqLJVUmDO"
      },
      "execution_count": 75,
      "outputs": []
    },
    {
      "cell_type": "markdown",
      "source": [
        "Create an instance of Adaboost and fit it to the data **(P4-2-2: 2 points)**"
      ],
      "metadata": {
        "id": "kADfP8A-rvJ-"
      }
    },
    {
      "cell_type": "code",
      "source": [
        "ada = AdaBoost()\n",
        "\n",
        "ada.fit(X_train, y_train)"
      ],
      "metadata": {
        "id": "o4EcOGGoUmDO",
        "colab": {
          "base_uri": "https://localhost:8080/"
        },
        "outputId": "bc4253b1-ed86-4618-a042-f2150a47d4e4"
      },
      "execution_count": 76,
      "outputs": [
        {
          "output_type": "stream",
          "name": "stderr",
          "text": [
            "<ipython-input-75-9020700ecfa2>:38: RuntimeWarning: divide by zero encountered in log\n",
            "  alpha = 0.5 * np.log((1 - error) / max(error, 1e-16))\n",
            "<ipython-input-75-9020700ecfa2>:41: RuntimeWarning: invalid value encountered in true_divide\n",
            "  weights /= np.sum(weights)\n"
          ]
        },
        {
          "output_type": "execute_result",
          "data": {
            "text/plain": [
              "<__main__.AdaBoost at 0x7fe3cb865b40>"
            ]
          },
          "metadata": {},
          "execution_count": 76
        }
      ]
    },
    {
      "cell_type": "markdown",
      "source": [
        "Test Adaboost on the testing set **(P4-2-3: 3 points)**"
      ],
      "metadata": {
        "id": "DUDo-Q2Or5Eu"
      }
    },
    {
      "cell_type": "code",
      "source": [
        "y_pred = bagging_tree.predict(X_test)\n",
        "\n",
        "accuracy = accuracy_score(y_test, y_pred)\n",
        "\n",
        "print(\"Accuracy with 50 weak_classifiers_count:\", accuracy)"
      ],
      "metadata": {
        "id": "WdRVUc4MUmDP",
        "colab": {
          "base_uri": "https://localhost:8080/"
        },
        "outputId": "21adb472-2b63-488b-8394-c1de7bcb4292"
      },
      "execution_count": 77,
      "outputs": [
        {
          "output_type": "stream",
          "name": "stdout",
          "text": [
            "Accuracy with 50 weak_classifiers_count: 0.825\n"
          ]
        }
      ]
    },
    {
      "cell_type": "markdown",
      "source": [
        "<p>So it seems accuracy of boosting and bagging in our case is near to the neural network (above 80%). So why neural network become the most used approach instead of tree-based methods?</p>\n",
        "<p>Neural networks have gained wide popularity for several reasons:\n",
        "Flexibility and Power: Neural networks are highly flexible and can model complex non-linear relationships between features and target variables. They can capture intricate patterns and dependencies in the data, making them suitable for a wide range of tasks, including image recognition, natural language processing, and speech recognition. Tree-based methods, such as decision trees and random forests, are limited in their ability to represent complex functions.\n",
        "\n",
        "End-to-End Learning: Neural networks enable end-to-end learning, where the model learns to extract relevant features automatically from raw data. In contrast, tree-based methods typically require manual feature engineering, where domain knowledge and expertise are needed to identify and engineer relevant features. Neural networks can learn hierarchical representations of features, which eliminates the need for manual feature engineering in many cases.\n",
        "\n",
        "Scalability: Neural networks can handle large-scale datasets efficiently, especially with the advancements in hardware and parallel computing. They can benefit from modern hardware architectures, such as GPUs and TPUs, to accelerate training and inference. Tree-based methods, on the other hand, can struggle with large and high-dimensional datasets, as they may require substantial computational resources and memory.\n",
        "\n",
        "Continuous Improvement: Neural networks have seen significant advancements in recent years, fueled by ongoing research and innovations in deep learning. New architectures, regularization techniques, optimization algorithms, and training strategies are continuously being developed, leading to improved performance and state-of-the-art results in various domains.\n",
        "\n",
        "Transfer Learning and Pretrained Models: Neural networks can leverage transfer learning and pretrained models, where models pretrained on large-scale datasets, such as ImageNet or BERT, can be fine-tuned for specific tasks with smaller labeled datasets. This transfer of knowledge allows neural networks to benefit from the learned representations and can lead to better performance, even with limited training data.\n",
        "\n",
        "Despite these advantages, tree-based methods still have their merits and are widely used in practice. They are often interpretable, can handle categorical features naturally, and are robust to outliers and missing values. Additionally, tree-based methods can be more computationally efficient for certain tasks and datasets, especially when interpretability and feature importance are critical.</p>"
      ],
      "metadata": {
        "id": "RY59CU71Ob2D"
      }
    }
  ]
}