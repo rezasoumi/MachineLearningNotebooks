{
  "metadata": {
    "kernelspec": {
      "language": "python",
      "display_name": "Python 3",
      "name": "python3"
    },
    "language_info": {
      "name": "python",
      "version": "3.7.12",
      "mimetype": "text/x-python",
      "codemirror_mode": {
        "name": "ipython",
        "version": 3
      },
      "pygments_lexer": "ipython3",
      "nbconvert_exporter": "python",
      "file_extension": ".py"
    },
    "colab": {
      "provenance": []
    }
  },
  "nbformat_minor": 0,
  "nbformat": 4,
  "cells": [
    {
      "cell_type": "markdown",
      "metadata": {
        "id": "b07eb33c"
      },
      "source": [
        "<div>\n",
        "<img src='http://www-scf.usc.edu/~ghasemig/images/sharif.png' alt=\"SUT logo\" width=220 height=220 align=left class=\"saturate\">\n",
        "\n",
        "<br>\n",
        "<font face=\"Times New Roman\">\n",
        "<div dir=ltr align=center> \n",
        "<!-- <font color=0F5298 size=7> -->\n",
        "<font color=0F5298 size=6>\n",
        "    Introduction to Machine Learning <br> <br>\n",
        "<!-- <font color=2565AE size=5> -->\n",
        "<font size=5>\n",
        "    Computer Engineering Department <br>\n",
        "    Spring 2023 <br> <br>\n",
        "<font color=606060 size=5>\n",
        "    Homework 5: Practical - Lasso & Ridge Regression <br> <br>\n",
        "<font color=686880 size=4>\n",
        "    TAs: Alireza Dehghanpour - Arman Malekzadeh - Ali Salesi\n",
        "    \n",
        "____"
      ]
    },
    {
      "cell_type": "markdown",
      "metadata": {
        "id": "f5a79508"
      },
      "source": [
        "### Full Name : Reza Soumi\n",
        "### Student Number : 98105857\n",
        "### Colab Link: https://colab.research.google.com/drive/17XfwgCsQLWhbQWR6QFCblSY2zkjz8eY8?usp=sharing\n",
        "___"
      ]
    },
    {
      "cell_type": "markdown",
      "source": [
        "The Global Health Observatory (GHO) data repository under World Health Organization (WHO) keeps track of the health status as well as many other related factors for all countries. The datasets are made available to public for the purpose of health data analysis. The dataset related to life expectancy, health factors for 193 countries has been collected from the same WHO data repository website and its corresponding economic data was collected from United Nation website. Among all categories of health-related factors only those critical factors were chosen which are more representative.\n",
        "\n",
        "In this assignment you have to predict **life expectancy**."
      ],
      "metadata": {
        "id": "5sy39_vXU_PO"
      }
    },
    {
      "cell_type": "code",
      "source": [
        "import numpy as np\n",
        "import pandas as pd\n",
        "from sklearn.model_selection import train_test_split\n",
        "from sklearn import linear_model\n",
        "from sklearn.metrics import mean_squared_error, r2_score\n",
        "from sklearn.linear_model import Ridge, Lasso\n",
        "from sklearn.model_selection import GridSearchCV\n",
        "from sklearn import preprocessing\n",
        "import matplotlib.pyplot as plt"
      ],
      "metadata": {
        "execution": {
          "iopub.status.busy": "2023-04-30T08:33:27.082403Z",
          "iopub.execute_input": "2023-04-30T08:33:27.082868Z",
          "iopub.status.idle": "2023-04-30T08:33:27.089987Z",
          "shell.execute_reply.started": "2023-04-30T08:33:27.082829Z",
          "shell.execute_reply": "2023-04-30T08:33:27.088672Z"
        },
        "trusted": true,
        "id": "bBUrdXrVU_PO"
      },
      "execution_count": null,
      "outputs": []
    },
    {
      "cell_type": "markdown",
      "source": [
        "# Data Exploration (20 points)"
      ],
      "metadata": {
        "id": "5sEpKmvvU_PP"
      }
    },
    {
      "cell_type": "code",
      "source": [
        "!wget -O /content/dataset.csv \"https://www.dropbox.com/s/2kz21qjt40pjy43/train.csv?dl=1\""
      ],
      "metadata": {
        "id": "GJCBJo5XjWUq",
        "colab": {
          "base_uri": "https://localhost:8080/"
        },
        "outputId": "4105d5f1-d5de-4c11-891a-16e23888488e"
      },
      "execution_count": null,
      "outputs": [
        {
          "output_type": "stream",
          "name": "stdout",
          "text": [
            "--2023-05-15 21:47:36--  https://www.dropbox.com/s/2kz21qjt40pjy43/train.csv?dl=1\n",
            "Resolving www.dropbox.com (www.dropbox.com)... 162.125.5.18, 2620:100:601d:18::a27d:512\n",
            "Connecting to www.dropbox.com (www.dropbox.com)|162.125.5.18|:443... connected.\n",
            "HTTP request sent, awaiting response... 302 Found\n",
            "Location: /s/dl/2kz21qjt40pjy43/train.csv [following]\n",
            "--2023-05-15 21:47:36--  https://www.dropbox.com/s/dl/2kz21qjt40pjy43/train.csv\n",
            "Reusing existing connection to www.dropbox.com:443.\n",
            "HTTP request sent, awaiting response... 302 Found\n",
            "Location: https://uc7131d9af22b739d96229f073ae.dl.dropboxusercontent.com/cd/0/get/B8Fazc_7KmzN8YQ6fNszwdSZ_GJ71IlVfm6TXrY3-VaW3IrVTPlb3BqjU7KHSn9xIC7_tnjbSEK6gB-ehBnYnEXOttpA0ls2tpEwMa5V3XAy3nTvHPDWOAxsmsCV55WR6ITtOEZLeOlnQIz3nz5g3JerDd6ycCPRMyqFlr2XD-M3Jd9WzeoFFKtTT3vO2bZ06y8/file?dl=1# [following]\n",
            "--2023-05-15 21:47:37--  https://uc7131d9af22b739d96229f073ae.dl.dropboxusercontent.com/cd/0/get/B8Fazc_7KmzN8YQ6fNszwdSZ_GJ71IlVfm6TXrY3-VaW3IrVTPlb3BqjU7KHSn9xIC7_tnjbSEK6gB-ehBnYnEXOttpA0ls2tpEwMa5V3XAy3nTvHPDWOAxsmsCV55WR6ITtOEZLeOlnQIz3nz5g3JerDd6ycCPRMyqFlr2XD-M3Jd9WzeoFFKtTT3vO2bZ06y8/file?dl=1\n",
            "Resolving uc7131d9af22b739d96229f073ae.dl.dropboxusercontent.com (uc7131d9af22b739d96229f073ae.dl.dropboxusercontent.com)... 162.125.5.15, 2620:100:601d:15::a27d:50f\n",
            "Connecting to uc7131d9af22b739d96229f073ae.dl.dropboxusercontent.com (uc7131d9af22b739d96229f073ae.dl.dropboxusercontent.com)|162.125.5.15|:443... connected.\n",
            "HTTP request sent, awaiting response... 200 OK\n",
            "Length: 308420 (301K) [application/binary]\n",
            "Saving to: ‘/content/dataset.csv’\n",
            "\n",
            "/content/dataset.cs 100%[===================>] 301.19K  --.-KB/s    in 0.09s   \n",
            "\n",
            "2023-05-15 21:47:38 (3.13 MB/s) - ‘/content/dataset.csv’ saved [308420/308420]\n",
            "\n"
          ]
        }
      ]
    },
    {
      "cell_type": "markdown",
      "source": [
        "Load the dataset as a dataframe"
      ],
      "metadata": {
        "id": "XU9i17XgU_PP"
      }
    },
    {
      "cell_type": "code",
      "source": [
        "df = pd.read_csv('dataset.csv')\n",
        "df"
      ],
      "metadata": {
        "execution": {
          "iopub.status.busy": "2023-04-30T08:33:30.197254Z",
          "iopub.execute_input": "2023-04-30T08:33:30.197642Z",
          "iopub.status.idle": "2023-04-30T08:33:30.238114Z",
          "shell.execute_reply.started": "2023-04-30T08:33:30.197608Z",
          "shell.execute_reply": "2023-04-30T08:33:30.236875Z"
        },
        "trusted": true,
        "id": "GARdmLGkU_PQ",
        "colab": {
          "base_uri": "https://localhost:8080/",
          "height": 609
        },
        "outputId": "f8a48410-43c8-48b7-89d5-2d8297cf3d90"
      },
      "execution_count": 260,
      "outputs": [
        {
          "output_type": "execute_result",
          "data": {
            "text/plain": [
              "                    Country  Year      Status  Life expectancy   \\\n",
              "0                   Finland  2013  Developing              87.0   \n",
              "1                     Japan  2015   Developed              83.7   \n",
              "2      Syrian Arab Republic  2014  Developing              64.4   \n",
              "3                    Latvia  2010   Developed              72.8   \n",
              "4     Sao Tome and Principe  2013  Developing              67.1   \n",
              "...                     ...   ...         ...               ...   \n",
              "2492                Tunisia  2000  Developing              72.9   \n",
              "2493                Myanmar  2001  Developing              62.5   \n",
              "2494            Netherlands  2008   Developed              83.0   \n",
              "2495            South Sudan  2013  Developing              56.4   \n",
              "2496              Guatemala  2000  Developing              67.7   \n",
              "\n",
              "      Adult Mortality  infant deaths  Alcohol  percentage expenditure  \\\n",
              "0                79.0              0     8.97             6115.496624   \n",
              "1                55.0              2      NaN                0.000000   \n",
              "2               294.0              7     0.01                0.000000   \n",
              "3                18.0              0     9.80             1109.969508   \n",
              "4               192.0              0     0.01              200.660099   \n",
              "...               ...            ...      ...                     ...   \n",
              "2492            112.0              4     1.21              264.784220   \n",
              "2493            239.0             72     0.38                1.917164   \n",
              "2494             68.0              1     9.62            10873.405540   \n",
              "2495            345.0             26      NaN               47.444530   \n",
              "2496            221.0             17     2.63              238.736981   \n",
              "\n",
              "      Hepatitis B  Measles   ...  Polio  Total expenditure  Diphtheria   \\\n",
              "0             NaN         2  ...   98.0               9.55         98.0   \n",
              "1             NaN        35  ...   99.0                NaN         96.0   \n",
              "2            47.0       594  ...   52.0               3.25         43.0   \n",
              "3            91.0         0  ...   92.0               6.55         92.0   \n",
              "4            97.0         0  ...   97.0               9.76         97.0   \n",
              "...           ...       ...  ...    ...                ...          ...   \n",
              "2492         94.0        47  ...   97.0               5.40         97.0   \n",
              "2493          NaN      2519  ...   77.0               1.80         73.0   \n",
              "2494          NaN       109  ...   97.0               9.57         97.0   \n",
              "2495          NaN       525  ...    5.0               2.62         45.0   \n",
              "2496          NaN         0  ...    8.0               5.25         81.0   \n",
              "\n",
              "       HIV/AIDS           GDP  Population   thinness  1-19 years  \\\n",
              "0           0.1  49638.771300   5438972.0                    0.9   \n",
              "1           0.1  34474.137360    127141.0                    2.1   \n",
              "2           0.1           NaN     19239.0                    6.3   \n",
              "3           0.1  11326.219470    297555.0                    2.2   \n",
              "4           0.2   1619.532678     18745.0                    5.7   \n",
              "...         ...           ...         ...                    ...   \n",
              "2492        0.1   2213.914880   9699197.0                    6.6   \n",
              "2493        0.4    138.924927  46627994.0                   13.3   \n",
              "2494        0.1  56928.824800  16445593.0                    1.0   \n",
              "2495        3.6   1186.113250   1117749.0                    NaN   \n",
              "2496        0.2   1655.596261   1165743.0                    1.6   \n",
              "\n",
              "       thinness 5-9 years  Income composition of resources  Schooling  \n",
              "0                     0.8                            0.887       17.0  \n",
              "1                     1.8                            0.902       15.3  \n",
              "2                     6.1                            0.575        9.0  \n",
              "3                     2.3                            0.815       16.0  \n",
              "4                     5.5                            0.559       11.0  \n",
              "...                   ...                              ...        ...  \n",
              "2492                  6.5                            0.646       12.8  \n",
              "2493                 13.7                            0.427        7.6  \n",
              "2494                  0.9                            0.905       16.8  \n",
              "2495                  NaN                            0.417        4.9  \n",
              "2496                  1.6                            0.539        8.2  \n",
              "\n",
              "[2497 rows x 22 columns]"
            ],
            "text/html": [
              "\n",
              "  <div id=\"df-2338ae2a-a617-42e1-af13-ba2525d7969f\">\n",
              "    <div class=\"colab-df-container\">\n",
              "      <div>\n",
              "<style scoped>\n",
              "    .dataframe tbody tr th:only-of-type {\n",
              "        vertical-align: middle;\n",
              "    }\n",
              "\n",
              "    .dataframe tbody tr th {\n",
              "        vertical-align: top;\n",
              "    }\n",
              "\n",
              "    .dataframe thead th {\n",
              "        text-align: right;\n",
              "    }\n",
              "</style>\n",
              "<table border=\"1\" class=\"dataframe\">\n",
              "  <thead>\n",
              "    <tr style=\"text-align: right;\">\n",
              "      <th></th>\n",
              "      <th>Country</th>\n",
              "      <th>Year</th>\n",
              "      <th>Status</th>\n",
              "      <th>Life expectancy</th>\n",
              "      <th>Adult Mortality</th>\n",
              "      <th>infant deaths</th>\n",
              "      <th>Alcohol</th>\n",
              "      <th>percentage expenditure</th>\n",
              "      <th>Hepatitis B</th>\n",
              "      <th>Measles</th>\n",
              "      <th>...</th>\n",
              "      <th>Polio</th>\n",
              "      <th>Total expenditure</th>\n",
              "      <th>Diphtheria</th>\n",
              "      <th>HIV/AIDS</th>\n",
              "      <th>GDP</th>\n",
              "      <th>Population</th>\n",
              "      <th>thinness  1-19 years</th>\n",
              "      <th>thinness 5-9 years</th>\n",
              "      <th>Income composition of resources</th>\n",
              "      <th>Schooling</th>\n",
              "    </tr>\n",
              "  </thead>\n",
              "  <tbody>\n",
              "    <tr>\n",
              "      <th>0</th>\n",
              "      <td>Finland</td>\n",
              "      <td>2013</td>\n",
              "      <td>Developing</td>\n",
              "      <td>87.0</td>\n",
              "      <td>79.0</td>\n",
              "      <td>0</td>\n",
              "      <td>8.97</td>\n",
              "      <td>6115.496624</td>\n",
              "      <td>NaN</td>\n",
              "      <td>2</td>\n",
              "      <td>...</td>\n",
              "      <td>98.0</td>\n",
              "      <td>9.55</td>\n",
              "      <td>98.0</td>\n",
              "      <td>0.1</td>\n",
              "      <td>49638.771300</td>\n",
              "      <td>5438972.0</td>\n",
              "      <td>0.9</td>\n",
              "      <td>0.8</td>\n",
              "      <td>0.887</td>\n",
              "      <td>17.0</td>\n",
              "    </tr>\n",
              "    <tr>\n",
              "      <th>1</th>\n",
              "      <td>Japan</td>\n",
              "      <td>2015</td>\n",
              "      <td>Developed</td>\n",
              "      <td>83.7</td>\n",
              "      <td>55.0</td>\n",
              "      <td>2</td>\n",
              "      <td>NaN</td>\n",
              "      <td>0.000000</td>\n",
              "      <td>NaN</td>\n",
              "      <td>35</td>\n",
              "      <td>...</td>\n",
              "      <td>99.0</td>\n",
              "      <td>NaN</td>\n",
              "      <td>96.0</td>\n",
              "      <td>0.1</td>\n",
              "      <td>34474.137360</td>\n",
              "      <td>127141.0</td>\n",
              "      <td>2.1</td>\n",
              "      <td>1.8</td>\n",
              "      <td>0.902</td>\n",
              "      <td>15.3</td>\n",
              "    </tr>\n",
              "    <tr>\n",
              "      <th>2</th>\n",
              "      <td>Syrian Arab Republic</td>\n",
              "      <td>2014</td>\n",
              "      <td>Developing</td>\n",
              "      <td>64.4</td>\n",
              "      <td>294.0</td>\n",
              "      <td>7</td>\n",
              "      <td>0.01</td>\n",
              "      <td>0.000000</td>\n",
              "      <td>47.0</td>\n",
              "      <td>594</td>\n",
              "      <td>...</td>\n",
              "      <td>52.0</td>\n",
              "      <td>3.25</td>\n",
              "      <td>43.0</td>\n",
              "      <td>0.1</td>\n",
              "      <td>NaN</td>\n",
              "      <td>19239.0</td>\n",
              "      <td>6.3</td>\n",
              "      <td>6.1</td>\n",
              "      <td>0.575</td>\n",
              "      <td>9.0</td>\n",
              "    </tr>\n",
              "    <tr>\n",
              "      <th>3</th>\n",
              "      <td>Latvia</td>\n",
              "      <td>2010</td>\n",
              "      <td>Developed</td>\n",
              "      <td>72.8</td>\n",
              "      <td>18.0</td>\n",
              "      <td>0</td>\n",
              "      <td>9.80</td>\n",
              "      <td>1109.969508</td>\n",
              "      <td>91.0</td>\n",
              "      <td>0</td>\n",
              "      <td>...</td>\n",
              "      <td>92.0</td>\n",
              "      <td>6.55</td>\n",
              "      <td>92.0</td>\n",
              "      <td>0.1</td>\n",
              "      <td>11326.219470</td>\n",
              "      <td>297555.0</td>\n",
              "      <td>2.2</td>\n",
              "      <td>2.3</td>\n",
              "      <td>0.815</td>\n",
              "      <td>16.0</td>\n",
              "    </tr>\n",
              "    <tr>\n",
              "      <th>4</th>\n",
              "      <td>Sao Tome and Principe</td>\n",
              "      <td>2013</td>\n",
              "      <td>Developing</td>\n",
              "      <td>67.1</td>\n",
              "      <td>192.0</td>\n",
              "      <td>0</td>\n",
              "      <td>0.01</td>\n",
              "      <td>200.660099</td>\n",
              "      <td>97.0</td>\n",
              "      <td>0</td>\n",
              "      <td>...</td>\n",
              "      <td>97.0</td>\n",
              "      <td>9.76</td>\n",
              "      <td>97.0</td>\n",
              "      <td>0.2</td>\n",
              "      <td>1619.532678</td>\n",
              "      <td>18745.0</td>\n",
              "      <td>5.7</td>\n",
              "      <td>5.5</td>\n",
              "      <td>0.559</td>\n",
              "      <td>11.0</td>\n",
              "    </tr>\n",
              "    <tr>\n",
              "      <th>...</th>\n",
              "      <td>...</td>\n",
              "      <td>...</td>\n",
              "      <td>...</td>\n",
              "      <td>...</td>\n",
              "      <td>...</td>\n",
              "      <td>...</td>\n",
              "      <td>...</td>\n",
              "      <td>...</td>\n",
              "      <td>...</td>\n",
              "      <td>...</td>\n",
              "      <td>...</td>\n",
              "      <td>...</td>\n",
              "      <td>...</td>\n",
              "      <td>...</td>\n",
              "      <td>...</td>\n",
              "      <td>...</td>\n",
              "      <td>...</td>\n",
              "      <td>...</td>\n",
              "      <td>...</td>\n",
              "      <td>...</td>\n",
              "      <td>...</td>\n",
              "    </tr>\n",
              "    <tr>\n",
              "      <th>2492</th>\n",
              "      <td>Tunisia</td>\n",
              "      <td>2000</td>\n",
              "      <td>Developing</td>\n",
              "      <td>72.9</td>\n",
              "      <td>112.0</td>\n",
              "      <td>4</td>\n",
              "      <td>1.21</td>\n",
              "      <td>264.784220</td>\n",
              "      <td>94.0</td>\n",
              "      <td>47</td>\n",
              "      <td>...</td>\n",
              "      <td>97.0</td>\n",
              "      <td>5.40</td>\n",
              "      <td>97.0</td>\n",
              "      <td>0.1</td>\n",
              "      <td>2213.914880</td>\n",
              "      <td>9699197.0</td>\n",
              "      <td>6.6</td>\n",
              "      <td>6.5</td>\n",
              "      <td>0.646</td>\n",
              "      <td>12.8</td>\n",
              "    </tr>\n",
              "    <tr>\n",
              "      <th>2493</th>\n",
              "      <td>Myanmar</td>\n",
              "      <td>2001</td>\n",
              "      <td>Developing</td>\n",
              "      <td>62.5</td>\n",
              "      <td>239.0</td>\n",
              "      <td>72</td>\n",
              "      <td>0.38</td>\n",
              "      <td>1.917164</td>\n",
              "      <td>NaN</td>\n",
              "      <td>2519</td>\n",
              "      <td>...</td>\n",
              "      <td>77.0</td>\n",
              "      <td>1.80</td>\n",
              "      <td>73.0</td>\n",
              "      <td>0.4</td>\n",
              "      <td>138.924927</td>\n",
              "      <td>46627994.0</td>\n",
              "      <td>13.3</td>\n",
              "      <td>13.7</td>\n",
              "      <td>0.427</td>\n",
              "      <td>7.6</td>\n",
              "    </tr>\n",
              "    <tr>\n",
              "      <th>2494</th>\n",
              "      <td>Netherlands</td>\n",
              "      <td>2008</td>\n",
              "      <td>Developed</td>\n",
              "      <td>83.0</td>\n",
              "      <td>68.0</td>\n",
              "      <td>1</td>\n",
              "      <td>9.62</td>\n",
              "      <td>10873.405540</td>\n",
              "      <td>NaN</td>\n",
              "      <td>109</td>\n",
              "      <td>...</td>\n",
              "      <td>97.0</td>\n",
              "      <td>9.57</td>\n",
              "      <td>97.0</td>\n",
              "      <td>0.1</td>\n",
              "      <td>56928.824800</td>\n",
              "      <td>16445593.0</td>\n",
              "      <td>1.0</td>\n",
              "      <td>0.9</td>\n",
              "      <td>0.905</td>\n",
              "      <td>16.8</td>\n",
              "    </tr>\n",
              "    <tr>\n",
              "      <th>2495</th>\n",
              "      <td>South Sudan</td>\n",
              "      <td>2013</td>\n",
              "      <td>Developing</td>\n",
              "      <td>56.4</td>\n",
              "      <td>345.0</td>\n",
              "      <td>26</td>\n",
              "      <td>NaN</td>\n",
              "      <td>47.444530</td>\n",
              "      <td>NaN</td>\n",
              "      <td>525</td>\n",
              "      <td>...</td>\n",
              "      <td>5.0</td>\n",
              "      <td>2.62</td>\n",
              "      <td>45.0</td>\n",
              "      <td>3.6</td>\n",
              "      <td>1186.113250</td>\n",
              "      <td>1117749.0</td>\n",
              "      <td>NaN</td>\n",
              "      <td>NaN</td>\n",
              "      <td>0.417</td>\n",
              "      <td>4.9</td>\n",
              "    </tr>\n",
              "    <tr>\n",
              "      <th>2496</th>\n",
              "      <td>Guatemala</td>\n",
              "      <td>2000</td>\n",
              "      <td>Developing</td>\n",
              "      <td>67.7</td>\n",
              "      <td>221.0</td>\n",
              "      <td>17</td>\n",
              "      <td>2.63</td>\n",
              "      <td>238.736981</td>\n",
              "      <td>NaN</td>\n",
              "      <td>0</td>\n",
              "      <td>...</td>\n",
              "      <td>8.0</td>\n",
              "      <td>5.25</td>\n",
              "      <td>81.0</td>\n",
              "      <td>0.2</td>\n",
              "      <td>1655.596261</td>\n",
              "      <td>1165743.0</td>\n",
              "      <td>1.6</td>\n",
              "      <td>1.6</td>\n",
              "      <td>0.539</td>\n",
              "      <td>8.2</td>\n",
              "    </tr>\n",
              "  </tbody>\n",
              "</table>\n",
              "<p>2497 rows × 22 columns</p>\n",
              "</div>\n",
              "      <button class=\"colab-df-convert\" onclick=\"convertToInteractive('df-2338ae2a-a617-42e1-af13-ba2525d7969f')\"\n",
              "              title=\"Convert this dataframe to an interactive table.\"\n",
              "              style=\"display:none;\">\n",
              "        \n",
              "  <svg xmlns=\"http://www.w3.org/2000/svg\" height=\"24px\"viewBox=\"0 0 24 24\"\n",
              "       width=\"24px\">\n",
              "    <path d=\"M0 0h24v24H0V0z\" fill=\"none\"/>\n",
              "    <path d=\"M18.56 5.44l.94 2.06.94-2.06 2.06-.94-2.06-.94-.94-2.06-.94 2.06-2.06.94zm-11 1L8.5 8.5l.94-2.06 2.06-.94-2.06-.94L8.5 2.5l-.94 2.06-2.06.94zm10 10l.94 2.06.94-2.06 2.06-.94-2.06-.94-.94-2.06-.94 2.06-2.06.94z\"/><path d=\"M17.41 7.96l-1.37-1.37c-.4-.4-.92-.59-1.43-.59-.52 0-1.04.2-1.43.59L10.3 9.45l-7.72 7.72c-.78.78-.78 2.05 0 2.83L4 21.41c.39.39.9.59 1.41.59.51 0 1.02-.2 1.41-.59l7.78-7.78 2.81-2.81c.8-.78.8-2.07 0-2.86zM5.41 20L4 18.59l7.72-7.72 1.47 1.35L5.41 20z\"/>\n",
              "  </svg>\n",
              "      </button>\n",
              "      \n",
              "  <style>\n",
              "    .colab-df-container {\n",
              "      display:flex;\n",
              "      flex-wrap:wrap;\n",
              "      gap: 12px;\n",
              "    }\n",
              "\n",
              "    .colab-df-convert {\n",
              "      background-color: #E8F0FE;\n",
              "      border: none;\n",
              "      border-radius: 50%;\n",
              "      cursor: pointer;\n",
              "      display: none;\n",
              "      fill: #1967D2;\n",
              "      height: 32px;\n",
              "      padding: 0 0 0 0;\n",
              "      width: 32px;\n",
              "    }\n",
              "\n",
              "    .colab-df-convert:hover {\n",
              "      background-color: #E2EBFA;\n",
              "      box-shadow: 0px 1px 2px rgba(60, 64, 67, 0.3), 0px 1px 3px 1px rgba(60, 64, 67, 0.15);\n",
              "      fill: #174EA6;\n",
              "    }\n",
              "\n",
              "    [theme=dark] .colab-df-convert {\n",
              "      background-color: #3B4455;\n",
              "      fill: #D2E3FC;\n",
              "    }\n",
              "\n",
              "    [theme=dark] .colab-df-convert:hover {\n",
              "      background-color: #434B5C;\n",
              "      box-shadow: 0px 1px 3px 1px rgba(0, 0, 0, 0.15);\n",
              "      filter: drop-shadow(0px 1px 2px rgba(0, 0, 0, 0.3));\n",
              "      fill: #FFFFFF;\n",
              "    }\n",
              "  </style>\n",
              "\n",
              "      <script>\n",
              "        const buttonEl =\n",
              "          document.querySelector('#df-2338ae2a-a617-42e1-af13-ba2525d7969f button.colab-df-convert');\n",
              "        buttonEl.style.display =\n",
              "          google.colab.kernel.accessAllowed ? 'block' : 'none';\n",
              "\n",
              "        async function convertToInteractive(key) {\n",
              "          const element = document.querySelector('#df-2338ae2a-a617-42e1-af13-ba2525d7969f');\n",
              "          const dataTable =\n",
              "            await google.colab.kernel.invokeFunction('convertToInteractive',\n",
              "                                                     [key], {});\n",
              "          if (!dataTable) return;\n",
              "\n",
              "          const docLinkHtml = 'Like what you see? Visit the ' +\n",
              "            '<a target=\"_blank\" href=https://colab.research.google.com/notebooks/data_table.ipynb>data table notebook</a>'\n",
              "            + ' to learn more about interactive tables.';\n",
              "          element.innerHTML = '';\n",
              "          dataTable['output_type'] = 'display_data';\n",
              "          await google.colab.output.renderOutput(dataTable, element);\n",
              "          const docLink = document.createElement('div');\n",
              "          docLink.innerHTML = docLinkHtml;\n",
              "          element.appendChild(docLink);\n",
              "        }\n",
              "      </script>\n",
              "    </div>\n",
              "  </div>\n",
              "  "
            ]
          },
          "metadata": {},
          "execution_count": 260
        }
      ]
    },
    {
      "cell_type": "code",
      "source": [
        "df.columns"
      ],
      "metadata": {
        "colab": {
          "base_uri": "https://localhost:8080/"
        },
        "id": "2OX2tCex_8M7",
        "outputId": "405ab785-c1ec-4aa1-936c-20848706a27f"
      },
      "execution_count": 261,
      "outputs": [
        {
          "output_type": "execute_result",
          "data": {
            "text/plain": [
              "Index(['Country', 'Year', 'Status', 'Life expectancy ', 'Adult Mortality',\n",
              "       'infant deaths', 'Alcohol', 'percentage expenditure', 'Hepatitis B',\n",
              "       'Measles ', ' BMI ', 'under-five deaths ', 'Polio', 'Total expenditure',\n",
              "       'Diphtheria ', ' HIV/AIDS', 'GDP', 'Population',\n",
              "       ' thinness  1-19 years', ' thinness 5-9 years',\n",
              "       'Income composition of resources', 'Schooling'],\n",
              "      dtype='object')"
            ]
          },
          "metadata": {},
          "execution_count": 261
        }
      ]
    },
    {
      "cell_type": "markdown",
      "source": [
        "Plot \"year\" against \"average life expectancy\""
      ],
      "metadata": {
        "id": "HBsBXJ5dU_PR"
      }
    },
    {
      "cell_type": "code",
      "source": [
        "grouped_df = df.groupby('Year')['Life expectancy '].mean()\n",
        "\n",
        "grouped_df.plot()\n",
        "\n",
        "plt.xlabel('Year')\n",
        "plt.ylabel('Average Value')\n",
        "plt.title('Average Life expectency by Year')\n",
        "\n",
        "plt.show()"
      ],
      "metadata": {
        "execution": {
          "iopub.status.busy": "2023-04-30T08:33:33.477341Z",
          "iopub.execute_input": "2023-04-30T08:33:33.478151Z",
          "iopub.status.idle": "2023-04-30T08:33:33.711698Z",
          "shell.execute_reply.started": "2023-04-30T08:33:33.478109Z",
          "shell.execute_reply": "2023-04-30T08:33:33.710510Z"
        },
        "trusted": true,
        "id": "-DfKHpd8U_PR",
        "colab": {
          "base_uri": "https://localhost:8080/",
          "height": 472
        },
        "outputId": "c5f0175e-a29d-4c42-e831-627e1e2ade10"
      },
      "execution_count": 262,
      "outputs": [
        {
          "output_type": "display_data",
          "data": {
            "text/plain": [
              "<Figure size 640x480 with 1 Axes>"
            ],
            "image/png": "[encoded data removed]"
          },
          "metadata": {}
        }
      ]
    },
    {
      "cell_type": "markdown",
      "source": [
        "Compare the average life expectancy of \"Developed\" and \"Developing\" countries for each year "
      ],
      "metadata": {
        "id": "_euMb0n0U_PR"
      }
    },
    {
      "cell_type": "code",
      "source": [
        "grouped_df = df.groupby(['Year', 'Status']).agg({'Life expectancy ': 'mean'}).reset_index()\n",
        "\n",
        "pivoted_df = grouped_df.pivot(index='Year', columns='Status', values='Life expectancy ')\n",
        "\n",
        "print(pivoted_df)"
      ],
      "metadata": {
        "execution": {
          "iopub.status.busy": "2023-04-30T08:33:37.167421Z",
          "iopub.execute_input": "2023-04-30T08:33:37.167866Z",
          "iopub.status.idle": "2023-04-30T08:33:37.181164Z",
          "shell.execute_reply.started": "2023-04-30T08:33:37.167824Z",
          "shell.execute_reply": "2023-04-30T08:33:37.179864Z"
        },
        "trusted": true,
        "id": "FHvcfXklU_PS",
        "colab": {
          "base_uri": "https://localhost:8080/"
        },
        "outputId": "4a1f16a1-e168-45af-9f18-236c7cefc043"
      },
      "execution_count": 263,
      "outputs": [
        {
          "output_type": "stream",
          "name": "stdout",
          "text": [
            "Status  Developed  Developing\n",
            "Year                         \n",
            "2000    76.891667   65.004959\n",
            "2001    77.114286   65.048120\n",
            "2002    77.710000   64.393496\n",
            "2003    78.257692   65.617213\n",
            "2004    78.452000   65.500000\n",
            "2005    78.792593   65.898450\n",
            "2006    79.346667   67.167939\n",
            "2007    79.252381   66.935878\n",
            "2008    78.796552   67.365185\n",
            "2009    79.581481   67.777206\n",
            "2010    80.167857   67.404762\n",
            "2011    79.821739   68.182443\n",
            "2012    80.512000   68.823485\n",
            "2013    80.376923   69.049606\n",
            "2014    81.292593   69.442063\n",
            "2015    80.175000   69.937984\n"
          ]
        }
      ]
    },
    {
      "cell_type": "markdown",
      "source": [
        "Get the correlation between \"Life expectancy\" and \"GDP\""
      ],
      "metadata": {
        "id": "v3PokphQU_PS"
      }
    },
    {
      "cell_type": "code",
      "source": [
        "corr = df['Life expectancy '].corr(df['GDP'])\n",
        "\n",
        "print(\"Correlation between Life expectancy and GDP:\", corr)"
      ],
      "metadata": {
        "execution": {
          "iopub.status.busy": "2023-04-30T08:33:39.947445Z",
          "iopub.execute_input": "2023-04-30T08:33:39.947838Z",
          "iopub.status.idle": "2023-04-30T08:33:39.956485Z",
          "shell.execute_reply.started": "2023-04-30T08:33:39.947799Z",
          "shell.execute_reply": "2023-04-30T08:33:39.955285Z"
        },
        "trusted": true,
        "id": "mOfNroPqU_PS",
        "colab": {
          "base_uri": "https://localhost:8080/"
        },
        "outputId": "3ae6f62b-bef0-4855-d5fe-8d0327419b3d"
      },
      "execution_count": 264,
      "outputs": [
        {
          "output_type": "stream",
          "name": "stdout",
          "text": [
            "Correlation between Life expectancy and GDP: 0.4652553879500644\n"
          ]
        }
      ]
    },
    {
      "cell_type": "markdown",
      "source": [
        "Find out the feature having the strongest correlation with the \"Life expectancy\"<br>\n",
        "Note: Do not display all of the correlation values. Your code should only print the result (the name of a column)."
      ],
      "metadata": {
        "id": "uL-6KStPU_PS"
      }
    },
    {
      "cell_type": "code",
      "source": [
        "corr = df.corr()['Life expectancy ']\n",
        "\n",
        "strongest_corr = corr.drop('Life expectancy ').abs().idxmax()\n",
        "\n",
        "print(\"Feature with the strongest correlation with Life expectancy:\", strongest_corr)"
      ],
      "metadata": {
        "execution": {
          "iopub.status.busy": "2023-04-30T08:33:44.957730Z",
          "iopub.execute_input": "2023-04-30T08:33:44.958938Z",
          "iopub.status.idle": "2023-04-30T08:33:44.977069Z",
          "shell.execute_reply.started": "2023-04-30T08:33:44.958881Z",
          "shell.execute_reply": "2023-04-30T08:33:44.975781Z"
        },
        "trusted": true,
        "id": "sHqKM8nKU_PS",
        "colab": {
          "base_uri": "https://localhost:8080/"
        },
        "outputId": "5910bdd3-cabf-4495-c14a-2e0528b30030"
      },
      "execution_count": 265,
      "outputs": [
        {
          "output_type": "stream",
          "name": "stdout",
          "text": [
            "Feature with the strongest correlation with Life expectancy: Schooling\n"
          ]
        },
        {
          "output_type": "stream",
          "name": "stderr",
          "text": [
            "<ipython-input-265-61f7882f1357>:1: FutureWarning: The default value of numeric_only in DataFrame.corr is deprecated. In a future version, it will default to False. Select only valid columns or specify the value of numeric_only to silence this warning.\n",
            "  corr = df.corr()['Life expectancy ']\n"
          ]
        }
      ]
    },
    {
      "cell_type": "markdown",
      "source": [
        "# Preprocessing (20 points)"
      ],
      "metadata": {
        "id": "Pbgj4XbWU_PS"
      }
    },
    {
      "cell_type": "markdown",
      "source": [
        "Remove the rows containing NaN (or null) values"
      ],
      "metadata": {
        "id": "MeJjivW3U_PS"
      }
    },
    {
      "cell_type": "markdown",
      "source": [
        "To get better result can fill null values with mean of each feature."
      ],
      "metadata": {
        "id": "tcRbQdsqm48c"
      }
    },
    {
      "cell_type": "code",
      "source": [
        "mean_values = df.mean()\n",
        "df = df.fillna(mean_values)"
      ],
      "metadata": {
        "colab": {
          "base_uri": "https://localhost:8080/"
        },
        "id": "l_eXpgCEm2bD",
        "outputId": "be557d35-1624-436e-c462-72865b9c3a7f"
      },
      "execution_count": 266,
      "outputs": [
        {
          "output_type": "stream",
          "name": "stderr",
          "text": [
            "<ipython-input-266-b0e22ef650c9>:1: FutureWarning: The default value of numeric_only in DataFrame.mean is deprecated. In a future version, it will default to False. In addition, specifying 'numeric_only=None' is deprecated. Select only valid columns or specify the value of numeric_only to silence this warning.\n",
            "  mean_values = df.mean()\n"
          ]
        }
      ]
    },
    {
      "cell_type": "code",
      "source": [
        "df = df.dropna()\n",
        "df.describe()"
      ],
      "metadata": {
        "execution": {
          "iopub.status.busy": "2023-04-30T08:33:49.739974Z",
          "iopub.execute_input": "2023-04-30T08:33:49.740394Z",
          "iopub.status.idle": "2023-04-30T08:33:49.749989Z",
          "shell.execute_reply.started": "2023-04-30T08:33:49.740354Z",
          "shell.execute_reply": "2023-04-30T08:33:49.748700Z"
        },
        "trusted": true,
        "id": "ZbBXGM9eU_PT",
        "colab": {
          "base_uri": "https://localhost:8080/",
          "height": 416
        },
        "outputId": "f61889dc-2827-4787-df3c-bf833cdea7bd"
      },
      "execution_count": 268,
      "outputs": [
        {
          "output_type": "execute_result",
          "data": {
            "text/plain": [
              "              Year  Life expectancy   Adult Mortality  infant deaths  \\\n",
              "count  2497.000000       2497.000000      2497.000000    2497.000000   \n",
              "mean   2007.552263         69.165702       165.007640      31.681217   \n",
              "std       4.587357          9.460323       124.222313     124.136779   \n",
              "min    2000.000000         36.300000         1.000000       0.000000   \n",
              "25%    2004.000000         63.200000        74.000000       0.000000   \n",
              "50%    2008.000000         72.000000       144.000000       3.000000   \n",
              "75%    2012.000000         75.500000       227.000000      23.000000   \n",
              "max    2015.000000         89.000000       723.000000    1800.000000   \n",
              "\n",
              "           Alcohol  percentage expenditure  Hepatitis B       Measles   \\\n",
              "count  2497.000000             2497.000000  2497.000000    2497.000000   \n",
              "mean      4.549065              716.385098    80.971949    2509.197437   \n",
              "std       3.899483             1930.992913    22.629465   11973.006070   \n",
              "min       0.010000                0.000000     1.000000       0.000000   \n",
              "25%       1.080000                4.783806    80.971949       0.000000   \n",
              "50%       4.090000               64.856167    87.000000      16.000000   \n",
              "75%       7.310000              426.785566    96.000000     373.000000   \n",
              "max      17.870000            19479.911610    99.000000  212183.000000   \n",
              "\n",
              "              BMI   under-five deaths         Polio  Total expenditure  \\\n",
              "count  2497.000000         2497.000000  2497.000000        2497.000000   \n",
              "mean     38.205511           43.892271    82.514102           5.927231   \n",
              "std      19.823731          168.927855    23.429843           2.387899   \n",
              "min       1.000000            0.000000     3.000000           0.370000   \n",
              "25%      19.400000            0.000000    78.000000           4.360000   \n",
              "50%      42.600000            4.000000    93.000000           5.927231   \n",
              "75%      56.000000           29.000000    97.000000           7.300000   \n",
              "max      87.300000         2500.000000    99.000000          17.600000   \n",
              "\n",
              "       Diphtheria      HIV/AIDS            GDP    Population  \\\n",
              "count  2497.000000  2497.000000    2497.000000  2.497000e+03   \n",
              "mean     82.362208     1.695875    7430.312807  1.323247e+07   \n",
              "std      23.586901     4.869347   13059.915406  5.764430e+07   \n",
              "min       2.000000     0.100000       1.681350  3.400000e+01   \n",
              "25%      78.000000     0.100000     586.836400  3.959690e+05   \n",
              "50%      93.000000     0.100000    2954.119467  3.584861e+06   \n",
              "75%      97.000000     0.800000    7430.312807  1.323247e+07   \n",
              "max      99.000000    50.300000  119172.741800  1.293859e+09   \n",
              "\n",
              "        thinness  1-19 years   thinness 5-9 years  \\\n",
              "count            2497.000000          2497.000000   \n",
              "mean                4.886305             4.907172   \n",
              "std                 4.456423             4.533455   \n",
              "min                 0.100000             0.100000   \n",
              "25%                 1.600000             1.600000   \n",
              "50%                 3.400000             3.400000   \n",
              "75%                 7.200000             7.200000   \n",
              "max                27.700000            28.600000   \n",
              "\n",
              "       Income composition of resources    Schooling  \n",
              "count                      2497.000000  2497.000000  \n",
              "mean                          0.626072    11.971120  \n",
              "std                           0.204553     3.222824  \n",
              "min                           0.000000     0.000000  \n",
              "25%                           0.505000    10.300000  \n",
              "50%                           0.660000    12.100000  \n",
              "75%                           0.769000    14.100000  \n",
              "max                           0.948000    20.600000  "
            ],
            "text/html": [
              "\n",
              "  <div id=\"df-64364e00-47c2-4e2c-9bf0-6e4ae527e4ea\">\n",
              "    <div class=\"colab-df-container\">\n",
              "      <div>\n",
              "<style scoped>\n",
              "    .dataframe tbody tr th:only-of-type {\n",
              "        vertical-align: middle;\n",
              "    }\n",
              "\n",
              "    .dataframe tbody tr th {\n",
              "        vertical-align: top;\n",
              "    }\n",
              "\n",
              "    .dataframe thead th {\n",
              "        text-align: right;\n",
              "    }\n",
              "</style>\n",
              "<table border=\"1\" class=\"dataframe\">\n",
              "  <thead>\n",
              "    <tr style=\"text-align: right;\">\n",
              "      <th></th>\n",
              "      <th>Year</th>\n",
              "      <th>Life expectancy</th>\n",
              "      <th>Adult Mortality</th>\n",
              "      <th>infant deaths</th>\n",
              "      <th>Alcohol</th>\n",
              "      <th>percentage expenditure</th>\n",
              "      <th>Hepatitis B</th>\n",
              "      <th>Measles</th>\n",
              "      <th>BMI</th>\n",
              "      <th>under-five deaths</th>\n",
              "      <th>Polio</th>\n",
              "      <th>Total expenditure</th>\n",
              "      <th>Diphtheria</th>\n",
              "      <th>HIV/AIDS</th>\n",
              "      <th>GDP</th>\n",
              "      <th>Population</th>\n",
              "      <th>thinness  1-19 years</th>\n",
              "      <th>thinness 5-9 years</th>\n",
              "      <th>Income composition of resources</th>\n",
              "      <th>Schooling</th>\n",
              "    </tr>\n",
              "  </thead>\n",
              "  <tbody>\n",
              "    <tr>\n",
              "      <th>count</th>\n",
              "      <td>2497.000000</td>\n",
              "      <td>2497.000000</td>\n",
              "      <td>2497.000000</td>\n",
              "      <td>2497.000000</td>\n",
              "      <td>2497.000000</td>\n",
              "      <td>2497.000000</td>\n",
              "      <td>2497.000000</td>\n",
              "      <td>2497.000000</td>\n",
              "      <td>2497.000000</td>\n",
              "      <td>2497.000000</td>\n",
              "      <td>2497.000000</td>\n",
              "      <td>2497.000000</td>\n",
              "      <td>2497.000000</td>\n",
              "      <td>2497.000000</td>\n",
              "      <td>2497.000000</td>\n",
              "      <td>2.497000e+03</td>\n",
              "      <td>2497.000000</td>\n",
              "      <td>2497.000000</td>\n",
              "      <td>2497.000000</td>\n",
              "      <td>2497.000000</td>\n",
              "    </tr>\n",
              "    <tr>\n",
              "      <th>mean</th>\n",
              "      <td>2007.552263</td>\n",
              "      <td>69.165702</td>\n",
              "      <td>165.007640</td>\n",
              "      <td>31.681217</td>\n",
              "      <td>4.549065</td>\n",
              "      <td>716.385098</td>\n",
              "      <td>80.971949</td>\n",
              "      <td>2509.197437</td>\n",
              "      <td>38.205511</td>\n",
              "      <td>43.892271</td>\n",
              "      <td>82.514102</td>\n",
              "      <td>5.927231</td>\n",
              "      <td>82.362208</td>\n",
              "      <td>1.695875</td>\n",
              "      <td>7430.312807</td>\n",
              "      <td>1.323247e+07</td>\n",
              "      <td>4.886305</td>\n",
              "      <td>4.907172</td>\n",
              "      <td>0.626072</td>\n",
              "      <td>11.971120</td>\n",
              "    </tr>\n",
              "    <tr>\n",
              "      <th>std</th>\n",
              "      <td>4.587357</td>\n",
              "      <td>9.460323</td>\n",
              "      <td>124.222313</td>\n",
              "      <td>124.136779</td>\n",
              "      <td>3.899483</td>\n",
              "      <td>1930.992913</td>\n",
              "      <td>22.629465</td>\n",
              "      <td>11973.006070</td>\n",
              "      <td>19.823731</td>\n",
              "      <td>168.927855</td>\n",
              "      <td>23.429843</td>\n",
              "      <td>2.387899</td>\n",
              "      <td>23.586901</td>\n",
              "      <td>4.869347</td>\n",
              "      <td>13059.915406</td>\n",
              "      <td>5.764430e+07</td>\n",
              "      <td>4.456423</td>\n",
              "      <td>4.533455</td>\n",
              "      <td>0.204553</td>\n",
              "      <td>3.222824</td>\n",
              "    </tr>\n",
              "    <tr>\n",
              "      <th>min</th>\n",
              "      <td>2000.000000</td>\n",
              "      <td>36.300000</td>\n",
              "      <td>1.000000</td>\n",
              "      <td>0.000000</td>\n",
              "      <td>0.010000</td>\n",
              "      <td>0.000000</td>\n",
              "      <td>1.000000</td>\n",
              "      <td>0.000000</td>\n",
              "      <td>1.000000</td>\n",
              "      <td>0.000000</td>\n",
              "      <td>3.000000</td>\n",
              "      <td>0.370000</td>\n",
              "      <td>2.000000</td>\n",
              "      <td>0.100000</td>\n",
              "      <td>1.681350</td>\n",
              "      <td>3.400000e+01</td>\n",
              "      <td>0.100000</td>\n",
              "      <td>0.100000</td>\n",
              "      <td>0.000000</td>\n",
              "      <td>0.000000</td>\n",
              "    </tr>\n",
              "    <tr>\n",
              "      <th>25%</th>\n",
              "      <td>2004.000000</td>\n",
              "      <td>63.200000</td>\n",
              "      <td>74.000000</td>\n",
              "      <td>0.000000</td>\n",
              "      <td>1.080000</td>\n",
              "      <td>4.783806</td>\n",
              "      <td>80.971949</td>\n",
              "      <td>0.000000</td>\n",
              "      <td>19.400000</td>\n",
              "      <td>0.000000</td>\n",
              "      <td>78.000000</td>\n",
              "      <td>4.360000</td>\n",
              "      <td>78.000000</td>\n",
              "      <td>0.100000</td>\n",
              "      <td>586.836400</td>\n",
              "      <td>3.959690e+05</td>\n",
              "      <td>1.600000</td>\n",
              "      <td>1.600000</td>\n",
              "      <td>0.505000</td>\n",
              "      <td>10.300000</td>\n",
              "    </tr>\n",
              "    <tr>\n",
              "      <th>50%</th>\n",
              "      <td>2008.000000</td>\n",
              "      <td>72.000000</td>\n",
              "      <td>144.000000</td>\n",
              "      <td>3.000000</td>\n",
              "      <td>4.090000</td>\n",
              "      <td>64.856167</td>\n",
              "      <td>87.000000</td>\n",
              "      <td>16.000000</td>\n",
              "      <td>42.600000</td>\n",
              "      <td>4.000000</td>\n",
              "      <td>93.000000</td>\n",
              "      <td>5.927231</td>\n",
              "      <td>93.000000</td>\n",
              "      <td>0.100000</td>\n",
              "      <td>2954.119467</td>\n",
              "      <td>3.584861e+06</td>\n",
              "      <td>3.400000</td>\n",
              "      <td>3.400000</td>\n",
              "      <td>0.660000</td>\n",
              "      <td>12.100000</td>\n",
              "    </tr>\n",
              "    <tr>\n",
              "      <th>75%</th>\n",
              "      <td>2012.000000</td>\n",
              "      <td>75.500000</td>\n",
              "      <td>227.000000</td>\n",
              "      <td>23.000000</td>\n",
              "      <td>7.310000</td>\n",
              "      <td>426.785566</td>\n",
              "      <td>96.000000</td>\n",
              "      <td>373.000000</td>\n",
              "      <td>56.000000</td>\n",
              "      <td>29.000000</td>\n",
              "      <td>97.000000</td>\n",
              "      <td>7.300000</td>\n",
              "      <td>97.000000</td>\n",
              "      <td>0.800000</td>\n",
              "      <td>7430.312807</td>\n",
              "      <td>1.323247e+07</td>\n",
              "      <td>7.200000</td>\n",
              "      <td>7.200000</td>\n",
              "      <td>0.769000</td>\n",
              "      <td>14.100000</td>\n",
              "    </tr>\n",
              "    <tr>\n",
              "      <th>max</th>\n",
              "      <td>2015.000000</td>\n",
              "      <td>89.000000</td>\n",
              "      <td>723.000000</td>\n",
              "      <td>1800.000000</td>\n",
              "      <td>17.870000</td>\n",
              "      <td>19479.911610</td>\n",
              "      <td>99.000000</td>\n",
              "      <td>212183.000000</td>\n",
              "      <td>87.300000</td>\n",
              "      <td>2500.000000</td>\n",
              "      <td>99.000000</td>\n",
              "      <td>17.600000</td>\n",
              "      <td>99.000000</td>\n",
              "      <td>50.300000</td>\n",
              "      <td>119172.741800</td>\n",
              "      <td>1.293859e+09</td>\n",
              "      <td>27.700000</td>\n",
              "      <td>28.600000</td>\n",
              "      <td>0.948000</td>\n",
              "      <td>20.600000</td>\n",
              "    </tr>\n",
              "  </tbody>\n",
              "</table>\n",
              "</div>\n",
              "      <button class=\"colab-df-convert\" onclick=\"convertToInteractive('df-64364e00-47c2-4e2c-9bf0-6e4ae527e4ea')\"\n",
              "              title=\"Convert this dataframe to an interactive table.\"\n",
              "              style=\"display:none;\">\n",
              "        \n",
              "  <svg xmlns=\"http://www.w3.org/2000/svg\" height=\"24px\"viewBox=\"0 0 24 24\"\n",
              "       width=\"24px\">\n",
              "    <path d=\"M0 0h24v24H0V0z\" fill=\"none\"/>\n",
              "    <path d=\"M18.56 5.44l.94 2.06.94-2.06 2.06-.94-2.06-.94-.94-2.06-.94 2.06-2.06.94zm-11 1L8.5 8.5l.94-2.06 2.06-.94-2.06-.94L8.5 2.5l-.94 2.06-2.06.94zm10 10l.94 2.06.94-2.06 2.06-.94-2.06-.94-.94-2.06-.94 2.06-2.06.94z\"/><path d=\"M17.41 7.96l-1.37-1.37c-.4-.4-.92-.59-1.43-.59-.52 0-1.04.2-1.43.59L10.3 9.45l-7.72 7.72c-.78.78-.78 2.05 0 2.83L4 21.41c.39.39.9.59 1.41.59.51 0 1.02-.2 1.41-.59l7.78-7.78 2.81-2.81c.8-.78.8-2.07 0-2.86zM5.41 20L4 18.59l7.72-7.72 1.47 1.35L5.41 20z\"/>\n",
              "  </svg>\n",
              "      </button>\n",
              "      \n",
              "  <style>\n",
              "    .colab-df-container {\n",
              "      display:flex;\n",
              "      flex-wrap:wrap;\n",
              "      gap: 12px;\n",
              "    }\n",
              "\n",
              "    .colab-df-convert {\n",
              "      background-color: #E8F0FE;\n",
              "      border: none;\n",
              "      border-radius: 50%;\n",
              "      cursor: pointer;\n",
              "      display: none;\n",
              "      fill: #1967D2;\n",
              "      height: 32px;\n",
              "      padding: 0 0 0 0;\n",
              "      width: 32px;\n",
              "    }\n",
              "\n",
              "    .colab-df-convert:hover {\n",
              "      background-color: #E2EBFA;\n",
              "      box-shadow: 0px 1px 2px rgba(60, 64, 67, 0.3), 0px 1px 3px 1px rgba(60, 64, 67, 0.15);\n",
              "      fill: #174EA6;\n",
              "    }\n",
              "\n",
              "    [theme=dark] .colab-df-convert {\n",
              "      background-color: #3B4455;\n",
              "      fill: #D2E3FC;\n",
              "    }\n",
              "\n",
              "    [theme=dark] .colab-df-convert:hover {\n",
              "      background-color: #434B5C;\n",
              "      box-shadow: 0px 1px 3px 1px rgba(0, 0, 0, 0.15);\n",
              "      filter: drop-shadow(0px 1px 2px rgba(0, 0, 0, 0.3));\n",
              "      fill: #FFFFFF;\n",
              "    }\n",
              "  </style>\n",
              "\n",
              "      <script>\n",
              "        const buttonEl =\n",
              "          document.querySelector('#df-64364e00-47c2-4e2c-9bf0-6e4ae527e4ea button.colab-df-convert');\n",
              "        buttonEl.style.display =\n",
              "          google.colab.kernel.accessAllowed ? 'block' : 'none';\n",
              "\n",
              "        async function convertToInteractive(key) {\n",
              "          const element = document.querySelector('#df-64364e00-47c2-4e2c-9bf0-6e4ae527e4ea');\n",
              "          const dataTable =\n",
              "            await google.colab.kernel.invokeFunction('convertToInteractive',\n",
              "                                                     [key], {});\n",
              "          if (!dataTable) return;\n",
              "\n",
              "          const docLinkHtml = 'Like what you see? Visit the ' +\n",
              "            '<a target=\"_blank\" href=https://colab.research.google.com/notebooks/data_table.ipynb>data table notebook</a>'\n",
              "            + ' to learn more about interactive tables.';\n",
              "          element.innerHTML = '';\n",
              "          dataTable['output_type'] = 'display_data';\n",
              "          await google.colab.output.renderOutput(dataTable, element);\n",
              "          const docLink = document.createElement('div');\n",
              "          docLink.innerHTML = docLinkHtml;\n",
              "          element.appendChild(docLink);\n",
              "        }\n",
              "      </script>\n",
              "    </div>\n",
              "  </div>\n",
              "  "
            ]
          },
          "metadata": {},
          "execution_count": 268
        }
      ]
    },
    {
      "cell_type": "markdown",
      "source": [
        "Convert categorical columns into their one-hot encoded versions"
      ],
      "metadata": {
        "id": "8tbAjlb2U_PT"
      }
    },
    {
      "cell_type": "code",
      "source": [
        "df = pd.get_dummies(df, columns=['Country', 'Status'])"
      ],
      "metadata": {
        "execution": {
          "iopub.status.busy": "2023-04-30T08:33:50.335572Z",
          "iopub.execute_input": "2023-04-30T08:33:50.336817Z",
          "iopub.status.idle": "2023-04-30T08:33:50.349409Z",
          "shell.execute_reply.started": "2023-04-30T08:33:50.336755Z",
          "shell.execute_reply": "2023-04-30T08:33:50.348213Z"
        },
        "trusted": true,
        "id": "shlrP4pTU_PT"
      },
      "execution_count": 269,
      "outputs": []
    },
    {
      "cell_type": "markdown",
      "source": [
        "Convert the dataframe into two numpy arrays (called `x` and `y`).<br>\n",
        "To make the first array, remove the \"Life expectancy\" column, and convert the remaining dataframe to a numpy array.<br>\n",
        "Then, use the removed column to make another numpy array (`y`)."
      ],
      "metadata": {
        "id": "C6gaeeHxU_PT"
      }
    },
    {
      "cell_type": "code",
      "source": [
        "y = np.array(df['Life expectancy '])\n",
        "x = df.drop('Life expectancy ', axis=1)\n",
        "\n",
        "x = x.values"
      ],
      "metadata": {
        "execution": {
          "iopub.status.busy": "2023-04-30T08:33:57.363830Z",
          "iopub.execute_input": "2023-04-30T08:33:57.364230Z",
          "iopub.status.idle": "2023-04-30T08:33:57.373246Z",
          "shell.execute_reply.started": "2023-04-30T08:33:57.364195Z",
          "shell.execute_reply": "2023-04-30T08:33:57.372021Z"
        },
        "trusted": true,
        "id": "dbN1zZ-dU_PT"
      },
      "execution_count": 270,
      "outputs": []
    },
    {
      "cell_type": "markdown",
      "source": [
        "Normalize the data"
      ],
      "metadata": {
        "id": "X0OE0dA1U_PT"
      }
    },
    {
      "cell_type": "code",
      "source": [
        "x = x / np.linalg.norm(x)"
      ],
      "metadata": {
        "id": "xNhqe7dGNe5j"
      },
      "execution_count": 271,
      "outputs": []
    },
    {
      "cell_type": "markdown",
      "source": [
        "# Model Training"
      ],
      "metadata": {
        "id": "0GwHCHMlU_PU"
      }
    },
    {
      "cell_type": "markdown",
      "source": [
        "Split the data to training (80%) and testing (20%) parts (5 points)"
      ],
      "metadata": {
        "id": "IksGhWU6U_PU"
      }
    },
    {
      "cell_type": "code",
      "source": [
        "x_train, x_test, y_train, y_test = train_test_split(x, y, test_size=0.2, random_state=42)"
      ],
      "metadata": {
        "execution": {
          "iopub.status.busy": "2023-04-30T08:34:04.739033Z",
          "iopub.execute_input": "2023-04-30T08:34:04.739581Z",
          "iopub.status.idle": "2023-04-30T08:34:04.748932Z",
          "shell.execute_reply.started": "2023-04-30T08:34:04.739529Z",
          "shell.execute_reply": "2023-04-30T08:34:04.747440Z"
        },
        "trusted": true,
        "id": "YAdRX8VVU_PU"
      },
      "execution_count": 272,
      "outputs": []
    },
    {
      "cell_type": "markdown",
      "source": [
        "# Common Regression Class"
      ],
      "metadata": {
        "id": "LMBCL_FAU_PU"
      }
    },
    {
      "cell_type": "markdown",
      "source": [
        "This is a regression class and you do not need to change its code. You have to fully understand it and then create new classes for rigde and lasso regression which inherit from this class.\n",
        "For initialization you have to specify learning rate, number of iteration, and a regularization object."
      ],
      "metadata": {
        "id": "lVm0vp2_U_PU"
      }
    },
    {
      "cell_type": "code",
      "source": [
        "class Regression:\n",
        "    def __init__(self, learning_rate, iteration, regularization):\n",
        "        \n",
        "        self.N = None # number of samples\n",
        "        self.n = None # number of features\n",
        "        self.w = None # initial weights\n",
        "        self.regularization = regularization # will be the l1/l2 regularization class according to the regression model\n",
        "        self.lr = learning_rate\n",
        "        self.it = iteration\n",
        "\n",
        "    def loss_function(self, y, y_pred):\n",
        "        return (1 / (2*self.N)) * np.sum(np.square(y_pred - y)) + self.regularization(self.w)\n",
        "    \n",
        "    def hypothesis(self, weights, X):\n",
        "        return np.dot(X, weights)\n",
        "\n",
        "    def train(self, X, y):\n",
        "        # Target value should be in the shape of (n, 1) not (n, ).\n",
        "\n",
        "        # Insert constant ones for bias weights.\n",
        "        X = np.insert(X, 0, 1, axis=1)\n",
        "\n",
        "        self.N = X.shape[0]\n",
        "        self.n = X.shape[1]\n",
        "        self.w = np.zeros((self.n , ))\n",
        "\n",
        "        for it in range(1, self.it+1):\n",
        "            y_pred = self.hypothesis(self.w, X).flatten()\n",
        "            cost = self.loss_function(y, y_pred)\n",
        "            dw = (1/self.N) * np.dot(X.T, (y_pred - y)) + self.regularization.derivation(self.w)\n",
        "            self.w = self.w - self.lr * dw\n",
        "\n",
        "            if it % 100 == 0:\n",
        "                print(\"The loss function for the iteration {}----->{} :)\".format(it, cost))\n",
        "    \n",
        "    def predict(self, test_X):\n",
        "        # Insert constant ones for bias weights.\n",
        "        test_X = np.insert(test_X, 0, 1, axis=1)\n",
        "        y_pred = self.hypothesis(self.w, test_X)\n",
        "        return y_pred"
      ],
      "metadata": {
        "execution": {
          "iopub.status.busy": "2023-04-30T08:34:15.969955Z",
          "iopub.execute_input": "2023-04-30T08:34:15.970344Z",
          "iopub.status.idle": "2023-04-30T08:34:15.982914Z",
          "shell.execute_reply.started": "2023-04-30T08:34:15.970307Z",
          "shell.execute_reply": "2023-04-30T08:34:15.981717Z"
        },
        "trusted": true,
        "id": "G-YfrGzAU_PU"
      },
      "execution_count": 273,
      "outputs": []
    },
    {
      "cell_type": "markdown",
      "source": [
        "# Regularization Classes (20 points)"
      ],
      "metadata": {
        "id": "HE6pCA4MU_PU"
      }
    },
    {
      "cell_type": "markdown",
      "source": [
        "You have to implement l2/l1 regularization."
      ],
      "metadata": {
        "id": "101Ics8WU_PU"
      }
    },
    {
      "cell_type": "code",
      "source": [
        "class l1_regularization:\n",
        "    \"\"\"Regularization used for Lasso Regression\"\"\"\n",
        "    def __init__(self, lamda):\n",
        "        self.lamda = lamda\n",
        "\n",
        "    def __call__(self, weights):\n",
        "        \"This will be returned when we call this class.\"\n",
        "        return self.lamda * np.sum(np.abs(weights))\n",
        "        \n",
        "    def derivation(self, weights):\n",
        "        \"Derivation of the regulariozation function.\"\n",
        "        return (self.lamda * np.sign(weights)).flatten()\n",
        "\n",
        "class l2_regularization:\n",
        "    \"\"\"Regularization used for Ridge Regression\"\"\"\n",
        "    def __init__(self, lamda):\n",
        "        self.lamda = lamda\n",
        "\n",
        "    def __call__(self, weights):\n",
        "        \"This will be retuned when we call this class.\"\n",
        "        return self.lamda * np.sum(weights**2)\n",
        "    \n",
        "    def derivation(self, weights):\n",
        "        \"Derivation of the regulariozation function.\"\n",
        "        return (self.lamda * 2 * weights).flatten()"
      ],
      "metadata": {
        "execution": {
          "iopub.status.busy": "2023-04-30T08:34:19.277529Z",
          "iopub.execute_input": "2023-04-30T08:34:19.277915Z",
          "iopub.status.idle": "2023-04-30T08:34:19.286725Z",
          "shell.execute_reply.started": "2023-04-30T08:34:19.277881Z",
          "shell.execute_reply": "2023-04-30T08:34:19.285489Z"
        },
        "trusted": true,
        "id": "KkJ1I97gU_PU"
      },
      "execution_count": 274,
      "outputs": []
    },
    {
      "cell_type": "markdown",
      "source": [
        "# Lasso Regression from scratch (5 points)"
      ],
      "metadata": {
        "id": "MYUC1u_FU_PU"
      }
    },
    {
      "cell_type": "markdown",
      "source": [
        "Train a lasso regression model using your own code and the following class."
      ],
      "metadata": {
        "id": "UxjF4g7rU_PU"
      }
    },
    {
      "cell_type": "code",
      "source": [
        "class LassoRegression(Regression):\n",
        "    def __init__(self, lamda, learning_rate, iteration):\n",
        "        self.regularization = l2_regularization(lamda)\n",
        "        super(LassoRegression, self).__init__(learning_rate, iteration, self.regularization)"
      ],
      "metadata": {
        "execution": {
          "iopub.status.busy": "2023-04-30T08:34:23.921661Z",
          "iopub.execute_input": "2023-04-30T08:34:23.922713Z",
          "iopub.status.idle": "2023-04-30T08:34:23.928316Z",
          "shell.execute_reply.started": "2023-04-30T08:34:23.922672Z",
          "shell.execute_reply": "2023-04-30T08:34:23.927223Z"
        },
        "trusted": true,
        "id": "Zl180mzhU_PU"
      },
      "execution_count": 275,
      "outputs": []
    },
    {
      "cell_type": "code",
      "source": [
        "my_lasso = LassoRegression(lamda=0.001, learning_rate=0.001, iteration=5000)\n",
        "my_lasso.train(x, y)"
      ],
      "metadata": {
        "execution": {
          "iopub.status.busy": "2023-04-30T08:34:43.634507Z",
          "iopub.execute_input": "2023-04-30T08:34:43.634909Z",
          "iopub.status.idle": "2023-04-30T08:34:43.669074Z",
          "shell.execute_reply.started": "2023-04-30T08:34:43.634873Z",
          "shell.execute_reply": "2023-04-30T08:34:43.667346Z"
        },
        "trusted": true,
        "id": "Vm0z4ECLU_PV",
        "colab": {
          "base_uri": "https://localhost:8080/"
        },
        "outputId": "77f487bf-aa17-4d02-b66a-7234e1b763db"
      },
      "execution_count": 276,
      "outputs": [
        {
          "output_type": "stream",
          "name": "stdout",
          "text": [
            "The loss function for the iteration 100----->2006.892244475442 :)\n",
            "The loss function for the iteration 200----->1651.2701212327834 :)\n",
            "The loss function for the iteration 300----->1360.258200051267 :)\n",
            "The loss function for the iteration 400----->1122.117958615223 :)\n",
            "The loss function for the iteration 500----->927.2435549251163 :)\n",
            "The loss function for the iteration 600----->767.7743572899474 :)\n",
            "The loss function for the iteration 700----->637.2778707150483 :)\n",
            "The loss function for the iteration 800----->530.4902699147575 :)\n",
            "The loss function for the iteration 900----->443.1040728527899 :)\n",
            "The loss function for the iteration 1000----->371.59439021653026 :)\n",
            "The loss function for the iteration 1100----->313.0767422654879 :)\n",
            "The loss function for the iteration 1200----->265.1907078245873 :)\n",
            "The loss function for the iteration 1300----->226.00471218191845 :)\n",
            "The loss function for the iteration 1400----->193.9381133287203 :)\n",
            "The loss function for the iteration 1500----->167.69744374108714 :)\n",
            "The loss function for the iteration 1600----->146.2242358937143 :)\n",
            "The loss function for the iteration 1700----->128.6523269480184 :)\n",
            "The loss function for the iteration 1800----->114.27292041756426 :)\n",
            "The loss function for the iteration 1900----->102.50599550625482 :)\n",
            "The loss function for the iteration 2000----->92.87691086027053 :)\n",
            "The loss function for the iteration 2100----->84.99725900134219 :)\n",
            "The loss function for the iteration 2200----->78.54919916831018 :)\n",
            "The loss function for the iteration 2300----->73.27263660217513 :)\n",
            "The loss function for the iteration 2400----->68.95473112657761 :)\n",
            "The loss function for the iteration 2500----->65.42131183224353 :)\n",
            "The loss function for the iteration 2600----->62.52985156026711 :)\n",
            "The loss function for the iteration 2700----->60.16371779658171 :)\n",
            "The loss function for the iteration 2800----->58.2274680764557 :)\n",
            "The loss function for the iteration 2900----->56.64300013014694 :)\n",
            "The loss function for the iteration 3000----->55.34640147848884 :)\n",
            "The loss function for the iteration 3100----->54.2853714008147 :)\n",
            "The loss function for the iteration 3200----->53.41711128536751 :)\n",
            "The loss function for the iteration 3300----->52.706598265445436 :)\n",
            "The loss function for the iteration 3400----->52.12517250509442 :)\n",
            "The loss function for the iteration 3500----->51.64938114981541 :)\n",
            "The loss function for the iteration 3600----->51.2600323108253 :)\n",
            "The loss function for the iteration 3700----->50.94142092352021 :)\n",
            "The loss function for the iteration 3800----->50.6806952536593 :)\n",
            "The loss function for the iteration 3900----->50.467338498086455 :)\n",
            "The loss function for the iteration 4000----->50.2927445693623 :)\n",
            "The loss function for the iteration 4100----->50.14987095276852 :)\n",
            "The loss function for the iteration 4200----->50.03295463300878 :)\n",
            "The loss function for the iteration 4300----->49.93727963196487 :)\n",
            "The loss function for the iteration 4400----->49.85898678070069 :)\n",
            "The loss function for the iteration 4500----->49.79491805250263 :)\n",
            "The loss function for the iteration 4600----->49.742489177832724 :)\n",
            "The loss function for the iteration 4700----->49.699585402874554 :)\n",
            "The loss function for the iteration 4800----->49.664476186893516 :)\n",
            "The loss function for the iteration 4900----->49.6357453975671 :)\n",
            "The loss function for the iteration 5000----->49.61223418857921 :)\n"
          ]
        }
      ]
    },
    {
      "cell_type": "markdown",
      "source": [
        "# Lasso Regression using skicit-learn (5 points)"
      ],
      "metadata": {
        "id": "gxeSokECU_PW"
      }
    },
    {
      "cell_type": "markdown",
      "source": [
        "Use `sklearn` to train a Lasso Regression Model. To determine the best regularization coefficients, use grid-search (or other techniques you've learned till now)."
      ],
      "metadata": {
        "id": "LjkaQEKlU_PW"
      }
    },
    {
      "cell_type": "code",
      "source": [
        "param_grid = {'alpha': [0.001, 0.01, 0.1, 1, 10, 100]}\n",
        "grid_search = GridSearchCV(Lasso(), param_grid, cv=5)\n",
        "grid_search.fit(x_train, y_train)\n",
        "print(\"Best regularization coefficient:\", grid_search.best_params_['alpha'])\n",
        "print(\"Best score:\", grid_search.best_score_)\n",
        "\n",
        "lasso = Lasso(alpha=grid_search.best_params_['alpha'])\n",
        "lasso.fit(x_train, y_train)"
      ],
      "metadata": {
        "execution": {
          "iopub.status.busy": "2023-04-30T08:35:17.374562Z",
          "iopub.execute_input": "2023-04-30T08:35:17.375634Z",
          "iopub.status.idle": "2023-04-30T08:35:17.403838Z",
          "shell.execute_reply.started": "2023-04-30T08:35:17.375589Z",
          "shell.execute_reply": "2023-04-30T08:35:17.401840Z"
        },
        "trusted": true,
        "id": "Q1fX_s6aU_PW",
        "colab": {
          "base_uri": "https://localhost:8080/",
          "height": 109
        },
        "outputId": "34343646-4771-47b5-ea65-e5c18ebe1571"
      },
      "execution_count": 277,
      "outputs": [
        {
          "output_type": "stream",
          "name": "stdout",
          "text": [
            "Best regularization coefficient: 0.001\n",
            "Best score: -0.006531803591290952\n"
          ]
        },
        {
          "output_type": "execute_result",
          "data": {
            "text/plain": [
              "Lasso(alpha=0.001)"
            ],
            "text/html": [
              "<style>#sk-container-id-10 {color: black;background-color: white;}#sk-container-id-10 pre{padding: 0;}#sk-container-id-10 div.sk-toggleable {background-color: white;}#sk-container-id-10 label.sk-toggleable__label {cursor: pointer;display: block;width: 100%;margin-bottom: 0;padding: 0.3em;box-sizing: border-box;text-align: center;}#sk-container-id-10 label.sk-toggleable__label-arrow:before {content: \"▸\";float: left;margin-right: 0.25em;color: #696969;}#sk-container-id-10 label.sk-toggleable__label-arrow:hover:before {color: black;}#sk-container-id-10 div.sk-estimator:hover label.sk-toggleable__label-arrow:before {color: black;}#sk-container-id-10 div.sk-toggleable__content {max-height: 0;max-width: 0;overflow: hidden;text-align: left;background-color: #f0f8ff;}#sk-container-id-10 div.sk-toggleable__content pre {margin: 0.2em;color: black;border-radius: 0.25em;background-color: #f0f8ff;}#sk-container-id-10 input.sk-toggleable__control:checked~div.sk-toggleable__content {max-height: 200px;max-width: 100%;overflow: auto;}#sk-container-id-10 input.sk-toggleable__control:checked~label.sk-toggleable__label-arrow:before {content: \"▾\";}#sk-container-id-10 div.sk-estimator input.sk-toggleable__control:checked~label.sk-toggleable__label {background-color: #d4ebff;}#sk-container-id-10 div.sk-label input.sk-toggleable__control:checked~label.sk-toggleable__label {background-color: #d4ebff;}#sk-container-id-10 input.sk-hidden--visually {border: 0;clip: rect(1px 1px 1px 1px);clip: rect(1px, 1px, 1px, 1px);height: 1px;margin: -1px;overflow: hidden;padding: 0;position: absolute;width: 1px;}#sk-container-id-10 div.sk-estimator {font-family: monospace;background-color: #f0f8ff;border: 1px dotted black;border-radius: 0.25em;box-sizing: border-box;margin-bottom: 0.5em;}#sk-container-id-10 div.sk-estimator:hover {background-color: #d4ebff;}#sk-container-id-10 div.sk-parallel-item::after {content: \"\";width: 100%;border-bottom: 1px solid gray;flex-grow: 1;}#sk-container-id-10 div.sk-label:hover label.sk-toggleable__label {background-color: #d4ebff;}#sk-container-id-10 div.sk-serial::before {content: \"\";position: absolute;border-left: 1px solid gray;box-sizing: border-box;top: 0;bottom: 0;left: 50%;z-index: 0;}#sk-container-id-10 div.sk-serial {display: flex;flex-direction: column;align-items: center;background-color: white;padding-right: 0.2em;padding-left: 0.2em;position: relative;}#sk-container-id-10 div.sk-item {position: relative;z-index: 1;}#sk-container-id-10 div.sk-parallel {display: flex;align-items: stretch;justify-content: center;background-color: white;position: relative;}#sk-container-id-10 div.sk-item::before, #sk-container-id-10 div.sk-parallel-item::before {content: \"\";position: absolute;border-left: 1px solid gray;box-sizing: border-box;top: 0;bottom: 0;left: 50%;z-index: -1;}#sk-container-id-10 div.sk-parallel-item {display: flex;flex-direction: column;z-index: 1;position: relative;background-color: white;}#sk-container-id-10 div.sk-parallel-item:first-child::after {align-self: flex-end;width: 50%;}#sk-container-id-10 div.sk-parallel-item:last-child::after {align-self: flex-start;width: 50%;}#sk-container-id-10 div.sk-parallel-item:only-child::after {width: 0;}#sk-container-id-10 div.sk-dashed-wrapped {border: 1px dashed gray;margin: 0 0.4em 0.5em 0.4em;box-sizing: border-box;padding-bottom: 0.4em;background-color: white;}#sk-container-id-10 div.sk-label label {font-family: monospace;font-weight: bold;display: inline-block;line-height: 1.2em;}#sk-container-id-10 div.sk-label-container {text-align: center;}#sk-container-id-10 div.sk-container {/* jupyter's `normalize.less` sets `[hidden] { display: none; }` but bootstrap.min.css set `[hidden] { display: none !important; }` so we also need the `!important` here to be able to override the default hidden behavior on the sphinx rendered scikit-learn.org. See: https://github.com/scikit-learn/scikit-learn/issues/21755 */display: inline-block !important;position: relative;}#sk-container-id-10 div.sk-text-repr-fallback {display: none;}</style><div id=\"sk-container-id-10\" class=\"sk-top-container\"><div class=\"sk-text-repr-fallback\"><pre>Lasso(alpha=0.001)</pre><b>In a Jupyter environment, please rerun this cell to show the HTML representation or trust the notebook. <br />On GitHub, the HTML representation is unable to render, please try loading this page with nbviewer.org.</b></div><div class=\"sk-container\" hidden><div class=\"sk-item\"><div class=\"sk-estimator sk-toggleable\"><input class=\"sk-toggleable__control sk-hidden--visually\" id=\"sk-estimator-id-10\" type=\"checkbox\" checked><label for=\"sk-estimator-id-10\" class=\"sk-toggleable__label sk-toggleable__label-arrow\">Lasso</label><div class=\"sk-toggleable__content\"><pre>Lasso(alpha=0.001)</pre></div></div></div></div></div>"
            ]
          },
          "metadata": {},
          "execution_count": 277
        }
      ]
    },
    {
      "cell_type": "markdown",
      "source": [
        "# Ridge Regression From scratch (5 points)"
      ],
      "metadata": {
        "id": "6vHBMK9pU_PW"
      }
    },
    {
      "cell_type": "markdown",
      "source": [
        "Train a ridge regression model using your own code and the following class."
      ],
      "metadata": {
        "id": "qkmTdCqlU_PW"
      }
    },
    {
      "cell_type": "code",
      "source": [
        "class RidgeRegression(Regression):\n",
        "    def __init__(self, lamda, learning_rate, iteration):\n",
        "        self.regularization = l2_regularization(lamda)\n",
        "        super(RidgeRegression, self).__init__(learning_rate, iteration, self.regularization)"
      ],
      "metadata": {
        "execution": {
          "iopub.status.busy": "2023-04-30T08:35:21.762634Z",
          "iopub.execute_input": "2023-04-30T08:35:21.763364Z",
          "iopub.status.idle": "2023-04-30T08:35:21.769134Z",
          "shell.execute_reply.started": "2023-04-30T08:35:21.763321Z",
          "shell.execute_reply": "2023-04-30T08:35:21.768198Z"
        },
        "trusted": true,
        "id": "ueIbohzQU_PW"
      },
      "execution_count": 278,
      "outputs": []
    },
    {
      "cell_type": "code",
      "source": [
        "my_ridge = RidgeRegression(lamda=0.001, learning_rate=0.001, iteration=5000)\n",
        "my_ridge.train(x, y)"
      ],
      "metadata": {
        "execution": {
          "iopub.status.busy": "2023-04-30T08:36:39.759220Z",
          "iopub.execute_input": "2023-04-30T08:36:39.759679Z",
          "iopub.status.idle": "2023-04-30T08:36:39.803215Z",
          "shell.execute_reply.started": "2023-04-30T08:36:39.759636Z",
          "shell.execute_reply": "2023-04-30T08:36:39.801482Z"
        },
        "trusted": true,
        "id": "Ows-DOCFU_PW",
        "colab": {
          "base_uri": "https://localhost:8080/"
        },
        "outputId": "1dff0420-cc8f-4b19-bbb3-33f656b56255"
      },
      "execution_count": 279,
      "outputs": [
        {
          "output_type": "stream",
          "name": "stdout",
          "text": [
            "The loss function for the iteration 100----->2006.892244475442 :)\n",
            "The loss function for the iteration 200----->1651.2701212327834 :)\n",
            "The loss function for the iteration 300----->1360.258200051267 :)\n",
            "The loss function for the iteration 400----->1122.117958615223 :)\n",
            "The loss function for the iteration 500----->927.2435549251163 :)\n",
            "The loss function for the iteration 600----->767.7743572899474 :)\n",
            "The loss function for the iteration 700----->637.2778707150483 :)\n",
            "The loss function for the iteration 800----->530.4902699147575 :)\n",
            "The loss function for the iteration 900----->443.1040728527899 :)\n",
            "The loss function for the iteration 1000----->371.59439021653026 :)\n",
            "The loss function for the iteration 1100----->313.0767422654879 :)\n",
            "The loss function for the iteration 1200----->265.1907078245873 :)\n",
            "The loss function for the iteration 1300----->226.00471218191845 :)\n",
            "The loss function for the iteration 1400----->193.9381133287203 :)\n",
            "The loss function for the iteration 1500----->167.69744374108714 :)\n",
            "The loss function for the iteration 1600----->146.2242358937143 :)\n",
            "The loss function for the iteration 1700----->128.6523269480184 :)\n",
            "The loss function for the iteration 1800----->114.27292041756426 :)\n",
            "The loss function for the iteration 1900----->102.50599550625482 :)\n",
            "The loss function for the iteration 2000----->92.87691086027053 :)\n",
            "The loss function for the iteration 2100----->84.99725900134219 :)\n",
            "The loss function for the iteration 2200----->78.54919916831018 :)\n",
            "The loss function for the iteration 2300----->73.27263660217513 :)\n",
            "The loss function for the iteration 2400----->68.95473112657761 :)\n",
            "The loss function for the iteration 2500----->65.42131183224353 :)\n",
            "The loss function for the iteration 2600----->62.52985156026711 :)\n",
            "The loss function for the iteration 2700----->60.16371779658171 :)\n",
            "The loss function for the iteration 2800----->58.2274680764557 :)\n",
            "The loss function for the iteration 2900----->56.64300013014694 :)\n",
            "The loss function for the iteration 3000----->55.34640147848884 :)\n",
            "The loss function for the iteration 3100----->54.2853714008147 :)\n",
            "The loss function for the iteration 3200----->53.41711128536751 :)\n",
            "The loss function for the iteration 3300----->52.706598265445436 :)\n",
            "The loss function for the iteration 3400----->52.12517250509442 :)\n",
            "The loss function for the iteration 3500----->51.64938114981541 :)\n",
            "The loss function for the iteration 3600----->51.2600323108253 :)\n",
            "The loss function for the iteration 3700----->50.94142092352021 :)\n",
            "The loss function for the iteration 3800----->50.6806952536593 :)\n",
            "The loss function for the iteration 3900----->50.467338498086455 :)\n",
            "The loss function for the iteration 4000----->50.2927445693623 :)\n",
            "The loss function for the iteration 4100----->50.14987095276852 :)\n",
            "The loss function for the iteration 4200----->50.03295463300878 :)\n",
            "The loss function for the iteration 4300----->49.93727963196487 :)\n",
            "The loss function for the iteration 4400----->49.85898678070069 :)\n",
            "The loss function for the iteration 4500----->49.79491805250263 :)\n",
            "The loss function for the iteration 4600----->49.742489177832724 :)\n",
            "The loss function for the iteration 4700----->49.699585402874554 :)\n",
            "The loss function for the iteration 4800----->49.664476186893516 :)\n",
            "The loss function for the iteration 4900----->49.6357453975671 :)\n",
            "The loss function for the iteration 5000----->49.61223418857921 :)\n"
          ]
        }
      ]
    },
    {
      "cell_type": "markdown",
      "source": [
        "# Ridge Regression using scikit-learn (5 points)"
      ],
      "metadata": {
        "id": "etHAUbz3U_PW"
      }
    },
    {
      "cell_type": "markdown",
      "source": [
        "Use `sklearn` to train a Ridge Regression Model. To determine the best regularization coefficients, use grid-search (or other techniques you've learned till now)."
      ],
      "metadata": {
        "id": "-CHPali0U_PW"
      }
    },
    {
      "cell_type": "code",
      "source": [
        "param_grid = {'alpha': [0.001, 0.01, 0.1, 1, 10, 100, 1000]}\n",
        "grid_search = GridSearchCV(Ridge(), param_grid, cv=5)\n",
        "grid_search.fit(x, y)\n",
        "\n",
        "print(f\"Best regularization parameter: {grid_search.best_params_}\")\n",
        "print(f\"Best score: {grid_search.best_score_}\")\n",
        "\n",
        "ridge = Ridge(alpha=grid_search.best_params_['alpha'])\n",
        "ridge.fit(x_train, y_train)"
      ],
      "metadata": {
        "execution": {
          "iopub.status.busy": "2023-04-30T08:37:26.807262Z",
          "iopub.execute_input": "2023-04-30T08:37:26.807683Z",
          "iopub.status.idle": "2023-04-30T08:37:26.832283Z",
          "shell.execute_reply.started": "2023-04-30T08:37:26.807621Z",
          "shell.execute_reply": "2023-04-30T08:37:26.830639Z"
        },
        "trusted": true,
        "id": "IJY3TMVAU_PW",
        "colab": {
          "base_uri": "https://localhost:8080/",
          "height": 109
        },
        "outputId": "b5d0d81e-0dbc-413f-a996-a7b595441a51"
      },
      "execution_count": 280,
      "outputs": [
        {
          "output_type": "stream",
          "name": "stdout",
          "text": [
            "Best regularization parameter: {'alpha': 0.1}\n",
            "Best score: -0.0038369941357208727\n"
          ]
        },
        {
          "output_type": "execute_result",
          "data": {
            "text/plain": [
              "Ridge(alpha=0.1)"
            ],
            "text/html": [
              "<style>#sk-container-id-11 {color: black;background-color: white;}#sk-container-id-11 pre{padding: 0;}#sk-container-id-11 div.sk-toggleable {background-color: white;}#sk-container-id-11 label.sk-toggleable__label {cursor: pointer;display: block;width: 100%;margin-bottom: 0;padding: 0.3em;box-sizing: border-box;text-align: center;}#sk-container-id-11 label.sk-toggleable__label-arrow:before {content: \"▸\";float: left;margin-right: 0.25em;color: #696969;}#sk-container-id-11 label.sk-toggleable__label-arrow:hover:before {color: black;}#sk-container-id-11 div.sk-estimator:hover label.sk-toggleable__label-arrow:before {color: black;}#sk-container-id-11 div.sk-toggleable__content {max-height: 0;max-width: 0;overflow: hidden;text-align: left;background-color: #f0f8ff;}#sk-container-id-11 div.sk-toggleable__content pre {margin: 0.2em;color: black;border-radius: 0.25em;background-color: #f0f8ff;}#sk-container-id-11 input.sk-toggleable__control:checked~div.sk-toggleable__content {max-height: 200px;max-width: 100%;overflow: auto;}#sk-container-id-11 input.sk-toggleable__control:checked~label.sk-toggleable__label-arrow:before {content: \"▾\";}#sk-container-id-11 div.sk-estimator input.sk-toggleable__control:checked~label.sk-toggleable__label {background-color: #d4ebff;}#sk-container-id-11 div.sk-label input.sk-toggleable__control:checked~label.sk-toggleable__label {background-color: #d4ebff;}#sk-container-id-11 input.sk-hidden--visually {border: 0;clip: rect(1px 1px 1px 1px);clip: rect(1px, 1px, 1px, 1px);height: 1px;margin: -1px;overflow: hidden;padding: 0;position: absolute;width: 1px;}#sk-container-id-11 div.sk-estimator {font-family: monospace;background-color: #f0f8ff;border: 1px dotted black;border-radius: 0.25em;box-sizing: border-box;margin-bottom: 0.5em;}#sk-container-id-11 div.sk-estimator:hover {background-color: #d4ebff;}#sk-container-id-11 div.sk-parallel-item::after {content: \"\";width: 100%;border-bottom: 1px solid gray;flex-grow: 1;}#sk-container-id-11 div.sk-label:hover label.sk-toggleable__label {background-color: #d4ebff;}#sk-container-id-11 div.sk-serial::before {content: \"\";position: absolute;border-left: 1px solid gray;box-sizing: border-box;top: 0;bottom: 0;left: 50%;z-index: 0;}#sk-container-id-11 div.sk-serial {display: flex;flex-direction: column;align-items: center;background-color: white;padding-right: 0.2em;padding-left: 0.2em;position: relative;}#sk-container-id-11 div.sk-item {position: relative;z-index: 1;}#sk-container-id-11 div.sk-parallel {display: flex;align-items: stretch;justify-content: center;background-color: white;position: relative;}#sk-container-id-11 div.sk-item::before, #sk-container-id-11 div.sk-parallel-item::before {content: \"\";position: absolute;border-left: 1px solid gray;box-sizing: border-box;top: 0;bottom: 0;left: 50%;z-index: -1;}#sk-container-id-11 div.sk-parallel-item {display: flex;flex-direction: column;z-index: 1;position: relative;background-color: white;}#sk-container-id-11 div.sk-parallel-item:first-child::after {align-self: flex-end;width: 50%;}#sk-container-id-11 div.sk-parallel-item:last-child::after {align-self: flex-start;width: 50%;}#sk-container-id-11 div.sk-parallel-item:only-child::after {width: 0;}#sk-container-id-11 div.sk-dashed-wrapped {border: 1px dashed gray;margin: 0 0.4em 0.5em 0.4em;box-sizing: border-box;padding-bottom: 0.4em;background-color: white;}#sk-container-id-11 div.sk-label label {font-family: monospace;font-weight: bold;display: inline-block;line-height: 1.2em;}#sk-container-id-11 div.sk-label-container {text-align: center;}#sk-container-id-11 div.sk-container {/* jupyter's `normalize.less` sets `[hidden] { display: none; }` but bootstrap.min.css set `[hidden] { display: none !important; }` so we also need the `!important` here to be able to override the default hidden behavior on the sphinx rendered scikit-learn.org. See: https://github.com/scikit-learn/scikit-learn/issues/21755 */display: inline-block !important;position: relative;}#sk-container-id-11 div.sk-text-repr-fallback {display: none;}</style><div id=\"sk-container-id-11\" class=\"sk-top-container\"><div class=\"sk-text-repr-fallback\"><pre>Ridge(alpha=0.1)</pre><b>In a Jupyter environment, please rerun this cell to show the HTML representation or trust the notebook. <br />On GitHub, the HTML representation is unable to render, please try loading this page with nbviewer.org.</b></div><div class=\"sk-container\" hidden><div class=\"sk-item\"><div class=\"sk-estimator sk-toggleable\"><input class=\"sk-toggleable__control sk-hidden--visually\" id=\"sk-estimator-id-11\" type=\"checkbox\" checked><label for=\"sk-estimator-id-11\" class=\"sk-toggleable__label sk-toggleable__label-arrow\">Ridge</label><div class=\"sk-toggleable__content\"><pre>Ridge(alpha=0.1)</pre></div></div></div></div></div>"
            ]
          },
          "metadata": {},
          "execution_count": 280
        }
      ]
    },
    {
      "cell_type": "markdown",
      "source": [
        "# Evaluation (15 points)"
      ],
      "metadata": {
        "id": "bRGCZENmU_PW"
      }
    },
    {
      "cell_type": "markdown",
      "source": [
        "For each model (the 2 models trained using `sklearn` and the ones based on your code), predict the output for the testing samples."
      ],
      "metadata": {
        "id": "1KGVuWJUU_PW"
      }
    },
    {
      "cell_type": "code",
      "source": [
        "lasso_preds = lasso.predict(x_test)\n",
        "my_lasso_preds = my_lasso.predict(x_test)\n",
        "ridge_preds = ridge.predict(x_test)\n",
        "my_ridge_preds = my_ridge.predict(x_test)"
      ],
      "metadata": {
        "execution": {
          "iopub.status.busy": "2023-04-30T08:37:34.817713Z",
          "iopub.execute_input": "2023-04-30T08:37:34.818097Z",
          "iopub.status.idle": "2023-04-30T08:37:34.828388Z",
          "shell.execute_reply.started": "2023-04-30T08:37:34.818063Z",
          "shell.execute_reply": "2023-04-30T08:37:34.826441Z"
        },
        "trusted": true,
        "id": "JWkNVRW7U_PW"
      },
      "execution_count": 281,
      "outputs": []
    },
    {
      "cell_type": "markdown",
      "source": [
        "Measure the performance of the models based on \"mean squared error\" and the \"coefficient of determination\" of the prediction."
      ],
      "metadata": {
        "id": "jm-OLTTvU_PX"
      }
    },
    {
      "cell_type": "code",
      "source": [
        "sklearn_lasso_mse = mean_squared_error(y_test, lasso_preds)\n",
        "print(\"Sklearn Lasso Regression MSE:\", sklearn_lasso_mse)\n",
        "my_lasso_mse = mean_squared_error(y_test, my_lasso_preds)\n",
        "print(\"My Lasso Regression MSE:\", my_lasso_mse)\n",
        "sklearn_ridge_mse = mean_squared_error(y_test, ridge_preds)\n",
        "print(\"Sklearn Ridge Regression MSE:\", sklearn_ridge_mse)\n",
        "my_ridge_mse = mean_squared_error(y_test, my_ridge_preds)\n",
        "print(\"My Ridge Regression MSE:\", my_ridge_mse)\n",
        "\n",
        "print(\"************************************\")\n",
        "\n",
        "sklearn_lasso_r2 = r2_score(y_test, lasso_preds)\n",
        "print(\"Sklearn Lasso Regression R^2:\", sklearn_lasso_r2)\n",
        "my_lasso_r2 = r2_score(y_test, my_lasso_preds)\n",
        "print(\"My Lasso Regression R^2:\", my_lasso_r2)\n",
        "sklearn_ridge_r2 = r2_score(y_test, ridge_preds)\n",
        "print(\"Sklearn Ridge Regression R^2:\", sklearn_ridge_r2)\n",
        "my_ridge_r2 = r2_score(y_test, my_ridge_preds)\n",
        "print(\"My Ridge Regression R^2:\", my_ridge_r2)"
      ],
      "metadata": {
        "execution": {
          "iopub.status.busy": "2023-04-30T08:37:38.137503Z",
          "iopub.execute_input": "2023-04-30T08:37:38.137975Z",
          "iopub.status.idle": "2023-04-30T08:37:38.147255Z",
          "shell.execute_reply.started": "2023-04-30T08:37:38.137931Z",
          "shell.execute_reply": "2023-04-30T08:37:38.145677Z"
        },
        "trusted": true,
        "id": "-MqKWn_WU_PX",
        "colab": {
          "base_uri": "https://localhost:8080/"
        },
        "outputId": "11429881-959a-4913-84e5-a82e3cbe5b42"
      },
      "execution_count": 283,
      "outputs": [
        {
          "output_type": "stream",
          "name": "stdout",
          "text": [
            "Sklearn Lasso Regression MSE: 90.29244015031081\n",
            "My Lasso Regression MSE: 90.15117080975368\n",
            "Sklearn Ridge Regression MSE: 90.29850413346081\n",
            "My Ridge Regression MSE: 90.15117080975368\n",
            "************************************\n",
            "Sklearn Lasso Regression R^2: -0.0022631790511282723\n",
            "My Lasso Regression R^2: -0.0006950626270560978\n",
            "Sklearn Ridge Regression R^2: -0.0023304904120740044\n",
            "My Ridge Regression R^2: -0.0006950626270560978\n"
          ]
        }
      ]
    },
    {
      "cell_type": "markdown",
      "source": [
        "# Kaggle"
      ],
      "metadata": {
        "id": "RKvQNxCBd4bH"
      }
    },
    {
      "cell_type": "markdown",
      "source": [
        "Done!"
      ],
      "metadata": {
        "id": "_mr-nLfCmO7e"
      }
    },
    {
      "cell_type": "markdown",
      "source": [
        "Competition Link: https://www.kaggle.com/t/adbf95666e7c4f41a6be1129a9e4415c"
      ],
      "metadata": {
        "id": "SWVaPC-Yd6yb"
      }
    }
  ]
}