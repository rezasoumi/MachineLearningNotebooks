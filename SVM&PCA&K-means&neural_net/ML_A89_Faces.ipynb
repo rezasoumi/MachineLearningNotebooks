{
  "nbformat": 4,
  "nbformat_minor": 0,
  "metadata": {
    "colab": {
      "provenance": []
    },
    "kernelspec": {
      "name": "python3",
      "display_name": "Python 3"
    },
    "language_info": {
      "name": "python"
    }
  },
  "cells": [
    {
      "cell_type": "markdown",
      "metadata": {
        "id": "b07eb33c"
      },
      "source": [
        "<div>\n",
        "<img src='https://upload.wikimedia.org/wikipedia/commons/6/64/Sharif_University_Logo.jpg' alt=\"SUT logo\" width=220 height=220 align=left class=\"saturate\">\n",
        "\n",
        "<br>\n",
        "<font face=\"Times New Roman\">\n",
        "<div dir=ltr align=center>\n",
        "<!-- <font color=0F5298 size=7> -->\n",
        "<font color=0F5298 size=6>\n",
        "    Introduction to Machine Learning <br> <br>\n",
        "<!-- <font color=2565AE size=5> -->\n",
        "<font size=5>\n",
        "    Computer Engineering Department <br>\n",
        "    Spring 2023 <br> <br>\n",
        "<font color=606060 size=5>\n",
        "    Homeworks 8 & 9 (Combined): Practical - Faces <br> <br>\n",
        "<font color=686880 size=4>\n",
        "    TAs: Arman Malekzadeh - Amirhossein Ramazani Bonab - Yalda Shabanzadeh\n",
        "    \n",
        "____"
      ]
    },
    {
      "cell_type": "markdown",
      "metadata": {
        "id": "f5a79508"
      },
      "source": [
        "### Full Name : Reza Soumi\n",
        "### Student Number : 98105857\n",
        "### Colab Link: https://colab.research.google.com/drive/1KyNg_v50b9YVjsO5TxcHOwK3kSLTOJaU?usp=sharing\n",
        "___"
      ]
    },
    {
      "cell_type": "markdown",
      "source": [
        "In this assignment, you'll be dealing with a dataset consisting of 400 faces, belonging to 40 people. Your main task is to train models capable of recognizing those faces.\n",
        "The faces are `jpg` images packed together as a zip file called `images.zip`, and the `meta.csv` determines from which person each image was taken."
      ],
      "metadata": {
        "id": "QCHy_MoXZJXG"
      }
    },
    {
      "cell_type": "code",
      "execution_count": 1,
      "metadata": {
        "id": "aZE1y9wJY1Ex",
        "colab": {
          "base_uri": "https://localhost:8080/"
        },
        "outputId": "5f90d9c1-6e08-486a-af4f-a988a669806c"
      },
      "outputs": [
        {
          "output_type": "stream",
          "name": "stdout",
          "text": [
            "--2023-06-26 17:11:00--  https://www.dropbox.com/s/wrias0bjyte3rr2/images.zip?dl=1\n",
            "Resolving www.dropbox.com (www.dropbox.com)... 162.125.4.18, 2620:100:6022:18::a27d:4212\n",
            "Connecting to www.dropbox.com (www.dropbox.com)|162.125.4.18|:443... connected.\n",
            "HTTP request sent, awaiting response... 302 Found\n",
            "Location: /s/dl/wrias0bjyte3rr2/images.zip [following]\n",
            "--2023-06-26 17:11:00--  https://www.dropbox.com/s/dl/wrias0bjyte3rr2/images.zip\n",
            "Reusing existing connection to www.dropbox.com:443.\n",
            "HTTP request sent, awaiting response... 302 Found\n",
            "Location: https://ucaa0b6679aa8e74782911fc6bd9.dl.dropboxusercontent.com/cd/0/get/B-uQJfn8gf2eApZvUiGFHKfkGL7Mu8sP3a3dfQcUwWohLSDYSESPVKFIOZVpZvxyK7YlDaXAkiSXV33x23wmdfaQzDQV5FVfEbeByPBEfZnp-AewFj4L_CWFPksjOU-ayTC8eM-V5yLInfT7NgZNkw2jjTqqujOw5SYv48ePQpqF3J138ohlfSlaWQ3wOk28MwQ/file?dl=1# [following]\n",
            "--2023-06-26 17:11:01--  https://ucaa0b6679aa8e74782911fc6bd9.dl.dropboxusercontent.com/cd/0/get/B-uQJfn8gf2eApZvUiGFHKfkGL7Mu8sP3a3dfQcUwWohLSDYSESPVKFIOZVpZvxyK7YlDaXAkiSXV33x23wmdfaQzDQV5FVfEbeByPBEfZnp-AewFj4L_CWFPksjOU-ayTC8eM-V5yLInfT7NgZNkw2jjTqqujOw5SYv48ePQpqF3J138ohlfSlaWQ3wOk28MwQ/file?dl=1\n",
            "Resolving ucaa0b6679aa8e74782911fc6bd9.dl.dropboxusercontent.com (ucaa0b6679aa8e74782911fc6bd9.dl.dropboxusercontent.com)... 162.125.65.15, 2620:100:6022:15::a27d:420f\n",
            "Connecting to ucaa0b6679aa8e74782911fc6bd9.dl.dropboxusercontent.com (ucaa0b6679aa8e74782911fc6bd9.dl.dropboxusercontent.com)|162.125.65.15|:443... connected.\n",
            "HTTP request sent, awaiting response... 200 OK\n",
            "Length: 506158 (494K) [application/binary]\n",
            "Saving to: ‘images.zip’\n",
            "\n",
            "images.zip          100%[===================>] 494.29K   711KB/s    in 0.7s    \n",
            "\n",
            "2023-06-26 17:11:02 (711 KB/s) - ‘images.zip’ saved [506158/506158]\n",
            "\n",
            "--2023-06-26 17:11:02--  https://www.dropbox.com/s/vqt1v8sfmz18rcf/faces-metadata.csv?dl=1\n",
            "Resolving www.dropbox.com (www.dropbox.com)... 162.125.4.18, 2620:100:6022:18::a27d:4212\n",
            "Connecting to www.dropbox.com (www.dropbox.com)|162.125.4.18|:443... connected.\n",
            "HTTP request sent, awaiting response... 302 Found\n",
            "Location: /s/dl/vqt1v8sfmz18rcf/faces-metadata.csv [following]\n",
            "--2023-06-26 17:11:02--  https://www.dropbox.com/s/dl/vqt1v8sfmz18rcf/faces-metadata.csv\n",
            "Reusing existing connection to www.dropbox.com:443.\n",
            "HTTP request sent, awaiting response... 302 Found\n",
            "Location: https://uc790a61fdf9b4cc5514607a377f.dl.dropboxusercontent.com/cd/0/get/B-sYkab7NJrwIiiQQMZm2j1m7TyHPLOFR9_dxhIiIfdGIOFjkB36xvHuxkmUwSKv0u9VIkrcsa3Oi5x_RLJ1YvQm0Y6bkq_9jQJAEnRZHL3buLxojn2K0MKT7-HEVkuy8Hrld7ldwQlC6dpy7-ThSzw41Cy7Amq4xp6cWmzR9OLzJBlDYl-iWIbtzRrji3e5zpk/file?dl=1# [following]\n",
            "--2023-06-26 17:11:03--  https://uc790a61fdf9b4cc5514607a377f.dl.dropboxusercontent.com/cd/0/get/B-sYkab7NJrwIiiQQMZm2j1m7TyHPLOFR9_dxhIiIfdGIOFjkB36xvHuxkmUwSKv0u9VIkrcsa3Oi5x_RLJ1YvQm0Y6bkq_9jQJAEnRZHL3buLxojn2K0MKT7-HEVkuy8Hrld7ldwQlC6dpy7-ThSzw41Cy7Amq4xp6cWmzR9OLzJBlDYl-iWIbtzRrji3e5zpk/file?dl=1\n",
            "Resolving uc790a61fdf9b4cc5514607a377f.dl.dropboxusercontent.com (uc790a61fdf9b4cc5514607a377f.dl.dropboxusercontent.com)... 162.125.4.15, 2620:100:6021:15::a27d:410f\n",
            "Connecting to uc790a61fdf9b4cc5514607a377f.dl.dropboxusercontent.com (uc790a61fdf9b4cc5514607a377f.dl.dropboxusercontent.com)|162.125.4.15|:443... connected.\n",
            "HTTP request sent, awaiting response... 200 OK\n",
            "Length: 5891 (5.8K) [application/binary]\n",
            "Saving to: ‘meta.csv’\n",
            "\n",
            "meta.csv            100%[===================>]   5.75K  --.-KB/s    in 0s      \n",
            "\n",
            "2023-06-26 17:11:03 (683 MB/s) - ‘meta.csv’ saved [5891/5891]\n",
            "\n"
          ]
        }
      ],
      "source": [
        "!wget -O images.zip https://www.dropbox.com/s/wrias0bjyte3rr2/images.zip?dl=1\n",
        "!wget -O meta.csv https://www.dropbox.com/s/vqt1v8sfmz18rcf/faces-metadata.csv?dl=1"
      ]
    },
    {
      "cell_type": "code",
      "source": [
        "# you can use the following packages\n",
        "from PIL import Image\n",
        "import numpy as np\n",
        "import pandas as pd\n",
        "from sklearn.svm import SVC\n",
        "from sklearn.metrics import accuracy_score, f1_score\n",
        "from sklearn.model_selection import GridSearchCV\n",
        "from sklearn.preprocessing import LabelEncoder\n",
        "from sklearn.model_selection import train_test_split\n",
        "import tensorflow as tf\n",
        "from tensorflow import keras\n",
        "from tensorflow.keras import layers\n",
        "from sklearn.cluster import KMeans\n",
        "from sklearn.decomposition import TruncatedSVD\n",
        "from typing import List\n",
        "from sklearn.manifold import TSNE\n",
        "import plotly.express as px\n",
        "from sklearn.metrics import silhouette_samples, silhouette_score\n",
        "import matplotlib.pyplot as plt\n",
        "import zipfile"
      ],
      "metadata": {
        "id": "6_7895lFnun2"
      },
      "execution_count": 2,
      "outputs": []
    },
    {
      "cell_type": "markdown",
      "source": [
        "# Sec 1: Data Preparation"
      ],
      "metadata": {
        "id": "rOuCpoXVxYAc"
      }
    },
    {
      "cell_type": "markdown",
      "source": [
        "Load all images as a numpy array (called `x`) and the metadata as a dataframe **(P1-1: 25 points)**"
      ],
      "metadata": {
        "id": "D67J4M0lnD62"
      }
    },
    {
      "cell_type": "code",
      "source": [
        "with zipfile.ZipFile('images.zip', 'r') as zip_ref:\n",
        "    zip_ref.extractall('images')\n",
        "PATH = \"images/content/img-data/\"\n",
        "\n",
        "metadata = pd.read_csv('meta.csv')\n",
        "\n",
        "image_paths = metadata['path'].tolist()\n",
        "x = np.array([np.array(Image.open(PATH+path)) for path in image_paths])"
      ],
      "metadata": {
        "id": "J1a0H7bPQRZA"
      },
      "execution_count": 32,
      "outputs": []
    },
    {
      "cell_type": "markdown",
      "source": [
        "Flatten and normalize the images **(P1-2: 10 points)**\n",
        "\n",
        "Note: For this part, normalization only means dividing by 255."
      ],
      "metadata": {
        "id": "Bllz0xnSn6Gv"
      }
    },
    {
      "cell_type": "code",
      "source": [
        "x_flat = x.reshape(x.shape[0], -1)\n",
        "\n",
        "x_normalized = x_flat / 255.0"
      ],
      "metadata": {
        "id": "mcAT92tIvMk_"
      },
      "execution_count": 33,
      "outputs": []
    },
    {
      "cell_type": "markdown",
      "source": [
        "Encode the labels using `LabelEncoder` and save the result as a numpy array called `y` **(P1-3: 5 points)**"
      ],
      "metadata": {
        "id": "ZyXQqbNLuAJg"
      }
    },
    {
      "cell_type": "code",
      "source": [
        "label_encoder = LabelEncoder()\n",
        "y = label_encoder.fit_transform(metadata['label'])"
      ],
      "metadata": {
        "id": "rz1_cg3ipHLE"
      },
      "execution_count": 34,
      "outputs": []
    },
    {
      "cell_type": "markdown",
      "source": [
        "Split the data into training (80%), validation (10%), and testing (10%) parts. **(P1-4: 10 points)**\n",
        "\n",
        "Note: The split procedure should maintain the class balance. This is sometimes called \"[stratified sampling](https://en.wikipedia.org/wiki/Stratified_sampling)\"."
      ],
      "metadata": {
        "id": "o4yGbT6HuDks"
      }
    },
    {
      "cell_type": "code",
      "source": [
        "x_train, x_test, y_train, y_test = train_test_split(x_normalized, y, test_size=0.2, stratify=y, random_state=42)\n",
        "\n",
        "x_test, x_val, y_test, y_val = train_test_split(x_test, y_test, test_size=0.5, stratify=y_test, random_state=42)"
      ],
      "metadata": {
        "id": "MtOoeS0ewOye"
      },
      "execution_count": 35,
      "outputs": []
    },
    {
      "cell_type": "markdown",
      "source": [
        "# Sec 2: SVM"
      ],
      "metadata": {
        "id": "G8YV5obFxgmr"
      }
    },
    {
      "cell_type": "markdown",
      "source": [
        "## Subsec 2.1."
      ],
      "metadata": {
        "id": "ZhlriGrP1T9q"
      }
    },
    {
      "cell_type": "markdown",
      "source": [
        "Train a SVM using `sklearn`. Note that the hyperparameter tuning should be done using the \"validation\" set. **(P2-1-1: 20 points)**"
      ],
      "metadata": {
        "id": "5n0SLDtE0vih"
      }
    },
    {
      "cell_type": "code",
      "source": [
        "svm = SVC()\n",
        "param_grid = {\n",
        "    'C': [0.1, 1, 10],\n",
        "    'kernel': ['linear', 'rbf'],\n",
        "    'gamma': [0.1, 1, 'scale']\n",
        "}\n",
        "\n",
        "grid_search = GridSearchCV(svm, param_grid, cv=5)\n",
        "grid_search.fit(x_train, y_train)\n",
        "\n",
        "best_params, best_score = 0, 0\n",
        "for i in range(len(grid_search.cv_results_['params'])):\n",
        "    params = grid_search.cv_results_['params'][i]\n",
        "\n",
        "    svm = SVC(**params)\n",
        "    svm.fit(x_train, y_train)\n",
        "\n",
        "    y_pred = svm.predict(x_val)\n",
        "\n",
        "    f1 = f1_score(y_val, y_pred, average='weighted')\n",
        "    if f1 > best_score:\n",
        "        best_score = f1\n",
        "        best_params = params\n",
        "\n",
        "print(best_params)\n",
        "svm = SVC(**best_params)\n",
        "svm.fit(x_train, y_train)\n",
        "\n",
        "accuracy = svm.score(x_val, y_val)\n",
        "print(accuracy)"
      ],
      "metadata": {
        "id": "LBA5UHB9_4Sr",
        "colab": {
          "base_uri": "https://localhost:8080/"
        },
        "outputId": "aefbcefb-0cbe-422a-8510-baaca96f6b37"
      },
      "execution_count": null,
      "outputs": [
        {
          "output_type": "stream",
          "name": "stdout",
          "text": [
            "{'C': 0.1, 'gamma': 0.1, 'kernel': 'linear'}\n",
            "0.975\n"
          ]
        }
      ]
    },
    {
      "cell_type": "markdown",
      "source": [
        "Report the accuracy and F1-score of the classifier on the testing set **(P2-1-2: 10 points)**"
      ],
      "metadata": {
        "id": "mP97Fgtq03I9"
      }
    },
    {
      "cell_type": "code",
      "source": [
        "y_pred = grid_search.predict(x_test)\n",
        "\n",
        "accuracy = accuracy_score(y_test, y_pred)\n",
        "f1 = f1_score(y_test, y_pred, average='weighted')\n",
        "\n",
        "print(\"Accuracy:\", accuracy)\n",
        "print(\"F1-score:\", f1)"
      ],
      "metadata": {
        "id": "9hAz00vB1S8O",
        "colab": {
          "base_uri": "https://localhost:8080/"
        },
        "outputId": "8ae48d38-79c3-4014-c707-bef3dcedf138"
      },
      "execution_count": null,
      "outputs": [
        {
          "output_type": "stream",
          "name": "stdout",
          "text": [
            "Accuracy: 0.975\n",
            "F1-score: 0.975\n"
          ]
        }
      ]
    },
    {
      "cell_type": "markdown",
      "source": [
        "## Subsec 2.2."
      ],
      "metadata": {
        "id": "JsaU0aq71ctB"
      }
    },
    {
      "cell_type": "markdown",
      "source": [
        "Train a SVM from scratch using the following class **(P2-2-1: 40 points)**\n",
        "\n",
        "Note: For this part, you are not required to use the validation set for hyperparameter tuning. However, you might get better results if you do that."
      ],
      "metadata": {
        "id": "N-xU9teJ1gwq"
      }
    },
    {
      "cell_type": "code",
      "source": [
        "from cvxopt import matrix, solvers\n",
        "\n",
        "class SVM:\n",
        "    def __init__(self):\n",
        "        self.support_vectors = None\n",
        "        self.weights = None\n",
        "        self.bias = None\n",
        "        self.num_classes = None\n",
        "\n",
        "    def fit(self, X, y):\n",
        "        \"\"\"Fit the SVM model to dataset X in one-vs-one manner.\n",
        "\n",
        "        Parameters\n",
        "        ----------\n",
        "        X : array-like of shape (n_samples, n_features)\n",
        "            Training data, where `n_samples` is the number of samples\n",
        "            and `n_features` is the number of features.\n",
        "\n",
        "        y : array-like of shape (n_samples,)\n",
        "            Training labels, where `n_samples` is the number of samples.\n",
        "\n",
        "        Returns\n",
        "        -------\n",
        "        self : object\n",
        "            Returns the instance itself.\n",
        "        \"\"\"\n",
        "\n",
        "        num_samples, num_features = X.shape\n",
        "        self.num_classes = len(np.unique(y))\n",
        "        self.support_vectors = []\n",
        "        self.weights = []\n",
        "        self.bias = []\n",
        "\n",
        "        for class_a in range(self.num_classes):\n",
        "            for class_b in range(class_a + 1, self.num_classes):\n",
        "                mask = np.logical_or(y == class_a, y == class_b)\n",
        "                X_ab = X[mask]\n",
        "                y_ab = y[mask]\n",
        "                y_ab = np.where(y_ab == class_a, -1, 1)  # Label class_a as -1 and class_b as 1\n",
        "\n",
        "                alpha = self._solve_qp(X_ab, y_ab)\n",
        "\n",
        "                support_vector_indices = alpha > 0\n",
        "                self.support_vectors.append(X_ab[support_vector_indices])\n",
        "                self.weights.append(np.sum(alpha[:, np.newaxis] * (y_ab[:, np.newaxis] * X_ab), axis=0))\n",
        "\n",
        "                bias = np.mean(y_ab[support_vector_indices] - np.dot(X_ab[support_vector_indices], self.weights[-1]))\n",
        "                self.bias.append(bias)\n",
        "\n",
        "        return self\n",
        "\n",
        "    def transform(self, X):\n",
        "        \"\"\"Fit the model with X and apply the dimensionality reduction on X. SVM is one-vs-one manner and there is\n",
        "        self.support_vectors = None\n",
        "        self.weights = None\n",
        "        self.bias = None\n",
        "        from training phase\n",
        "\n",
        "        Parameters\n",
        "        ----------\n",
        "        X : array-like of shape (n_samples, n_features)\n",
        "            Training data, where `n_samples` is the number of samples\n",
        "            and `n_features` is the number of features.\n",
        "\n",
        "        Returns\n",
        "        -------\n",
        "        y_pred : ndarray of shape (n_samples)\n",
        "            Your predictions for the class of each sample\n",
        "        \"\"\"\n",
        "\n",
        "        num_samples = X.shape[0]\n",
        "        num_classes = self.num_classes\n",
        "\n",
        "        y_pred = []\n",
        "        for x in X:\n",
        "            a = 0\n",
        "            x_score = [0] * num_classes\n",
        "            for class_a in range(self.num_classes):\n",
        "                for class_b in range(class_a + 1, self.num_classes):\n",
        "                    score = np.dot(x, self.weights[a]) + self.bias[a]\n",
        "                    if score > 0:\n",
        "                        x_score[class_b] += 1\n",
        "                    else:\n",
        "                        x_score[class_a] += 1\n",
        "                    a += 1\n",
        "            y_pred.append(np.argmax(x_score))\n",
        "\n",
        "        return y_pred\n",
        "\n",
        "    def _solve_qp(self, X, y):\n",
        "        num_samples, num_features = X.shape\n",
        "\n",
        "        P = matrix(np.dot(X, X.T) * np.outer(y, y))\n",
        "        q = matrix(-np.ones(num_samples))\n",
        "        G = matrix(-np.eye(num_samples))\n",
        "        h = matrix(np.zeros(num_samples))\n",
        "        A = matrix(y.reshape(1, -1), tc='d')\n",
        "        b = matrix(0.0)\n",
        "\n",
        "        solvers.options['show_progress'] = False\n",
        "        solution = solvers.qp(P, q, G, h, A, b)\n",
        "        alpha = np.array(solution['x']).flatten()\n",
        "        return alpha\n",
        "\n",
        "svm_model = SVM()\n",
        "\n",
        "svm_model.fit(x_train, y_train)"
      ],
      "metadata": {
        "id": "rxOy4Ino1fHF",
        "colab": {
          "base_uri": "https://localhost:8080/"
        },
        "outputId": "671831ce-0443-4ea0-a9e9-ac102ed96119"
      },
      "execution_count": 108,
      "outputs": [
        {
          "output_type": "execute_result",
          "data": {
            "text/plain": [
              "<__main__.SVM at 0x7f6b14388d90>"
            ]
          },
          "metadata": {},
          "execution_count": 108
        }
      ]
    },
    {
      "cell_type": "markdown",
      "source": [
        "Report the accuracy and F1-score of the classifier on the testing set **(P2-2-2: 10 points)**"
      ],
      "metadata": {
        "id": "j193U_4l2d6_"
      }
    },
    {
      "cell_type": "code",
      "source": [
        "from sklearn.metrics import accuracy_score, f1_score\n",
        "\n",
        "y_pred = svm_model.transform(x_test)\n",
        "print(y_pred)\n",
        "print(y_test)\n",
        "accuracy = accuracy_score(y_pred, y_test)\n",
        "f1_micro = f1_score(y_pred, y_test, average='micro')\n",
        "f1_macro = f1_score(y_pred, y_test, average='macro')\n",
        "print(\"\\nAccuracy on test set: {:.2f}\".format(accuracy))\n",
        "print(\"F1_micro on test set: {:.2f}\".format(f1_micro))\n",
        "print(\"F1_macro on test set: {:.2f}\".format(f1_macro))"
      ],
      "metadata": {
        "id": "gC9xLewr2euh",
        "colab": {
          "base_uri": "https://localhost:8080/"
        },
        "outputId": "7d242d68-b7cd-4402-f021-44fcf27d5884"
      },
      "execution_count": 150,
      "outputs": [
        {
          "output_type": "stream",
          "name": "stdout",
          "text": [
            "[29, 22, 12, 16, 4, 10, 9, 26, 5, 12, 37, 18, 23, 30, 0, 28, 35, 21, 7, 11, 34, 36, 19, 1, 33, 32, 25, 31, 13, 38, 24, 3, 17, 8, 20, 6, 2, 14, 15, 27]\n",
            "[29 22 30 16  4 10  9 26  5 12 37 18 23 30  0 28 35 21  7 11 34 36 19  1\n",
            " 33 32 25 31 13 38 24  3 17  8 20  6  2 14 15 27]\n",
            "\n",
            "Accuracy on test set: 0.97\n",
            "F1_micro on test set: 0.97\n",
            "F1_macro on test set: 0.98\n"
          ]
        }
      ]
    },
    {
      "cell_type": "markdown",
      "source": [
        "# Sec 3: PCA"
      ],
      "metadata": {
        "id": "rRmd_iUI1mn-"
      }
    },
    {
      "cell_type": "markdown",
      "source": [
        "Fetch all images taken from `jones`, `taylor`, `anderson` and `wilson` (use the `labelencoder` object). Perform PCA from scratch using the following `class` to reduce the dimension of those images to 3. Save the results as a `numpy` array of shape `(40, 3)`. **(P3-1: 30 points)**"
      ],
      "metadata": {
        "id": "rjYFWT1-2jNg"
      }
    },
    {
      "cell_type": "code",
      "source": [
        "print(x_flat.shape)"
      ],
      "metadata": {
        "colab": {
          "base_uri": "https://localhost:8080/"
        },
        "id": "ULX2SYCXRB49",
        "outputId": "1fd5c89e-8344-41c5-9211-c7a4f2b570b9"
      },
      "execution_count": 111,
      "outputs": [
        {
          "output_type": "stream",
          "name": "stdout",
          "text": [
            "(400, 4096)\n"
          ]
        }
      ]
    },
    {
      "cell_type": "code",
      "source": [
        "target_names = ['jones', 'taylor', 'anderson', 'wilson']\n",
        "target_indices = np.where(np.isin(y, label_encoder.transform(target_names)))\n",
        "x_target = x_flat[target_indices]\n",
        "y_target = y[target_indices]"
      ],
      "metadata": {
        "id": "QDjqK4H69mSc"
      },
      "execution_count": 122,
      "outputs": []
    },
    {
      "cell_type": "code",
      "source": [
        "print(x_target.shape)"
      ],
      "metadata": {
        "colab": {
          "base_uri": "https://localhost:8080/"
        },
        "id": "dFyjMoo-RUoI",
        "outputId": "ada84b4c-9735-42df-ff0b-5dd0dc19c90b"
      },
      "execution_count": 124,
      "outputs": [
        {
          "output_type": "stream",
          "name": "stdout",
          "text": [
            "(40, 4096)\n"
          ]
        }
      ]
    },
    {
      "cell_type": "code",
      "source": [
        "print(y_target.shape)"
      ],
      "metadata": {
        "colab": {
          "base_uri": "https://localhost:8080/"
        },
        "id": "DsOf5NENVI48",
        "outputId": "7dad8412-b7f0-4ff8-b72f-7d7026495fc8"
      },
      "execution_count": 133,
      "outputs": [
        {
          "output_type": "stream",
          "name": "stdout",
          "text": [
            "(40,)\n"
          ]
        }
      ]
    },
    {
      "cell_type": "code",
      "source": [
        "class PCA:\n",
        "    def __init__(self, n_components):\n",
        "        self.n_components = n_components\n",
        "        self.components_ = None\n",
        "\n",
        "    def fit(self, X):\n",
        "        \"\"\"Fit the model with X.\n",
        "\n",
        "        Parameters\n",
        "        ----------\n",
        "        X : array-like of shape (n_samples, n_features)\n",
        "            Training data, where `n_samples` is the number of samples\n",
        "            and `n_features` is the number of features.\n",
        "\n",
        "        Returns\n",
        "        -------\n",
        "        self : object\n",
        "            Returns the instance itself.\n",
        "        \"\"\"\n",
        "        X_centered = X - np.mean(X, axis=0)\n",
        "\n",
        "        cov_matrix = np.cov(X_centered, rowvar=False)\n",
        "\n",
        "        eigenvalues, eigenvectors = np.linalg.eig(cov_matrix)\n",
        "\n",
        "        sorted_indices = np.argsort(eigenvalues)[::-1]\n",
        "        sorted_eigenvalues = eigenvalues[sorted_indices]\n",
        "        sorted_eigenvectors = eigenvectors[:, sorted_indices]\n",
        "\n",
        "        self.components_ = sorted_eigenvectors[:, :self.n_components]\n",
        "\n",
        "        return self\n",
        "\n",
        "    def transform(self, X):\n",
        "        \"\"\"Fit the model with X and apply the dimensionality reduction on X.\n",
        "\n",
        "        Parameters\n",
        "        ----------\n",
        "        X : array-like of shape (n_samples, n_features)\n",
        "            Training data, where `n_samples` is the number of samples\n",
        "            and `n_features` is the number of features.\n",
        "\n",
        "        Returns\n",
        "        -------\n",
        "        X_new : ndarray of shape (n_samples, n_components)\n",
        "            Transformed values.\n",
        "        \"\"\"\n",
        "        assert self.components_ is not None\n",
        "\n",
        "        X_centered = X - np.mean(X, axis=0)\n",
        "\n",
        "        X_transformed = np.dot(X_centered, self.components_)\n",
        "\n",
        "        return X_transformed"
      ],
      "metadata": {
        "id": "nz8BZ31S2h7d"
      },
      "execution_count": 125,
      "outputs": []
    },
    {
      "cell_type": "code",
      "source": [
        "pca = PCA(3)\n",
        "pca.fit(x_target)\n",
        "x_pca = pca.transform(x_target)"
      ],
      "metadata": {
        "id": "aC32bpqpgtc-"
      },
      "execution_count": 126,
      "outputs": []
    },
    {
      "cell_type": "code",
      "source": [
        "print(x_pca.shape)"
      ],
      "metadata": {
        "colab": {
          "base_uri": "https://localhost:8080/"
        },
        "id": "G6ogH90cUFOs",
        "outputId": "e716c61c-5c3a-4a16-eb0c-b62028e67ca5"
      },
      "execution_count": 128,
      "outputs": [
        {
          "output_type": "stream",
          "name": "stdout",
          "text": [
            "(40, 3)\n"
          ]
        }
      ]
    },
    {
      "cell_type": "markdown",
      "source": [
        "Use `plotly` to plot these 3D samples. You should use their labels as the determiner of their color. **(P3-2: 10 points)**"
      ],
      "metadata": {
        "id": "XpkXp5u83EPx"
      }
    },
    {
      "cell_type": "markdown",
      "source": [
        "<div>\n",
        "By running this cell, pca_plot.html will create. It is attached with this notebook.\n",
        "</div>"
      ],
      "metadata": {
        "id": "fQ2Bc7LTbwsI"
      }
    },
    {
      "cell_type": "code",
      "source": [
        "import plotly.express as px\n",
        "from sklearn.preprocessing import LabelEncoder\n",
        "\n",
        "x_pca_real = np.real(x_pca)\n",
        "\n",
        "df = pd.DataFrame({\n",
        "    'PC1': x_pca_real[:, 0],\n",
        "    'PC2': x_pca_real[:, 1],\n",
        "    'PC3': x_pca_real[:, 2],\n",
        "    'Label': label_encoder.inverse_transform(y_target)\n",
        "})\n",
        "\n",
        "df['Color'] = label_encoder.transform(df['Label'])\n",
        "\n",
        "colors = ['blue', 'red', 'green', 'yellow']\n",
        "colormap = {label: color for label, color in zip(df['Label'].unique(), colors)}\n",
        "\n",
        "fig = px.scatter_3d(df, x='PC1', y='PC2', z='PC3', color='Color', color_discrete_map=colormap)\n",
        "\n",
        "fig.update_layout(scene=dict(xaxis_title='Principal Component 1', yaxis_title='Principal Component 2', zaxis_title='Principal Component 3'))\n",
        "\n",
        "fig.write_html('pca_plot.html')"
      ],
      "metadata": {
        "id": "upHyFtFL2CBE"
      },
      "execution_count": 148,
      "outputs": []
    },
    {
      "cell_type": "markdown",
      "source": [
        "# Sec 4: K-Means"
      ],
      "metadata": {
        "id": "05G8GNkq3ySI"
      }
    },
    {
      "cell_type": "markdown",
      "source": [
        "Using K-means, we want to perform clustering on the 3D samples. Consider 4 clusters. After running the K-means algorithm on the data, determine to which cluster each sample belongs. Then, use `plotly` to plot the 3D samples colored with respect to their clusters. **(P4-1: 15 points)**"
      ],
      "metadata": {
        "id": "99sy2kUTNKAB"
      }
    },
    {
      "cell_type": "code",
      "source": [
        "def convert_to_2d_tsne(vecs : List):\n",
        "\n",
        "    vecs = np.array(vecs)\n",
        "    tsne = TSNE(n_components=2)\n",
        "\n",
        "    vecs_2d = tsne.fit_transform(vecs)\n",
        "\n",
        "    return vecs_2d\n",
        "\n",
        "images_2d = np.array(convert_to_2d_tsne(x_normalized))"
      ],
      "metadata": {
        "id": "IAFczpg12D5C"
      },
      "execution_count": null,
      "outputs": []
    },
    {
      "cell_type": "code",
      "source": [
        "def plot_docs(vecs_2d: List, labels : List):\n",
        "\n",
        "    unique_labels = np.unique(labels)\n",
        "\n",
        "    colors = plt.cm.tab20(np.linspace(0, 1, len(unique_labels)))\n",
        "\n",
        "    fig, ax = plt.subplots()\n",
        "\n",
        "    for i, label in enumerate(unique_labels):\n",
        "        vecs_2d_cluster = vecs_2d[labels == label]\n",
        "        ax.scatter(vecs_2d_cluster[:, 0], vecs_2d_cluster[:, 1], c=colors[i], label=label)\n",
        "\n",
        "    ax.legend()\n",
        "    plt.show()"
      ],
      "metadata": {
        "id": "LCKPkFHT3cfP"
      },
      "execution_count": null,
      "outputs": []
    },
    {
      "cell_type": "code",
      "source": [
        "class KMeans:\n",
        "    \"\"\"\n",
        "    Fits it on data, then uses predict to get cluster labels.\n",
        "    \"\"\"\n",
        "\n",
        "    def __init__(self):\n",
        "        self.centroids = None\n",
        "        self.labels = None\n",
        "        self.true_labels = None\n",
        "\n",
        "    def fit(self, x, y, n_clusters):\n",
        "        \"\"\"Fits the training data\n",
        "        Parameters\n",
        "        ----------\n",
        "        x : array-like, shape = [n_samples, n_features]\n",
        "            Training samples\n",
        "        y : array-like, shape = [n_samples, n_target_values]\n",
        "            Target values\n",
        "        Returns\n",
        "        -------\n",
        "        self : object\n",
        "        \"\"\"\n",
        "        self.true_labels = y\n",
        "\n",
        "        x = np.array(x)\n",
        "        self.centroids = x[np.random.choice(x.shape[0], n_clusters, replace=False)]\n",
        "\n",
        "        for i in range(100):\n",
        "            distances = np.sqrt(((x - self.centroids[:, np.newaxis])**2).sum(axis=2))\n",
        "            self.labels = np.argmin(distances, axis=0)\n",
        "\n",
        "            for j in range(n_clusters):\n",
        "                self.centroids[j] = x[self.labels == j].mean(axis=0)\n",
        "\n",
        "        return self\n",
        "\n",
        "    def predict(self, x):\n",
        "        \"\"\" Predicts the cluster label\n",
        "        Parameters\n",
        "        ----------\n",
        "        x : array-like, shape = [n_samples, n_features]\n",
        "            Test samples\n",
        "        Returns\n",
        "        -------\n",
        "        Predicted cluster label\n",
        "        \"\"\"\n",
        "\n",
        "        distances = np.sqrt(((x - self.centroids[:, np.newaxis])**2).sum(axis=2))\n",
        "        labels = np.argmin(distances, axis=0)\n",
        "\n",
        "        return labels"
      ],
      "metadata": {
        "id": "SzNxiAjkOYYQ"
      },
      "execution_count": null,
      "outputs": []
    },
    {
      "cell_type": "code",
      "source": [
        "k_means = KMeans()\n",
        "k_means.fit(x_normalized, y, n_clusters=4)\n",
        "cluster_labels = k_means.labels\n",
        "plot_docs(images_2d, cluster_labels)"
      ],
      "metadata": {
        "id": "spAwNfSITeT8",
        "colab": {
          "base_uri": "https://localhost:8080/",
          "height": 519
        },
        "outputId": "5c3418a0-db1e-4f5b-8d4f-b6f43f1e5de8"
      },
      "execution_count": null,
      "outputs": [
        {
          "output_type": "stream",
          "name": "stderr",
          "text": [
            "<ipython-input-50-234b8003d354>:11: UserWarning:\n",
            "\n",
            "*c* argument looks like a single numeric RGB or RGBA sequence, which should be avoided as value-mapping will have precedence in case its length matches with *x* & *y*.  Please use the *color* keyword-argument or provide a 2D array with a single row if you intend to specify the same RGB or RGBA value for all points.\n",
            "\n"
          ]
        },
        {
          "output_type": "display_data",
          "data": {
            "text/plain": [
              "<Figure size 640x480 with 1 Axes>"
            ],
            "image/png": "[encoded data removed]"
          },
          "metadata": {}
        }
      ]
    },
    {
      "cell_type": "markdown",
      "source": [
        "Measure the quality of the clustering using \"silhoutte score\" **(P4-2: 5 points)**\n",
        "\n",
        "Note: You can use `sklearn` or other packages to calculate the score."
      ],
      "metadata": {
        "id": "8J5FN-HIOOqJ"
      }
    },
    {
      "cell_type": "code",
      "source": [
        "silhouette_score = silhouette_score(images_2d, cluster_labels)\n",
        "print(silhouette_score)"
      ],
      "metadata": {
        "id": "1zdNLJ_9OYxO",
        "colab": {
          "base_uri": "https://localhost:8080/"
        },
        "outputId": "b0de66ed-5cc0-469f-d61c-d4d926997b64"
      },
      "execution_count": null,
      "outputs": [
        {
          "output_type": "stream",
          "name": "stdout",
          "text": [
            "0.073922046\n"
          ]
        }
      ]
    },
    {
      "cell_type": "markdown",
      "source": [
        "Compare the result of the clustering with the original labels. To be more precise, in this part, you should clearly answer the following questions with details:<br>\n",
        "\n",
        "- Does each cluster represent a true label?\n",
        "- What is your conclusion?\n",
        "\n",
        "**(P4-3: 10 points)**"
      ],
      "metadata": {
        "id": "znohK44UQ5s7"
      }
    },
    {
      "cell_type": "code",
      "source": [
        "predicted_labels = k_means.labels\n",
        "true_labels = k_means.true_labels\n",
        "\n",
        "cluster_majority_labels = {}\n",
        "\n",
        "for cluster in np.unique(predicted_labels):\n",
        "    cluster_samples = true_labels[predicted_labels == cluster]\n",
        "    majority_label = np.argmax(np.bincount(cluster_samples))\n",
        "    cluster_majority_labels[cluster] = majority_label\n",
        "\n",
        "for cluster, majority_label in cluster_majority_labels.items():\n",
        "    print(f\"Cluster {cluster}: Majority Label - {majority_label}/{len(unique_labels)}\")\n",
        "    cluster_samples = true_labels[predicted_labels == cluster]\n",
        "    unique_labels, label_counts = np.unique(cluster_samples, return_counts=True)\n",
        "    print(f\"   True Labels: {unique_labels}\")\n",
        "    print(f\"   Label Counts: {label_counts}\\n\")"
      ],
      "metadata": {
        "id": "DDfOcVckRboQ",
        "colab": {
          "base_uri": "https://localhost:8080/"
        },
        "outputId": "4b007d54-4de4-442e-8c33-1abf2fc627a4"
      },
      "execution_count": null,
      "outputs": [
        {
          "output_type": "stream",
          "name": "stdout",
          "text": [
            "Cluster 0: Majority Label - 11/25\n",
            "   True Labels: [ 1  3  5  6  9 11 17 20 22 24 26 34 36 37 38]\n",
            "   Label Counts: [ 3  9  8  6  2 10  5  2  1  1  1  2  1  2  5]\n",
            "\n",
            "Cluster 1: Majority Label - 4/15\n",
            "   True Labels: [ 0  1  2  3  4  5  6  7  8  9 10 12 15 17 18 19 22 23 24 26 28 29 30 32\n",
            " 33 34 35 36 37 38]\n",
            "   Label Counts: [ 1  6  5  1 10  1  3  7 10  6 10  3  9  2  4 10  9  9  5  9  3  8  6  4\n",
            " 10  3  2  4  5  4]\n",
            "\n",
            "Cluster 2: Majority Label - 13/30\n",
            "   True Labels: [12 13 14 16 18 21 25 27 28 30 31 35]\n",
            "   Label Counts: [ 4 10 10  6  1  7 10 10  3  5 10  2]\n",
            "\n",
            "Cluster 3: Majority Label - 0/12\n",
            "   True Labels: [ 0  1  2  5  6  7  9 12 15 16 17 18 20 21 23 24 28 29 30 32 34 35 36 37\n",
            " 38]\n",
            "   Label Counts: [9 1 5 1 1 3 2 3 1 4 3 5 8 3 1 4 4 2 9 6 5 6 5 3 1]\n",
            "\n"
          ]
        }
      ]
    },
    {
      "cell_type": "markdown",
      "source": [
        "<div>\n",
        "Does each cluster represent a true label?\n",
        "\n",
        "Ideally, in a perfect clustering scenario, each cluster would represent a distinct true label. However, in reality, it is not guaranteed that each cluster will align perfectly with the true labels. The quality of the clustering depends on the inherent structure of the data and the effectiveness of the algorithm.\n",
        "\n",
        "What is your conclusion?\n",
        "\n",
        "The accuracy score obtained from comparing the clustering results with the original labels provides a measure of how well the clusters align with the true labels. A higher accuracy score indicates a better alignment. If the accuracy score is close to 1, it suggests that the clusters represent the true labels well. On the other hand, if the accuracy score is low, it indicates that the clustering did not capture the true label structure effectively.\n",
        "</div>"
      ],
      "metadata": {
        "id": "TXTtljTGctzV"
      }
    },
    {
      "cell_type": "markdown",
      "source": [
        "# Sec 5: Neural Net (Optional with Bonus Points)"
      ],
      "metadata": {
        "id": "l2rNsjun2MYm"
      }
    },
    {
      "cell_type": "markdown",
      "source": [
        "Reshape the images so that they become of shape `64x64` **(P5-1: 5 points)**"
      ],
      "metadata": {
        "id": "kHrNE4gp2-AW"
      }
    },
    {
      "cell_type": "code",
      "source": [
        "x_train = x_train.reshape(-1, 64, 64)\n",
        "x_val = x_val.reshape(-1, 64, 64)\n",
        "x_test = x_test.reshape(-1, 64, 64)"
      ],
      "metadata": {
        "id": "OaCDrh9g3Sbd"
      },
      "execution_count": 17,
      "outputs": []
    },
    {
      "cell_type": "code",
      "source": [
        "x_train[0].shape"
      ],
      "metadata": {
        "colab": {
          "base_uri": "https://localhost:8080/"
        },
        "id": "GQfCpbhIuFEd",
        "outputId": "eb5f803d-e13c-4f7a-8024-96216594c613"
      },
      "execution_count": 18,
      "outputs": [
        {
          "output_type": "execute_result",
          "data": {
            "text/plain": [
              "(64, 64)"
            ]
          },
          "metadata": {},
          "execution_count": 18
        }
      ]
    },
    {
      "cell_type": "markdown",
      "source": [
        "Use different types of augmentation techniques (such as Random Flipping, Random Rotation, etc.) to increase the size of the training dataset. **(P5-2: 10 points)**"
      ],
      "metadata": {
        "id": "PC0kN0MPOcak"
      }
    },
    {
      "cell_type": "code",
      "source": [
        "from keras.preprocessing.image import ImageDataGenerator\n",
        "\n",
        "x_train = x_train.reshape(-1, 64, 64, 1)\n",
        "\n",
        "datagen = ImageDataGenerator(\n",
        "    rotation_range=20,\n",
        "    horizontal_flip=True,\n",
        "    vertical_flip=True,\n",
        "    width_shift_range=0.1,\n",
        "    height_shift_range=0.1,\n",
        "    zoom_range=0.1\n",
        ")\n",
        "\n",
        "datagen.fit(x_train)\n",
        "\n",
        "augmented_data = datagen.flow(x_train, y_train, batch_size=32)"
      ],
      "metadata": {
        "id": "QbUC-Y5mP4Xd"
      },
      "execution_count": 20,
      "outputs": []
    },
    {
      "cell_type": "code",
      "source": [
        "total_num_augmented_images = len(augmented_data) * augmented_data.batch_size\n",
        "print(\"Total number of augmented images:\", total_num_augmented_images)\n"
      ],
      "metadata": {
        "colab": {
          "base_uri": "https://localhost:8080/"
        },
        "id": "-q6lWLQyveAF",
        "outputId": "3d617283-836b-4a31-d8f2-dcb7c58dd3bb"
      },
      "execution_count": 27,
      "outputs": [
        {
          "output_type": "stream",
          "name": "stdout",
          "text": [
            "Total number of augmented images: 320\n"
          ]
        }
      ]
    },
    {
      "cell_type": "code",
      "source": [
        "type(augmented_data)"
      ],
      "metadata": {
        "colab": {
          "base_uri": "https://localhost:8080/"
        },
        "id": "NXEfuGp9vUZz",
        "outputId": "852682eb-4379-4207-cb84-68529321ad4b"
      },
      "execution_count": 22,
      "outputs": [
        {
          "output_type": "execute_result",
          "data": {
            "text/plain": [
              "keras.preprocessing.image.NumpyArrayIterator"
            ]
          },
          "metadata": {},
          "execution_count": 22
        }
      ]
    },
    {
      "cell_type": "markdown",
      "source": [
        "Using the augmented training set, train a neural network consisting of 2D convolutional layers. The exact architecture of the network is arbitrary. However, the last layer should have the \"softmax\" function as its activation. Also, using \"max pooling\" layers after convolutional ones is advised.\n",
        "\n",
        "Note: Don't get frustrated if your network does not appear to be a good one. Give it some time to be trained. For instance, you might need to train it for 100 epochs. Make sure to try that out before quitting!\n",
        "\n",
        "**(P5-3: 20 points)**"
      ],
      "metadata": {
        "id": "uXVXHAIgOp_F"
      }
    },
    {
      "cell_type": "code",
      "source": [
        "from keras.models import Sequential\n",
        "from keras.layers import Conv2D, MaxPooling2D, Flatten, Dense\n",
        "\n",
        "model = Sequential()\n",
        "model.add(Conv2D(32, (3, 3), activation='relu', input_shape=(64, 64, 1)))\n",
        "model.add(MaxPooling2D((2, 2)))\n",
        "model.add(Conv2D(64, (3, 3), activation='relu'))\n",
        "model.add(MaxPooling2D((2, 2)))\n",
        "model.add(Flatten())\n",
        "model.add(Dense(128, activation='relu'))\n",
        "model.add(Dense(40, activation='softmax'))\n",
        "\n",
        "model.compile(optimizer='adam', loss='sparse_categorical_crossentropy', metrics=['accuracy'])\n",
        "\n",
        "history = model.fit(augmented_data, epochs=150, validation_data=(x_val, y_val))\n",
        "\n",
        "test_loss, test_acc = model.evaluate(x_test, y_test)\n",
        "print(\"Test Loss:\", test_loss)\n",
        "print(\"Test Accuracy:\", test_acc)"
      ],
      "metadata": {
        "id": "WgODL6JyPdY4",
        "colab": {
          "base_uri": "https://localhost:8080/"
        },
        "outputId": "e2e63d48-0e3b-423b-bc0e-35ebe794c4cb"
      },
      "execution_count": 30,
      "outputs": [
        {
          "output_type": "stream",
          "name": "stdout",
          "text": [
            "Epoch 1/150\n",
            "10/10 [==============================] - 3s 217ms/step - loss: 3.7305 - accuracy: 0.0125 - val_loss: 3.6874 - val_accuracy: 0.0250\n",
            "Epoch 2/150\n",
            "10/10 [==============================] - 2s 192ms/step - loss: 3.6879 - accuracy: 0.0156 - val_loss: 3.6851 - val_accuracy: 0.0250\n",
            "Epoch 3/150\n",
            "10/10 [==============================] - 3s 303ms/step - loss: 3.6862 - accuracy: 0.0437 - val_loss: 3.6787 - val_accuracy: 0.0500\n",
            "Epoch 4/150\n",
            "10/10 [==============================] - 2s 186ms/step - loss: 3.6815 - accuracy: 0.0500 - val_loss: 3.6714 - val_accuracy: 0.0500\n",
            "Epoch 5/150\n",
            "10/10 [==============================] - 2s 179ms/step - loss: 3.6783 - accuracy: 0.0500 - val_loss: 3.6617 - val_accuracy: 0.0500\n",
            "Epoch 6/150\n",
            "10/10 [==============================] - 2s 189ms/step - loss: 3.6693 - accuracy: 0.0500 - val_loss: 3.6510 - val_accuracy: 0.0500\n",
            "Epoch 7/150\n",
            "10/10 [==============================] - 3s 258ms/step - loss: 3.6536 - accuracy: 0.0500 - val_loss: 3.6364 - val_accuracy: 0.0500\n",
            "Epoch 8/150\n",
            "10/10 [==============================] - 2s 178ms/step - loss: 3.6468 - accuracy: 0.0500 - val_loss: 3.6210 - val_accuracy: 0.0500\n",
            "Epoch 9/150\n",
            "10/10 [==============================] - 2s 184ms/step - loss: 3.6149 - accuracy: 0.0500 - val_loss: 3.5763 - val_accuracy: 0.0500\n",
            "Epoch 10/150\n",
            "10/10 [==============================] - 2s 192ms/step - loss: 3.6153 - accuracy: 0.0594 - val_loss: 3.5693 - val_accuracy: 0.0750\n",
            "Epoch 11/150\n",
            "10/10 [==============================] - 2s 195ms/step - loss: 3.5407 - accuracy: 0.0625 - val_loss: 3.4490 - val_accuracy: 0.0750\n",
            "Epoch 12/150\n",
            "10/10 [==============================] - 3s 274ms/step - loss: 3.4174 - accuracy: 0.1125 - val_loss: 3.2528 - val_accuracy: 0.2000\n",
            "Epoch 13/150\n",
            "10/10 [==============================] - 3s 339ms/step - loss: 3.3703 - accuracy: 0.0781 - val_loss: 3.2803 - val_accuracy: 0.1250\n",
            "Epoch 14/150\n",
            "10/10 [==============================] - 2s 191ms/step - loss: 3.2030 - accuracy: 0.1406 - val_loss: 2.9614 - val_accuracy: 0.1250\n",
            "Epoch 15/150\n",
            "10/10 [==============================] - 2s 188ms/step - loss: 3.0471 - accuracy: 0.1469 - val_loss: 2.7665 - val_accuracy: 0.2750\n",
            "Epoch 16/150\n",
            "10/10 [==============================] - 3s 332ms/step - loss: 2.9014 - accuracy: 0.2188 - val_loss: 2.6904 - val_accuracy: 0.3500\n",
            "Epoch 17/150\n",
            "10/10 [==============================] - 2s 192ms/step - loss: 2.8183 - accuracy: 0.2125 - val_loss: 2.5512 - val_accuracy: 0.3250\n",
            "Epoch 18/150\n",
            "10/10 [==============================] - 2s 180ms/step - loss: 2.7325 - accuracy: 0.2500 - val_loss: 2.4655 - val_accuracy: 0.3750\n",
            "Epoch 19/150\n",
            "10/10 [==============================] - 2s 181ms/step - loss: 2.7332 - accuracy: 0.2188 - val_loss: 2.3875 - val_accuracy: 0.3500\n",
            "Epoch 20/150\n",
            "10/10 [==============================] - 2s 188ms/step - loss: 2.5131 - accuracy: 0.2875 - val_loss: 2.2836 - val_accuracy: 0.3500\n",
            "Epoch 21/150\n",
            "10/10 [==============================] - 2s 231ms/step - loss: 2.5310 - accuracy: 0.2937 - val_loss: 2.2443 - val_accuracy: 0.3750\n",
            "Epoch 22/150\n",
            "10/10 [==============================] - 3s 256ms/step - loss: 2.3726 - accuracy: 0.3500 - val_loss: 2.0683 - val_accuracy: 0.3750\n",
            "Epoch 23/150\n",
            "10/10 [==============================] - 2s 185ms/step - loss: 2.3730 - accuracy: 0.2781 - val_loss: 1.9251 - val_accuracy: 0.5250\n",
            "Epoch 24/150\n",
            "10/10 [==============================] - 2s 180ms/step - loss: 2.2571 - accuracy: 0.3219 - val_loss: 2.3256 - val_accuracy: 0.4000\n",
            "Epoch 25/150\n",
            "10/10 [==============================] - 2s 190ms/step - loss: 2.3010 - accuracy: 0.3156 - val_loss: 1.7931 - val_accuracy: 0.5500\n",
            "Epoch 26/150\n",
            "10/10 [==============================] - 2s 183ms/step - loss: 2.1527 - accuracy: 0.3875 - val_loss: 1.8174 - val_accuracy: 0.5000\n",
            "Epoch 27/150\n",
            "10/10 [==============================] - 3s 259ms/step - loss: 2.0793 - accuracy: 0.4031 - val_loss: 1.6165 - val_accuracy: 0.6250\n",
            "Epoch 28/150\n",
            "10/10 [==============================] - 3s 240ms/step - loss: 2.0567 - accuracy: 0.3625 - val_loss: 1.7036 - val_accuracy: 0.5750\n",
            "Epoch 29/150\n",
            "10/10 [==============================] - 2s 191ms/step - loss: 2.0046 - accuracy: 0.4000 - val_loss: 1.6165 - val_accuracy: 0.5750\n",
            "Epoch 30/150\n",
            "10/10 [==============================] - 2s 175ms/step - loss: 1.9702 - accuracy: 0.4437 - val_loss: 1.6224 - val_accuracy: 0.6000\n",
            "Epoch 31/150\n",
            "10/10 [==============================] - 2s 189ms/step - loss: 1.8784 - accuracy: 0.4187 - val_loss: 1.5158 - val_accuracy: 0.6250\n",
            "Epoch 32/150\n",
            "10/10 [==============================] - 2s 188ms/step - loss: 1.8171 - accuracy: 0.4375 - val_loss: 1.5121 - val_accuracy: 0.6750\n",
            "Epoch 33/150\n",
            "10/10 [==============================] - 3s 291ms/step - loss: 1.9637 - accuracy: 0.4281 - val_loss: 1.5526 - val_accuracy: 0.5500\n",
            "Epoch 34/150\n",
            "10/10 [==============================] - 2s 213ms/step - loss: 1.8423 - accuracy: 0.4406 - val_loss: 1.4193 - val_accuracy: 0.6500\n",
            "Epoch 35/150\n",
            "10/10 [==============================] - 2s 190ms/step - loss: 1.8807 - accuracy: 0.4594 - val_loss: 1.4427 - val_accuracy: 0.6750\n",
            "Epoch 36/150\n",
            "10/10 [==============================] - 2s 178ms/step - loss: 1.7991 - accuracy: 0.4844 - val_loss: 1.3764 - val_accuracy: 0.6250\n",
            "Epoch 37/150\n",
            "10/10 [==============================] - 2s 187ms/step - loss: 1.7341 - accuracy: 0.4750 - val_loss: 1.2932 - val_accuracy: 0.7000\n",
            "Epoch 38/150\n",
            "10/10 [==============================] - 2s 190ms/step - loss: 1.8069 - accuracy: 0.4969 - val_loss: 1.3605 - val_accuracy: 0.5750\n",
            "Epoch 39/150\n",
            "10/10 [==============================] - 3s 328ms/step - loss: 1.7898 - accuracy: 0.4688 - val_loss: 1.2902 - val_accuracy: 0.6500\n",
            "Epoch 40/150\n",
            "10/10 [==============================] - 2s 180ms/step - loss: 1.7221 - accuracy: 0.5000 - val_loss: 1.2003 - val_accuracy: 0.6250\n",
            "Epoch 41/150\n",
            "10/10 [==============================] - 2s 243ms/step - loss: 1.6126 - accuracy: 0.5312 - val_loss: 1.2640 - val_accuracy: 0.6500\n",
            "Epoch 42/150\n",
            "10/10 [==============================] - 2s 192ms/step - loss: 1.6352 - accuracy: 0.5156 - val_loss: 1.2166 - val_accuracy: 0.7750\n",
            "Epoch 43/150\n",
            "10/10 [==============================] - 2s 180ms/step - loss: 1.6845 - accuracy: 0.4844 - val_loss: 1.1385 - val_accuracy: 0.7000\n",
            "Epoch 44/150\n",
            "10/10 [==============================] - 3s 326ms/step - loss: 1.5680 - accuracy: 0.5063 - val_loss: 1.2614 - val_accuracy: 0.7250\n",
            "Epoch 45/150\n",
            "10/10 [==============================] - 2s 194ms/step - loss: 1.5801 - accuracy: 0.5156 - val_loss: 1.2449 - val_accuracy: 0.7000\n",
            "Epoch 46/150\n",
            "10/10 [==============================] - 2s 188ms/step - loss: 1.6528 - accuracy: 0.5094 - val_loss: 1.0753 - val_accuracy: 0.7250\n",
            "Epoch 47/150\n",
            "10/10 [==============================] - 2s 186ms/step - loss: 1.4164 - accuracy: 0.5750 - val_loss: 0.9273 - val_accuracy: 0.7500\n",
            "Epoch 48/150\n",
            "10/10 [==============================] - 2s 194ms/step - loss: 1.4163 - accuracy: 0.5437 - val_loss: 0.9599 - val_accuracy: 0.7750\n",
            "Epoch 49/150\n",
            "10/10 [==============================] - 3s 350ms/step - loss: 1.4545 - accuracy: 0.5719 - val_loss: 0.8692 - val_accuracy: 0.8000\n",
            "Epoch 50/150\n",
            "10/10 [==============================] - 2s 190ms/step - loss: 1.4802 - accuracy: 0.5594 - val_loss: 1.0352 - val_accuracy: 0.7750\n",
            "Epoch 51/150\n",
            "10/10 [==============================] - 2s 189ms/step - loss: 1.4341 - accuracy: 0.5875 - val_loss: 0.8015 - val_accuracy: 0.8500\n",
            "Epoch 52/150\n",
            "10/10 [==============================] - 2s 202ms/step - loss: 1.4212 - accuracy: 0.5719 - val_loss: 0.9733 - val_accuracy: 0.7250\n",
            "Epoch 53/150\n",
            "10/10 [==============================] - 2s 232ms/step - loss: 1.3289 - accuracy: 0.5969 - val_loss: 0.8205 - val_accuracy: 0.7500\n",
            "Epoch 54/150\n",
            "10/10 [==============================] - 3s 249ms/step - loss: 1.3664 - accuracy: 0.5719 - val_loss: 0.9532 - val_accuracy: 0.7750\n",
            "Epoch 55/150\n",
            "10/10 [==============================] - 2s 193ms/step - loss: 1.4581 - accuracy: 0.5531 - val_loss: 0.8178 - val_accuracy: 0.8500\n",
            "Epoch 56/150\n",
            "10/10 [==============================] - 2s 201ms/step - loss: 1.3575 - accuracy: 0.6000 - val_loss: 0.7394 - val_accuracy: 0.8250\n",
            "Epoch 57/150\n",
            "10/10 [==============================] - 2s 199ms/step - loss: 1.3576 - accuracy: 0.6031 - val_loss: 0.8714 - val_accuracy: 0.7500\n",
            "Epoch 58/150\n",
            "10/10 [==============================] - 2s 196ms/step - loss: 1.3790 - accuracy: 0.5906 - val_loss: 0.8244 - val_accuracy: 0.8500\n",
            "Epoch 59/150\n",
            "10/10 [==============================] - 3s 269ms/step - loss: 1.2763 - accuracy: 0.6094 - val_loss: 0.7498 - val_accuracy: 0.7500\n",
            "Epoch 60/150\n",
            "10/10 [==============================] - 3s 241ms/step - loss: 1.3102 - accuracy: 0.6000 - val_loss: 0.8944 - val_accuracy: 0.7500\n",
            "Epoch 61/150\n",
            "10/10 [==============================] - 2s 199ms/step - loss: 1.3051 - accuracy: 0.6094 - val_loss: 0.7710 - val_accuracy: 0.7500\n",
            "Epoch 62/150\n",
            "10/10 [==============================] - 2s 199ms/step - loss: 1.2010 - accuracy: 0.6344 - val_loss: 0.6949 - val_accuracy: 0.8000\n",
            "Epoch 63/150\n",
            "10/10 [==============================] - 2s 202ms/step - loss: 1.0858 - accuracy: 0.6938 - val_loss: 0.6612 - val_accuracy: 0.7750\n",
            "Epoch 64/150\n",
            "10/10 [==============================] - 2s 227ms/step - loss: 1.2417 - accuracy: 0.6281 - val_loss: 0.7240 - val_accuracy: 0.8000\n",
            "Epoch 65/150\n",
            "10/10 [==============================] - 3s 296ms/step - loss: 1.1642 - accuracy: 0.6656 - val_loss: 0.7336 - val_accuracy: 0.8000\n",
            "Epoch 66/150\n",
            "10/10 [==============================] - 2s 200ms/step - loss: 1.2035 - accuracy: 0.6250 - val_loss: 0.7983 - val_accuracy: 0.7500\n",
            "Epoch 67/150\n",
            "10/10 [==============================] - 2s 201ms/step - loss: 1.2370 - accuracy: 0.5750 - val_loss: 0.8492 - val_accuracy: 0.7500\n",
            "Epoch 68/150\n",
            "10/10 [==============================] - 2s 192ms/step - loss: 1.2247 - accuracy: 0.6156 - val_loss: 0.7033 - val_accuracy: 0.8000\n",
            "Epoch 69/150\n",
            "10/10 [==============================] - 3s 331ms/step - loss: 1.0670 - accuracy: 0.6781 - val_loss: 0.7087 - val_accuracy: 0.7750\n",
            "Epoch 70/150\n",
            "10/10 [==============================] - 2s 190ms/step - loss: 1.0920 - accuracy: 0.6719 - val_loss: 0.6525 - val_accuracy: 0.8000\n",
            "Epoch 71/150\n",
            "10/10 [==============================] - 2s 209ms/step - loss: 1.0399 - accuracy: 0.6750 - val_loss: 0.5199 - val_accuracy: 0.9000\n",
            "Epoch 72/150\n",
            "10/10 [==============================] - 2s 197ms/step - loss: 1.0597 - accuracy: 0.7063 - val_loss: 0.6098 - val_accuracy: 0.8250\n",
            "Epoch 73/150\n",
            "10/10 [==============================] - 3s 299ms/step - loss: 1.0997 - accuracy: 0.6625 - val_loss: 0.5559 - val_accuracy: 0.8500\n",
            "Epoch 74/150\n",
            "10/10 [==============================] - 2s 225ms/step - loss: 1.0698 - accuracy: 0.6781 - val_loss: 0.5536 - val_accuracy: 0.8750\n",
            "Epoch 75/150\n",
            "10/10 [==============================] - 2s 185ms/step - loss: 1.0378 - accuracy: 0.6844 - val_loss: 0.7166 - val_accuracy: 0.7750\n",
            "Epoch 76/150\n",
            "10/10 [==============================] - 2s 201ms/step - loss: 1.1710 - accuracy: 0.6500 - val_loss: 0.6756 - val_accuracy: 0.8500\n",
            "Epoch 77/150\n",
            "10/10 [==============================] - 2s 187ms/step - loss: 0.9996 - accuracy: 0.6844 - val_loss: 0.6685 - val_accuracy: 0.7750\n",
            "Epoch 78/150\n",
            "10/10 [==============================] - 2s 200ms/step - loss: 1.0169 - accuracy: 0.6625 - val_loss: 0.6112 - val_accuracy: 0.8500\n",
            "Epoch 79/150\n",
            "10/10 [==============================] - 3s 262ms/step - loss: 0.9810 - accuracy: 0.6969 - val_loss: 0.5866 - val_accuracy: 0.8500\n",
            "Epoch 80/150\n",
            "10/10 [==============================] - 2s 196ms/step - loss: 1.1210 - accuracy: 0.6531 - val_loss: 0.6141 - val_accuracy: 0.8500\n",
            "Epoch 81/150\n",
            "10/10 [==============================] - 2s 194ms/step - loss: 1.0208 - accuracy: 0.7031 - val_loss: 0.5805 - val_accuracy: 0.8250\n",
            "Epoch 82/150\n",
            "10/10 [==============================] - 2s 217ms/step - loss: 1.0302 - accuracy: 0.7031 - val_loss: 0.5412 - val_accuracy: 0.8250\n",
            "Epoch 83/150\n",
            "10/10 [==============================] - 3s 309ms/step - loss: 0.9850 - accuracy: 0.6906 - val_loss: 0.5708 - val_accuracy: 0.8750\n",
            "Epoch 84/150\n",
            "10/10 [==============================] - 2s 201ms/step - loss: 0.8839 - accuracy: 0.7594 - val_loss: 0.4444 - val_accuracy: 0.9000\n",
            "Epoch 85/150\n",
            "10/10 [==============================] - 2s 192ms/step - loss: 0.8777 - accuracy: 0.7125 - val_loss: 0.5469 - val_accuracy: 0.8750\n",
            "Epoch 86/150\n",
            "10/10 [==============================] - 2s 183ms/step - loss: 0.9289 - accuracy: 0.7188 - val_loss: 0.8141 - val_accuracy: 0.6500\n",
            "Epoch 87/150\n",
            "10/10 [==============================] - 3s 273ms/step - loss: 0.8997 - accuracy: 0.7094 - val_loss: 1.0764 - val_accuracy: 0.6500\n",
            "Epoch 88/150\n",
            "10/10 [==============================] - 2s 191ms/step - loss: 0.9395 - accuracy: 0.6969 - val_loss: 0.8124 - val_accuracy: 0.6750\n",
            "Epoch 89/150\n",
            "10/10 [==============================] - 2s 188ms/step - loss: 0.8223 - accuracy: 0.7469 - val_loss: 0.6333 - val_accuracy: 0.8250\n",
            "Epoch 90/150\n",
            "10/10 [==============================] - 2s 198ms/step - loss: 0.9210 - accuracy: 0.7156 - val_loss: 0.5895 - val_accuracy: 0.8250\n",
            "Epoch 91/150\n",
            "10/10 [==============================] - 2s 192ms/step - loss: 0.8261 - accuracy: 0.7250 - val_loss: 0.5125 - val_accuracy: 0.8750\n",
            "Epoch 92/150\n",
            "10/10 [==============================] - 3s 300ms/step - loss: 0.7589 - accuracy: 0.7594 - val_loss: 0.4722 - val_accuracy: 0.8500\n",
            "Epoch 93/150\n",
            "10/10 [==============================] - 2s 189ms/step - loss: 0.7739 - accuracy: 0.7844 - val_loss: 0.5189 - val_accuracy: 0.8750\n",
            "Epoch 94/150\n",
            "10/10 [==============================] - 2s 196ms/step - loss: 0.8171 - accuracy: 0.7688 - val_loss: 0.4563 - val_accuracy: 0.8750\n",
            "Epoch 95/150\n",
            "10/10 [==============================] - 2s 178ms/step - loss: 0.7344 - accuracy: 0.7969 - val_loss: 0.4082 - val_accuracy: 0.8750\n",
            "Epoch 96/150\n",
            "10/10 [==============================] - 2s 183ms/step - loss: 0.7778 - accuracy: 0.7594 - val_loss: 0.4380 - val_accuracy: 0.9000\n",
            "Epoch 97/150\n",
            "10/10 [==============================] - 3s 286ms/step - loss: 0.7870 - accuracy: 0.7500 - val_loss: 0.4380 - val_accuracy: 0.9000\n",
            "Epoch 98/150\n",
            "10/10 [==============================] - 2s 182ms/step - loss: 0.8563 - accuracy: 0.7344 - val_loss: 0.4951 - val_accuracy: 0.8750\n",
            "Epoch 99/150\n",
            "10/10 [==============================] - 2s 190ms/step - loss: 0.7809 - accuracy: 0.7688 - val_loss: 0.4842 - val_accuracy: 0.9250\n",
            "Epoch 100/150\n",
            "10/10 [==============================] - 2s 184ms/step - loss: 0.7169 - accuracy: 0.7906 - val_loss: 0.6579 - val_accuracy: 0.8250\n",
            "Epoch 101/150\n",
            "10/10 [==============================] - 2s 234ms/step - loss: 0.6715 - accuracy: 0.7906 - val_loss: 0.3450 - val_accuracy: 0.9250\n",
            "Epoch 102/150\n",
            "10/10 [==============================] - 3s 251ms/step - loss: 0.7217 - accuracy: 0.7875 - val_loss: 0.4394 - val_accuracy: 0.8500\n",
            "Epoch 103/150\n",
            "10/10 [==============================] - 2s 205ms/step - loss: 0.7728 - accuracy: 0.7812 - val_loss: 0.3509 - val_accuracy: 0.9250\n",
            "Epoch 104/150\n",
            "10/10 [==============================] - 2s 192ms/step - loss: 0.7385 - accuracy: 0.7781 - val_loss: 0.4270 - val_accuracy: 0.9250\n",
            "Epoch 105/150\n",
            "10/10 [==============================] - 2s 193ms/step - loss: 0.7250 - accuracy: 0.7781 - val_loss: 0.3011 - val_accuracy: 0.9250\n",
            "Epoch 106/150\n",
            "10/10 [==============================] - 4s 423ms/step - loss: 0.6825 - accuracy: 0.8188 - val_loss: 0.3723 - val_accuracy: 0.9250\n",
            "Epoch 107/150\n",
            "10/10 [==============================] - 4s 346ms/step - loss: 0.6506 - accuracy: 0.7875 - val_loss: 0.3302 - val_accuracy: 0.9250\n",
            "Epoch 108/150\n",
            "10/10 [==============================] - 2s 197ms/step - loss: 0.7021 - accuracy: 0.7906 - val_loss: 0.3151 - val_accuracy: 0.9500\n",
            "Epoch 109/150\n",
            "10/10 [==============================] - 2s 183ms/step - loss: 0.5807 - accuracy: 0.8188 - val_loss: 0.3875 - val_accuracy: 0.9250\n",
            "Epoch 110/150\n",
            "10/10 [==============================] - 3s 282ms/step - loss: 0.7346 - accuracy: 0.7937 - val_loss: 0.4333 - val_accuracy: 0.9000\n",
            "Epoch 111/150\n",
            "10/10 [==============================] - 2s 198ms/step - loss: 0.5299 - accuracy: 0.8313 - val_loss: 0.3253 - val_accuracy: 0.9250\n",
            "Epoch 112/150\n",
            "10/10 [==============================] - 3s 320ms/step - loss: 0.6046 - accuracy: 0.8000 - val_loss: 0.2625 - val_accuracy: 0.9500\n",
            "Epoch 113/150\n",
            "10/10 [==============================] - 2s 193ms/step - loss: 0.6992 - accuracy: 0.7812 - val_loss: 0.3668 - val_accuracy: 0.8750\n",
            "Epoch 114/150\n",
            "10/10 [==============================] - 3s 326ms/step - loss: 0.6353 - accuracy: 0.8000 - val_loss: 0.3476 - val_accuracy: 0.9250\n",
            "Epoch 115/150\n",
            "10/10 [==============================] - 2s 194ms/step - loss: 0.5642 - accuracy: 0.8188 - val_loss: 0.3473 - val_accuracy: 0.9250\n",
            "Epoch 116/150\n",
            "10/10 [==============================] - 2s 187ms/step - loss: 0.6316 - accuracy: 0.7969 - val_loss: 0.3183 - val_accuracy: 0.9500\n",
            "Epoch 117/150\n",
            "10/10 [==============================] - 2s 185ms/step - loss: 0.6403 - accuracy: 0.8094 - val_loss: 0.3454 - val_accuracy: 0.9000\n",
            "Epoch 118/150\n",
            "10/10 [==============================] - 2s 197ms/step - loss: 0.6229 - accuracy: 0.8313 - val_loss: 0.3012 - val_accuracy: 0.9250\n",
            "Epoch 119/150\n",
            "10/10 [==============================] - 2s 247ms/step - loss: 0.6492 - accuracy: 0.7906 - val_loss: 0.4675 - val_accuracy: 0.8500\n",
            "Epoch 120/150\n",
            "10/10 [==============================] - 3s 254ms/step - loss: 0.5967 - accuracy: 0.8219 - val_loss: 0.3469 - val_accuracy: 0.9000\n",
            "Epoch 121/150\n",
            "10/10 [==============================] - 2s 184ms/step - loss: 0.6236 - accuracy: 0.8000 - val_loss: 0.2907 - val_accuracy: 0.9250\n",
            "Epoch 122/150\n",
            "10/10 [==============================] - 2s 194ms/step - loss: 0.6228 - accuracy: 0.8313 - val_loss: 0.2893 - val_accuracy: 0.9000\n",
            "Epoch 123/150\n",
            "10/10 [==============================] - 2s 195ms/step - loss: 0.5399 - accuracy: 0.8500 - val_loss: 0.3332 - val_accuracy: 0.9250\n",
            "Epoch 124/150\n",
            "10/10 [==============================] - 3s 321ms/step - loss: 0.6123 - accuracy: 0.8000 - val_loss: 0.3354 - val_accuracy: 0.9750\n",
            "Epoch 125/150\n",
            "10/10 [==============================] - 2s 195ms/step - loss: 0.6768 - accuracy: 0.7656 - val_loss: 0.3807 - val_accuracy: 0.9250\n",
            "Epoch 126/150\n",
            "10/10 [==============================] - 2s 194ms/step - loss: 0.5886 - accuracy: 0.8156 - val_loss: 0.2999 - val_accuracy: 0.9250\n",
            "Epoch 127/150\n",
            "10/10 [==============================] - 2s 191ms/step - loss: 0.5984 - accuracy: 0.8156 - val_loss: 0.3848 - val_accuracy: 0.9000\n",
            "Epoch 128/150\n",
            "10/10 [==============================] - 3s 256ms/step - loss: 0.5853 - accuracy: 0.8000 - val_loss: 0.4734 - val_accuracy: 0.8750\n",
            "Epoch 129/150\n",
            "10/10 [==============================] - 2s 228ms/step - loss: 0.4945 - accuracy: 0.8500 - val_loss: 0.3851 - val_accuracy: 0.9000\n",
            "Epoch 130/150\n",
            "10/10 [==============================] - 2s 186ms/step - loss: 0.5657 - accuracy: 0.8125 - val_loss: 0.4789 - val_accuracy: 0.8250\n",
            "Epoch 131/150\n",
            "10/10 [==============================] - 2s 189ms/step - loss: 0.5804 - accuracy: 0.8281 - val_loss: 0.4505 - val_accuracy: 0.9000\n",
            "Epoch 132/150\n",
            "10/10 [==============================] - 2s 189ms/step - loss: 0.5933 - accuracy: 0.8219 - val_loss: 0.4087 - val_accuracy: 0.9000\n",
            "Epoch 133/150\n",
            "10/10 [==============================] - 2s 188ms/step - loss: 0.5667 - accuracy: 0.8125 - val_loss: 0.3258 - val_accuracy: 0.9000\n",
            "Epoch 134/150\n",
            "10/10 [==============================] - 3s 311ms/step - loss: 0.5920 - accuracy: 0.8250 - val_loss: 0.3283 - val_accuracy: 0.9250\n",
            "Epoch 135/150\n",
            "10/10 [==============================] - 2s 192ms/step - loss: 0.6235 - accuracy: 0.7875 - val_loss: 0.4322 - val_accuracy: 0.9000\n",
            "Epoch 136/150\n",
            "10/10 [==============================] - 2s 188ms/step - loss: 0.6625 - accuracy: 0.7875 - val_loss: 0.3214 - val_accuracy: 0.9500\n",
            "Epoch 137/150\n",
            "10/10 [==============================] - 2s 185ms/step - loss: 0.6075 - accuracy: 0.8313 - val_loss: 0.3432 - val_accuracy: 0.9250\n",
            "Epoch 138/150\n",
            "10/10 [==============================] - 3s 319ms/step - loss: 0.6431 - accuracy: 0.8125 - val_loss: 0.3679 - val_accuracy: 0.9250\n",
            "Epoch 139/150\n",
            "10/10 [==============================] - 2s 192ms/step - loss: 0.5351 - accuracy: 0.8375 - val_loss: 0.3105 - val_accuracy: 0.9500\n",
            "Epoch 140/150\n",
            "10/10 [==============================] - 2s 194ms/step - loss: 0.5535 - accuracy: 0.8125 - val_loss: 0.3544 - val_accuracy: 0.9250\n",
            "Epoch 141/150\n",
            "10/10 [==============================] - 2s 195ms/step - loss: 0.4836 - accuracy: 0.8469 - val_loss: 0.2534 - val_accuracy: 0.9250\n",
            "Epoch 142/150\n",
            "10/10 [==============================] - 2s 211ms/step - loss: 0.4953 - accuracy: 0.8562 - val_loss: 0.3052 - val_accuracy: 0.9000\n",
            "Epoch 143/150\n",
            "10/10 [==============================] - 3s 292ms/step - loss: 0.4731 - accuracy: 0.8469 - val_loss: 0.3870 - val_accuracy: 0.9250\n",
            "Epoch 144/150\n",
            "10/10 [==============================] - 3s 260ms/step - loss: 0.5016 - accuracy: 0.8281 - val_loss: 0.3160 - val_accuracy: 0.9000\n",
            "Epoch 145/150\n",
            "10/10 [==============================] - 4s 414ms/step - loss: 0.4523 - accuracy: 0.8719 - val_loss: 0.2410 - val_accuracy: 0.9500\n",
            "Epoch 146/150\n",
            "10/10 [==============================] - 6s 624ms/step - loss: 0.4425 - accuracy: 0.8719 - val_loss: 0.2982 - val_accuracy: 0.9250\n",
            "Epoch 147/150\n",
            "10/10 [==============================] - 3s 308ms/step - loss: 0.4696 - accuracy: 0.8406 - val_loss: 0.2228 - val_accuracy: 0.9250\n",
            "Epoch 148/150\n",
            "10/10 [==============================] - 3s 298ms/step - loss: 0.6287 - accuracy: 0.7844 - val_loss: 0.2579 - val_accuracy: 0.9500\n",
            "Epoch 149/150\n",
            "10/10 [==============================] - 3s 293ms/step - loss: 0.5349 - accuracy: 0.8313 - val_loss: 0.2868 - val_accuracy: 0.9250\n",
            "Epoch 150/150\n",
            "10/10 [==============================] - 5s 498ms/step - loss: 0.4257 - accuracy: 0.8562 - val_loss: 0.3830 - val_accuracy: 0.9000\n",
            "2/2 [==============================] - 0s 42ms/step - loss: 0.5196 - accuracy: 0.8250\n",
            "Test Loss: 0.5196025967597961\n",
            "Test Accuracy: 0.824999988079071\n"
          ]
        }
      ]
    },
    {
      "cell_type": "markdown",
      "source": [
        "Measure the accuracy of the network on the validation and testing datasets **(P5-4: 5 points)**"
      ],
      "metadata": {
        "id": "PgZFoeHPPdqF"
      }
    },
    {
      "cell_type": "code",
      "source": [
        "val_loss, val_acc = model.evaluate(x_val, y_val)\n",
        "print(\"Validation Loss:\", val_loss)\n",
        "print(\"Validation Accuracy:\", val_acc)\n",
        "\n",
        "test_loss, test_acc = model.evaluate(x_test, y_test)\n",
        "print(\"Test Loss:\", test_loss)\n",
        "print(\"Test Accuracy:\", test_acc)"
      ],
      "metadata": {
        "id": "7VSZe8RdPkLU",
        "colab": {
          "base_uri": "https://localhost:8080/"
        },
        "outputId": "a4202442-9daa-4a54-fecd-bd1c22e086ff"
      },
      "execution_count": 31,
      "outputs": [
        {
          "output_type": "stream",
          "name": "stdout",
          "text": [
            "2/2 [==============================] - 0s 38ms/step - loss: 0.3830 - accuracy: 0.9000\n",
            "Validation Loss: 0.383034884929657\n",
            "Validation Accuracy: 0.8999999761581421\n",
            "2/2 [==============================] - 0s 31ms/step - loss: 0.5196 - accuracy: 0.8250\n",
            "Test Loss: 0.5196025967597961\n",
            "Test Accuracy: 0.824999988079071\n"
          ]
        }
      ]
    }
  ]
}