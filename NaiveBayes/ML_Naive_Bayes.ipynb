{
  "nbformat": 4,
  "nbformat_minor": 0,
  "metadata": {
    "colab": {
      "provenance": []
    },
    "kernelspec": {
      "name": "python3",
      "display_name": "Python 3"
    },
    "language_info": {
      "name": "python"
    }
  },
  "cells": [
    {
      "cell_type": "markdown",
      "metadata": {
        "id": "b07eb33c"
      },
      "source": [
        "<div>\n",
        "<img src='http://www-scf.usc.edu/~ghasemig/images/sharif.png' alt=\"SUT logo\" width=220 height=220 align=left class=\"saturate\">\n",
        "\n",
        "<br>\n",
        "<font face=\"Times New Roman\">\n",
        "<div dir=ltr align=center> \n",
        "<!-- <font color=0F5298 size=7> -->\n",
        "<font color=0F5298 size=6>\n",
        "    Introduction to Machine Learning <br> <br>\n",
        "<!-- <font color=2565AE size=5> -->\n",
        "<font size=5>\n",
        "    Computer Engineering Department <br>\n",
        "    Spring 2023 <br> <br>\n",
        "<font color=606060 size=5>\n",
        "    Homework 4: Practical - Naive Bayes <br> <br>\n",
        "<font color=686880 size=4>\n",
        "    TAs: Alireza Farashah - Arman Malekzadeh - Ali Salesi\n",
        "    \n",
        "____"
      ]
    },
    {
      "cell_type": "markdown",
      "metadata": {
        "id": "f5a79508"
      },
      "source": [
        "### Full Name : Reza Soumi\n",
        "### Student Number : 98105857\n",
        "### Colab Link: https://colab.research.google.com/drive/1eMcHBqcQBSerZc7x6vAgBH3ry8SNwUDp?usp=sharing\n",
        "___"
      ]
    },
    {
      "cell_type": "markdown",
      "source": [
        "Note 1: In this assignment, we are trying to simulate the functionality of something called \"CountVectorizer\" which is used in natural language processing. You are advised to take a look at this link before beginning to answer the questions:\n",
        "\n",
        "https://www.geeksforgeeks.org/using-countvectorizer-to-extracting-features-from-text/\n",
        "\n",
        "Note 2: One or two TA sessions will be held related to this assignment to make sure you get familiarized with this topic. Therefore, keep calm and write code!"
      ],
      "metadata": {
        "id": "QTZBzFXNv8pP"
      }
    },
    {
      "cell_type": "markdown",
      "source": [
        "# Download the Dataset"
      ],
      "metadata": {
        "id": "Dsp-qF9vLbUt"
      }
    },
    {
      "cell_type": "code",
      "source": [
        "!wget -O /content/dataset.zip \"https://www.dropbox.com/s/yf195wl0sp3term/dataset-train.zip?dl=1\""
      ],
      "metadata": {
        "id": "YQG4cjKvK4zZ",
        "colab": {
          "base_uri": "https://localhost:8080/"
        },
        "outputId": "7d4f2baf-dca3-4cb7-a9fe-e05fa175e417"
      },
      "execution_count": 1,
      "outputs": [
        {
          "output_type": "stream",
          "name": "stdout",
          "text": [
            "--2023-05-04 12:50:32--  https://www.dropbox.com/s/yf195wl0sp3term/dataset-train.zip?dl=1\n",
            "Resolving www.dropbox.com (www.dropbox.com)... 162.125.4.18, 2620:100:601c:18::a27d:612\n",
            "Connecting to www.dropbox.com (www.dropbox.com)|162.125.4.18|:443... connected.\n",
            "HTTP request sent, awaiting response... 302 Found\n",
            "Location: /s/dl/yf195wl0sp3term/dataset-train.zip [following]\n",
            "--2023-05-04 12:50:32--  https://www.dropbox.com/s/dl/yf195wl0sp3term/dataset-train.zip\n",
            "Reusing existing connection to www.dropbox.com:443.\n",
            "HTTP request sent, awaiting response... 302 Found\n",
            "Location: https://ucbe183a47c2a5e118ebe9173332.dl.dropboxusercontent.com/cd/0/get/B7aOTyk8OqKJeypihsXcbjn2h-3f8S06XJPcFNSSAuxWCkUkEEmLRu5HWs30jueO30SeZqnRqPgcNfl-HAexcSSkmh7_9X3yinUEAQOhuLKIWhEDatqS9p5xKxD9dzv9CXPBa6tAK3rW7e_3-atWTWBcUGt95J4KKQlkZwDXMpFsKDV6g5pRHkT7F4a6ltxAJYc/file?dl=1# [following]\n",
            "--2023-05-04 12:50:32--  https://ucbe183a47c2a5e118ebe9173332.dl.dropboxusercontent.com/cd/0/get/B7aOTyk8OqKJeypihsXcbjn2h-3f8S06XJPcFNSSAuxWCkUkEEmLRu5HWs30jueO30SeZqnRqPgcNfl-HAexcSSkmh7_9X3yinUEAQOhuLKIWhEDatqS9p5xKxD9dzv9CXPBa6tAK3rW7e_3-atWTWBcUGt95J4KKQlkZwDXMpFsKDV6g5pRHkT7F4a6ltxAJYc/file?dl=1\n",
            "Resolving ucbe183a47c2a5e118ebe9173332.dl.dropboxusercontent.com (ucbe183a47c2a5e118ebe9173332.dl.dropboxusercontent.com)... 162.125.4.15, 2620:100:601c:15::a27d:60f\n",
            "Connecting to ucbe183a47c2a5e118ebe9173332.dl.dropboxusercontent.com (ucbe183a47c2a5e118ebe9173332.dl.dropboxusercontent.com)|162.125.4.15|:443... connected.\n",
            "HTTP request sent, awaiting response... 200 OK\n",
            "Length: 170224802 (162M) [application/binary]\n",
            "Saving to: ‘/content/dataset.zip’\n",
            "\n",
            "/content/dataset.zi 100%[===================>] 162.34M   122MB/s    in 1.3s    \n",
            "\n",
            "2023-05-04 12:50:34 (122 MB/s) - ‘/content/dataset.zip’ saved [170224802/170224802]\n",
            "\n"
          ]
        }
      ]
    },
    {
      "cell_type": "code",
      "source": [
        "!mkdir /content/dataset/\n",
        "!unzip '/content/dataset.zip' -d /content/dataset/"
      ],
      "metadata": {
        "id": "GkjLDi1xBR-r",
        "colab": {
          "base_uri": "https://localhost:8080/"
        },
        "outputId": "f614fa4f-7903-4790-ff4b-5aea11c00084"
      },
      "execution_count": 2,
      "outputs": [
        {
          "output_type": "stream",
          "name": "stdout",
          "text": [
            "Archive:  /content/dataset.zip\n",
            "  inflating: /content/dataset/content/news-train.csv  \n"
          ]
        }
      ]
    },
    {
      "cell_type": "markdown",
      "source": [
        "# Preprocessing"
      ],
      "metadata": {
        "id": "AI_tN2UDLgT_"
      }
    },
    {
      "cell_type": "code",
      "source": [
        "import pandas as pd\n",
        "import numpy as np\n",
        "from sklearn.feature_extraction.text import CountVectorizer\n",
        "from sklearn.naive_bayes import MultinomialNB\n",
        "from sklearn.preprocessing import LabelEncoder\n",
        "from sklearn.model_selection import train_test_split\n",
        "from sklearn.metrics import classification_report\n",
        "from sklearn.utils import resample\n",
        "from collections import Counter"
      ],
      "metadata": {
        "id": "xzZeY9pcBo-7"
      },
      "execution_count": 27,
      "outputs": []
    },
    {
      "cell_type": "markdown",
      "source": [
        "Read the csv file and load it as a dataframe."
      ],
      "metadata": {
        "id": "bovAIGr4LkcU"
      }
    },
    {
      "cell_type": "code",
      "source": [
        "df = pd.read_csv(\"dataset/content/news-train.csv\")\n",
        "df.describe()"
      ],
      "metadata": {
        "id": "5XkCekbTQzaf",
        "colab": {
          "base_uri": "https://localhost:8080/",
          "height": 175
        },
        "outputId": "0c140e74-f284-43a0-d81b-9806d03e1974"
      },
      "execution_count": 10,
      "outputs": [
        {
          "output_type": "execute_result",
          "data": {
            "text/plain": [
              "         topic                                 text\n",
              "count   197361                               197361\n",
              "unique       4                               195932\n",
              "top     sports  بازار در یک نگاه جدول شاخص‌های بورس\n",
              "freq    123105                                   39"
            ],
            "text/html": [
              "\n",
              "  <div id=\"df-bd0dd7f1-98d0-4f14-bdfe-c6810307419c\">\n",
              "    <div class=\"colab-df-container\">\n",
              "      <div>\n",
              "<style scoped>\n",
              "    .dataframe tbody tr th:only-of-type {\n",
              "        vertical-align: middle;\n",
              "    }\n",
              "\n",
              "    .dataframe tbody tr th {\n",
              "        vertical-align: top;\n",
              "    }\n",
              "\n",
              "    .dataframe thead th {\n",
              "        text-align: right;\n",
              "    }\n",
              "</style>\n",
              "<table border=\"1\" class=\"dataframe\">\n",
              "  <thead>\n",
              "    <tr style=\"text-align: right;\">\n",
              "      <th></th>\n",
              "      <th>topic</th>\n",
              "      <th>text</th>\n",
              "    </tr>\n",
              "  </thead>\n",
              "  <tbody>\n",
              "    <tr>\n",
              "      <th>count</th>\n",
              "      <td>197361</td>\n",
              "      <td>197361</td>\n",
              "    </tr>\n",
              "    <tr>\n",
              "      <th>unique</th>\n",
              "      <td>4</td>\n",
              "      <td>195932</td>\n",
              "    </tr>\n",
              "    <tr>\n",
              "      <th>top</th>\n",
              "      <td>sports</td>\n",
              "      <td>بازار در یک نگاه جدول شاخص‌های بورس</td>\n",
              "    </tr>\n",
              "    <tr>\n",
              "      <th>freq</th>\n",
              "      <td>123105</td>\n",
              "      <td>39</td>\n",
              "    </tr>\n",
              "  </tbody>\n",
              "</table>\n",
              "</div>\n",
              "      <button class=\"colab-df-convert\" onclick=\"convertToInteractive('df-bd0dd7f1-98d0-4f14-bdfe-c6810307419c')\"\n",
              "              title=\"Convert this dataframe to an interactive table.\"\n",
              "              style=\"display:none;\">\n",
              "        \n",
              "  <svg xmlns=\"http://www.w3.org/2000/svg\" height=\"24px\"viewBox=\"0 0 24 24\"\n",
              "       width=\"24px\">\n",
              "    <path d=\"M0 0h24v24H0V0z\" fill=\"none\"/>\n",
              "    <path d=\"M18.56 5.44l.94 2.06.94-2.06 2.06-.94-2.06-.94-.94-2.06-.94 2.06-2.06.94zm-11 1L8.5 8.5l.94-2.06 2.06-.94-2.06-.94L8.5 2.5l-.94 2.06-2.06.94zm10 10l.94 2.06.94-2.06 2.06-.94-2.06-.94-.94-2.06-.94 2.06-2.06.94z\"/><path d=\"M17.41 7.96l-1.37-1.37c-.4-.4-.92-.59-1.43-.59-.52 0-1.04.2-1.43.59L10.3 9.45l-7.72 7.72c-.78.78-.78 2.05 0 2.83L4 21.41c.39.39.9.59 1.41.59.51 0 1.02-.2 1.41-.59l7.78-7.78 2.81-2.81c.8-.78.8-2.07 0-2.86zM5.41 20L4 18.59l7.72-7.72 1.47 1.35L5.41 20z\"/>\n",
              "  </svg>\n",
              "      </button>\n",
              "      \n",
              "  <style>\n",
              "    .colab-df-container {\n",
              "      display:flex;\n",
              "      flex-wrap:wrap;\n",
              "      gap: 12px;\n",
              "    }\n",
              "\n",
              "    .colab-df-convert {\n",
              "      background-color: #E8F0FE;\n",
              "      border: none;\n",
              "      border-radius: 50%;\n",
              "      cursor: pointer;\n",
              "      display: none;\n",
              "      fill: #1967D2;\n",
              "      height: 32px;\n",
              "      padding: 0 0 0 0;\n",
              "      width: 32px;\n",
              "    }\n",
              "\n",
              "    .colab-df-convert:hover {\n",
              "      background-color: #E2EBFA;\n",
              "      box-shadow: 0px 1px 2px rgba(60, 64, 67, 0.3), 0px 1px 3px 1px rgba(60, 64, 67, 0.15);\n",
              "      fill: #174EA6;\n",
              "    }\n",
              "\n",
              "    [theme=dark] .colab-df-convert {\n",
              "      background-color: #3B4455;\n",
              "      fill: #D2E3FC;\n",
              "    }\n",
              "\n",
              "    [theme=dark] .colab-df-convert:hover {\n",
              "      background-color: #434B5C;\n",
              "      box-shadow: 0px 1px 3px 1px rgba(0, 0, 0, 0.15);\n",
              "      filter: drop-shadow(0px 1px 2px rgba(0, 0, 0, 0.3));\n",
              "      fill: #FFFFFF;\n",
              "    }\n",
              "  </style>\n",
              "\n",
              "      <script>\n",
              "        const buttonEl =\n",
              "          document.querySelector('#df-bd0dd7f1-98d0-4f14-bdfe-c6810307419c button.colab-df-convert');\n",
              "        buttonEl.style.display =\n",
              "          google.colab.kernel.accessAllowed ? 'block' : 'none';\n",
              "\n",
              "        async function convertToInteractive(key) {\n",
              "          const element = document.querySelector('#df-bd0dd7f1-98d0-4f14-bdfe-c6810307419c');\n",
              "          const dataTable =\n",
              "            await google.colab.kernel.invokeFunction('convertToInteractive',\n",
              "                                                     [key], {});\n",
              "          if (!dataTable) return;\n",
              "\n",
              "          const docLinkHtml = 'Like what you see? Visit the ' +\n",
              "            '<a target=\"_blank\" href=https://colab.research.google.com/notebooks/data_table.ipynb>data table notebook</a>'\n",
              "            + ' to learn more about interactive tables.';\n",
              "          element.innerHTML = '';\n",
              "          dataTable['output_type'] = 'display_data';\n",
              "          await google.colab.output.renderOutput(dataTable, element);\n",
              "          const docLink = document.createElement('div');\n",
              "          docLink.innerHTML = docLinkHtml;\n",
              "          element.appendChild(docLink);\n",
              "        }\n",
              "      </script>\n",
              "    </div>\n",
              "  </div>\n",
              "  "
            ]
          },
          "metadata": {},
          "execution_count": 10
        }
      ]
    },
    {
      "cell_type": "markdown",
      "source": [
        "# Dealing with Class Imbalance"
      ],
      "metadata": {
        "id": "b2eq6fRZZroS"
      }
    },
    {
      "cell_type": "markdown",
      "source": [
        "For each \"topic\", count and display the number of news belonging to it. (5 points)"
      ],
      "metadata": {
        "id": "__mdmjwgNSRb"
      }
    },
    {
      "cell_type": "code",
      "source": [
        "topic_counts = df['topic'].value_counts()\n",
        "print(topic_counts)"
      ],
      "metadata": {
        "id": "1f0oIh-PNYLB",
        "colab": {
          "base_uri": "https://localhost:8080/"
        },
        "outputId": "42b0de97-c0eb-46b1-bbbb-b0bbda316085"
      },
      "execution_count": 12,
      "outputs": [
        {
          "output_type": "stream",
          "name": "stdout",
          "text": [
            "sports       123105\n",
            "economics     49600\n",
            "cultural      13359\n",
            "politics      11297\n",
            "Name: topic, dtype: int64\n"
          ]
        }
      ]
    },
    {
      "cell_type": "markdown",
      "source": [
        "Balance the dataset in a way that all of the topics get associated with the same number of news. For this purpose, find the topic for which the minimum number of news exists. Then, use downsampling to lower the number of news associated with the other topics.<br>\n",
        "Finally, save the result as a new dataframe. (15 points)"
      ],
      "metadata": {
        "id": "8ETq4g97Oj0c"
      }
    },
    {
      "cell_type": "code",
      "source": [
        "min_count = df['topic'].value_counts().min()\n",
        "downsampled = pd.DataFrame()\n",
        "for topic in df['topic'].unique():\n",
        "    topic_df = df[df['topic'] == topic]\n",
        "    downsampled_topic = resample(topic_df, replace=False, n_samples=min_count, random_state=42)\n",
        "    downsampled = pd.concat([downsampled, downsampled_topic])\n",
        "\n",
        "downsampled_counts = downsampled['topic'].value_counts()\n",
        "print(downsampled_counts)"
      ],
      "metadata": {
        "id": "XJawN5XRDFYf",
        "colab": {
          "base_uri": "https://localhost:8080/"
        },
        "outputId": "252b199b-c31c-4133-f181-5a7c563a43cf"
      },
      "execution_count": 15,
      "outputs": [
        {
          "output_type": "stream",
          "name": "stdout",
          "text": [
            "sports       11297\n",
            "politics     11297\n",
            "economics    11297\n",
            "cultural     11297\n",
            "Name: topic, dtype: int64\n"
          ]
        }
      ]
    },
    {
      "cell_type": "markdown",
      "source": [
        "# Preparation and Feature Extraction"
      ],
      "metadata": {
        "id": "9DMwlMiwZ4Ql"
      }
    },
    {
      "cell_type": "markdown",
      "source": [
        "Split the dataframe to two parts for training (80%) and testing (20%). (5 points)"
      ],
      "metadata": {
        "id": "FyrxWwjXQcfV"
      }
    },
    {
      "cell_type": "code",
      "source": [
        "train_df, test_df = train_test_split(downsampled, test_size=0.2, random_state=42)"
      ],
      "metadata": {
        "id": "BXM2X_tJZIJ2"
      },
      "execution_count": 25,
      "outputs": []
    },
    {
      "cell_type": "markdown",
      "source": [
        "In this part, we will extract features from the textual data using a very basic method."
      ],
      "metadata": {
        "id": "tSzLXYMhaL3R"
      }
    },
    {
      "cell_type": "markdown",
      "source": [
        "Consider the following sentence:\n",
        "```\n",
        "Sometimes a dog can run faster than a cat.\n",
        "```\n",
        "In the above sentence, the \"tokens\" are:\n",
        "\n",
        "```\n",
        "\"sometimes\", \"a\", \"dog\", \"can\", \"run\", \"faster\", \"than\", \"a\", \"cat\"\n",
        "```"
      ],
      "metadata": {
        "id": "BCejmR4nhABv"
      }
    },
    {
      "cell_type": "markdown",
      "source": [
        "Find the tokens of each news article in the \"training dataframe\" by splitting it based on the occurence of the space character (5 points). For instance, the following sentence:\n",
        "```\n",
        "او به میدان رفت\n",
        "```\n",
        "gets converted to these tokens:\n",
        "```\n",
        "[\"او\",\"به\",\"میدان\",\"رفت\"]\n",
        "```"
      ],
      "metadata": {
        "id": "fTnb43swgo8r"
      }
    },
    {
      "cell_type": "code",
      "source": [
        "train_df['text'] = train_df['text'].apply(lambda x: x.split(\" \"))\n",
        "train_df"
      ],
      "metadata": {
        "id": "_dlCAqisb6cT",
        "colab": {
          "base_uri": "https://localhost:8080/",
          "height": 423
        },
        "outputId": "997fd3d0-df5e-4bdd-8591-01b33e6330f7"
      },
      "execution_count": 26,
      "outputs": [
        {
          "output_type": "execute_result",
          "data": {
            "text/plain": [
              "           topic                                               text\n",
              "131394  politics  [همه‌چیز, شبیه, مسابقه, هفته, بود, البته, بدون...\n",
              "88791   politics  [رییس, مجمع, تشخیص, مصلحت, نظام, با, اشاره, به...\n",
              "121984    sports  [مرحله, اول, مسابقات, لیگ, ورزش‌های, سه, گانه,...\n",
              "12673   politics  [#, بارها, تاکید, کرده‌اند, #, برنامه‌ای, برای...\n",
              "106051    sports  [به, گزارش, ورزش, سه, کمتر, کسی, فکر, می‌کرد, ...\n",
              "...          ...                                                ...\n",
              "92968     sports  [به, گزارش, ایسنا, جام‌جهانی, #, روسیه, #, روز...\n",
              "169808  cultural  [نمایش, کمدی, #, به, کارگردانی, میثم, عبدی, از...\n",
              "157638  cultural  [معاون, پژوهشی, جهاد, دانشگاهی, واحد, استان, ا...\n",
              "118852    sports  [به, گزارش, ورزش, سه, آبی, پوشان, پایتخت, که, ...\n",
              "53822   politics  [حسن, روحانی, روز, گذشته, در, بخشی, از, سخنان,...\n",
              "\n",
              "[36150 rows x 2 columns]"
            ],
            "text/html": [
              "\n",
              "  <div id=\"df-0756d4ed-f28b-458d-aed6-094dc47d27c8\">\n",
              "    <div class=\"colab-df-container\">\n",
              "      <div>\n",
              "<style scoped>\n",
              "    .dataframe tbody tr th:only-of-type {\n",
              "        vertical-align: middle;\n",
              "    }\n",
              "\n",
              "    .dataframe tbody tr th {\n",
              "        vertical-align: top;\n",
              "    }\n",
              "\n",
              "    .dataframe thead th {\n",
              "        text-align: right;\n",
              "    }\n",
              "</style>\n",
              "<table border=\"1\" class=\"dataframe\">\n",
              "  <thead>\n",
              "    <tr style=\"text-align: right;\">\n",
              "      <th></th>\n",
              "      <th>topic</th>\n",
              "      <th>text</th>\n",
              "    </tr>\n",
              "  </thead>\n",
              "  <tbody>\n",
              "    <tr>\n",
              "      <th>131394</th>\n",
              "      <td>politics</td>\n",
              "      <td>[همه‌چیز, شبیه, مسابقه, هفته, بود, البته, بدون...</td>\n",
              "    </tr>\n",
              "    <tr>\n",
              "      <th>88791</th>\n",
              "      <td>politics</td>\n",
              "      <td>[رییس, مجمع, تشخیص, مصلحت, نظام, با, اشاره, به...</td>\n",
              "    </tr>\n",
              "    <tr>\n",
              "      <th>121984</th>\n",
              "      <td>sports</td>\n",
              "      <td>[مرحله, اول, مسابقات, لیگ, ورزش‌های, سه, گانه,...</td>\n",
              "    </tr>\n",
              "    <tr>\n",
              "      <th>12673</th>\n",
              "      <td>politics</td>\n",
              "      <td>[#, بارها, تاکید, کرده‌اند, #, برنامه‌ای, برای...</td>\n",
              "    </tr>\n",
              "    <tr>\n",
              "      <th>106051</th>\n",
              "      <td>sports</td>\n",
              "      <td>[به, گزارش, ورزش, سه, کمتر, کسی, فکر, می‌کرد, ...</td>\n",
              "    </tr>\n",
              "    <tr>\n",
              "      <th>...</th>\n",
              "      <td>...</td>\n",
              "      <td>...</td>\n",
              "    </tr>\n",
              "    <tr>\n",
              "      <th>92968</th>\n",
              "      <td>sports</td>\n",
              "      <td>[به, گزارش, ایسنا, جام‌جهانی, #, روسیه, #, روز...</td>\n",
              "    </tr>\n",
              "    <tr>\n",
              "      <th>169808</th>\n",
              "      <td>cultural</td>\n",
              "      <td>[نمایش, کمدی, #, به, کارگردانی, میثم, عبدی, از...</td>\n",
              "    </tr>\n",
              "    <tr>\n",
              "      <th>157638</th>\n",
              "      <td>cultural</td>\n",
              "      <td>[معاون, پژوهشی, جهاد, دانشگاهی, واحد, استان, ا...</td>\n",
              "    </tr>\n",
              "    <tr>\n",
              "      <th>118852</th>\n",
              "      <td>sports</td>\n",
              "      <td>[به, گزارش, ورزش, سه, آبی, پوشان, پایتخت, که, ...</td>\n",
              "    </tr>\n",
              "    <tr>\n",
              "      <th>53822</th>\n",
              "      <td>politics</td>\n",
              "      <td>[حسن, روحانی, روز, گذشته, در, بخشی, از, سخنان,...</td>\n",
              "    </tr>\n",
              "  </tbody>\n",
              "</table>\n",
              "<p>36150 rows × 2 columns</p>\n",
              "</div>\n",
              "      <button class=\"colab-df-convert\" onclick=\"convertToInteractive('df-0756d4ed-f28b-458d-aed6-094dc47d27c8')\"\n",
              "              title=\"Convert this dataframe to an interactive table.\"\n",
              "              style=\"display:none;\">\n",
              "        \n",
              "  <svg xmlns=\"http://www.w3.org/2000/svg\" height=\"24px\"viewBox=\"0 0 24 24\"\n",
              "       width=\"24px\">\n",
              "    <path d=\"M0 0h24v24H0V0z\" fill=\"none\"/>\n",
              "    <path d=\"M18.56 5.44l.94 2.06.94-2.06 2.06-.94-2.06-.94-.94-2.06-.94 2.06-2.06.94zm-11 1L8.5 8.5l.94-2.06 2.06-.94-2.06-.94L8.5 2.5l-.94 2.06-2.06.94zm10 10l.94 2.06.94-2.06 2.06-.94-2.06-.94-.94-2.06-.94 2.06-2.06.94z\"/><path d=\"M17.41 7.96l-1.37-1.37c-.4-.4-.92-.59-1.43-.59-.52 0-1.04.2-1.43.59L10.3 9.45l-7.72 7.72c-.78.78-.78 2.05 0 2.83L4 21.41c.39.39.9.59 1.41.59.51 0 1.02-.2 1.41-.59l7.78-7.78 2.81-2.81c.8-.78.8-2.07 0-2.86zM5.41 20L4 18.59l7.72-7.72 1.47 1.35L5.41 20z\"/>\n",
              "  </svg>\n",
              "      </button>\n",
              "      \n",
              "  <style>\n",
              "    .colab-df-container {\n",
              "      display:flex;\n",
              "      flex-wrap:wrap;\n",
              "      gap: 12px;\n",
              "    }\n",
              "\n",
              "    .colab-df-convert {\n",
              "      background-color: #E8F0FE;\n",
              "      border: none;\n",
              "      border-radius: 50%;\n",
              "      cursor: pointer;\n",
              "      display: none;\n",
              "      fill: #1967D2;\n",
              "      height: 32px;\n",
              "      padding: 0 0 0 0;\n",
              "      width: 32px;\n",
              "    }\n",
              "\n",
              "    .colab-df-convert:hover {\n",
              "      background-color: #E2EBFA;\n",
              "      box-shadow: 0px 1px 2px rgba(60, 64, 67, 0.3), 0px 1px 3px 1px rgba(60, 64, 67, 0.15);\n",
              "      fill: #174EA6;\n",
              "    }\n",
              "\n",
              "    [theme=dark] .colab-df-convert {\n",
              "      background-color: #3B4455;\n",
              "      fill: #D2E3FC;\n",
              "    }\n",
              "\n",
              "    [theme=dark] .colab-df-convert:hover {\n",
              "      background-color: #434B5C;\n",
              "      box-shadow: 0px 1px 3px 1px rgba(0, 0, 0, 0.15);\n",
              "      filter: drop-shadow(0px 1px 2px rgba(0, 0, 0, 0.3));\n",
              "      fill: #FFFFFF;\n",
              "    }\n",
              "  </style>\n",
              "\n",
              "      <script>\n",
              "        const buttonEl =\n",
              "          document.querySelector('#df-0756d4ed-f28b-458d-aed6-094dc47d27c8 button.colab-df-convert');\n",
              "        buttonEl.style.display =\n",
              "          google.colab.kernel.accessAllowed ? 'block' : 'none';\n",
              "\n",
              "        async function convertToInteractive(key) {\n",
              "          const element = document.querySelector('#df-0756d4ed-f28b-458d-aed6-094dc47d27c8');\n",
              "          const dataTable =\n",
              "            await google.colab.kernel.invokeFunction('convertToInteractive',\n",
              "                                                     [key], {});\n",
              "          if (!dataTable) return;\n",
              "\n",
              "          const docLinkHtml = 'Like what you see? Visit the ' +\n",
              "            '<a target=\"_blank\" href=https://colab.research.google.com/notebooks/data_table.ipynb>data table notebook</a>'\n",
              "            + ' to learn more about interactive tables.';\n",
              "          element.innerHTML = '';\n",
              "          dataTable['output_type'] = 'display_data';\n",
              "          await google.colab.output.renderOutput(dataTable, element);\n",
              "          const docLink = document.createElement('div');\n",
              "          docLink.innerHTML = docLinkHtml;\n",
              "          element.appendChild(docLink);\n",
              "        }\n",
              "      </script>\n",
              "    </div>\n",
              "  </div>\n",
              "  "
            ]
          },
          "metadata": {},
          "execution_count": 26
        }
      ]
    },
    {
      "cell_type": "markdown",
      "source": [
        "Count the tokens and list the top 5 frequent ones (5 points)"
      ],
      "metadata": {
        "id": "eD-UebxhiUyd"
      }
    },
    {
      "cell_type": "code",
      "source": [
        "token_list = [word for row in train_df['text'] for word in row]\n",
        "\n",
        "token_counts = Counter(token_list)\n",
        "\n",
        "top_tokens = token_counts.most_common(5)\n",
        "\n",
        "for token, count in top_tokens:\n",
        "    print(f'{token}: {count}')"
      ],
      "metadata": {
        "id": "rg-aJqkSiEJb",
        "colab": {
          "base_uri": "https://localhost:8080/"
        },
        "outputId": "728834cb-b60a-4aa6-d8b0-1b95a70103c1"
      },
      "execution_count": 30,
      "outputs": [
        {
          "output_type": "stream",
          "name": "stdout",
          "text": [
            "#: 1621876\n",
            "و: 878306\n",
            "در: 743093\n",
            "\n",
            ": 589997\n",
            "به: 580896\n"
          ]
        }
      ]
    },
    {
      "cell_type": "markdown",
      "source": [
        "Consider the following sentence:\n",
        "```\n",
        "تیم فوتبال بارسلونا امشب با بایرن مونیخ دیدار می‌کند.\n",
        "```\n",
        "In the above sentence, we do not need the word `با` to determine that the topic is \"sports\". This word doesn't have any impact on the category this sentence belongs to. \n",
        "This word and similar ones are called \"stopwords\". A list of stopwords for the Persian language can be found in this text file:\n",
        "https://github.com/ziaa/Persian-stopwords-collection/raw/master/Stopwords/Savoy/persianST.txt\n",
        "\n",
        "Use it to remove all tokens that are actually stopwords.\n",
        "Also, remove the `#` token. (10 points)"
      ],
      "metadata": {
        "id": "dJyE1s6Wi0ZH"
      }
    },
    {
      "cell_type": "code",
      "source": [
        "!wget -O /content/stopwords.txt https://github.com/ziaa/Persian-stopwords-collection/raw/master/Stopwords/Savoy/persianST.txt"
      ],
      "metadata": {
        "id": "6xV_zvIvjtH1",
        "colab": {
          "base_uri": "https://localhost:8080/"
        },
        "outputId": "abcdd3aa-8f24-490f-9f78-a58f481b595d"
      },
      "execution_count": 31,
      "outputs": [
        {
          "output_type": "stream",
          "name": "stdout",
          "text": [
            "--2023-05-04 13:36:58--  https://github.com/ziaa/Persian-stopwords-collection/raw/master/Stopwords/Savoy/persianST.txt\n",
            "Resolving github.com (github.com)... 140.82.113.4\n",
            "Connecting to github.com (github.com)|140.82.113.4|:443... connected.\n",
            "HTTP request sent, awaiting response... 302 Found\n",
            "Location: https://raw.githubusercontent.com/ziaa/Persian-stopwords-collection/master/Stopwords/Savoy/persianST.txt [following]\n",
            "--2023-05-04 13:36:58--  https://raw.githubusercontent.com/ziaa/Persian-stopwords-collection/master/Stopwords/Savoy/persianST.txt\n",
            "Resolving raw.githubusercontent.com (raw.githubusercontent.com)... 185.199.110.133, 185.199.109.133, 185.199.108.133, ...\n",
            "Connecting to raw.githubusercontent.com (raw.githubusercontent.com)|185.199.110.133|:443... connected.\n",
            "HTTP request sent, awaiting response... 200 OK\n",
            "Length: 2942 (2.9K) [text/plain]\n",
            "Saving to: ‘/content/stopwords.txt’\n",
            "\n",
            "\r/content/stopwords.   0%[                    ]       0  --.-KB/s               \r/content/stopwords. 100%[===================>]   2.87K  --.-KB/s    in 0s      \n",
            "\n",
            "2023-05-04 13:36:58 (36.8 MB/s) - ‘/content/stopwords.txt’ saved [2942/2942]\n",
            "\n"
          ]
        }
      ]
    },
    {
      "cell_type": "code",
      "source": [
        "with open('stopwords.txt', 'r') as f:\n",
        "    lines = f.readlines()\n",
        "stopwords = [line.strip() for line in lines]\n",
        "stopwords.append(\"#\")\n",
        "\n",
        "train_df['text'] = train_df['text'].apply(lambda x: [s for s in x if s not in stopwords])\n",
        "train_df"
      ],
      "metadata": {
        "id": "w5TLeugQjxIt",
        "colab": {
          "base_uri": "https://localhost:8080/",
          "height": 423
        },
        "outputId": "6f7a5bf0-8bf2-4305-aab0-e318170ff70b"
      },
      "execution_count": 34,
      "outputs": [
        {
          "output_type": "execute_result",
          "data": {
            "text/plain": [
              "           topic                                               text\n",
              "131394  politics  [همه‌چیز, شبیه, مسابقه, هفته, حضور, مجری, مرحو...\n",
              "88791   politics  [رییس, مجمع, تشخیص, مصلحت, نظام, اشاره, ثبت‌نا...\n",
              "121984    sports  [مرحله, مسابقات, لیگ, ورزش‌های, سه, گانه, برگز...\n",
              "12673   politics  [بارها, تاکید, کرده‌اند, برنامه‌ای, برای, حذف,...\n",
              "106051    sports  [گزارش, ورزش, سه, کمتر, فکر, می‌کرد, بازی, تیم...\n",
              "...          ...                                                ...\n",
              "92968     sports  [گزارش, ایسنا, جام‌جهانی, روسیه, روز, آغاز, می...\n",
              "169808  cultural  [نمایش, کمدی, کارگردانی, میثم, عبدی, دی, سالن,...\n",
              "157638  cultural  [معاون, پژوهشی, جهاد, دانشگاهی, واحد, استان, ا...\n",
              "118852    sports  [گزارش, ورزش, سه, آبی, پوشان, پایتخت, نیم, فصل...\n",
              "53822   politics  [حسن, روحانی, روز, گذشته, بخشی, سخنان, مراسم, ...\n",
              "\n",
              "[36150 rows x 2 columns]"
            ],
            "text/html": [
              "\n",
              "  <div id=\"df-ddb52637-1b22-4a96-8a9f-3629ee9f0d50\">\n",
              "    <div class=\"colab-df-container\">\n",
              "      <div>\n",
              "<style scoped>\n",
              "    .dataframe tbody tr th:only-of-type {\n",
              "        vertical-align: middle;\n",
              "    }\n",
              "\n",
              "    .dataframe tbody tr th {\n",
              "        vertical-align: top;\n",
              "    }\n",
              "\n",
              "    .dataframe thead th {\n",
              "        text-align: right;\n",
              "    }\n",
              "</style>\n",
              "<table border=\"1\" class=\"dataframe\">\n",
              "  <thead>\n",
              "    <tr style=\"text-align: right;\">\n",
              "      <th></th>\n",
              "      <th>topic</th>\n",
              "      <th>text</th>\n",
              "    </tr>\n",
              "  </thead>\n",
              "  <tbody>\n",
              "    <tr>\n",
              "      <th>131394</th>\n",
              "      <td>politics</td>\n",
              "      <td>[همه‌چیز, شبیه, مسابقه, هفته, حضور, مجری, مرحو...</td>\n",
              "    </tr>\n",
              "    <tr>\n",
              "      <th>88791</th>\n",
              "      <td>politics</td>\n",
              "      <td>[رییس, مجمع, تشخیص, مصلحت, نظام, اشاره, ثبت‌نا...</td>\n",
              "    </tr>\n",
              "    <tr>\n",
              "      <th>121984</th>\n",
              "      <td>sports</td>\n",
              "      <td>[مرحله, مسابقات, لیگ, ورزش‌های, سه, گانه, برگز...</td>\n",
              "    </tr>\n",
              "    <tr>\n",
              "      <th>12673</th>\n",
              "      <td>politics</td>\n",
              "      <td>[بارها, تاکید, کرده‌اند, برنامه‌ای, برای, حذف,...</td>\n",
              "    </tr>\n",
              "    <tr>\n",
              "      <th>106051</th>\n",
              "      <td>sports</td>\n",
              "      <td>[گزارش, ورزش, سه, کمتر, فکر, می‌کرد, بازی, تیم...</td>\n",
              "    </tr>\n",
              "    <tr>\n",
              "      <th>...</th>\n",
              "      <td>...</td>\n",
              "      <td>...</td>\n",
              "    </tr>\n",
              "    <tr>\n",
              "      <th>92968</th>\n",
              "      <td>sports</td>\n",
              "      <td>[گزارش, ایسنا, جام‌جهانی, روسیه, روز, آغاز, می...</td>\n",
              "    </tr>\n",
              "    <tr>\n",
              "      <th>169808</th>\n",
              "      <td>cultural</td>\n",
              "      <td>[نمایش, کمدی, کارگردانی, میثم, عبدی, دی, سالن,...</td>\n",
              "    </tr>\n",
              "    <tr>\n",
              "      <th>157638</th>\n",
              "      <td>cultural</td>\n",
              "      <td>[معاون, پژوهشی, جهاد, دانشگاهی, واحد, استان, ا...</td>\n",
              "    </tr>\n",
              "    <tr>\n",
              "      <th>118852</th>\n",
              "      <td>sports</td>\n",
              "      <td>[گزارش, ورزش, سه, آبی, پوشان, پایتخت, نیم, فصل...</td>\n",
              "    </tr>\n",
              "    <tr>\n",
              "      <th>53822</th>\n",
              "      <td>politics</td>\n",
              "      <td>[حسن, روحانی, روز, گذشته, بخشی, سخنان, مراسم, ...</td>\n",
              "    </tr>\n",
              "  </tbody>\n",
              "</table>\n",
              "<p>36150 rows × 2 columns</p>\n",
              "</div>\n",
              "      <button class=\"colab-df-convert\" onclick=\"convertToInteractive('df-ddb52637-1b22-4a96-8a9f-3629ee9f0d50')\"\n",
              "              title=\"Convert this dataframe to an interactive table.\"\n",
              "              style=\"display:none;\">\n",
              "        \n",
              "  <svg xmlns=\"http://www.w3.org/2000/svg\" height=\"24px\"viewBox=\"0 0 24 24\"\n",
              "       width=\"24px\">\n",
              "    <path d=\"M0 0h24v24H0V0z\" fill=\"none\"/>\n",
              "    <path d=\"M18.56 5.44l.94 2.06.94-2.06 2.06-.94-2.06-.94-.94-2.06-.94 2.06-2.06.94zm-11 1L8.5 8.5l.94-2.06 2.06-.94-2.06-.94L8.5 2.5l-.94 2.06-2.06.94zm10 10l.94 2.06.94-2.06 2.06-.94-2.06-.94-.94-2.06-.94 2.06-2.06.94z\"/><path d=\"M17.41 7.96l-1.37-1.37c-.4-.4-.92-.59-1.43-.59-.52 0-1.04.2-1.43.59L10.3 9.45l-7.72 7.72c-.78.78-.78 2.05 0 2.83L4 21.41c.39.39.9.59 1.41.59.51 0 1.02-.2 1.41-.59l7.78-7.78 2.81-2.81c.8-.78.8-2.07 0-2.86zM5.41 20L4 18.59l7.72-7.72 1.47 1.35L5.41 20z\"/>\n",
              "  </svg>\n",
              "      </button>\n",
              "      \n",
              "  <style>\n",
              "    .colab-df-container {\n",
              "      display:flex;\n",
              "      flex-wrap:wrap;\n",
              "      gap: 12px;\n",
              "    }\n",
              "\n",
              "    .colab-df-convert {\n",
              "      background-color: #E8F0FE;\n",
              "      border: none;\n",
              "      border-radius: 50%;\n",
              "      cursor: pointer;\n",
              "      display: none;\n",
              "      fill: #1967D2;\n",
              "      height: 32px;\n",
              "      padding: 0 0 0 0;\n",
              "      width: 32px;\n",
              "    }\n",
              "\n",
              "    .colab-df-convert:hover {\n",
              "      background-color: #E2EBFA;\n",
              "      box-shadow: 0px 1px 2px rgba(60, 64, 67, 0.3), 0px 1px 3px 1px rgba(60, 64, 67, 0.15);\n",
              "      fill: #174EA6;\n",
              "    }\n",
              "\n",
              "    [theme=dark] .colab-df-convert {\n",
              "      background-color: #3B4455;\n",
              "      fill: #D2E3FC;\n",
              "    }\n",
              "\n",
              "    [theme=dark] .colab-df-convert:hover {\n",
              "      background-color: #434B5C;\n",
              "      box-shadow: 0px 1px 3px 1px rgba(0, 0, 0, 0.15);\n",
              "      filter: drop-shadow(0px 1px 2px rgba(0, 0, 0, 0.3));\n",
              "      fill: #FFFFFF;\n",
              "    }\n",
              "  </style>\n",
              "\n",
              "      <script>\n",
              "        const buttonEl =\n",
              "          document.querySelector('#df-ddb52637-1b22-4a96-8a9f-3629ee9f0d50 button.colab-df-convert');\n",
              "        buttonEl.style.display =\n",
              "          google.colab.kernel.accessAllowed ? 'block' : 'none';\n",
              "\n",
              "        async function convertToInteractive(key) {\n",
              "          const element = document.querySelector('#df-ddb52637-1b22-4a96-8a9f-3629ee9f0d50');\n",
              "          const dataTable =\n",
              "            await google.colab.kernel.invokeFunction('convertToInteractive',\n",
              "                                                     [key], {});\n",
              "          if (!dataTable) return;\n",
              "\n",
              "          const docLinkHtml = 'Like what you see? Visit the ' +\n",
              "            '<a target=\"_blank\" href=https://colab.research.google.com/notebooks/data_table.ipynb>data table notebook</a>'\n",
              "            + ' to learn more about interactive tables.';\n",
              "          element.innerHTML = '';\n",
              "          dataTable['output_type'] = 'display_data';\n",
              "          await google.colab.output.renderOutput(dataTable, element);\n",
              "          const docLink = document.createElement('div');\n",
              "          docLink.innerHTML = docLinkHtml;\n",
              "          element.appendChild(docLink);\n",
              "        }\n",
              "      </script>\n",
              "    </div>\n",
              "  </div>\n",
              "  "
            ]
          },
          "metadata": {},
          "execution_count": 34
        }
      ]
    },
    {
      "cell_type": "markdown",
      "source": [
        "Make a list of the remaining unique tokens (5 points)"
      ],
      "metadata": {
        "id": "WH6Lw66Xk-Vb"
      }
    },
    {
      "cell_type": "code",
      "source": [
        "unique_token_list = list(set([word for row in train_df['text'] for word in row]))"
      ],
      "metadata": {
        "id": "ASLpUFZgkROF"
      },
      "execution_count": 35,
      "outputs": []
    },
    {
      "cell_type": "markdown",
      "source": [
        "Count the number of the occurences of each token in each document. This way, you can make a numpy array to represent each document. Call this new array `x_train`. (10 points)\n",
        "\n",
        "Example:\n",
        "\n",
        "Unique tokens in all documents: \n",
        "```\n",
        "0: hen\n",
        "1: sometimes\n",
        "2: a\n",
        "3: the\n",
        "4: dog\n",
        "5: runs\n",
        "6: faster\n",
        "7: than\n",
        "8: cat\n",
        "9: bird\n",
        "```\n",
        "\n",
        "Current Document: `sometimes a dog runs faster than a cat`\n",
        "\n",
        "The representation of the document:\n",
        "\n",
        "```\n",
        "[0, 1, 2, 0, 1, 1, 1, 1, 1, 0]\n",
        "```\n",
        "\n",
        "The meaning of this representation:\n",
        "\n",
        "```\n",
        "0: the document doesn't contain \"hen\"\n",
        "1: the document contains 1 \"sometimes\"\n",
        "2: the document contains 2 \"a\"\n",
        "0: the document doesn't contain \"the\"\n",
        "1: the document contains 1 \"dog\"\n",
        "1: the document contains 1 \"runs\"\n",
        "1: the document contains 1 \"faster\"\n",
        "1: the document contains 1 \"than\"\n",
        "1: the document contains 1 \"cat\"\n",
        "0: the document doesn't contain \"bird\"\n",
        "``` "
      ],
      "metadata": {
        "id": "xI9kbGYql-WU"
      }
    },
    {
      "cell_type": "code",
      "source": [
        "x_train = train_df['text'].to_numpy()\n",
        "vectorizer = CountVectorizer(vocabulary=unique_token_list)\n",
        "x_train = [vectorizer.fit_transform([' '.join(x)]).toarray().tolist()[0] for x in x_train]"
      ],
      "metadata": {
        "id": "Z17IkdW-lc2p"
      },
      "execution_count": 64,
      "outputs": []
    },
    {
      "cell_type": "markdown",
      "source": [
        "Make another numpy array by converting the topics associated with the training news to numbers. For instance, if the topics are: `sports`, `economics`, `politics`, and `cultural`, convert them to `0` to `3`. Call this new array `y_train`. (5 points)"
      ],
      "metadata": {
        "id": "NXeW76p2pjnc"
      }
    },
    {
      "cell_type": "code",
      "source": [
        "topic_dict = {\n",
        "    \"sports\": 0,\n",
        "    \"economics\": 1,\n",
        "    \"politics\": 2,\n",
        "    \"cultural\": 3\n",
        "}"
      ],
      "metadata": {
        "id": "Xaxm58WcAJE9"
      },
      "execution_count": 60,
      "outputs": []
    },
    {
      "cell_type": "code",
      "source": [
        "y_train = [topic_dict[t] for t in train_df['topic'].to_numpy()]\n",
        "print(y_train)"
      ],
      "metadata": {
        "id": "wV5zeofEF3Nn",
        "colab": {
          "base_uri": "https://localhost:8080/"
        },
        "outputId": "edc38356-5015-448b-979e-d68c96305a75"
      },
      "execution_count": 61,
      "outputs": [
        {
          "output_type": "stream",
          "name": "stdout",
          "text": [
            "[2, 2, 0, 2, 0, 1, 1, 3, 2, 2, 2, 0, 0, 3, 2, 2, 0, 3, 1, 0, 3, 0, 0, 0, 1, 0, 2, 3, 0, 3, 1, 3, 0, 1, 0, 1, 0, 2, 0, 1, 1, 3, 3, 1, 2, 2, 2, 2, 0, 3, 3, 1, 0, 1, 3, 0, 1, 0, 1, 0, 1, 3, 1, 3, 2, 2, 3, 0, 0, 1, 0, 1, 3, 1, 1, 1, 1, 2, 0, 1, 0, 1, 2, 0, 3, 3, 1, 3, 3, 3, 2, 1, 3, 3, 2, 0, 3, 2, 1, 1, 2, 2, 0, 2, 0, 0, 2, 2, 1, 3, 0, 1, 0, 2, 2, 2, 2, 1, 1, 1, 2, 1, 2, 1, 0, 3, 0, 2, 0, 1, 2, 3, 2, 1, 0, 2, 0, 1, 3, 2, 2, 1, 1, 1, 3, 2, 0, 3, 2, 0, 3, 3, 2, 2, 2, 0, 1, 0, 0, 2, 2, 2, 0, 1, 0, 2, 1, 1, 0, 3, 3, 0, 2, 0, 2, 0, 2, 1, 2, 3, 2, 3, 0, 2, 2, 0, 2, 3, 2, 1, 3, 3, 1, 2, 3, 2, 1, 2, 2, 0, 3, 1, 3, 0, 3, 3, 2, 0, 2, 2, 3, 3, 1, 3, 2, 2, 3, 0, 0, 0, 0, 1, 2, 0, 2, 3, 3, 0, 1, 1, 2, 2, 0, 1, 0, 3, 0, 0, 3, 0, 3, 0, 3, 3, 1, 3, 1, 0, 0, 3, 0, 2, 1, 0, 1, 3, 2, 1, 0, 2, 3, 2, 3, 0, 0, 0, 1, 0, 0, 2, 0, 2, 1, 1, 1, 1, 0, 1, 1, 0, 1, 2, 2, 1, 2, 0, 2, 0, 0, 1, 1, 3, 3, 1, 0, 0, 0, 0, 0, 1, 3, 3, 3, 0, 1, 0, 0, 2, 0, 0, 1, 1, 0, 1, 1, 1, 1, 3, 1, 2, 1, 3, 0, 0, 2, 3, 1, 2, 3, 3, 1, 3, 2, 3, 1, 0, 0, 0, 0, 0, 1, 1, 0, 0, 1, 2, 1, 3, 1, 1, 1, 3, 0, 3, 2, 2, 2, 0, 2, 3, 0, 3, 1, 1, 1, 3, 1, 0, 0, 3, 3, 2, 2, 2, 3, 1, 0, 3, 1, 2, 1, 1, 2, 1, 0, 0, 0, 3, 2, 1, 2, 2, 2, 1, 2, 3, 1, 2, 0, 3, 3, 1, 3, 3, 0, 2, 0, 1, 0, 0, 2, 0, 1, 2, 2, 3, 3, 2, 1, 1, 3, 1, 3, 3, 3, 2, 2, 3, 2, 0, 2, 3, 0, 2, 0, 3, 2, 2, 3, 2, 2, 0, 2, 0, 2, 3, 3, 3, 2, 2, 2, 0, 2, 3, 1, 3, 0, 3, 2, 0, 2, 3, 0, 0, 3, 1, 0, 2, 3, 0, 3, 2, 2, 3, 3, 3, 3, 2, 0, 1, 0, 3, 0, 3, 0, 0, 0, 2, 3, 2, 1, 1, 2, 2, 3, 0, 1, 3, 3, 1, 0, 2, 2, 3, 2, 2, 1, 2, 1, 2, 0, 1, 1, 3, 3, 1, 0, 0, 2, 1, 1, 2, 1, 0, 2, 3, 2, 2, 0, 1, 1, 1, 0, 1, 2, 1, 1, 1, 0, 3, 0, 1, 0, 2, 1, 3, 0, 0, 1, 3, 2, 1, 3, 3, 0, 0, 3, 3, 2, 0, 3, 0, 0, 0, 1, 3, 1, 0, 3, 1, 2, 0, 2, 2, 1, 0, 3, 2, 3, 2, 0, 0, 0, 3, 1, 1, 1, 3, 1, 0, 0, 0, 3, 3, 2, 3, 1, 0, 0, 3, 2, 2, 2, 0, 0, 2, 1, 2, 1, 3, 1, 0, 0, 3, 3, 3, 2, 3, 1, 2, 1, 1, 3, 0, 3, 3, 0, 0, 3, 3, 2, 1, 1, 2, 3, 2, 3, 0, 0, 2, 3, 3, 1, 1, 2, 3, 1, 2, 0, 0, 0, 3, 0, 0, 3, 0, 1, 2, 2, 3, 2, 1, 0, 2, 1, 2, 1, 2, 3, 0, 3, 2, 0, 1, 2, 1, 3, 3, 0, 3, 2, 0, 1, 1, 1, 2, 1, 2, 2, 1, 0, 3, 1, 2, 1, 3, 1, 3, 1, 2, 3, 1, 2, 1, 3, 3, 1, 3, 3, 2, 1, 1, 1, 3, 1, 0, 2, 3, 0, 1, 2, 0, 2, 2, 1, 1, 1, 2, 1, 0, 2, 1, 0, 2, 2, 1, 2, 0, 2, 1, 3, 0, 2, 3, 1, 2, 2, 2, 3, 3, 1, 1, 0, 0, 1, 3, 0, 0, 1, 3, 3, 3, 3, 0, 2, 2, 1, 1, 0, 1, 1, 0, 2, 0, 3, 3, 0, 2, 2, 3, 3, 3, 2, 0, 2, 0, 2, 1, 0, 1, 2, 3, 3, 1, 3, 0, 1, 1, 1, 2, 3, 1, 2, 2, 3, 0, 1, 0, 3, 3, 0, 1, 0, 1, 1, 0, 0, 0, 0, 2, 1, 2, 1, 2, 1, 3, 3, 1, 2, 3, 1, 1, 1, 2, 0, 2, 2, 1, 2, 1, 2, 3, 3, 3, 2, 1, 2, 3, 2, 0, 3, 3, 2, 0, 2, 1, 3, 2, 2, 0, 1, 2, 1, 2, 2, 1, 3, 0, 1, 2, 0, 2, 3, 0, 0, 3, 0, 0, 2, 2, 0, 2, 0, 0, 3, 3, 1, 0, 0, 3, 2, 2, 2, 1, 3, 3, 0, 2, 1, 3, 0, 0, 1, 0, 2, 3, 3, 3, 3, 3, 3, 3, 0, 2, 0, 1, 1, 1, 3, 1, 3, 0, 3, 0, 3, 0, 1, 0, 1, 1, 3, 0, 2, 1, 0, 3, 2, 1, 1, 1, 0, 2, 3, 1, 3, 2, 1, 2, 0, 1, 3, 3, 3, 3, 1, 2, 1, 1, 3, 0, 1, 3, 2, 2, 0, 0, 0, 2, 1, 1, 0, 3, 2, 0, 1, 1, 0, 2, 0, 3, 2, 3, 2, 2, 2, 1, 1, 1, 2, 3, 1, 2, 0, 3, 0, 2, 0, 0, 2, 3, 3, 0, 3, 2, 2, 1, 0, 2, 0, 0, 3, 0, 3, 2, 0, 2, 3, 1, 0, 1, 3, 3, 1, 0, 3, 1, 2, 1, 3, 3, 3, 1, 3, 0, 0, 1, 2, 3, 1, 1, 2, 3, 0, 0, 2, 0, 1, 2, 0, 0, 3, 2, 1, 0, 2, 2, 2, 0, 2, 2, 2, 0, 3, 2, 2, 0, 2, 1, 1, 2, 1, 3, 3, 2, 1, 0, 0, 0, 0, 0, 0, 2, 3, 1, 0, 0, 2, 3, 3, 0, 1, 3, 1, 0, 0, 3, 2, 3, 1, 2, 1, 0, 0, 0, 3, 0, 2, 3, 1, 3, 2, 3, 2, 0, 1, 0, 2, 1, 0, 1, 0, 2, 2, 3, 1, 3, 1, 3, 0, 3, 1, 0, 0, 3, 3, 3, 3, 2, 0, 1, 2, 3, 1, 3, 3, 2, 3, 0, 0, 3, 0, 2, 2, 3, 2, 3, 0, 3, 3, 3, 1, 1, 3, 0, 3, 2, 0, 0, 0, 2, 0, 2, 2, 3, 3, 2, 2, 0, 3, 1, 0, 0, 1, 2, 0, 3, 0, 2, 3, 0, 0, 3, 2, 0, 0, 0, 2, 2, 1, 3, 2, 0, 2, 3, 0, 0, 2, 3, 3, 3, 1, 1, 2, 0, 3, 1, 0, 1, 2, 1, 3, 3, 1, 1, 0, 0, 0, 0, 2, 1, 1, 1, 2, 3, 0, 2, 0, 1, 0, 3, 1, 0, 3, 2, 0, 0, 2, 0, 0, 0, 2, 0, 3, 3, 3, 1, 3, 1, 0, 3, 2, 3, 2, 2, 0, 1, 0, 0, 2, 2, 0, 3, 0, 3, 3, 3, 3, 3, 0, 1, 2, 0, 0, 2, 0, 0, 0, 3, 2, 1, 0, 0, 2, 1, 1, 3, 3, 2, 1, 0, 2, 0, 0, 0, 3, 2, 0, 1, 2, 1, 3, 2, 2, 3, 3, 3, 2, 2, 2, 3, 2, 0, 0, 0, 1, 3, 1, 0, 0, 3, 1, 1, 2, 2, 2, 3, 0, 2, 1, 2, 3, 1, 2, 1, 0, 1, 0, 1, 2, 2, 2, 2, 3, 3, 1, 2, 2, 3, 3, 3, 0, 3, 2, 3, 1, 1, 2, 0, 0, 0, 0, 3, 2, 0, 1, 1, 1, 0, 3, 2, 2, 0, 3, 0, 0, 0, 0, 0, 0, 1, 2, 1, 1, 3, 2, 2, 3, 1, 1, 0, 3, 1, 3, 0, 2, 1, 1, 0, 2, 1, 1, 1, 0, 2, 0, 1, 3, 1, 1, 1, 0, 2, 0, 1, 3, 0, 2, 2, 3, 3, 1, 2, 1, 0, 1, 2, 2, 2, 1, 0, 1, 3, 0, 1, 1, 3, 2, 2, 3, 3, 3, 2, 2, 1, 0, 2, 3, 0, 3, 0, 1, 2, 2, 2, 3, 2, 0, 2, 1, 1, 3, 2, 0, 3, 2, 2, 1, 3, 1, 0, 3, 2, 2, 2, 1, 2, 3, 0, 2, 0, 3, 3, 3, 1, 0, 0, 1, 0, 1, 2, 0, 1, 1, 0, 1, 2, 3, 0, 2, 0, 0, 2, 2, 1, 0, 3, 3, 2, 1, 0, 3, 1, 0, 1, 3, 0, 3, 2, 0, 1, 2, 0, 1, 0, 3, 3, 3, 2, 0, 1, 3, 0, 3, 0, 0, 2, 2, 0, 2, 1, 3, 0, 0, 0, 3, 1, 3, 3, 3, 1, 0, 2, 3, 0, 0, 0, 2, 1, 3, 1, 2, 1, 2, 3, 0, 2, 1, 1, 2, 1, 1, 0, 0, 3, 0, 0, 1, 3, 1, 3, 2, 2, 3, 0, 3, 2, 1, 3, 1, 3, 1, 1, 3, 0, 2, 1, 3, 0, 1, 1, 3, 1, 2, 0, 3, 0, 2, 3, 1, 3, 0, 0, 2, 3, 0, 3, 3, 3, 0, 3, 2, 0, 1, 0, 1, 2, 2, 0, 2, 0, 3, 3, 3, 2, 1, 2, 3, 2, 3, 0, 0, 1, 3, 0, 2, 3, 1, 2, 2, 3, 3, 1, 3, 3, 3, 1, 2, 1, 2, 2, 2, 3, 3, 0, 2, 2, 1, 1, 0, 0, 2, 3, 3, 3, 0, 2, 2, 0, 0, 3, 1, 0, 0, 2, 0, 2, 1, 0, 0, 3, 3, 0, 3, 3, 3, 1, 0, 2, 3, 2, 0, 0, 0, 3, 3, 0, 1, 2, 3, 2, 3, 2, 1, 3, 2, 2, 3, 2, 1, 1, 2, 0, 3, 3, 0, 1, 0, 1, 3, 1, 2, 3, 3, 0, 2, 0, 2, 1, 0, 1, 0, 0, 1, 0, 2, 3, 3, 0, 3, 0, 0, 1, 1, 0, 3, 1, 3, 0, 2, 1, 2, 1, 0, 0, 1, 0, 2, 3, 1, 3, 0, 3, 1, 2, 2, 1, 2, 1, 3, 2, 3, 2, 3, 0, 0, 3, 2, 2, 2, 3, 0, 2, 2, 0, 0, 3, 2, 1, 3, 1, 1, 3, 3, 1, 1, 2, 3, 3, 2, 3, 0, 1, 2, 3, 2, 1, 3, 3, 1, 0, 2, 1, 2, 1, 1, 0, 3, 2, 0, 0, 3, 2, 1, 0, 0, 0, 2, 1, 1, 2, 3, 2, 2, 3, 3, 1, 2, 3, 2, 1, 2, 1, 3, 1, 0, 0, 3, 0, 0, 1, 0, 1, 2, 0, 1, 1, 3, 1, 1, 3, 0, 0, 3, 1, 3, 2, 1, 0, 2, 3, 3, 3, 0, 3, 0, 2, 0, 2, 2, 2, 0, 1, 3, 2, 3, 0, 3, 0, 3, 0, 0, 0, 1, 2, 2, 1, 1, 0, 0, 0, 0, 2, 2, 3, 2, 3, 0, 0, 1, 1, 1, 3, 1, 2, 1, 0, 3, 0, 1, 3, 0, 1, 1, 1, 3, 2, 1, 0, 2, 1, 3, 0, 2, 0, 3, 2, 3, 1, 0, 0, 2, 0, 3, 3, 0, 2, 3, 3, 0, 3, 0, 3, 0, 2, 0, 2, 0, 3, 2, 1, 3, 1, 1, 0, 1, 2, 3, 1, 2, 2, 3, 3, 1, 1, 0, 3, 0, 2, 2, 3, 3, 0, 1, 1, 0, 3, 0, 1, 1, 0, 0, 2, 0, 0, 1, 0, 3, 0, 0, 1, 3, 1, 0, 3, 2, 3, 0, 0, 1, 2, 1, 3, 3, 1, 0, 0, 1, 0, 1, 1, 2, 1, 2, 2, 0, 3, 2, 3, 1, 0, 0, 2, 3, 0, 0, 2, 3, 3, 0, 1, 2, 2, 3, 1, 2, 0, 0, 1, 2, 0, 3, 0, 0, 0, 1, 1, 2, 2, 1, 0, 1, 0, 1, 1, 1, 1, 2, 2, 3, 3, 0, 2, 3, 3, 3, 1, 0, 2, 3, 2, 2, 2, 1, 1, 3, 1, 3, 3, 3, 2, 1, 0, 2, 0, 0, 1, 2, 1, 1, 3, 1, 0, 2, 3, 1, 0, 2, 2, 0, 2, 2, 0, 1, 1, 3, 1, 3, 0, 2, 2, 2, 2, 1, 2, 1, 1, 3, 1, 1, 0, 3, 3, 1, 2, 2, 3, 1, 2, 3, 1, 0, 2, 0, 0, 0, 2, 3, 0, 2, 0, 0, 2, 0, 1, 3, 2, 2, 3, 3, 0, 3, 0, 0, 3, 2, 3, 0, 0, 3, 3, 0, 3, 2, 3, 0, 3, 0, 1, 3, 0, 0, 2, 0, 0, 1, 0, 2, 0, 3, 3, 0, 0, 2, 3, 2, 1, 3, 1, 3, 2, 2, 3, 3, 1, 3, 0, 0, 0, 3, 3, 0, 2, 2, 1, 0, 1, 2, 0, 1, 2, 2, 2, 1, 3, 1, 1, 0, 2, 0, 1, 2, 0, 0, 2, 2, 0, 2, 1, 0, 2, 1, 3, 1, 0, 1, 3, 3, 0, 1, 3, 2, 2, 2, 3, 0, 2, 3, 2, 1, 1, 3, 0, 2, 2, 1, 1, 1, 2, 0, 0, 3, 1, 2, 1, 0, 0, 1, 0, 3, 1, 1, 3, 2, 0, 2, 2, 0, 2, 2, 0, 1, 1, 1, 1, 3, 2, 2, 2, 0, 2, 0, 2, 3, 0, 3, 2, 3, 1, 0, 1, 2, 0, 1, 1, 0, 2, 3, 2, 1, 1, 1, 0, 0, 2, 0, 0, 1, 2, 2, 0, 3, 0, 1, 2, 0, 3, 2, 0, 2, 0, 3, 0, 1, 0, 0, 1, 1, 0, 0, 0, 2, 1, 3, 2, 1, 3, 3, 0, 1, 2, 1, 3, 0, 0, 3, 1, 2, 1, 3, 1, 3, 3, 1, 2, 2, 2, 2, 3, 2, 2, 0, 3, 3, 2, 1, 2, 0, 2, 2, 2, 3, 1, 3, 3, 0, 3, 3, 2, 2, 3, 0, 3, 2, 0, 0, 0, 0, 1, 3, 0, 2, 0, 3, 2, 0, 0, 2, 0, 3, 1, 3, 3, 0, 0, 3, 1, 3, 1, 1, 1, 3, 1, 2, 3, 1, 0, 0, 3, 2, 3, 0, 2, 3, 0, 1, 1, 2, 2, 0, 2, 1, 2, 3, 1, 2, 1, 2, 0, 0, 0, 1, 3, 1, 2, 1, 2, 0, 3, 1, 2, 0, 2, 2, 1, 1, 0, 3, 1, 0, 2, 0, 1, 2, 0, 0, 2, 0, 0, 2, 2, 2, 0, 2, 3, 3, 0, 2, 0, 3, 0, 1, 3, 2, 0, 0, 3, 2, 1, 3, 0, 0, 2, 2, 3, 1, 3, 2, 3, 3, 1, 0, 3, 1, 1, 3, 3, 2, 2, 1, 3, 1, 0, 2, 2, 2, 3, 1, 3, 3, 2, 0, 2, 0, 0, 3, 1, 0, 3, 2, 1, 1, 0, 3, 1, 0, 3, 2, 1, 2, 3, 3, 0, 3, 3, 3, 3, 1, 3, 2, 1, 0, 2, 1, 0, 3, 2, 1, 2, 0, 1, 1, 1, 0, 1, 3, 0, 2, 0, 3, 3, 2, 1, 3, 1, 0, 0, 1, 3, 1, 2, 3, 0, 1, 2, 0, 1, 1, 0, 2, 0, 3, 1, 2, 0, 0, 3, 3, 1, 3, 1, 3, 3, 3, 1, 1, 3, 0, 2, 2, 2, 1, 1, 3, 2, 0, 2, 2, 1, 0, 0, 2, 3, 0, 3, 2, 0, 0, 0, 3, 2, 1, 3, 0, 1, 2, 0, 0, 0, 1, 1, 3, 1, 3, 3, 1, 1, 3, 2, 2, 0, 2, 0, 0, 2, 0, 0, 1, 3, 2, 1, 3, 3, 2, 0, 3, 2, 2, 1, 1, 1, 2, 1, 2, 0, 2, 1, 1, 0, 1, 3, 1, 1, 1, 3, 3, 2, 0, 2, 2, 1, 0, 3, 2, 0, 2, 2, 0, 0, 2, 1, 2, 3, 0, 0, 3, 2, 0, 0, 3, 1, 2, 0, 2, 3, 3, 3, 1, 1, 3, 0, 3, 2, 2, 1, 1, 0, 0, 1, 0, 2, 3, 0, 3, 3, 2, 3, 2, 2, 3, 2, 3, 1, 3, 0, 2, 2, 1, 3, 2, 3, 3, 2, 1, 2, 3, 1, 1, 0, 3, 3, 3, 3, 2, 3, 1, 3, 0, 1, 1, 3, 0, 0, 3, 0, 3, 3, 1, 2, 0, 2, 0, 3, 1, 3, 1, 2, 1, 0, 3, 1, 0, 3, 0, 1, 2, 0, 2, 2, 1, 0, 2, 2, 0, 1, 1, 0, 1, 1, 2, 0, 0, 2, 3, 0, 0, 2, 0, 3, 1, 2, 2, 1, 0, 2, 0, 3, 0, 2, 2, 3, 1, 2, 3, 1, 1, 1, 2, 3, 0, 0, 2, 2, 3, 2, 0, 1, 0, 0, 3, 1, 0, 0, 0, 1, 1, 2, 1, 0, 2, 3, 0, 0, 0, 0, 1, 1, 2, 0, 3, 0, 1, 1, 0, 1, 1, 1, 0, 0, 3, 2, 1, 2, 2, 0, 3, 0, 0, 3, 0, 1, 1, 2, 1, 3, 3, 2, 1, 1, 3, 1, 1, 0, 0, 3, 0, 2, 0, 2, 3, 3, 1, 0, 3, 3, 2, 1, 2, 3, 2, 1, 1, 2, 2, 3, 1, 2, 1, 0, 0, 1, 2, 1, 2, 2, 1, 2, 0, 2, 0, 3, 3, 0, 3, 0, 3, 0, 2, 2, 2, 2, 0, 0, 3, 2, 1, 0, 1, 1, 2, 3, 3, 3, 1, 0, 2, 0, 3, 3, 0, 0, 0, 1, 0, 1, 3, 0, 0, 3, 3, 2, 1, 3, 0, 3, 3, 2, 3, 3, 2, 0, 1, 1, 0, 3, 1, 0, 0, 1, 3, 3, 1, 0, 0, 2, 2, 1, 1, 2, 0, 1, 3, 2, 1, 1, 3, 3, 3, 1, 0, 1, 3, 2, 2, 3, 1, 3, 1, 1, 3, 2, 3, 2, 2, 1, 0, 2, 1, 0, 0, 0, 0, 0, 3, 3, 0, 0, 1, 3, 2, 3, 1, 1, 1, 0, 2, 2, 3, 2, 2, 1, 0, 1, 0, 1, 0, 1, 1, 0, 2, 3, 0, 2, 1, 0, 0, 1, 1, 3, 1, 1, 3, 1, 3, 2, 2, 0, 2, 0, 0, 0, 0, 2, 2, 2, 1, 2, 3, 3, 2, 3, 2, 3, 2, 1, 3, 0, 0, 0, 2, 3, 1, 1, 1, 0, 2, 1, 1, 0, 2, 1, 3, 0, 1, 3, 1, 1, 0, 3, 1, 2, 3, 3, 3, 1, 0, 0, 0, 2, 1, 2, 3, 1, 3, 1, 2, 3, 0, 3, 3, 0, 0, 0, 2, 2, 2, 1, 2, 2, 0, 3, 2, 2, 3, 1, 2, 0, 1, 3, 0, 3, 1, 1, 0, 1, 2, 0, 2, 2, 3, 1, 2, 3, 0, 1, 2, 2, 0, 2, 2, 0, 1, 2, 0, 1, 3, 0, 0, 3, 3, 1, 0, 0, 0, 2, 3, 0, 3, 3, 0, 0, 3, 2, 1, 0, 0, 2, 1, 0, 0, 0, 2, 2, 0, 1, 3, 3, 0, 3, 2, 3, 2, 1, 2, 0, 3, 1, 0, 2, 0, 1, 3, 1, 0, 3, 1, 0, 2, 2, 2, 1, 1, 1, 2, 1, 1, 1, 0, 0, 1, 2, 2, 1, 3, 3, 1, 2, 0, 3, 1, 3, 0, 1, 1, 0, 3, 1, 3, 1, 1, 0, 3, 0, 1, 1, 0, 1, 0, 1, 1, 2, 0, 1, 1, 3, 1, 0, 0, 0, 2, 1, 1, 2, 0, 0, 3, 0, 2, 2, 2, 2, 1, 1, 2, 3, 0, 2, 0, 2, 3, 0, 0, 1, 1, 3, 1, 3, 1, 0, 3, 1, 3, 3, 1, 1, 1, 3, 1, 0, 0, 1, 0, 3, 2, 0, 0, 2, 2, 1, 3, 0, 2, 3, 1, 3, 3, 1, 0, 2, 0, 3, 3, 0, 2, 3, 2, 1, 3, 0, 3, 1, 3, 0, 2, 2, 3, 3, 2, 1, 0, 1, 1, 2, 3, 2, 2, 2, 2, 2, 3, 2, 2, 3, 3, 3, 0, 2, 0, 1, 0, 0, 1, 1, 3, 2, 1, 0, 3, 3, 2, 2, 2, 2, 2, 0, 3, 0, 0, 2, 0, 3, 1, 1, 3, 0, 3, 1, 0, 1, 1, 0, 0, 0, 1, 0, 2, 2, 2, 0, 1, 1, 3, 3, 3, 2, 0, 0, 1, 0, 0, 3, 2, 3, 0, 0, 2, 2, 3, 1, 2, 1, 3, 0, 3, 2, 3, 1, 0, 2, 0, 1, 1, 1, 3, 0, 3, 2, 2, 2, 3, 0, 0, 3, 2, 2, 2, 2, 2, 0, 0, 2, 1, 3, 0, 0, 2, 0, 2, 0, 2, 3, 0, 3, 3, 2, 2, 3, 2, 0, 3, 2, 2, 2, 2, 1, 1, 0, 3, 1, 1, 3, 1, 3, 3, 0, 1, 1, 2, 0, 0, 1, 1, 0, 1, 0, 1, 2, 3, 1, 0, 3, 0, 2, 2, 2, 3, 0, 3, 0, 2, 0, 0, 1, 3, 2, 0, 0, 1, 3, 1, 2, 2, 1, 3, 2, 0, 1, 1, 1, 3, 0, 0, 1, 0, 0, 0, 2, 3, 1, 3, 1, 1, 0, 2, 2, 3, 2, 1, 0, 2, 0, 1, 2, 3, 1, 0, 2, 3, 1, 2, 3, 3, 3, 3, 2, 2, 0, 1, 2, 1, 2, 1, 1, 3, 0, 3, 2, 3, 0, 0, 3, 0, 2, 2, 0, 0, 2, 3, 3, 3, 2, 0, 3, 3, 3, 3, 2, 0, 0, 3, 2, 3, 0, 3, 1, 0, 1, 0, 2, 0, 0, 3, 2, 3, 2, 1, 0, 0, 2, 1, 2, 1, 2, 3, 3, 1, 2, 2, 1, 0, 2, 2, 3, 1, 1, 3, 1, 0, 0, 3, 3, 1, 0, 1, 1, 3, 0, 0, 3, 2, 1, 1, 1, 1, 1, 2, 3, 0, 2, 2, 2, 3, 0, 3, 3, 2, 3, 3, 2, 1, 1, 3, 3, 1, 0, 3, 0, 2, 2, 1, 1, 1, 0, 1, 1, 2, 3, 1, 1, 0, 2, 0, 2, 3, 1, 2, 2, 2, 1, 0, 3, 1, 1, 2, 2, 3, 1, 0, 1, 1, 1, 0, 3, 2, 1, 0, 2, 0, 1, 0, 2, 1, 2, 1, 0, 2, 0, 3, 0, 0, 3, 3, 0, 1, 2, 2, 1, 3, 3, 2, 0, 2, 2, 1, 1, 2, 0, 1, 1, 1, 2, 1, 1, 0, 0, 1, 3, 2, 0, 2, 3, 1, 2, 1, 1, 2, 3, 1, 1, 2, 2, 0, 2, 2, 0, 0, 2, 3, 1, 1, 3, 2, 0, 1, 3, 1, 0, 0, 3, 0, 1, 0, 1, 3, 3, 1, 1, 0, 0, 3, 2, 1, 0, 2, 2, 3, 0, 2, 2, 0, 0, 3, 0, 2, 3, 2, 0, 0, 0, 1, 0, 0, 0, 1, 3, 2, 1, 3, 2, 2, 3, 1, 3, 3, 0, 1, 3, 2, 0, 1, 3, 1, 1, 3, 1, 3, 0, 3, 2, 3, 3, 1, 2, 1, 2, 1, 0, 0, 3, 3, 2, 0, 1, 0, 0, 2, 1, 2, 2, 0, 2, 3, 3, 1, 0, 3, 2, 2, 0, 3, 3, 3, 3, 3, 3, 1, 1, 2, 1, 1, 1, 0, 1, 0, 3, 1, 1, 0, 2, 1, 2, 1, 3, 3, 3, 0, 0, 2, 2, 2, 3, 1, 1, 2, 0, 2, 1, 2, 3, 1, 1, 0, 0, 1, 3, 0, 1, 2, 3, 1, 1, 1, 3, 1, 2, 1, 0, 0, 3, 3, 0, 2, 2, 3, 1, 1, 3, 2, 1, 3, 1, 0, 2, 3, 0, 2, 1, 1, 1, 3, 0, 0, 2, 1, 1, 3, 2, 2, 1, 1, 2, 1, 3, 1, 1, 1, 2, 2, 0, 2, 0, 1, 1, 2, 1, 0, 3, 3, 2, 3, 3, 0, 2, 1, 3, 3, 1, 3, 0, 3, 3, 3, 0, 1, 2, 0, 2, 2, 2, 3, 2, 2, 2, 0, 0, 3, 3, 0, 0, 0, 2, 0, 1, 3, 1, 2, 0, 3, 2, 1, 2, 2, 2, 2, 3, 0, 3, 2, 2, 1, 0, 1, 3, 2, 1, 3, 1, 3, 0, 2, 0, 2, 2, 1, 1, 2, 3, 3, 0, 1, 0, 1, 1, 1, 3, 2, 0, 1, 0, 3, 0, 2, 3, 2, 3, 3, 0, 0, 2, 0, 0, 1, 3, 0, 1, 2, 0, 3, 3, 3, 2, 0, 3, 1, 1, 1, 3, 2, 0, 2, 2, 3, 2, 3, 3, 3, 3, 2, 3, 2, 2, 2, 1, 2, 1, 1, 3, 1, 2, 1, 2, 1, 0, 1, 3, 3, 1, 0, 2, 2, 1, 2, 3, 1, 1, 3, 1, 3, 2, 2, 1, 0, 1, 2, 3, 3, 3, 1, 0, 3, 3, 0, 0, 1, 3, 2, 0, 0, 0, 0, 1, 3, 3, 3, 2, 3, 2, 3, 0, 1, 1, 0, 2, 3, 0, 3, 2, 0, 3, 0, 2, 1, 0, 1, 3, 2, 3, 3, 3, 3, 1, 2, 3, 2, 0, 2, 2, 2, 3, 2, 0, 1, 2, 3, 0, 0, 1, 1, 0, 1, 2, 1, 1, 0, 3, 3, 1, 0, 3, 2, 0, 1, 1, 0, 0, 3, 3, 0, 0, 3, 3, 1, 0, 0, 1, 2, 2, 1, 1, 1, 3, 1, 2, 1, 3, 3, 0, 3, 0, 2, 1, 2, 3, 0, 3, 0, 3, 1, 0, 0, 2, 2, 1, 1, 1, 1, 1, 1, 0, 2, 0, 3, 0, 2, 0, 3, 2, 2, 0, 1, 1, 3, 3, 3, 3, 3, 0, 2, 0, 0, 1, 2, 2, 3, 0, 1, 1, 3, 2, 0, 3, 3, 2, 1, 0, 0, 3, 1, 0, 3, 2, 1, 2, 3, 0, 3, 1, 0, 3, 1, 2, 0, 2, 1, 3, 1, 2, 3, 2, 3, 0, 2, 2, 1, 2, 2, 3, 0, 2, 3, 0, 0, 3, 0, 2, 0, 3, 2, 0, 3, 0, 2, 3, 3, 0, 0, 1, 1, 0, 0, 1, 2, 1, 1, 3, 1, 0, 3, 0, 1, 2, 3, 2, 1, 0, 2, 1, 3, 1, 2, 3, 2, 1, 0, 2, 3, 1, 0, 2, 1, 3, 0, 1, 0, 3, 2, 0, 0, 3, 3, 2, 2, 1, 1, 1, 3, 1, 2, 0, 2, 0, 0, 0, 2, 1, 0, 1, 0, 1, 0, 0, 0, 3, 1, 2, 3, 1, 2, 2, 3, 1, 0, 1, 2, 3, 3, 2, 0, 2, 3, 2, 2, 2, 0, 0, 2, 1, 1, 3, 0, 0, 3, 1, 2, 1, 3, 3, 2, 2, 0, 2, 3, 3, 3, 0, 0, 2, 0, 2, 0, 0, 2, 2, 2, 2, 3, 0, 1, 1, 3, 0, 3, 0, 0, 2, 3, 0, 1, 3, 1, 1, 3, 1, 2, 1, 1, 0, 2, 1, 3, 1, 0, 1, 1, 3, 1, 3, 1, 3, 1, 0, 0, 0, 1, 2, 1, 0, 2, 2, 2, 0, 1, 3, 0, 1, 1, 2, 1, 0, 3, 0, 2, 2, 1, 3, 2, 1, 0, 0, 3, 3, 2, 3, 0, 3, 2, 0, 2, 0, 0, 3, 1, 2, 0, 0, 1, 2, 1, 1, 0, 2, 0, 2, 1, 3, 0, 1, 2, 3, 3, 1, 3, 1, 0, 0, 2, 2, 3, 1, 2, 1, 0, 1, 0, 2, 1, 0, 1, 2, 2, 2, 3, 2, 0, 0, 0, 2, 1, 2, 1, 2, 3, 0, 2, 1, 2, 1, 0, 2, 1, 3, 2, 1, 2, 1, 2, 0, 2, 3, 0, 0, 1, 1, 0, 3, 2, 3, 0, 1, 2, 0, 2, 0, 0, 1, 3, 0, 0, 1, 1, 1, 3, 3, 0, 0, 2, 2, 3, 2, 3, 2, 3, 0, 2, 0, 2, 0, 2, 3, 2, 0, 3, 3, 0, 3, 2, 0, 3, 0, 0, 3, 3, 3, 3, 0, 0, 2, 0, 1, 0, 1, 0, 2, 0, 0, 3, 1, 0, 1, 3, 2, 0, 1, 2, 1, 3, 3, 2, 2, 3, 0, 1, 2, 1, 3, 2, 0, 3, 2, 1, 0, 2, 3, 1, 2, 1, 3, 3, 0, 0, 2, 3, 0, 2, 2, 0, 1, 1, 3, 2, 0, 2, 1, 3, 1, 2, 1, 2, 1, 2, 3, 3, 0, 3, 2, 0, 0, 1, 3, 1, 1, 1, 2, 0, 0, 3, 3, 1, 0, 0, 3, 2, 0, 0, 0, 1, 1, 3, 0, 1, 3, 2, 3, 0, 1, 0, 3, 0, 2, 0, 2, 0, 2, 2, 1, 3, 0, 1, 1, 3, 0, 0, 1, 0, 1, 3, 1, 1, 0, 0, 0, 3, 0, 2, 3, 3, 0, 1, 1, 3, 3, 1, 1, 0, 3, 0, 1, 2, 2, 1, 3, 2, 0, 0, 3, 2, 2, 2, 3, 0, 2, 1, 1, 3, 1, 1, 2, 2, 3, 2, 3, 3, 2, 0, 3, 0, 3, 2, 2, 3, 3, 2, 3, 2, 0, 2, 0, 1, 0, 1, 2, 1, 0, 2, 3, 0, 2, 0, 0, 0, 1, 1, 1, 3, 1, 2, 3, 2, 3, 2, 0, 0, 3, 0, 0, 3, 0, 3, 2, 1, 3, 3, 3, 0, 2, 0, 3, 1, 1, 3, 1, 0, 2, 3, 1, 3, 1, 3, 2, 0, 2, 0, 1, 0, 0, 1, 3, 2, 3, 0, 1, 2, 3, 2, 3, 0, 0, 0, 0, 0, 2, 3, 1, 3, 1, 1, 1, 2, 3, 0, 0, 0, 2, 1, 2, 2, 2, 3, 1, 3, 1, 0, 2, 2, 3, 2, 0, 0, 2, 1, 1, 3, 1, 2, 3, 2, 1, 1, 1, 2, 2, 0, 2, 1, 0, 2, 2, 2, 2, 2, 3, 0, 0, 0, 1, 1, 3, 2, 1, 3, 0, 3, 3, 1, 2, 3, 0, 2, 2, 2, 2, 3, 2, 0, 3, 1, 3, 1, 2, 3, 0, 1, 0, 0, 1, 0, 1, 2, 0, 3, 1, 3, 2, 3, 1, 3, 1, 1, 3, 3, 2, 3, 3, 1, 2, 3, 1, 3, 2, 1, 1, 3, 1, 1, 2, 2, 0, 2, 2, 3, 3, 3, 1, 1, 0, 1, 0, 2, 3, 2, 2, 1, 1, 0, 2, 1, 1, 3, 3, 2, 1, 1, 3, 3, 1, 3, 3, 3, 2, 1, 1, 2, 0, 3, 2, 0, 3, 3, 2, 0, 1, 1, 0, 2, 3, 1, 0, 1, 0, 0, 1, 1, 3, 2, 2, 1, 2, 2, 0, 0, 0, 3, 2, 1, 2, 2, 0, 3, 1, 0, 3, 2, 3, 2, 2, 2, 0, 0, 1, 0, 2, 1, 1, 0, 1, 3, 0, 1, 3, 2, 2, 3, 1, 3, 0, 1, 1, 1, 2, 2, 0, 2, 3, 3, 0, 1, 1, 1, 3, 2, 2, 1, 1, 2, 2, 2, 3, 2, 1, 2, 3, 1, 2, 2, 1, 2, 1, 2, 0, 1, 2, 1, 1, 3, 0, 0, 3, 0, 0, 3, 2, 3, 3, 3, 1, 1, 2, 2, 3, 3, 3, 2, 0, 0, 2, 1, 3, 1, 0, 2, 1, 1, 3, 1, 2, 1, 2, 2, 2, 1, 0, 1, 0, 0, 0, 3, 0, 2, 2, 2, 2, 3, 3, 1, 3, 3, 3, 1, 1, 2, 1, 2, 1, 2, 3, 3, 3, 1, 0, 3, 0, 2, 0, 1, 1, 1, 2, 1, 3, 3, 1, 1, 0, 1, 1, 2, 2, 2, 1, 3, 0, 2, 2, 1, 0, 2, 1, 1, 1, 2, 1, 0, 3, 2, 3, 2, 1, 1, 1, 2, 0, 3, 0, 1, 1, 1, 1, 3, 0, 2, 0, 1, 0, 3, 3, 0, 0, 0, 3, 0, 2, 0, 2, 0, 3, 1, 1, 0, 3, 1, 0, 1, 1, 3, 1, 1, 1, 0, 2, 0, 2, 1, 1, 3, 0, 3, 2, 3, 0, 1, 1, 0, 3, 0, 0, 1, 0, 1, 2, 0, 0, 0, 2, 0, 3, 3, 1, 3, 1, 2, 1, 0, 1, 0, 1, 0, 1, 2, 3, 2, 1, 0, 2, 0, 2, 2, 0, 0, 0, 3, 1, 0, 1, 3, 1, 1, 0, 3, 2, 0, 0, 1, 0, 2, 0, 3, 1, 0, 1, 2, 3, 3, 3, 3, 1, 2, 2, 2, 1, 2, 1, 2, 3, 1, 2, 0, 2, 1, 0, 3, 2, 1, 0, 2, 2, 3, 0, 3, 2, 3, 3, 3, 1, 3, 1, 2, 2, 1, 2, 2, 2, 2, 2, 3, 3, 2, 2, 1, 1, 3, 2, 1, 2, 1, 1, 3, 3, 3, 0, 1, 3, 3, 0, 3, 1, 2, 2, 3, 0, 0, 2, 2, 3, 0, 3, 2, 1, 3, 1, 0, 3, 2, 2, 0, 2, 1, 1, 2, 2, 2, 1, 3, 2, 3, 0, 2, 1, 2, 1, 2, 1, 0, 0, 3, 3, 2, 3, 3, 3, 0, 1, 3, 0, 1, 3, 0, 0, 1, 3, 0, 0, 3, 1, 3, 3, 0, 0, 1, 0, 1, 3, 3, 0, 3, 0, 1, 3, 0, 0, 2, 3, 3, 1, 1, 1, 1, 3, 1, 3, 1, 0, 1, 1, 3, 0, 2, 0, 0, 0, 3, 0, 3, 2, 1, 3, 0, 0, 1, 0, 3, 0, 1, 3, 0, 3, 3, 0, 3, 3, 0, 0, 0, 2, 0, 0, 1, 2, 3, 2, 2, 2, 1, 1, 2, 1, 1, 3, 2, 0, 1, 0, 1, 3, 1, 1, 2, 0, 0, 1, 3, 2, 2, 1, 2, 3, 2, 1, 1, 1, 3, 3, 2, 2, 3, 1, 3, 0, 0, 3, 3, 0, 3, 3, 1, 3, 1, 3, 1, 2, 0, 0, 1, 3, 2, 2, 0, 1, 1, 2, 0, 3, 3, 0, 1, 0, 1, 1, 3, 0, 0, 3, 3, 2, 2, 2, 3, 0, 0, 1, 1, 0, 3, 2, 1, 1, 1, 1, 3, 0, 2, 3, 1, 2, 1, 1, 2, 2, 3, 0, 0, 0, 0, 2, 3, 1, 1, 2, 0, 3, 1, 3, 2, 3, 1, 0, 0, 1, 0, 2, 1, 2, 0, 0, 2, 2, 2, 1, 2, 2, 3, 0, 0, 2, 0, 0, 2, 3, 1, 0, 3, 3, 0, 3, 3, 1, 2, 1, 0, 1, 3, 2, 1, 3, 1, 1, 2, 3, 1, 1, 0, 0, 0, 0, 2, 0, 1, 1, 0, 1, 3, 1, 1, 3, 0, 1, 1, 3, 3, 2, 3, 3, 3, 3, 3, 0, 0, 2, 0, 3, 0, 0, 1, 0, 3, 1, 3, 3, 0, 0, 1, 2, 3, 0, 2, 3, 3, 3, 0, 0, 1, 2, 3, 0, 3, 2, 0, 3, 1, 2, 3, 0, 2, 2, 1, 3, 2, 2, 3, 3, 1, 1, 3, 1, 1, 1, 0, 2, 0, 0, 3, 0, 3, 3, 0, 1, 2, 2, 2, 1, 3, 0, 1, 0, 1, 3, 3, 1, 1, 3, 0, 1, 2, 1, 3, 2, 3, 0, 1, 0, 1, 2, 1, 0, 3, 1, 3, 1, 1, 3, 0, 2, 1, 2, 2, 0, 3, 1, 0, 3, 2, 2, 3, 0, 1, 1, 2, 0, 0, 2, 1, 1, 2, 0, 2, 1, 2, 3, 1, 3, 0, 2, 0, 3, 3, 3, 0, 2, 2, 0, 0, 3, 1, 0, 2, 1, 2, 1, 0, 1, 2, 2, 0, 2, 3, 2, 0, 1, 0, 2, 1, 3, 0, 3, 1, 2, 2, 2, 3, 2, 2, 2, 3, 2, 0, 1, 2, 2, 3, 0, 1, 0, 1, 1, 2, 3, 1, 3, 1, 3, 3, 2, 2, 1, 3, 1, 0, 0, 1, 2, 2, 2, 2, 0, 3, 1, 3, 2, 1, 3, 2, 0, 0, 0, 0, 1, 3, 2, 1, 0, 0, 1, 3, 3, 1, 2, 3, 3, 2, 0, 1, 3, 0, 2, 1, 0, 0, 3, 3, 1, 2, 1, 1, 3, 3, 3, 2, 2, 2, 0, 0, 1, 3, 3, 0, 2, 2, 1, 2, 0, 2, 1, 1, 2, 0, 0, 1, 0, 3, 2, 1, 3, 3, 3, 0, 3, 3, 0, 1, 1, 3, 2, 0, 3, 2, 1, 1, 2, 1, 0, 2, 0, 1, 3, 1, 3, 3, 2, 3, 1, 2, 1, 2, 0, 1, 3, 3, 3, 1, 3, 2, 1, 2, 0, 0, 1, 0, 3, 1, 0, 1, 0, 2, 2, 0, 0, 2, 1, 2, 1, 0, 2, 0, 2, 2, 3, 0, 3, 2, 3, 3, 0, 3, 3, 3, 1, 0, 0, 1, 2, 1, 3, 2, 0, 3, 1, 1, 1, 0, 1, 0, 0, 1, 3, 3, 0, 0, 3, 3, 0, 1, 0, 0, 3, 2, 3, 0, 1, 0, 3, 3, 2, 0, 1, 1, 0, 1, 3, 0, 1, 3, 1, 0, 3, 0, 2, 0, 0, 1, 3, 0, 0, 1, 1, 3, 3, 2, 3, 1, 2, 1, 2, 3, 1, 0, 0, 3, 0, 1, 1, 3, 3, 1, 2, 2, 0, 2, 3, 1, 1, 3, 3, 3, 2, 1, 2, 1, 1, 0, 1, 3, 1, 0, 0, 1, 1, 2, 1, 2, 3, 3, 2, 0, 0, 2, 0, 3, 1, 3, 1, 2, 0, 1, 2, 1, 2, 3, 2, 1, 2, 2, 1, 2, 1, 1, 1, 3, 1, 0, 0, 0, 3, 2, 1, 2, 0, 3, 2, 2, 2, 1, 1, 0, 2, 3, 1, 3, 0, 2, 1, 3, 1, 2, 0, 0, 3, 2, 1, 1, 3, 0, 3, 0, 0, 3, 1, 1, 3, 2, 1, 1, 3, 2, 2, 2, 0, 0, 1, 1, 1, 1, 0, 1, 2, 1, 2, 0, 2, 3, 3, 0, 3, 0, 3, 2, 3, 1, 3, 3, 3, 3, 3, 1, 3, 3, 0, 2, 3, 1, 1, 2, 3, 1, 1, 2, 3, 0, 0, 1, 1, 1, 2, 2, 3, 3, 3, 1, 2, 3, 1, 3, 2, 2, 3, 0, 1, 3, 2, 1, 0, 3, 0, 2, 0, 1, 2, 0, 0, 3, 0, 1, 2, 1, 1, 3, 3, 2, 0, 3, 2, 3, 3, 3, 1, 3, 0, 2, 3, 1, 1, 0, 1, 1, 3, 0, 0, 0, 0, 1, 3, 2, 3, 1, 3, 1, 1, 0, 1, 1, 3, 1, 3, 2, 2, 3, 0, 1, 0, 1, 1, 3, 2, 2, 1, 3, 0, 2, 1, 1, 0, 3, 2, 2, 3, 3, 1, 1, 3, 0, 2, 3, 0, 3, 0, 0, 2, 2, 3, 0, 2, 0, 0, 0, 3, 3, 1, 1, 0, 3, 1, 0, 2, 3, 2, 2, 1, 1, 2, 1, 2, 1, 0, 3, 3, 3, 1, 1, 2, 0, 3, 2, 3, 1, 3, 0, 0, 0, 1, 3, 0, 3, 1, 3, 1, 3, 0, 1, 2, 0, 1, 0, 1, 2, 1, 3, 1, 2, 2, 1, 3, 2, 1, 3, 0, 1, 3, 3, 2, 2, 0, 2, 0, 1, 3, 2, 2, 3, 3, 3, 0, 1, 3, 0, 0, 2, 2, 3, 3, 1, 0, 1, 0, 1, 1, 1, 1, 2, 3, 2, 2, 0, 1, 2, 1, 2, 0, 1, 2, 1, 1, 0, 0, 0, 1, 2, 2, 0, 1, 1, 2, 3, 2, 1, 1, 1, 2, 2, 2, 2, 2, 3, 1, 1, 2, 0, 2, 0, 2, 2, 2, 1, 0, 0, 1, 3, 1, 0, 2, 1, 2, 2, 0, 0, 1, 3, 3, 2, 3, 2, 3, 2, 2, 2, 2, 0, 3, 1, 2, 1, 1, 2, 0, 0, 1, 1, 3, 0, 1, 3, 2, 1, 0, 2, 3, 0, 0, 3, 3, 2, 2, 1, 2, 0, 3, 0, 0, 0, 1, 2, 1, 2, 3, 1, 1, 3, 0, 1, 1, 3, 3, 1, 3, 2, 1, 0, 0, 2, 1, 0, 2, 1, 2, 1, 0, 3, 2, 1, 1, 3, 0, 3, 3, 0, 3, 2, 3, 3, 2, 0, 0, 0, 1, 1, 3, 2, 1, 0, 2, 2, 1, 1, 1, 3, 0, 0, 0, 0, 0, 3, 3, 3, 2, 3, 3, 0, 3, 3, 3, 2, 1, 3, 2, 3, 3, 2, 2, 0, 3, 2, 0, 0, 1, 1, 0, 3, 3, 3, 1, 1, 0, 1, 1, 1, 1, 0, 3, 1, 1, 0, 0, 2, 3, 3, 3, 0, 2, 2, 1, 3, 1, 2, 2, 2, 1, 2, 0, 2, 1, 0, 0, 3, 2, 3, 2, 2, 1, 2, 2, 1, 1, 1, 0, 3, 1, 2, 1, 2, 3, 3, 0, 3, 0, 2, 0, 0, 3, 2, 0, 3, 3, 0, 3, 0, 0, 1, 0, 2, 1, 1, 3, 2, 3, 2, 2, 3, 3, 2, 0, 1, 1, 0, 1, 0, 0, 0, 3, 1, 0, 3, 3, 3, 3, 1, 2, 3, 3, 2, 1, 2, 1, 0, 2, 3, 0, 3, 2, 1, 1, 3, 3, 1, 2, 2, 0, 3, 1, 0, 0, 1, 3, 1, 3, 3, 2, 0, 0, 0, 1, 0, 0, 2, 2, 0, 1, 3, 0, 1, 2, 1, 1, 2, 2, 0, 1, 3, 0, 1, 1, 1, 0, 0, 0, 1, 2, 1, 0, 3, 0, 0, 3, 0, 2, 3, 1, 2, 0, 2, 3, 0, 2, 0, 0, 2, 0, 2, 3, 0, 1, 0, 1, 2, 2, 0, 3, 0, 2, 1, 1, 3, 0, 0, 1, 1, 3, 3, 2, 2, 3, 2, 0, 1, 0, 1, 1, 0, 0, 1, 2, 0, 0, 3, 0, 2, 0, 3, 0, 0, 3, 0, 1, 0, 2, 2, 1, 0, 0, 1, 1, 1, 0, 2, 0, 0, 2, 0, 3, 2, 1, 2, 0, 1, 2, 3, 1, 2, 3, 2, 3, 2, 0, 3, 3, 3, 1, 0, 3, 3, 1, 3, 3, 0, 2, 0, 3, 2, 2, 3, 2, 0, 1, 3, 1, 3, 0, 2, 0, 1, 1, 3, 1, 0, 3, 1, 3, 2, 0, 1, 1, 2, 3, 1, 0, 1, 1, 1, 1, 0, 3, 1, 1, 2, 0, 2, 1, 0, 0, 1, 3, 3, 1, 1, 0, 1, 0, 1, 3, 3, 0, 3, 1, 2, 3, 2, 3, 0, 3, 2, 1, 0, 0, 2, 1, 2, 1, 3, 3, 2, 2, 2, 3, 2, 2, 0, 1, 3, 1, 1, 0, 0, 0, 0, 1, 1, 1, 3, 3, 2, 2, 3, 3, 1, 3, 0, 2, 0, 3, 3, 0, 1, 2, 2, 0, 1, 3, 3, 3, 1, 1, 3, 0, 0, 0, 1, 2, 1, 3, 2, 1, 0, 1, 1, 3, 0, 0, 0, 0, 1, 2, 1, 1, 3, 0, 0, 2, 0, 3, 2, 3, 0, 3, 1, 1, 0, 0, 0, 3, 1, 1, 0, 1, 0, 2, 0, 3, 2, 2, 3, 0, 1, 1, 2, 1, 3, 0, 0, 2, 1, 3, 1, 1, 2, 0, 3, 1, 0, 1, 3, 0, 1, 3, 1, 1, 1, 2, 3, 3, 0, 1, 1, 3, 1, 0, 3, 0, 1, 0, 0, 0, 0, 3, 1, 0, 1, 1, 0, 0, 2, 0, 3, 1, 3, 1, 3, 0, 3, 3, 2, 3, 3, 2, 2, 3, 2, 3, 2, 1, 2, 0, 1, 0, 2, 1, 1, 1, 1, 1, 3, 3, 1, 2, 1, 2, 2, 3, 1, 3, 2, 1, 3, 1, 1, 3, 0, 0, 0, 0, 0, 3, 1, 2, 1, 1, 2, 3, 1, 3, 1, 3, 3, 3, 2, 2, 2, 3, 2, 3, 0, 0, 2, 2, 3, 1, 3, 0, 1, 2, 3, 1, 1, 1, 1, 3, 0, 3, 2, 3, 2, 3, 2, 0, 2, 0, 1, 0, 2, 1, 3, 2, 0, 3, 3, 2, 3, 0, 3, 3, 2, 0, 0, 2, 0, 3, 0, 2, 2, 3, 3, 0, 1, 3, 2, 1, 0, 0, 0, 1, 1, 2, 3, 2, 1, 0, 3, 1, 3, 0, 1, 0, 2, 3, 0, 3, 3, 1, 0, 2, 1, 3, 3, 0, 1, 3, 3, 3, 1, 1, 2, 0, 2, 0, 2, 2, 0, 3, 0, 2, 2, 1, 0, 2, 3, 1, 3, 0, 1, 1, 0, 3, 1, 0, 3, 2, 0, 0, 0, 0, 3, 3, 0, 2, 2, 3, 3, 1, 0, 0, 2, 0, 3, 0, 0, 3, 0, 0, 1, 3, 2, 1, 0, 0, 0, 2, 3, 3, 0, 0, 1, 0, 2, 1, 2, 2, 0, 3, 3, 0, 3, 2, 2, 1, 1, 2, 1, 2, 1, 0, 1, 1, 1, 0, 0, 3, 2, 3, 2, 0, 2, 0, 1, 2, 1, 1, 2, 0, 2, 3, 0, 1, 1, 3, 3, 1, 0, 3, 2, 0, 3, 1, 0, 2, 2, 1, 3, 2, 0, 1, 1, 0, 0, 3, 1, 0, 3, 2, 3, 1, 2, 0, 3, 3, 3, 2, 0, 0, 0, 3, 1, 0, 0, 3, 1, 3, 0, 1, 2, 3, 3, 0, 2, 2, 3, 2, 3, 0, 1, 0, 0, 1, 2, 2, 2, 3, 3, 1, 1, 0, 3, 0, 1, 1, 0, 3, 3, 2, 1, 0, 1, 0, 0, 1, 0, 3, 3, 0, 2, 2, 1, 2, 3, 3, 1, 1, 3, 3, 2, 3, 1, 1, 0, 1, 0, 1, 3, 2, 0, 1, 1, 0, 1, 2, 2, 0, 2, 0, 1, 0, 3, 3, 3, 0, 3, 2, 2, 3, 1, 0, 3, 1, 0, 1, 2, 1, 3, 3, 1, 2, 3, 1, 1, 3, 1, 3, 3, 0, 2, 3, 3, 1, 0, 0, 1, 0, 3, 3, 2, 2, 0, 3, 0, 3, 3, 1, 0, 2, 1, 0, 2, 0, 2, 3, 0, 3, 3, 0, 0, 2, 2, 2, 0, 1, 1, 0, 1, 1, 0, 0, 2, 3, 2, 3, 0, 2, 1, 0, 2, 0, 3, 1, 1, 2, 3, 1, 0, 3, 1, 1, 3, 1, 2, 0, 3, 1, 1, 2, 1, 0, 0, 3, 2, 2, 3, 0, 2, 2, 0, 2, 2, 0, 2, 0, 3, 1, 1, 0, 1, 3, 3, 2, 2, 1, 0, 2, 0, 0, 3, 3, 2, 2, 3, 2, 2, 0, 0, 2, 3, 0, 0, 2, 1, 0, 3, 3, 2, 2, 3, 3, 0, 2, 3, 3, 2, 0, 0, 0, 1, 2, 3, 1, 2, 1, 2, 3, 2, 2, 3, 1, 3, 1, 3, 2, 2, 2, 0, 1, 0, 3, 1, 2, 1, 3, 2, 2, 2, 0, 0, 0, 2, 2, 2, 2, 2, 2, 2, 2, 1, 2, 2, 0, 3, 3, 3, 0, 0, 2, 0, 0, 2, 1, 0, 1, 2, 2, 3, 1, 2, 3, 0, 2, 0, 3, 3, 1, 1, 1, 2, 1, 3, 1, 3, 0, 2, 0, 3, 0, 0, 0, 2, 0, 3, 1, 2, 0, 1, 2, 0, 2, 2, 1, 0, 1, 0, 3, 1, 1, 0, 2, 1, 1, 0, 0, 2, 2, 3, 1, 0, 2, 0, 0, 1, 2, 3, 2, 2, 1, 0, 1, 1, 1, 3, 0, 3, 2, 3, 2, 2, 2, 3, 0, 1, 1, 1, 2, 2, 2, 1, 2, 1, 2, 1, 0, 0, 1, 2, 3, 0, 0, 3, 1, 3, 1, 2, 3, 3, 0, 2, 3, 2, 3, 3, 2, 1, 2, 1, 0, 3, 2, 3, 0, 3, 1, 3, 1, 3, 3, 3, 0, 1, 0, 1, 3, 2, 0, 0, 3, 0, 1, 3, 0, 1, 3, 2, 3, 0, 0, 2, 0, 3, 1, 0, 2, 1, 1, 3, 3, 3, 3, 3, 1, 3, 2, 3, 3, 3, 3, 2, 1, 3, 0, 2, 0, 3, 0, 3, 2, 3, 0, 2, 2, 1, 0, 3, 1, 2, 1, 0, 1, 3, 0, 0, 0, 0, 0, 3, 3, 1, 1, 2, 1, 3, 0, 1, 1, 1, 1, 1, 0, 2, 0, 3, 0, 3, 3, 3, 0, 2, 1, 0, 3, 3, 1, 2, 0, 0, 1, 0, 3, 1, 2, 2, 0, 2, 2, 3, 1, 0, 3, 0, 2, 0, 1, 3, 3, 1, 3, 0, 1, 1, 1, 0, 3, 3, 3, 0, 2, 3, 2, 3, 3, 2, 0, 3, 0, 1, 2, 2, 1, 3, 0, 3, 3, 3, 2, 2, 0, 3, 0, 0, 1, 1, 2, 3, 3, 0, 0, 0, 3, 3, 1, 1, 2, 3, 2, 0, 0, 3, 1, 3, 0, 3, 2, 3, 1, 3, 1, 0, 0, 1, 3, 1, 2, 1, 0, 0, 3, 1, 3, 3, 1, 2, 0, 0, 3, 3, 2, 0, 1, 2, 3, 0, 3, 1, 2, 1, 2, 1, 1, 3, 0, 2, 1, 1, 1, 0, 3, 3, 2, 3, 3, 2, 1, 3, 1, 2, 1, 0, 2, 2, 2, 1, 1, 2, 1, 3, 2, 2, 3, 2, 2, 2, 3, 2, 1, 2, 1, 2, 2, 1, 0, 1, 3, 3, 0, 0, 2, 1, 1, 2, 3, 1, 2, 1, 0, 2, 1, 2, 1, 2, 0, 0, 1, 0, 0, 3, 0, 3, 3, 3, 0, 1, 1, 0, 1, 1, 1, 1, 0, 2, 1, 0, 2, 3, 1, 3, 0, 0, 2, 0, 0, 0, 1, 1, 0, 3, 1, 1, 1, 1, 3, 0, 3, 0, 2, 0, 2, 2, 1, 1, 2, 1, 1, 0, 3, 3, 2, 0, 2, 0, 1, 2, 2, 2, 2, 3, 0, 0, 2, 2, 0, 2, 3, 3, 3, 2, 1, 0, 3, 3, 2, 3, 2, 0, 0, 3, 2, 1, 1, 2, 0, 2, 1, 0, 2, 3, 1, 3, 0, 0, 2, 2, 0, 1, 0, 0, 0, 3, 3, 2, 3, 2, 3, 0, 3, 1, 1, 1, 2, 2, 3, 1, 1, 3, 1, 1, 2, 1, 3, 0, 1, 3, 0, 1, 3, 3, 1, 2, 2, 3, 3, 2, 3, 3, 2, 1, 1, 1, 3, 0, 2, 2, 3, 1, 0, 0, 3, 3, 2, 0, 3, 0, 3, 3, 1, 0, 1, 3, 1, 2, 0, 1, 0, 3, 3, 2, 3, 2, 2, 0, 1, 3, 2, 0, 3, 2, 1, 0, 2, 1, 1, 0, 2, 3, 0, 2, 2, 3, 0, 2, 3, 3, 0, 0, 0, 1, 3, 3, 3, 0, 0, 0, 2, 3, 3, 2, 0, 0, 1, 2, 1, 1, 3, 3, 2, 0, 3, 2, 0, 1, 3, 2, 1, 2, 3, 3, 0, 3, 2, 2, 3, 2, 2, 2, 1, 0, 0, 0, 1, 1, 3, 0, 3, 3, 1, 3, 2, 0, 2, 0, 1, 2, 2, 1, 2, 2, 1, 1, 0, 2, 2, 1, 1, 0, 1, 2, 3, 1, 2, 2, 0, 2, 1, 1, 1, 2, 0, 2, 1, 2, 0, 0, 2, 2, 3, 0, 3, 3, 1, 0, 3, 0, 2, 1, 3, 0, 0, 1, 2, 2, 1, 2, 3, 3, 1, 3, 0, 0, 2, 2, 1, 2, 2, 3, 0, 1, 0, 3, 3, 3, 1, 0, 2, 2, 0, 3, 0, 1, 0, 2, 2, 1, 3, 0, 3, 3, 3, 2, 3, 1, 2, 2, 0, 0, 3, 1, 2, 1, 1, 3, 2, 2, 3, 2, 1, 1, 2, 1, 1, 1, 2, 3, 1, 3, 0, 0, 0, 3, 1, 1, 3, 2, 2, 1, 1, 2, 3, 3, 0, 2, 0, 0, 2, 1, 1, 2, 0, 3, 3, 1, 1, 0, 1, 1, 2, 3, 3, 1, 1, 1, 2, 0, 3, 3, 0, 3, 0, 1, 0, 1, 2, 1, 0, 2, 0, 0, 2, 2, 0, 3, 0, 0, 3, 2, 1, 2, 0, 3, 3, 0, 3, 0, 3, 3, 1, 1, 1, 0, 1, 0, 2, 0, 0, 0, 2, 3, 1, 2, 2, 2, 2, 0, 0, 2, 0, 2, 0, 0, 3, 0, 2, 3, 1, 1, 0, 0, 2, 2, 3, 3, 1, 1, 0, 2, 1, 3, 3, 3, 3, 0, 0, 3, 3, 1, 0, 3, 3, 2, 1, 3, 1, 2, 2, 3, 0, 3, 2, 3, 2, 1, 1, 3, 2, 0, 2, 2, 2, 2, 0, 3, 3, 3, 0, 2, 2, 0, 3, 0, 0, 1, 0, 2, 2, 3, 1, 0, 3, 3, 0, 1, 2, 2, 1, 3, 3, 3, 3, 0, 1, 3, 1, 3, 0, 0, 3, 0, 3, 3, 2, 1, 1, 0, 1, 1, 0, 2, 3, 1, 0, 2, 1, 2, 2, 3, 2, 2, 2, 3, 3, 3, 2, 3, 2, 0, 1, 3, 3, 0, 0, 2, 0, 0, 0, 2, 0, 0, 3, 0, 3, 0, 0, 3, 1, 0, 2, 0, 3, 2, 0, 2, 1, 3, 2, 0, 1, 3, 2, 0, 2, 3, 0, 2, 0, 2, 1, 2, 3, 3, 1, 3, 1, 1, 1, 3, 1, 0, 1, 2, 2, 1, 3, 0, 3, 0, 0, 0, 0, 1, 3, 0, 0, 2, 2, 1, 3, 3, 3, 3, 3, 3, 2, 1, 0, 2, 2, 3, 1, 0, 3, 2, 2, 3, 1, 1, 3, 3, 0, 1, 1, 1, 1, 0, 1, 2, 1, 0, 3, 3, 3, 3, 3, 2, 2, 1, 1, 3, 1, 0, 2, 0, 2, 0, 3, 2, 2, 0, 2, 3, 1, 3, 0, 1, 2, 2, 0, 2, 2, 0, 2, 1, 2, 1, 1, 3, 3, 0, 3, 2, 2, 3, 2, 2, 1, 3, 3, 1, 0, 1, 3, 2, 3, 2, 2, 3, 2, 0, 2, 0, 1, 0, 3, 2, 0, 1, 0, 1, 1, 3, 2, 2, 0, 0, 1, 3, 3, 3, 0, 1, 1, 3, 3, 1, 3, 1, 3, 2, 0, 3, 1, 0, 3, 2, 1, 2, 3, 0, 1, 2, 1, 3, 0, 2, 1, 2, 2, 0, 1, 2, 1, 3, 3, 0, 3, 2, 0, 0, 3, 2, 0, 2, 1, 0, 0, 1, 2, 2, 2, 3, 3, 0, 0, 2, 0, 2, 3, 3, 1, 0, 0, 1, 1, 3, 1, 1, 3, 3, 2, 1, 0, 0, 3, 2, 0, 0, 0, 0, 0, 2, 0, 1, 0, 1, 1, 2, 3, 3, 3, 1, 2, 1, 2, 2, 2, 0, 3, 3, 1, 0, 2, 3, 0, 0, 0, 3, 0, 3, 1, 0, 0, 3, 1, 3, 3, 2, 1, 2, 3, 1, 3, 0, 0, 2, 0, 3, 0, 1, 1, 0, 1, 3, 0, 1, 3, 3, 2, 1, 1, 2, 3, 2, 0, 2, 1, 2, 1, 1, 1, 0, 2, 0, 2, 2, 3, 3, 3, 1, 1, 0, 0, 1, 3, 3, 0, 1, 3, 0, 1, 1, 0, 3, 3, 2, 2, 3, 3, 3, 0, 2, 2, 1, 3, 0, 2, 2, 1, 2, 1, 0, 0, 2, 1, 3, 3, 1, 3, 3, 1, 3, 3, 3, 0, 3, 1, 1, 2, 2, 1, 2, 0, 3, 3, 3, 2, 0, 3, 2, 1, 3, 0, 2, 0, 1, 2, 1, 3, 2, 1, 2, 2, 1, 2, 2, 3, 2, 3, 0, 0, 1, 3, 1, 2, 2, 2, 0, 0, 1, 1, 1, 3, 2, 1, 2, 0, 0, 0, 2, 1, 0, 3, 3, 2, 0, 1, 1, 2, 2, 2, 0, 1, 0, 3, 2, 1, 1, 2, 2, 2, 2, 3, 3, 2, 3, 3, 1, 0, 2, 1, 3, 2, 0, 2, 1, 2, 2, 1, 0, 3, 0, 3, 1, 1, 0, 3, 0, 1, 3, 3, 0, 1, 2, 1, 2, 3, 2, 1, 2, 0, 1, 0, 0, 1, 0, 0, 2, 2, 3, 3, 0, 2, 1, 2, 2, 1, 0, 0, 1, 3, 3, 1, 2, 1, 3, 2, 1, 0, 0, 3, 3, 1, 2, 3, 1, 2, 3, 0, 2, 2, 2, 1, 1, 1, 2, 1, 0, 1, 2, 0, 3, 0, 2, 1, 1, 0, 3, 3, 2, 0, 0, 2, 1, 2, 0, 1, 0, 0, 0, 1, 1, 2, 0, 0, 1, 1, 3, 3, 3, 2, 3, 1, 2, 2, 3, 0, 1, 3, 0, 2, 0, 3, 2, 3, 3, 0, 0, 1, 1, 3, 3, 0, 0, 3, 3, 0, 0, 3, 0, 0, 2, 2, 1, 2, 2, 1, 3, 2, 3, 1, 0, 1, 1, 0, 0, 0, 1, 3, 1, 0, 0, 0, 0, 3, 0, 1, 3, 3, 2, 0, 3, 1, 0, 2, 3, 1, 2, 1, 1, 0, 0, 3, 2, 1, 3, 2, 1, 0, 1, 0, 2, 2, 1, 3, 0, 2, 0, 2, 0, 1, 3, 0, 1, 1, 2, 3, 2, 1, 2, 1, 0, 0, 2, 2, 0, 0, 1, 1, 0, 2, 0, 2, 2, 3, 0, 2, 0, 1, 1, 0, 1, 0, 3, 2, 1, 0, 2, 1, 3, 0, 1, 2, 1, 0, 2, 2, 0, 2, 2, 2, 1, 1, 3, 2, 0, 3, 0, 2, 2, 1, 1, 3, 3, 3, 1, 0, 3, 0, 0, 3, 3, 0, 2, 0, 0, 3, 2, 1, 3, 2, 1, 3, 0, 1, 1, 0, 3, 1, 1, 2, 1, 1, 1, 0, 2, 0, 1, 0, 0, 3, 2, 1, 2, 1, 1, 2, 2, 1, 1, 3, 2, 3, 3, 2, 1, 3, 3, 1, 1, 1, 1, 3, 3, 1, 0, 3, 3, 1, 0, 1, 0, 2, 0, 1, 0, 1, 1, 1, 3, 3, 2, 1, 1, 1, 2, 0, 0, 0, 2, 1, 3, 2, 0, 2, 0, 0, 1, 1, 0, 1, 3, 3, 3, 1, 2, 2, 1, 2, 2, 0, 1, 2, 1, 2, 0, 3, 2, 1, 3, 1, 3, 1, 1, 3, 1, 3, 0, 3, 3, 3, 0, 2, 0, 2, 0, 3, 1, 3, 2, 0, 3, 2, 3, 2, 3, 0, 3, 0, 1, 1, 3, 3, 1, 1, 1, 3, 0, 0, 0, 0, 3, 1, 2, 3, 1, 0, 2, 3, 1, 2, 0, 2, 3, 0, 3, 3, 0, 0, 1, 0, 2, 1, 1, 1, 2, 3, 3, 2, 3, 1, 3, 3, 0, 3, 1, 0, 1, 2, 1, 0, 0, 1, 0, 3, 0, 0, 1, 0, 3, 2, 1, 3, 0, 1, 3, 2, 2, 3, 1, 1, 3, 1, 3, 1, 3, 3, 1, 1, 3, 1, 1, 3, 2, 1, 2, 0, 3, 0, 1, 0, 3, 1, 0, 1, 3, 0, 2, 1, 2, 0, 2, 0, 0, 2, 1, 0, 2, 1, 3, 2, 1, 1, 3, 2, 1, 3, 1, 2, 3, 1, 0, 3, 3, 3, 1, 3, 0, 2, 2, 0, 1, 0, 2, 2, 3, 1, 3, 0, 2, 0, 2, 1, 3, 3, 0, 1, 3, 2, 2, 2, 3, 1, 1, 2, 1, 1, 0, 0, 3, 3, 0, 3, 0, 2, 0, 1, 1, 2, 0, 2, 2, 2, 0, 2, 0, 0, 0, 0, 3, 2, 2, 2, 3, 3, 1, 1, 0, 0, 3, 1, 3, 3, 0, 2, 2, 2, 0, 1, 3, 1, 1, 0, 3, 1, 0, 1, 2, 2, 1, 1, 2, 0, 3, 0, 3, 3, 2, 0, 1, 1, 2, 1, 2, 1, 0, 1, 0, 3, 1, 3, 2, 1, 1, 3, 2, 1, 1, 3, 2, 0, 3, 2, 0, 1, 0, 3, 2, 3, 3, 1, 3, 2, 1, 2, 1, 3, 2, 1, 0, 2, 0, 2, 0, 3, 0, 2, 0, 2, 3, 1, 3, 1, 3, 1, 2, 2, 2, 2, 3, 0, 1, 2, 0, 3, 1, 3, 0, 1, 3, 3, 2, 2, 2, 2, 2, 0, 2, 3, 0, 1, 0, 3, 2, 1, 1, 3, 0, 1, 1, 0, 2, 0, 3, 1, 2, 0, 3, 1, 3, 1, 3, 1, 3, 1, 0, 0, 2, 2, 3, 1, 1, 2, 2, 1, 2, 2, 2, 1, 3, 1, 2, 0, 0, 2, 3, 1, 0, 2, 0, 1, 2, 1, 2, 2, 3, 1, 1, 2, 0, 3, 1, 3, 1, 2, 3, 0, 1, 3, 3, 2, 0, 3, 0, 3, 0, 2, 3, 1, 3, 3, 3, 0, 1, 1, 0, 0, 2, 3, 2, 1, 1, 1, 3, 0, 2, 1, 2, 3, 1, 2, 2, 0, 1, 0, 3, 2, 1, 2, 2, 1, 0, 1, 1, 2, 3, 0, 0, 0, 3, 1, 1, 1, 0, 3, 2, 2, 1, 3, 3, 3, 1, 1, 2, 0, 2, 0, 1, 3, 2, 1, 0, 0, 2, 0, 2, 2, 1, 2, 3, 3, 0, 2, 0, 0, 3, 2, 1, 3, 3, 3, 1, 2, 2, 2, 1, 1, 1, 2, 2, 2, 2, 0, 3, 3, 2, 3, 0, 0, 2, 2, 2, 3, 3, 3, 0, 3, 1, 1, 2, 2, 2, 1, 1, 2, 1, 2, 0, 0, 1, 2, 2, 2, 1, 0, 1, 3, 0, 0, 3, 0, 0, 3, 2, 2, 0, 1, 0, 2, 1, 0, 3, 1, 0, 0, 2, 2, 0, 2, 3, 0, 0, 3, 2, 2, 1, 0, 3, 3, 0, 3, 2, 0, 3, 0, 1, 2, 3, 0, 0, 3, 3, 0, 3, 1, 1, 1, 2, 0, 3, 1, 3, 3, 2, 0, 2, 1, 2, 3, 2, 3, 0, 2, 1, 0, 0, 3, 1, 1, 3, 0, 0, 3, 1, 0, 3, 1, 3, 2, 2, 1, 1, 1, 1, 1, 1, 2, 3, 0, 3, 0, 1, 0, 2, 0, 3, 3, 3, 0, 2, 1, 2, 3, 1, 0, 1, 2, 2, 2, 0, 0, 2, 0, 1, 0, 1, 0, 3, 3, 0, 2, 2, 2, 3, 1, 1, 3, 0, 2, 3, 3, 2, 2, 0, 3, 3, 0, 2, 1, 3, 3, 0, 1, 3, 2, 2, 1, 0, 3, 3, 3, 3, 2, 0, 2, 2, 3, 3, 0, 1, 3, 3, 1, 2, 1, 2, 2, 1, 1, 3, 2, 3, 3, 2, 2, 0, 1, 1, 1, 1, 1, 0, 2, 0, 3, 2, 1, 1, 1, 1, 1, 2, 3, 2, 0, 2, 0, 0, 1, 0, 3, 1, 2, 1, 3, 1, 1, 3, 3, 0, 1, 3, 1, 2, 1, 2, 3, 1, 3, 3, 3, 2, 0, 1, 1, 1, 0, 3, 3, 0, 2, 1, 1, 3, 1, 0, 2, 2, 3, 1, 1, 0, 0, 0, 1, 2, 3, 3, 3, 2, 0, 0, 1, 3, 0, 0, 1, 2, 0, 3, 3, 1, 2, 2, 2, 2, 2, 0, 1, 1, 0, 2, 3, 3, 1, 2, 2, 1, 1, 1, 1, 3, 2, 3, 1, 1, 2, 2, 1, 1, 0, 0, 1, 1, 2, 1, 2, 3, 2, 2, 1, 2, 3, 1, 2, 1, 3, 0, 2, 1, 3, 0, 3, 3, 0, 2, 2, 1, 3, 2, 1, 3, 0, 0, 0, 3, 1, 3, 1, 1, 0, 0, 2, 3, 0, 3, 2, 3, 1, 3, 3, 2, 1, 2, 1, 2, 1, 2, 2, 0, 2, 3, 1, 3, 2, 1, 0, 3, 0, 0, 0, 1, 2, 1, 0, 0, 0, 3, 1, 1, 1, 3, 0, 3, 2, 2, 2, 0, 1, 1, 0, 3, 0, 0, 1, 2, 3, 2, 2, 0, 3, 0, 0, 3, 3, 3, 0, 2, 2, 1, 3, 0, 2, 1, 0, 3, 2, 2, 2, 3, 3, 2, 0, 3, 1, 3, 1, 1, 1, 3, 3, 3, 0, 0, 0, 2, 0, 2, 2, 2, 1, 0, 3, 2, 0, 3, 3, 0, 1, 1, 2, 0, 0, 0, 3, 2, 2, 1, 0, 0, 3, 1, 2, 0, 2, 3, 1, 0, 2, 3, 1, 3, 0, 2, 0, 3, 0, 2, 0, 0, 3, 2, 3, 0, 1, 2, 3, 3, 3, 2, 1, 2, 0, 0, 1, 2, 1, 3, 2, 2, 3, 1, 0, 3, 2, 3, 3, 0, 0, 1, 0, 0, 2, 2, 3, 0, 3, 1, 3, 0, 2, 3, 0, 2, 1, 0, 0, 1, 3, 1, 3, 1, 1, 3, 0, 1, 3, 2, 3, 3, 0, 1, 2, 1, 3, 2, 1, 2, 1, 2, 3, 3, 0, 2, 3, 0, 2, 1, 3, 0, 2, 1, 1, 2, 2, 2, 2, 1, 1, 0, 2, 1, 3, 3, 3, 0, 2, 2, 2, 1, 3, 3, 3, 1, 0, 2, 1, 0, 3, 2, 1, 3, 0, 3, 0, 3, 1, 1, 0, 1, 0, 1, 1, 3, 0, 3, 2, 3, 3, 0, 2, 1, 0, 0, 1, 3, 0, 2, 2, 2, 0, 3, 0, 1, 3, 1, 3, 2, 1, 3, 1, 1, 3, 2, 0, 2, 2, 3, 3, 3, 3, 3, 2, 1, 2, 1, 1, 0, 1, 0, 3, 1, 0, 3, 3, 3, 0, 0, 0, 3, 3, 0, 3, 2, 1, 0, 0, 0, 1, 3, 3, 2, 3, 1, 0, 1, 0, 2, 3, 2, 1, 2, 0, 2, 2, 2, 0, 3, 1, 2, 3, 0, 2, 3, 3, 3, 1, 2, 3, 1, 2, 1, 1, 1, 2, 1, 2, 3, 2, 2, 3, 1, 1, 3, 3, 1, 3, 2, 0, 3, 1, 0, 0, 1, 1, 0, 3, 0, 0, 3, 0, 0, 3, 2, 0, 0, 2, 3, 3, 0, 0, 2, 1, 3, 0, 3, 3, 2, 2, 1, 1, 3, 0, 0, 3, 2, 2, 3, 0, 2, 3, 3, 3, 2, 2, 3, 0, 2, 1, 3, 2, 0, 3, 3, 0, 1, 3, 2, 1, 3, 3, 3, 1, 2, 3, 2, 1, 1, 2, 3, 3, 3, 0, 2, 1, 3, 1, 1, 3, 0, 2, 2, 1, 1, 1, 3, 0, 0, 1, 0, 3, 1, 2, 0, 2, 3, 2, 1, 2, 0, 0, 1, 1, 3, 2, 1, 3, 0, 0, 1, 0, 2, 0, 1, 1, 3, 0, 2, 0, 1, 0, 1, 3, 0, 2, 0, 0, 1, 0, 3, 1, 0, 3, 0, 0, 2, 3, 1, 2, 0, 1, 2, 3, 1, 3, 3, 2, 1, 3, 1, 2, 2, 3, 3, 3, 1, 0, 3, 1, 2, 2, 2, 1, 1, 1, 0, 3, 0, 0, 2, 0, 3, 2, 3, 3, 0, 2, 3, 0, 3, 1, 1, 1, 1, 1, 2, 2, 3, 1, 3, 3, 2, 1, 2, 0, 2, 0, 3, 3, 3, 0, 2, 2, 2, 2, 3, 1, 2, 3, 3, 1, 2, 2, 1, 1, 1, 1, 2, 3, 2, 1, 1, 0, 0, 3, 1, 1, 1, 1, 1, 0, 2, 2, 3, 0, 3, 2, 2, 1, 2, 1, 2, 3, 0, 2, 1, 0, 0, 1, 3, 2, 3, 1, 1, 0, 1, 1, 3, 0, 2, 0, 0, 0, 2, 0, 2, 2, 1, 0, 3, 1, 0, 2, 3, 3, 1, 3, 0, 0, 2, 3, 2, 3, 2, 1, 2, 2, 1, 2, 2, 0, 3, 3, 3, 2, 1, 3, 1, 0, 1, 0, 0, 1, 0, 3, 0, 2, 3, 0, 2, 2, 0, 1, 0, 0, 2, 1, 0, 1, 2, 3, 3, 3, 3, 1, 1, 0, 0, 1, 3, 0, 0, 0, 2, 0, 2, 3, 3, 1, 0, 1, 2, 2, 0, 0, 3, 3, 2, 1, 0, 1, 3, 2, 0, 1, 1, 2, 3, 3, 2, 0, 3, 0, 2, 1, 3, 3, 1, 3, 0, 3, 2, 2, 1, 0, 2, 2, 1, 2, 3, 0, 1, 2, 2, 3, 2, 3, 0, 3, 3, 2, 2, 0, 1, 2, 1, 3, 3, 1, 0, 0, 1, 1, 2, 0, 0, 1, 0, 1, 0, 2, 2, 3, 1, 3, 0, 3, 1, 2, 1, 3, 2, 3, 1, 0, 0, 2, 3, 3, 3, 0, 3, 2, 2, 3, 3, 3, 0, 0, 2, 3, 3, 3, 3, 0, 0, 2, 0, 1, 2, 1, 2, 3, 1, 3, 3, 1, 0, 3, 1, 1, 0, 1, 0, 1, 1, 3, 3, 3, 0, 3, 2, 3, 3, 2, 2, 3, 2, 2, 0, 2, 3, 1, 1, 2, 1, 0, 1, 1, 2, 0, 1, 0, 2, 3, 0, 1, 3, 0, 1, 2, 3, 2, 1, 0, 3, 2, 2, 3, 2, 3, 3, 0, 3, 2, 3, 0, 1, 1, 1, 2, 0, 1, 2, 1, 2, 2, 3, 0, 3, 1, 3, 0, 3, 1, 1, 1, 1, 0, 2, 2, 2, 2, 2, 2, 0, 0, 2, 2, 0, 3, 3, 3, 1, 2, 1, 0, 0, 0, 3, 3, 2, 0, 0, 3, 1, 0, 3, 3, 1, 1, 3, 0, 1, 2, 1, 1, 1, 3, 2, 2, 1, 3, 2, 2, 0, 0, 3, 3, 1, 3, 0, 3, 1, 1, 0, 3, 2, 3, 1, 1, 3, 1, 3, 3, 0, 0, 0, 1, 1, 1, 1, 3, 2, 2, 2, 1, 2, 0, 1, 2, 0, 1, 1, 1, 2, 3, 1, 0, 2, 2, 2, 0, 0, 0, 3, 2, 1, 1, 2, 0, 0, 2, 3, 2, 1, 3, 3, 1, 0, 1, 1, 0, 2, 2, 3, 1, 2, 2, 2, 0, 0, 3, 3, 0, 3, 1, 1, 3, 3, 0, 0, 1, 3, 1, 2, 3, 2, 1, 1, 2, 3, 3, 0, 2, 2, 3, 2, 1, 1, 2, 0, 1, 0, 0, 3, 1, 1, 0, 0, 2, 0, 2, 2, 2, 3, 0, 2, 1, 1, 1, 1, 0, 2, 1, 2, 3, 1, 1, 2, 0, 2, 0, 3, 1, 0, 2, 2, 2, 1, 1, 3, 3, 3, 3, 1, 1, 1, 2, 3, 2, 3, 0, 1, 0, 3, 0, 1, 1, 2, 1, 1, 3, 3, 0, 2, 1, 1, 2, 0, 3, 3, 1, 3, 2, 3, 0, 1, 1, 0, 3, 0, 3, 2, 2, 3, 0, 3, 0, 0, 0, 3, 2, 3, 0, 2, 1, 3, 1, 3, 1, 2, 0, 1, 0, 1, 1, 0, 2, 0, 2, 3, 2, 3, 0, 1, 2, 2, 3, 0, 3, 0, 0, 0, 0, 0, 0, 2, 3, 0, 1, 3, 3, 1, 0, 1, 0, 1, 3, 2, 0, 0, 0, 3, 2, 0, 1, 2, 3, 2, 2, 0, 1, 0, 0, 1, 2, 3, 1, 1, 1, 1, 2, 1, 0, 0, 0, 3, 3, 1, 1, 3, 3, 2, 3, 0, 1, 0, 0, 3, 3, 3, 0, 2, 2, 1, 1, 2, 1, 0, 1, 1, 1, 3, 2, 3, 1, 0, 0, 3, 2, 1, 3, 0, 0, 3, 3, 2, 3, 1, 2, 3, 1, 0, 1, 3, 0, 1, 3, 2, 3, 2, 3, 0, 2, 3, 3, 3, 1, 3, 3, 3, 2, 1, 2, 0, 0, 1, 3, 2, 3, 2, 3, 1, 3, 2, 1, 3, 3, 0, 3, 0, 2, 2, 1, 0, 0, 1, 3, 0, 3, 3, 3, 1, 0, 2, 2, 0, 2, 0, 0, 1, 0, 3, 2, 2, 3, 2, 1, 3, 2, 1, 2, 2, 3, 3, 0, 0, 3, 0, 1, 1, 1, 3, 0, 2, 0, 1, 3, 2, 2, 3, 3, 2, 1, 1, 1, 2, 2, 0, 0, 2, 3, 3, 0, 1, 0, 1, 1, 3, 2, 0, 3, 2, 1, 2, 1, 0, 2, 0, 3, 2, 2, 3, 0, 3, 0, 1, 2, 0, 2, 1, 0, 3, 0, 1, 1, 1, 3, 0, 2, 3, 2, 1, 3, 1, 0, 2, 2, 3, 1, 0, 3, 1, 2, 1, 1, 1, 2, 0, 0, 0, 1, 2, 3, 1, 1, 2, 2, 1, 3, 1, 1, 1, 1, 3, 0, 2, 1, 2, 0, 1, 3, 3, 3, 0, 3, 3, 0, 0, 2, 3, 2, 2, 0, 2, 2, 2, 2, 2, 3, 0, 3, 0, 3, 3, 3, 0, 3, 1, 1, 1, 0, 3, 1, 0, 1, 3, 1, 3, 3, 1, 2, 1, 1, 3, 2, 2, 2, 1, 1, 1, 0, 0, 3, 1, 2, 0, 2, 1, 3, 0, 0, 0, 3, 3, 1, 2, 3, 2, 1, 0, 3, 2, 1, 3, 0, 2, 0, 0, 0, 3, 2, 3, 1, 3, 0, 1, 3, 3, 0, 3, 0, 1, 1, 1, 0, 1, 1, 1, 1, 0, 3, 3, 1, 0, 0, 1, 2, 1, 1, 0, 1, 0, 1, 1, 3, 0, 0, 0, 0, 1, 1, 2, 3, 2, 0, 2, 3, 2, 0, 2, 1, 1, 2, 2, 0, 3, 0, 3, 2, 1, 3, 3, 2, 3, 2, 0, 3, 2, 0, 3, 0, 2, 0, 3, 1, 1, 0, 3, 0, 1, 1, 2, 3, 1, 3, 3, 1, 0, 2, 2, 2, 1, 0, 3, 1, 2, 2, 0, 3, 2, 2, 1, 0, 1, 2, 1, 3, 3, 3, 2, 0, 3, 2, 2, 2, 2, 3, 3, 2, 3, 1, 2, 1, 2, 1, 2, 3, 3, 0, 2, 0, 3, 3, 2, 2, 1, 0, 1, 1, 3, 2, 2, 0, 0, 0, 2, 0, 0, 0, 2, 2, 0, 1, 3, 1, 2, 3, 2, 0, 2, 2, 3, 1, 2, 1, 1, 2, 0, 3, 0, 3, 0, 1, 3, 3, 1, 3, 1, 3, 0, 1, 0, 1, 2, 1, 0, 2, 2, 0, 1, 3, 0, 2, 2, 0, 1, 1, 2, 2, 0, 3, 1, 2, 2, 0, 2, 0, 1, 3, 3, 0, 3, 0, 2, 0, 2, 1, 2, 1, 3, 3, 0, 3, 1, 2, 1, 0, 3, 2, 3, 2, 1, 1, 3, 1, 1, 0, 1, 3, 1, 0, 1, 1, 0, 3, 0, 2, 1, 0, 3, 1, 1, 0, 1, 1, 2, 1, 0, 1, 1, 2, 0, 3, 3, 3, 2, 2, 1, 0, 3, 1, 0, 2, 2, 0, 1, 3, 0, 2, 0, 1, 1, 1, 2, 3, 3, 0, 1, 3, 3, 0, 1, 2, 2, 3, 0, 1, 0, 2, 3, 0, 2, 0, 2, 2, 1, 3, 1, 0, 3, 1, 3, 2, 1, 2, 3, 3, 2, 0, 1, 3, 2, 3, 0, 1, 0, 3, 3, 0, 3, 3, 0, 0, 1, 3, 0, 0, 3, 3, 3, 3, 0, 1, 1, 0, 2, 0, 1, 3, 3, 0, 2, 3, 1, 2, 1, 0, 3, 1, 1, 3, 3, 2, 2, 1, 1, 3, 3, 3, 3, 3, 3, 1, 0, 3, 2, 1, 1, 2, 1, 0, 3, 3, 1, 0, 3, 3, 1, 2, 3, 1, 2, 3, 0, 3, 1, 3, 1, 0, 0, 2, 0, 0, 2, 2, 1, 2, 3, 2, 3, 0, 3, 2, 3, 1, 1, 2, 0, 2, 3, 1, 3, 2, 1, 2, 3, 2, 3, 3, 3, 3, 1, 2, 3, 2, 3, 3, 0, 1, 3, 1, 3, 0, 0, 0, 1, 3, 2, 1, 0, 3, 3, 0, 3, 1, 2, 0, 2, 3, 1, 0, 1, 3, 0, 0, 3, 1, 0, 2, 0, 2, 1, 0, 3, 1, 2, 2, 2, 2, 3, 1, 3, 0, 0, 3, 2, 2, 2, 0, 0, 2, 1, 2, 3, 3, 0, 3, 1, 2, 0, 0, 0, 3, 0, 0, 2, 0, 2, 2, 1, 2, 1, 3, 1, 3, 3, 1, 2, 1, 1, 2, 1, 0, 1, 1, 3, 3, 0, 0, 2, 3, 0, 1, 3, 1, 2, 2, 2, 1, 2, 1, 1, 1, 0, 2, 1, 0, 1, 2, 0, 1, 0, 2, 2, 1, 3, 2, 2, 1, 0, 0, 0, 3, 3, 0, 0, 0, 2, 3, 3, 0, 1, 2, 3, 0, 0, 0, 3, 2, 1, 3, 2, 1, 0, 3, 1, 1, 2, 3, 3, 0, 0, 3, 0, 0, 0, 1, 0, 2, 0, 0, 2, 2, 1, 3, 0, 0, 3, 1, 2, 0, 1, 1, 0, 0, 0, 0, 0, 0, 2, 2, 1, 3, 0, 0, 2, 1, 3, 2, 3, 0, 2, 3, 1, 2, 1, 0, 1, 0, 0, 0, 1, 2, 1, 2, 3, 3, 1, 1, 3, 0, 3, 1, 0, 1, 1, 2, 0, 2, 0, 2, 0, 0, 1, 1, 1, 1, 2, 1, 3, 2, 3, 3, 2, 1, 3, 2, 2, 3, 0, 2, 0, 0, 2, 2, 1, 1, 2, 1, 3, 2, 2, 1, 3, 1, 1, 3, 2, 3, 2, 2, 1, 1, 2, 3, 0, 3, 3, 3, 3, 0, 2, 0, 1, 1, 0, 3, 1, 1, 3, 3, 0, 3, 0, 3, 2, 1, 0, 1, 3, 1, 2, 1, 2, 0, 2, 0, 3, 0, 2, 3, 2, 2, 2, 2, 0, 3, 0, 3, 0, 3, 0, 1, 3, 1, 2, 3, 0, 2, 1, 1, 2, 1, 3, 3, 1, 3, 3, 3, 0, 0, 0, 2, 3, 3, 3, 0, 2, 0, 0, 1, 3, 3, 2, 2, 3, 0, 2, 3, 1, 2, 2, 3, 2, 2, 0, 1, 2, 1, 0, 2, 0, 3, 2, 2, 1, 0, 0, 0, 2, 3, 0, 1, 1, 1, 3, 0, 2, 2, 0, 3, 0, 3, 2, 2, 3, 1, 2, 2, 3, 1, 0, 2, 3, 0, 2, 3, 2, 1, 1, 0, 2, 2, 2, 2, 3, 1, 3, 1, 1, 1, 1, 0, 3, 1, 3, 2, 1, 3, 1, 0, 2, 1, 0, 2, 1, 2, 1, 1, 0, 3, 1, 0, 2, 0, 3, 1, 2, 1, 2, 0, 2, 2, 3, 3, 3, 1, 1, 1, 3, 0, 3, 2, 1, 2, 3, 3, 1, 0, 1, 3, 3, 0, 2, 2, 3, 2, 1, 1, 3, 3, 1, 2, 0, 1, 0, 3, 1, 1, 1, 2, 1, 0, 0, 3, 3, 1, 0, 2, 1, 2, 0, 0, 0, 3, 0, 1, 2, 2, 0, 0, 2, 2, 1, 1, 1, 0, 1, 1, 1, 2, 1, 2, 0, 0, 2, 2, 3, 2, 1, 2, 3, 0, 1, 2, 1, 3, 1, 2, 2, 0, 1, 1, 1, 0, 3, 3, 3, 0, 2, 1, 3, 2, 0, 0, 1, 2, 3, 0, 2, 3, 2, 2, 3, 1, 0, 3, 2, 0, 3, 0, 3, 2, 2, 3, 3, 1, 1, 2, 1, 2, 2, 0, 2, 3, 3, 2, 0, 3, 1, 2, 0, 3, 0, 3, 3, 1, 2, 1, 2, 0, 1, 1, 3, 1, 1, 0, 1, 1, 0, 1, 0, 1, 2, 1, 1, 3, 3, 0, 1, 1, 0, 0, 2, 3, 2, 3, 3, 2, 0, 3, 1, 0, 3, 3, 1, 1, 0, 0, 1, 1, 3, 0, 2, 2, 1, 3, 2, 3, 3, 3, 2, 0, 1, 0, 1, 3, 3, 3, 2, 3, 3, 0, 2, 0, 3, 1, 1, 3, 3, 3, 2, 1, 0, 0, 0, 2, 3, 2, 2, 0, 1, 2, 0, 3, 2, 0, 1, 1, 0, 3, 1, 1, 3, 3, 0, 2, 0, 0, 1, 1, 2, 0, 2, 2, 2, 1, 0, 2, 3, 1, 0, 1, 0, 1, 0, 0, 0, 0, 1, 1, 0, 0, 2, 0, 3, 3, 3, 2, 0, 0, 2, 2, 1, 2, 1, 3, 2, 0, 0, 0, 2, 1, 3, 0, 1, 3, 0, 3, 3, 1, 1, 1, 3, 1, 0, 1, 3, 0, 3, 3, 0, 3, 1, 1, 2, 0, 0, 3, 1, 3, 1, 0, 0, 0, 0, 2, 2, 2, 3, 2, 0, 0, 3, 1, 0, 1, 1, 3, 1, 2, 2, 0, 1, 1, 0, 1, 3, 2, 1, 1, 0, 1, 2, 0, 0, 1, 2, 3, 2, 3, 1, 3, 1, 1, 1, 3, 1, 2, 2, 3, 3, 3, 2, 2, 1, 2, 1, 3, 2, 3, 1, 1, 1, 2, 3, 1, 1, 0, 1, 1, 3, 1, 1, 0, 1, 3, 1, 2, 0, 1, 1, 3, 0, 0, 3, 3, 3, 1, 2, 0, 3, 3, 2, 1, 1, 2, 0, 2, 0, 0, 1, 1, 2, 0, 1, 2, 3, 2, 1, 1, 3, 2, 3, 2, 1, 0, 1, 0, 3, 0, 3, 2, 2, 1, 0, 3, 1, 2, 0, 1, 0, 3, 2, 2, 2, 1, 1, 3, 2, 1, 0, 0, 2, 1, 2, 2, 2, 1, 3, 0, 2, 1, 2, 3, 3, 0, 3, 3, 3, 1, 1, 3, 3, 2, 3, 2, 3, 0, 0, 3, 0, 1, 3, 0, 0, 0, 3, 1, 0, 0, 0, 1, 3, 3, 3, 2, 0, 3, 0, 2, 2, 1, 1, 1, 1, 0, 3, 2, 3, 1, 2, 3, 1, 3, 1, 2, 1, 0, 3, 0, 2, 3, 2, 3, 2, 3, 1, 2, 1, 2, 0, 3, 1, 2, 2, 0, 2, 3, 2, 1, 1, 2, 1, 2, 2, 0, 3, 1, 1, 2, 1, 3, 3, 0, 0, 1, 3, 0, 0, 3, 1, 0, 3, 2, 0, 0, 3, 0, 2, 3, 2, 2, 1, 3, 3, 0, 3, 3, 1, 2, 2, 2, 3, 2, 0, 1, 2, 1, 3, 0, 2, 3, 0, 1, 0, 3, 1, 0, 0, 1, 2, 2, 3, 0, 3, 3, 0, 0, 0, 2, 2, 1, 0, 2, 1, 2, 0, 0, 2, 0, 3, 0, 3, 0, 3, 2, 3, 2, 0, 2, 0, 3, 2, 1, 2, 2, 3, 0, 2, 3, 3, 0, 0, 1, 1, 1, 1, 1, 0, 3, 1, 3, 0, 3, 2, 1, 2, 2, 3, 2, 2, 0, 0, 3, 0, 3, 0, 0, 1, 1, 1, 2, 1, 1, 2, 1, 3, 1, 3, 0, 2, 2, 3, 2, 2, 1, 2, 2, 3, 2, 0, 3, 1, 2, 1, 2, 2, 2, 1, 2, 1, 2, 3, 1, 3, 2, 0, 1, 0, 0, 1, 2, 1, 2, 3, 3, 2, 3, 1, 3, 0, 0, 2, 3, 2, 0, 1, 2, 0, 0, 0, 2, 3, 3, 0, 2, 1, 3, 0, 0, 2, 2, 3, 2, 0, 3, 3, 0, 1, 3, 2, 0, 2, 0, 3, 3, 3, 2, 2, 3, 0, 2, 3, 2, 0, 0, 0, 0, 2, 0, 0, 1, 0, 0, 2, 2, 1, 0, 2, 0, 3, 3, 3, 1, 2, 3, 1, 0, 1, 1, 3, 1, 3, 3, 0, 0, 1, 3, 3, 2, 1, 2, 2, 0, 2, 1, 2, 2, 3, 0, 0, 1, 3, 1, 2, 2, 1, 3, 1, 1, 3, 2, 2, 1, 0, 0, 2, 2, 1, 0, 3, 0, 1, 0, 0, 2, 0, 2, 0, 2, 0, 0, 3, 1, 1, 2, 2, 2, 3, 0, 0, 1, 2, 2, 3, 0, 3, 1, 2, 1, 1, 2, 3, 3, 0, 3, 1, 0, 0, 1, 3, 0, 3, 0, 1, 0, 3, 2, 2, 0, 0, 0, 0, 0, 0, 0, 2, 0, 2, 3, 2, 1, 1, 2, 3, 0, 3, 2, 3, 0, 1, 3, 1, 2, 0, 3, 1, 1, 1, 2, 2, 0, 3, 3, 0, 2, 1, 2, 1, 1, 1, 0, 1, 3, 3, 2, 1, 1, 2, 1, 1, 1, 1, 3, 3, 0, 3, 1, 1, 0, 2, 0, 2, 2, 1, 1, 0, 1, 3, 3, 3, 0, 3, 2, 2, 3, 2, 0, 3, 1, 0, 3, 1, 0, 2, 3, 3, 0, 0, 0, 3, 2, 2, 2, 1, 1, 0, 1, 1, 0, 3, 0, 2, 2, 1, 3, 1, 0, 2, 2, 2, 3, 3, 0, 1, 0, 0, 2, 3, 0, 3, 1, 3, 3, 1, 1, 3, 1, 0, 2, 3, 0, 3, 3, 1, 0, 0, 1, 2, 3, 0, 2, 1, 1, 3, 2, 2, 0, 0, 0, 2, 3, 2, 1, 1, 1, 3, 3, 2, 1, 2, 0, 0, 3, 2, 0, 2, 1, 3, 3, 2, 2, 0, 0, 1, 0, 2, 2, 0, 2, 3, 2, 1, 3, 3, 3, 2, 3, 3, 1, 3, 0, 3, 3, 1, 3, 0, 2, 1, 1, 2, 1, 0, 1, 3, 0, 0, 2, 3, 2, 1, 3, 1, 1, 1, 2, 2, 0, 2, 1, 0, 2, 1, 1, 3, 3, 2, 1, 0, 1, 0, 1, 0, 3, 0, 3, 3, 0, 1, 2, 3, 0, 0, 0, 3, 3, 3, 2, 2, 0, 3, 3, 2, 1, 0, 2, 0, 3, 1, 0, 1, 1, 1, 1, 3, 2, 0, 1, 3, 2, 2, 1, 3, 0, 0, 2, 0, 2, 0, 0, 3, 2, 2, 1, 1, 1, 2, 1, 2, 3, 2, 1, 3, 3, 3, 0, 1, 2, 3, 3, 3, 2, 2, 3, 3, 2, 0, 3, 3, 2, 0, 2, 0, 0, 0, 0, 0, 1, 0, 0, 0, 1, 1, 2, 1, 0, 2, 1, 0, 1, 3, 0, 3, 2, 3, 2, 0, 3, 3, 3, 0, 3, 3, 0, 1, 2, 1, 1, 0, 3, 2, 0, 1, 1, 1, 3, 3, 1, 3, 2, 1, 1, 3, 3, 2, 2, 0, 1, 3, 3, 1, 3, 3, 1, 0, 2, 0, 1, 2, 2, 0, 3, 0, 3, 0, 2, 3, 3, 3, 0, 1, 2, 3, 0, 1, 0, 1, 0, 1, 2, 0, 2, 2, 1, 2, 3, 1, 3, 2, 1, 3, 2, 1, 3, 3, 3, 0, 1, 2, 1, 1, 0, 3, 3, 2, 2, 1, 2, 0, 1, 3, 1, 3, 1, 2, 0, 3, 1, 3, 1, 3, 1, 0, 3, 0, 2, 2, 1, 0, 0, 0, 0, 0, 1, 2, 1, 3, 0, 2, 1, 1, 1, 1, 0, 3, 2, 2, 2, 0, 1, 0, 0, 2, 0, 2, 3, 1, 2, 3, 0, 0, 3, 2, 3, 3, 2, 0, 3, 2, 0, 1, 1, 3, 0, 0, 3, 3, 2, 0, 0, 0, 1, 2, 3, 3, 0, 3, 0, 3, 1, 3, 3, 2, 3, 0, 1, 2, 3, 2, 2, 1, 2, 3, 3, 0, 1, 0, 1, 1, 3, 1, 3, 3, 1, 1, 1, 2, 3, 1, 3, 1, 3, 1, 2, 1, 1, 1, 2, 0, 3, 3, 2, 3, 1, 1, 2, 2, 2, 2, 1, 1, 2, 2, 0, 0, 3, 3, 2, 1, 2, 3, 0, 2, 2, 2, 3, 1, 2, 2, 2, 2, 2, 2, 2, 3, 2, 3, 3, 0, 0, 1, 2, 2, 0, 2, 3, 3, 3, 2, 1, 1, 1, 2, 1, 0, 3, 1, 1, 2, 1, 2, 1, 1, 0, 2, 3, 3, 0, 3, 0, 2, 2, 1, 1, 2, 3, 0, 1, 1, 1, 0, 0, 0, 0, 1, 2, 2, 0, 1, 1, 0, 0, 1, 1, 3, 1, 1, 2, 0, 3, 1, 0, 1, 1, 2, 3, 0, 0, 2, 3, 1, 2, 1, 3, 0, 0, 0, 3, 0, 1, 3, 2, 0, 2, 0, 2, 0, 1, 1, 2, 2, 2, 1, 1, 2, 0, 3, 3, 1, 1, 1, 3, 2, 0, 2, 1, 3, 3, 2, 3, 3, 3, 3, 2, 1, 0, 2, 3, 1, 2, 0, 3, 1, 2, 1, 3, 0, 0, 3, 3, 3, 2, 3, 1, 3, 0, 0, 3, 3, 1, 2, 0, 0, 1, 1, 2, 1, 3, 1, 2, 0, 1, 1, 3, 3, 2, 3, 1, 0, 1, 3, 3, 1, 0, 2, 3, 0, 2, 0, 0, 1, 1, 3, 3, 1, 2, 0, 2, 2, 3, 0, 3, 0, 1, 3, 2, 2, 0, 1, 0, 2, 1, 2, 0, 1, 1, 0, 0, 1, 3, 0, 0, 0, 3, 0, 1, 3, 0, 2, 1, 1, 3, 3, 3, 1, 0, 1, 3, 1, 2, 3, 1, 0, 2, 0, 2, 1, 0, 1, 1, 2, 2, 1, 0, 1, 1, 1, 0, 2, 1, 3, 1, 1, 3, 3, 0, 3, 2, 2, 1, 0, 0, 3, 2, 3, 2, 0, 1, 3, 3, 0, 0, 3, 3, 3, 3, 3, 3, 2, 1, 1, 2, 1, 3, 1, 0, 1, 2, 1, 1, 3, 3, 2, 2, 1, 1, 2, 1, 1, 1, 1, 2, 0, 1, 1, 2, 0, 0, 0, 2, 0, 0, 3, 2, 1, 2, 0, 3, 3, 3, 2, 0, 2, 1, 0, 0, 3, 0, 1, 3, 3, 2, 3, 0, 1, 3, 2, 2, 1, 0, 3, 1, 0, 1, 0, 2, 0, 1, 3, 1, 0, 0, 0, 2, 2, 1, 0, 3, 0, 1, 2, 1, 2, 3, 0, 2, 3, 3, 3, 3, 3, 0, 2, 0, 2, 3, 0, 3, 0, 2, 3, 0, 0, 2, 2, 2, 0, 0, 1, 0, 2, 0, 2, 0, 0, 1, 2, 3, 2, 3, 3, 2, 2, 0, 3, 2, 1, 3, 2, 3, 3, 1, 2, 3, 2, 0, 2, 1, 3, 3, 1, 2, 1, 3, 1, 1, 3, 1, 3, 2, 2, 0, 0, 1, 0, 1, 0, 3, 1, 3, 0, 3, 2, 0, 3, 0, 0, 3, 1, 2, 3, 3, 3, 1, 3, 1, 2, 2, 0, 2, 1, 1, 1, 2, 3, 0, 3, 3, 2, 2, 0, 1, 1, 2, 1, 1, 1, 0, 0, 1, 0, 2, 2, 3, 1, 1, 3, 3, 1, 2, 3, 3, 2, 0, 1, 3, 0, 0, 3, 1, 3, 3, 3, 3, 1, 1, 1, 3, 3, 2, 2, 3, 3, 2, 2, 0, 1, 1, 0, 0, 3, 1, 1, 3, 0, 3, 1, 2, 0, 3, 0, 3, 0, 2, 1, 2, 3, 3, 1, 0, 2, 0, 3, 0, 1, 0, 2, 1, 2, 1, 0, 2, 3, 1, 1, 1, 3, 1, 2, 2, 2, 1, 0, 2, 3, 0, 2, 1, 2, 3, 2, 3, 0, 2, 3, 1, 2, 1, 2, 0, 2, 1, 3, 1, 0, 3, 0, 3, 0, 0, 0, 1, 0, 2, 2, 2, 3, 0, 0, 3, 3, 2, 2, 1, 3, 3, 3, 1, 2, 3, 3, 3, 1, 3, 1, 1, 2, 3, 2, 0, 2, 1, 2, 0, 0, 1, 0, 2, 2, 0, 2, 3, 0, 2, 3, 0, 2, 1, 0, 0, 1, 1, 3, 2, 2, 3, 1, 0, 2, 2, 1, 1, 0, 0, 3, 2, 3, 0, 3, 0, 0, 3, 0, 3, 3, 2, 2, 3, 1, 3, 1, 2, 2, 0, 2, 0, 3, 0, 3, 0, 1, 2, 1, 1, 3, 2, 3, 3, 0, 0, 3, 3, 1, 0, 1, 1, 1, 3, 0, 3, 2, 1, 1, 0, 0, 0, 2, 1, 3, 0, 2, 3, 0, 3, 0, 1, 1, 2, 2, 1, 1, 3, 3, 2, 3, 0, 1, 0, 1, 3, 2, 2, 3, 2, 2, 3, 1, 3, 1, 2, 1, 0, 0, 1, 2, 2, 1, 1, 2, 2, 3, 2, 0, 0, 0, 0, 2, 2, 1, 1, 3, 2, 3, 3, 3, 1, 2, 3, 3, 3, 1, 3, 3, 0, 2, 2, 0, 3, 2, 2, 3, 1, 0, 3, 2, 2, 3, 0, 3, 2, 1, 3, 3, 1, 1, 3, 1, 1, 2, 3, 2, 0, 0, 2, 2, 2, 0, 2, 3, 0, 1, 1, 2, 1, 1, 1, 0, 3, 1, 3, 2, 3, 0, 1, 1, 1, 2, 1, 2, 2, 3, 3, 2, 2, 0, 2, 0, 2, 3, 3, 3, 3, 0, 0, 0, 3, 3, 2, 2, 0, 1, 0, 2, 3, 0, 1, 0, 1, 3, 3, 1, 2, 3, 0, 0, 3, 2, 2, 3, 0, 3, 3, 1, 2, 2, 3, 1, 0, 2, 2, 3, 0, 2, 0, 2, 0, 1, 3, 0, 1, 0, 1, 3, 0, 3, 0, 3, 0, 2, 3, 0, 3, 3, 2, 0, 2, 1, 2, 0, 1, 2, 2, 1, 0, 0, 2, 1, 2, 1, 2, 0, 3, 0, 0, 1, 1, 2, 2, 3, 0, 2, 1, 2, 3, 2, 3, 3, 1, 0, 2, 0, 1, 0, 3, 2, 1, 0, 2, 3, 2, 3, 2, 1, 2, 0, 2, 3, 0, 0, 3, 1, 3, 3, 3, 0, 1, 3, 2, 0, 3, 0, 3, 3, 2, 0, 0, 2, 1, 3, 1, 3, 0, 1, 1, 2, 2, 0, 2, 1, 3, 3, 2, 1, 3, 0, 2, 0, 0, 1, 2, 2, 0, 1, 3, 2, 1, 1, 1, 0, 1, 2, 3, 1, 3, 2, 0, 1, 3, 3, 2, 1, 3, 2, 1, 2, 1, 2, 2, 3, 1, 1, 2, 3, 1, 2, 3, 2, 3, 2, 2, 0, 2, 2, 3, 2, 1, 2, 1, 3, 1, 2, 0, 2, 0, 0, 2, 2, 3, 0, 0, 1, 1, 1, 3, 0, 0, 0, 1, 3, 3, 3, 1, 2, 1, 3, 1, 3, 3, 1, 1, 0, 0, 3, 3, 1, 2, 2, 1, 0, 1, 2, 3, 0, 1, 3, 3, 0, 2, 3, 1, 3, 2, 2, 2, 2, 0, 3, 2, 1, 0, 1, 2, 2, 2, 0, 2, 0, 2, 2, 1, 3, 1, 0, 0, 0, 1, 2, 2, 2, 3, 0, 2, 3, 2, 2, 0, 3, 1, 2, 0, 3, 1, 0, 0, 3, 2, 1, 1, 0, 2, 0, 0, 1, 2, 2, 1, 2, 2, 3, 3, 1, 2, 2, 0, 1, 2, 3, 0, 1, 0, 0, 3, 1, 3, 3, 0, 0, 3, 3, 1, 1, 1, 0, 1, 3, 2, 2, 2, 2, 3, 3, 3, 0, 2, 3, 3, 1, 0, 2, 2, 2, 1, 0, 2, 2, 2, 0, 0, 3, 1, 1, 3, 2, 1, 1, 3, 1, 0, 1, 2, 0, 2, 1, 2, 1, 1, 0, 2, 2, 0, 1, 1, 2, 1, 2, 2, 3, 1, 3, 3, 1, 2, 3, 3, 3, 2, 0, 1, 2, 1, 0, 2, 2, 3, 2, 2, 3, 3, 1, 0, 2, 3, 1, 3, 1, 1, 1, 3, 0, 2, 0, 1, 1, 2, 0, 3, 2, 3, 2, 2, 3, 3, 0, 3, 2, 1, 3, 1, 1, 1, 1, 0, 1, 1, 1, 1, 3, 1, 2, 0, 3, 2, 0, 2, 2, 0, 2, 1, 1, 3, 0, 1, 0, 2, 1, 3, 0, 1, 0, 2, 1, 0, 0, 3, 3, 3, 2, 1, 3, 0, 3, 3, 3, 2, 3, 3, 1, 3, 3, 2, 2, 0, 3, 1, 0, 0, 0, 1, 1, 1, 3, 3, 0, 2, 1, 1, 3, 2, 2, 2, 1, 0, 1, 0, 2, 1, 2, 3, 0, 3, 0, 0, 0, 0, 0, 2, 0, 1, 0, 2, 3, 2, 0, 0, 3, 3, 1, 2, 3, 3, 2, 3, 1, 2, 2, 3, 0, 2, 1, 1, 1, 3, 1, 0, 0, 2, 3, 1, 1, 2, 1, 3, 1, 1, 3, 2, 3, 1, 2, 0, 1, 3, 1, 3, 2, 1, 3, 3, 1, 2, 2, 2, 3, 1, 2, 3, 1, 2, 0, 3, 2, 1, 0, 0, 3, 1, 0, 1, 0, 2, 1, 2, 2, 2, 1, 1, 3, 0, 2, 1, 2, 3, 1, 2, 0, 0, 0, 2, 1, 1, 0, 0, 2, 1, 2, 0, 1, 3, 2, 0, 0, 0, 0, 0, 0, 2, 3, 2, 0, 2, 2, 1, 2, 1, 1, 2, 1, 1, 3, 1, 3, 3, 3, 1, 3, 0, 2, 1, 3, 2, 2, 0, 2, 0, 2, 0, 3, 2, 1, 2, 2, 0, 2, 3, 1, 3, 1, 2, 0, 1, 1, 0, 0, 1, 0, 2, 3, 0, 1, 2, 0, 0, 3, 2, 2, 2, 0, 1, 2, 3, 2, 2, 1, 0, 2, 1, 1, 2, 2, 0, 3, 1, 2, 0, 1, 1, 0, 3, 2, 1, 2, 3, 2, 2, 3, 1, 3, 2, 1, 0, 1, 0, 2, 2, 1, 2, 2, 1, 1, 0, 1, 2, 3, 2, 2, 2, 0, 2, 2, 3, 0, 2, 0, 2, 2, 0, 2, 2, 0, 1, 1, 0, 2, 2, 1, 0, 0, 0, 1, 2, 1, 1, 3, 2, 3, 2, 0, 3, 1, 2, 1, 0, 2, 3, 1, 3, 2, 1, 3, 3, 2, 1, 0, 0, 3, 1, 3, 1, 2, 3, 2, 3, 3, 3, 0, 3, 0, 0, 2, 0, 1, 2, 1, 1, 3, 1, 1, 1, 2, 0, 3, 1, 2, 0, 3, 2, 0, 3, 0, 2, 2, 0, 0, 0, 1, 0, 2, 2, 2, 0, 0, 1, 2, 0, 2, 1, 1, 2, 1, 1, 2, 3, 2, 3, 0, 1, 2, 2, 3, 1, 1, 1, 1, 2, 1, 3, 2, 1, 3, 0, 3, 1, 2, 3, 2, 3, 1, 0, 1, 2, 0, 2, 0, 1, 2, 2, 3, 1, 3, 1, 2, 3, 0, 2, 1, 0, 1, 2, 1, 2, 3, 2, 3, 2, 2, 1, 1, 1, 2, 3, 0, 1, 2, 0, 2, 1, 0, 1, 3, 3, 3, 1, 1, 0, 3, 2, 0, 2, 1, 0, 2, 1, 0, 3, 3, 3, 1, 3, 0, 2, 2, 3, 2, 3, 2, 3, 3, 0, 0, 0, 0, 2, 1, 0, 0, 0, 3, 1, 1, 3, 1, 1, 3, 2, 2, 3, 3, 1, 0, 1, 1, 0, 0, 1, 3, 1, 3, 3, 1, 3, 0, 2, 2, 0, 0, 2, 2, 2, 2, 0, 2, 1, 3, 0, 3, 0, 0, 0, 0, 0, 0, 1, 3, 0, 3, 0, 0, 3, 0, 2, 0, 1, 0, 2, 3, 1, 1, 1, 2, 0, 0, 3, 3, 0, 1, 1, 0, 2, 3, 2, 0, 3, 2, 3, 3, 1, 3, 2, 3, 3, 2, 0, 2, 1, 3, 2, 3, 1, 2, 3, 1, 1, 0, 3, 3, 1, 2, 0, 2, 3, 0, 2, 2, 0, 2, 3, 0, 3, 3, 3, 3, 3, 1, 3, 0, 1, 1, 2, 3, 1, 3, 3, 2, 3, 2, 2, 3, 3, 2, 2, 0, 2, 2, 3, 1, 3, 2, 2, 0, 1, 1, 1, 1, 0, 1, 2, 2, 1, 0, 1, 3, 2, 3, 2, 0, 2, 3, 1, 2, 2, 3, 1, 3, 0, 1, 0, 3, 3, 1, 2, 1, 2, 2, 0, 3, 2, 3, 1, 1, 0, 2, 3, 3, 2, 0, 3, 0, 1, 2, 0, 0, 1, 0, 0, 1, 3, 2, 0, 1, 3, 1, 0, 1, 3, 0, 2, 0, 3, 2, 1, 2, 2, 0, 3, 3, 1, 3, 3, 1, 3, 2, 3, 2, 3, 0, 0, 1, 2, 0, 3, 3, 3, 0, 2, 3, 3, 0, 0, 3, 2, 3, 1, 2, 1, 3, 1, 1, 1, 3, 3, 3, 3, 2, 1, 3, 3, 3, 1, 0, 0, 1, 3, 0, 0, 3, 3, 1, 0, 1, 0, 3, 2, 1, 1, 2, 2, 1, 3, 0, 2, 2, 0, 3, 2, 3, 0, 2, 2, 0, 2, 3, 3, 3, 3, 0, 2, 2, 2, 3, 3, 3, 0, 3, 1, 0, 0, 2, 3, 0, 3, 3, 1, 2, 0, 3, 2, 0, 0, 3, 3, 3, 0, 1, 0, 1, 0, 0, 2, 0, 0, 0, 3, 1, 3, 3, 2, 3, 3, 1, 3, 3, 2, 2, 0, 2, 1, 2, 0, 3, 3, 2, 0, 2, 0, 3, 3, 0, 3, 2, 0, 1, 3, 0, 3, 2, 0, 1, 3, 2, 3, 3, 3, 0, 3, 0, 0, 0, 0, 0, 2, 3, 2, 2, 2, 3, 2, 2, 3, 1, 0, 2, 2, 0, 1, 3, 1, 0, 3, 1, 0, 2, 0, 3, 3, 2, 2, 0, 1, 1, 1, 0, 3, 3, 3, 1, 3, 2, 2, 2, 2, 0, 3, 3, 1, 1, 3, 2, 1, 0, 1, 2, 2, 2, 2, 0, 3, 0, 3, 1, 3, 1, 3, 1, 0, 2, 3, 1, 2, 0, 1, 0, 3, 0, 3, 3, 1, 0, 2, 3, 0, 1, 3, 0, 3, 3, 0, 2, 1, 1, 2, 1, 2, 1, 3, 0, 3, 3, 2, 1, 3, 3, 2, 3, 1, 1, 0, 2, 2, 1, 0, 0, 2, 2, 0, 3, 1, 1, 2, 1, 0, 1, 1, 0, 2, 2, 1, 2, 2, 0, 3, 2, 2, 3, 0, 3, 2, 1, 1, 3, 2, 0, 1, 1, 2, 0, 1, 3, 2, 3, 0, 1, 3, 0, 1, 1, 2, 1, 0, 2, 3, 1, 2, 0, 0, 0, 3, 3, 2, 0, 2, 1, 0, 3, 0, 2, 1, 3, 0, 0, 2, 2, 0, 3, 3, 0, 0, 1, 0, 0, 1, 1, 1, 3, 2, 0, 3, 0, 1, 0, 0, 0, 0, 0, 0, 3, 0, 2, 0, 1, 2, 2, 2, 0, 0, 3, 2, 3, 0, 3, 2, 2, 3, 2, 0, 1, 0, 3, 0, 0, 1, 2, 0, 3, 3, 0, 3, 2, 0, 0, 1, 1, 3, 2, 3, 0, 1, 2, 0, 1, 3, 0, 0, 0, 0, 3, 2, 3, 0, 2, 2, 1, 2, 3, 0, 2, 3, 0, 0, 2, 2, 1, 2, 1, 3, 3, 3, 2, 1, 3, 0, 3, 2, 1, 1, 3, 2, 2, 1, 0, 2, 2, 2, 3, 2, 2, 2, 0, 2, 3, 1, 3, 0, 0, 3, 1, 0, 2, 0, 2, 3, 2, 1, 0, 2, 3, 0, 2, 0, 3, 2, 2, 0, 3, 0, 2, 0, 1, 3, 3, 2, 3, 3, 2, 0, 1, 2, 0, 2, 1, 0, 2, 2, 3, 3, 1, 1, 1, 0, 0, 2, 2, 1, 1, 3, 3, 3, 0, 2, 2, 3, 1, 0, 3, 2, 3, 2, 2, 0, 2, 3, 2, 0, 3, 1, 3, 3, 1, 1, 0, 3, 0, 1, 1, 3, 3, 3, 2, 2, 1, 1, 1, 2, 3, 1, 0, 0, 0, 1, 3, 0, 3, 3, 1, 1, 1, 0, 2, 1, 3, 2, 3, 1, 2, 2, 2, 1, 1, 0, 2, 2, 1, 0, 2, 0, 3, 1, 0, 1, 2, 3, 2, 3, 3, 3, 3, 3, 3, 2, 1, 3, 0, 0, 3, 1, 3, 3, 0, 3, 3, 0, 2, 1, 1, 1, 2, 3, 1, 1, 3, 3, 0, 0, 2, 2, 0, 2, 1, 0, 1, 3, 3, 3, 1, 2, 0, 0, 1, 2, 3, 1, 0, 2, 0, 2, 2, 3, 1, 1, 3, 2, 3, 1, 3, 1, 1, 0, 1, 1, 0, 0, 2, 2, 1, 1, 0, 0, 1, 3, 2, 2, 0, 2, 1, 0, 0, 3, 0, 0, 3, 1, 3, 3, 3, 0, 2, 2, 1, 0, 0, 0, 3, 3, 2, 1, 3, 0, 2, 2, 0, 1, 3, 3, 2, 0, 3, 1, 3, 1, 0, 2, 1, 3, 0, 1, 3, 3, 3, 2, 2, 1, 2, 0, 3, 3, 0, 3, 2, 2, 3, 0, 2, 3, 2, 0, 2, 1, 1, 0, 2, 2, 0, 2, 0, 1, 2, 0, 0, 2, 0, 0, 2, 1, 0, 2, 0, 2, 3, 0, 3, 0, 3, 0, 3, 0, 1, 3, 2, 3, 0, 3, 1, 3, 1, 2, 0, 0, 0, 3, 1, 2, 2, 1, 0, 2, 3, 0, 1, 0, 2, 2, 0, 3, 0, 3, 0, 1, 0, 3, 0, 1, 3, 3, 3, 0, 0, 2, 3, 0, 2, 0, 3, 3, 2, 3, 1, 1, 2, 1, 0, 1, 2, 3, 0, 1, 0, 2, 2, 0, 2, 2, 1, 3, 0, 2, 1, 1, 3, 0, 1, 3, 0, 3, 1, 0, 2, 0, 1, 1, 3, 3, 3, 0, 0, 1, 3, 1, 3, 2, 1, 3, 3, 3, 0, 3, 3, 0, 2, 1, 3, 1, 0, 0, 0, 3, 1, 0, 3, 3, 2, 3, 2, 0, 2, 3, 2, 1, 0, 0, 3, 3, 0, 0, 2, 2, 3, 0, 2, 1, 3, 1, 1, 3, 2, 0, 3, 0, 0, 0, 2, 3, 2, 3, 2, 2, 0, 2, 3, 1, 2, 1, 2, 1, 0, 3, 3, 2, 0, 2, 3, 1, 3, 1, 2, 2, 0, 2, 1, 3, 3, 2, 2, 3, 1, 1, 3, 2, 2, 1, 3, 1, 0, 2, 3, 3, 1, 3, 2, 2, 0, 3, 3, 1, 2, 1, 1, 1, 3, 0, 3, 2, 2, 3, 2, 1, 0, 1, 1, 0, 0, 1, 2, 2, 0, 1, 0, 0, 1, 2, 3, 1, 2, 2, 1, 1, 0, 2, 0, 0, 1, 2, 3, 0, 1, 2, 2, 0, 3, 3, 2, 0, 1, 2, 0, 0, 2, 1, 1, 0, 2, 3, 2, 0, 0, 1, 0, 3, 0, 2, 3, 0, 3, 2, 1, 1, 2, 1, 2, 0, 3, 2, 2, 2, 0, 2, 3, 0, 2, 2, 2, 3, 3, 2, 2, 1, 1, 3, 2, 3, 0, 1, 2, 3, 0, 1, 2, 3, 0, 1, 2, 2, 2, 2, 1, 1, 3, 0, 0, 2, 3, 1, 2, 1, 0, 0, 0, 0, 2, 1, 3, 0, 1, 3, 3, 3, 1, 2, 3, 2, 0, 0, 0, 0, 2, 1, 2, 3, 1, 3, 0, 3, 3, 1, 2, 3, 2, 3, 0, 1, 2, 0, 2, 3, 2, 1, 0, 3, 3, 0, 2, 1, 2, 3, 3, 3, 1, 0, 1, 0, 3, 3, 1, 3, 2, 0, 0, 3, 2, 3, 1, 0, 0, 2, 2, 1, 3, 0, 0, 1, 2, 1, 3, 3, 3, 1, 0, 3, 2, 3, 2, 1, 0, 3, 1, 0, 1, 0, 0, 2, 3, 2, 0, 3, 1, 0, 0, 2, 1, 3, 3, 0, 3, 0, 2, 2, 2, 2, 0, 3, 2, 1, 1, 2, 0, 3, 3, 0, 0, 1, 3, 3, 3, 1, 0, 0, 2, 2, 1, 0, 2, 3, 2, 0, 1, 1, 3, 0, 3, 2, 3, 0, 1, 3, 3, 1, 0, 3, 3, 1, 3, 3, 1, 0, 3, 2, 2, 0, 1, 3, 1, 2, 3, 2, 0, 1, 3, 1, 0, 3, 0, 1, 0, 3, 0, 2, 0, 1, 0, 2, 3, 1, 0, 1, 1, 3, 0, 0, 1, 2, 1, 1, 2, 3, 2, 2, 2, 0, 2, 2, 0, 2, 3, 3, 1, 2, 3, 0, 0, 1, 1, 0, 0, 3, 2, 1, 3, 0, 2, 2, 1, 2, 3, 3, 0, 3, 2, 2, 2, 1, 2, 3, 3, 1, 2, 0, 0, 3, 1, 1, 0, 1, 1, 1, 2, 2, 2, 0, 0, 1, 1, 3, 1, 0, 2, 3, 0, 0, 2, 2, 3, 2, 3, 2, 1, 1, 2, 1, 1, 0, 0, 3, 3, 1, 2, 0, 1, 3, 0, 2, 3, 3, 0, 3, 1, 3, 1, 0, 0, 1, 1, 1, 0, 2, 3, 1, 0, 0, 3, 1, 2, 3, 2, 1, 0, 1, 3, 3, 0, 3, 1, 2, 2, 0, 2, 2, 3, 0, 2, 1, 1, 1, 0, 1, 3, 2, 3, 1, 2, 2, 0, 2, 2, 2, 0, 0, 3, 1, 2, 1, 3, 2, 1, 1, 0, 0, 3, 3, 3, 2, 1, 2, 2, 0, 1, 3, 1, 1, 0, 1, 0, 0, 2, 3, 2, 3, 0, 1, 2, 2, 3, 0, 3, 2, 0, 3, 2, 1, 1, 0, 2, 1, 1, 2, 3, 0, 1, 0, 1, 0, 0, 1, 2, 2, 0, 1, 1, 3, 1, 3, 2, 1, 3, 0, 2, 1, 2, 2, 2, 2, 2, 3, 0, 0, 1, 2, 2, 2, 1, 3, 2, 3, 3, 2, 2, 2, 2, 3, 0, 0, 3, 1, 0, 3, 2, 3, 0, 1, 0, 0, 2, 3, 1, 1, 2, 1, 3, 2, 0, 2, 1, 2, 1, 0, 1, 1, 1, 3, 3, 2, 3, 1, 0, 2, 2, 1, 1, 2, 1, 1, 3, 0, 0, 0, 1, 2, 1, 1, 3, 0, 0, 2, 2, 3, 0, 2, 1, 1, 2, 0, 3, 3, 3, 1, 2, 3, 1, 1, 2, 1, 1, 3, 3, 3, 2, 3, 3, 1, 1, 2, 1, 2, 3, 0, 3, 2, 0, 2, 0, 0, 2, 2, 2, 2, 0, 0, 1, 2, 2, 1, 2, 1, 1, 1, 2, 2, 2, 1, 0, 1, 0, 2, 1, 2, 0, 0, 0, 3, 2, 1, 0, 2, 1, 2, 3, 1, 0, 1, 0, 0, 2, 1, 0, 3, 2, 0, 1, 1, 1, 3, 0, 1, 2, 0, 3, 1, 1, 0, 1, 1, 3, 3, 2, 0, 3, 1, 2, 2, 0, 1, 3, 0, 1, 1, 0, 1, 2, 0, 0, 2, 0, 2, 0, 1, 1, 3, 1, 1, 0, 2, 0, 3, 3, 3, 2, 2, 3, 1, 1, 0, 3, 2, 2, 2, 3, 0, 1, 0, 2, 1, 2, 2, 0, 0, 1, 2, 1, 2, 2, 1, 1, 1, 0, 0, 3, 1, 3, 3, 2, 1, 1, 0, 3, 0, 0, 3, 3, 2, 2, 3, 0, 0, 0, 3, 2, 0, 2, 3, 3, 2, 2, 3, 3, 2, 1, 0, 0, 0, 0, 2, 0, 0, 3, 1, 2, 3, 0, 2, 1, 0, 0, 0, 1, 2, 0, 0, 2, 2, 0, 3, 2, 2, 2, 1, 1, 0, 1, 2, 3, 1, 3, 1, 3, 2, 2, 1, 2, 1, 1, 1, 0, 3, 3, 1, 3, 1, 3, 0, 0, 0, 2, 0, 0, 3, 2, 1, 0, 0, 1, 0, 0, 3, 2, 2, 2, 1, 2, 0, 2, 3, 2, 2, 3, 1, 2, 1, 1, 3, 3, 2, 2, 3, 3, 1, 2, 1, 3, 1, 2, 2, 3, 0, 0, 2, 3, 0, 0, 2, 0, 2, 0, 0, 1, 3, 0, 0, 0, 0, 0, 1, 2, 3, 2, 0, 3, 1, 1, 3, 2, 2, 3, 2, 0, 3, 0, 0, 2, 3, 3, 1, 0, 0, 0, 1, 1, 1, 1, 1, 0, 2, 2, 3, 3, 3, 3, 0, 3, 3, 2, 2, 1, 2, 3, 1, 2, 0, 1, 1, 3, 3, 1, 0, 3, 0, 2, 2, 2, 0, 2, 2, 2, 0, 2, 2, 3, 3, 1, 0, 0, 3, 1, 3, 3, 2, 2, 1, 2, 1, 0, 3, 0, 2, 2, 0, 0, 1, 2, 0, 0, 0, 2, 0, 3, 0, 0, 1, 3, 3, 2, 0, 3, 3, 0, 3, 3, 0, 1, 0, 3, 2, 0, 3, 1, 3, 2, 0, 2, 2, 1, 1, 2, 1, 2, 0, 2, 1, 0, 0, 2, 2, 0, 1, 1, 2, 2, 1, 0, 2, 3, 0, 3, 1, 0, 0, 1, 3, 3, 0, 3, 3, 3, 3, 3, 1, 2, 1, 3, 1, 2, 2, 2, 0, 1, 2, 2, 3, 2, 1, 1, 0, 3, 2, 3, 3, 3, 0, 2, 0, 1, 0, 2, 0, 2, 2, 3, 3, 3, 0, 3, 2, 2, 0, 2, 1, 0, 0, 1, 0, 2, 2, 1, 0, 2, 0, 0, 1, 2, 0, 1, 1, 3, 1, 0, 0, 2, 1, 2, 3, 2, 2, 0, 0, 0, 3, 2, 1, 3, 0, 3, 0, 1, 1, 1, 1, 1, 3, 1, 2, 3, 1, 2, 1, 0, 0, 0, 3, 0, 3, 1, 0, 2, 1, 2, 0, 3, 2, 1, 3, 1, 2, 0, 3, 0, 0, 0, 2, 3, 2, 2, 3, 1, 3, 3, 1, 1, 0, 0, 1, 0, 1, 3, 1, 0, 2, 2, 3, 1, 3, 0, 0, 2, 0, 3, 1, 3, 0, 1, 2, 2, 3, 1, 2, 0, 1, 0, 3, 3, 3, 3, 2, 3, 2, 1, 0, 0, 3, 0, 3, 0, 1, 3, 2, 3, 1, 2, 0, 1, 1, 0, 0, 3, 0, 3, 0, 1, 0, 0, 2, 2, 1, 3, 3, 3, 3, 3, 1, 0, 2, 0, 2, 2, 3, 3, 0, 2, 2, 3, 1, 2, 2, 3, 3, 0, 0, 3, 1, 3, 1, 0, 2, 3, 2, 2, 0, 2, 0, 1, 0, 1, 2, 3, 1, 0, 2, 1, 1, 2, 3, 1, 3, 3, 2, 0, 2, 3, 3, 2, 2, 2, 1, 1, 3, 2, 2, 1, 0, 3, 2, 0, 2, 1, 0, 2, 2, 0, 1, 2, 1, 0, 0, 3, 1, 2, 1, 3, 1, 1, 0, 2, 1, 2, 0, 3, 2, 1, 2, 1, 2, 0, 1, 2, 0, 3, 2, 3, 3, 3, 0, 3, 1, 3, 2, 2, 1, 3, 1, 2, 2, 2, 3, 3, 1, 2, 3, 2, 3, 1, 3, 2, 0, 1, 2, 1, 1, 2, 2, 3, 0, 0, 3, 2, 3, 3, 0, 3, 2, 2, 3, 1, 2, 1, 2, 1, 3, 3, 3, 0, 2, 2, 0, 3, 2, 2, 0, 2, 0, 1, 3, 1, 2, 3, 1, 2, 0, 3, 0, 1, 0, 2, 1, 1, 0, 1, 0, 3, 1, 2, 0, 3, 3, 2, 3, 1, 3, 0, 3, 1, 3, 1, 2, 3, 1, 0, 0, 2, 0, 3, 3, 0, 0, 1, 1, 0, 0, 3, 0, 3, 3, 1, 0, 0, 1, 0, 0, 0, 3, 3, 2, 1, 1, 3, 2, 1, 3, 0, 2, 3, 3, 1, 2, 3, 0, 1, 2, 2, 0, 0, 1, 3, 1, 0, 3, 1, 3, 2, 3, 1, 0, 2, 1, 2, 3, 1, 2, 1, 0, 3, 0, 3, 2, 2, 2, 2, 3, 1, 3, 2, 0, 1, 3, 3, 1, 1, 2, 3, 0, 3, 2, 1, 2, 3, 3, 1, 1, 3, 2, 1, 3, 0, 1, 0, 0, 0, 1, 2, 2, 3, 2, 3, 1, 2, 2, 2, 2, 1, 2, 0, 1, 1, 3, 0, 2, 3, 3, 2, 3, 0, 3, 3, 1, 0, 1, 1, 3, 0, 3, 1, 1, 1, 3, 2, 2, 2, 3, 2, 2, 2, 1, 0, 1, 1, 3, 1, 3, 1, 3, 1, 2, 3, 1, 0, 3, 3, 3, 0, 2, 0, 2, 0, 2, 3, 2, 2, 0, 1, 3, 2, 2, 1, 1, 3, 1, 2, 3, 1, 1, 2, 0, 3, 3, 1, 0, 0, 3, 2, 2, 3, 0, 2, 3, 1, 0, 3, 3, 1, 1, 3, 0, 2, 1, 2, 1, 2, 3, 1, 2, 2, 1, 3, 0, 2, 1, 3, 2, 3, 2, 2, 1, 2, 1, 0, 1, 2, 2, 1, 2, 2, 0, 1, 0, 2, 3, 0, 3, 2, 3, 3, 1, 1, 1, 0, 0, 3, 0, 0, 1, 0, 2, 1, 0, 3, 1, 0, 3, 1, 2, 1, 1, 3, 0, 0, 3, 1, 2, 3, 1, 2, 2, 2, 3, 0, 1, 0, 1, 2, 0, 0, 1, 1, 2, 1, 0, 1, 3, 1, 1, 0, 0, 2, 3, 3, 0, 1, 1, 2, 1, 0, 0, 2, 2, 2, 3, 1, 3, 3, 0, 3, 0, 2, 1, 2, 2, 1, 2, 2, 0, 1, 1, 0, 3, 0, 1, 0, 3, 1, 2, 2, 1, 0, 3, 1, 3, 0, 2, 1, 3, 2, 0, 0, 3, 2, 3, 3, 3, 2, 2, 0, 1, 3, 3, 1, 1, 3, 2, 3, 3, 2, 0, 3, 0, 0, 2, 3, 0, 2, 3, 2, 0, 1, 0, 2, 2, 0, 3, 3, 3, 2, 1, 1, 0, 0, 2, 3, 1, 1, 1, 1, 1, 3, 2, 2, 0, 0, 2, 1, 1, 0, 2, 3, 0, 1, 1, 2, 2, 3, 3, 1, 0, 3, 0, 0, 0, 2, 3, 2, 2, 1, 2, 2, 3, 0, 0, 1, 0, 1, 2, 3, 1, 3, 2, 2, 3, 2, 0, 0, 3, 0, 3, 0, 3, 3, 3, 0, 0, 1, 0, 2, 1, 2, 3, 2, 1, 1, 2, 0, 3, 3, 1, 2, 2, 0, 0, 1, 1, 0, 3, 1, 3, 3, 1, 0, 3, 3, 1, 1, 3, 2, 1, 3, 1, 2, 1, 0, 3, 3, 0, 2, 2, 1, 3, 0, 2, 2, 3, 2, 3, 0, 0, 2, 1, 0, 0, 0, 0, 3, 0, 2, 3, 1, 2, 3, 1, 3, 0, 1, 1, 1, 0, 0, 3, 2, 3, 0, 1, 0, 2, 3, 1, 3, 0, 3, 0, 2, 1, 1, 2, 1, 1, 3, 0, 0, 1, 1, 2, 2, 3, 1, 0, 1, 0, 1, 2, 2, 0, 1, 3, 3, 1, 0, 0, 0, 3, 1, 2, 0, 2, 2, 3, 1, 0, 2, 0, 2, 1, 3, 1, 0, 3, 0, 1, 2, 2, 2, 2, 1, 0, 3, 2, 0, 3, 2, 0, 1, 0, 2, 2, 0, 2, 3, 3, 2, 2, 0, 2, 1, 3, 2, 0, 0, 2, 3, 1, 1, 1, 0, 2, 3, 3, 3, 3, 3, 3, 0, 0, 2, 3, 1, 0, 3, 1, 0, 0, 1, 1, 3, 3, 1, 3, 2, 1, 1, 0, 1, 2, 2, 0, 1, 2, 2, 3, 3, 0, 3, 1, 0, 1, 0, 3, 3, 0, 1, 0, 0, 1, 3, 2, 2, 3, 2, 1, 1, 2, 3, 0, 2, 3, 2, 2, 0, 2, 2, 3, 1, 2, 1, 2, 2, 0, 2, 0, 3, 1, 1, 1, 1, 2, 2, 0, 1, 2, 2, 0, 3, 3, 2, 3, 0, 3, 0, 2, 0, 2, 1, 0, 1, 0, 3, 1, 1, 3, 1, 0, 0, 1, 0, 1, 0, 2, 3, 1, 0, 3, 3, 3, 0, 0, 1, 1, 3, 1, 3, 3, 0, 2, 3, 2, 0, 3, 3, 0, 1, 2, 3, 3, 1, 1, 3, 2, 0, 3, 3, 1, 0, 2, 0, 3, 2, 2, 3, 3, 0, 0, 3, 1, 3, 0, 1, 0, 3, 3, 2, 3, 0, 2, 3, 3, 3, 2, 0, 1, 0, 2, 3, 0, 3, 0, 0, 2, 3, 1, 0, 2, 3, 3, 0, 0, 1, 2, 1, 3, 3, 1, 0, 2, 1, 2, 0, 0, 1, 1, 0, 0, 0, 2, 3, 1, 1, 0, 2, 2, 0, 3, 2, 0, 1, 1, 1, 3, 3, 3, 1, 1, 1, 3, 1, 2, 0, 0, 2, 1, 0, 1, 0, 0, 1, 1, 2, 1, 1, 3, 1, 1, 3, 1, 0, 2, 2, 2, 0, 1, 0, 0, 2, 3, 3, 3, 0, 3, 3, 0, 0, 1, 2, 2, 0, 0, 3, 1, 3, 0, 2, 3, 1, 0, 0, 1, 3, 0, 1, 3, 1, 0, 0, 1, 1, 2, 2, 3, 2, 1, 3, 2, 2, 2, 3, 0, 0, 3, 1, 2, 2, 0, 0, 3, 1, 0, 2, 0, 3, 0, 0, 3, 1, 0, 1, 1, 2, 2, 0, 0, 3, 3, 1, 2, 0, 2, 3, 1, 2, 2, 0, 2, 1, 0, 1, 2, 1, 3, 3, 1, 2, 0, 1, 1, 3, 2, 0, 0, 3, 0, 3, 3, 0, 0, 1, 0, 3, 1, 3, 3, 1, 2, 1, 1, 0, 0, 3, 0, 3, 3, 1, 0, 3, 0, 3, 3, 0, 1, 1, 1, 1, 0, 1, 3, 0, 0, 1, 1, 3, 3, 3, 3, 3, 2, 3, 2, 2, 3, 1, 0, 3, 0, 2, 1, 2, 1, 0, 3, 1, 3, 1, 1, 2, 2, 3, 0, 0, 1, 0, 2, 0, 2, 3, 2, 1, 2, 3, 3, 2, 1, 2, 1, 2, 1, 2, 3, 2, 2, 2, 0, 3, 1, 3, 2, 0, 2, 2, 1, 0, 1, 3, 3, 3, 3, 3, 1, 2, 0, 2, 2, 2, 0, 3, 3, 2, 2, 3, 0, 0, 1, 2, 3, 2, 1, 3, 2, 0, 0, 0, 2, 1, 0, 1, 2, 2, 2, 3, 2, 2, 0, 1, 3, 3, 2, 3, 3, 3, 1, 0, 0, 3, 2, 2, 3, 2, 3, 0, 1, 3, 3, 2, 3, 2, 3, 0, 3, 2, 2, 0, 3, 3, 2, 3, 1, 0, 3, 2, 1, 0, 1, 2, 1, 3, 1, 0, 0, 2, 1, 3, 0, 2, 3, 3, 2, 1, 2, 0, 0, 2, 0, 3, 3, 2, 2, 1, 1, 0, 2, 0, 1, 2, 3, 3, 1, 3, 1, 2, 3, 1, 2, 3, 1, 3, 0, 1, 0, 1, 0, 2, 0, 0, 0, 1, 0, 1, 3, 2, 3, 2, 0, 1, 1, 2, 1, 2, 2, 2, 0, 3, 0, 1, 2, 2, 1, 2, 0, 2, 0, 2, 0, 3, 3, 1, 3, 0, 1, 2, 1, 0, 1, 1, 0, 2, 3, 2, 3, 3, 1, 2, 0, 2, 0, 3, 2, 1, 1, 1, 2, 3, 0, 3, 2, 2, 3, 0, 1, 3, 3, 2, 2, 1, 0, 0, 2, 2, 0, 3, 0, 1, 2, 1, 1, 2, 3, 2, 1, 0, 0, 2, 2, 1, 0, 1, 1, 0, 0, 3, 3, 1, 2, 3, 0, 2, 3, 0, 3, 1, 1, 1, 3, 3, 1, 0, 3, 2, 1, 0, 0, 0, 1, 3, 1, 2, 2, 0, 1, 2, 2, 2, 0, 1, 0, 3, 1, 2, 0, 3, 0, 2, 0, 1, 0, 3, 2, 3, 1, 1, 1, 0, 1, 0, 2, 1, 3, 2, 1, 1, 3, 3, 2, 2, 0, 1, 1, 2, 0, 1, 1, 3, 1, 1, 0, 3, 3, 3, 2, 2, 2, 2, 1, 2, 1, 0, 2, 1, 2, 1, 2, 1, 1, 1, 3, 2, 1, 1, 3, 0, 3, 0, 0, 0, 1, 1, 1, 3, 2, 3, 1, 3, 2, 1, 3, 3, 3, 1, 3, 3, 1, 0, 1, 2, 3, 0, 2, 0, 2, 0, 1, 1, 2, 2, 3, 1, 2, 3, 2, 0, 0, 0, 0, 3, 3, 1, 0, 0, 3, 2, 3, 3, 2, 3, 0, 2, 0, 3, 2, 0, 3, 0, 1, 0, 1, 2, 3, 1, 3, 0, 2, 1, 2, 3, 1, 3, 2, 2, 2, 3, 2, 3, 1, 0, 2, 3, 3, 3, 3, 3, 3, 3, 0, 3, 0, 2, 1, 2, 2, 0, 0, 2, 1, 2, 1, 1, 0, 0, 3, 1, 3, 1, 3, 3, 0, 0, 0, 2, 3, 3, 1, 1, 3, 2, 3, 3, 1, 1, 3, 3, 1, 3, 2, 0, 2, 1, 2, 0, 3, 0, 3, 2, 1, 0, 3, 1, 1, 2, 3, 0, 1, 1, 3, 0, 3, 2, 0, 0, 2, 1, 1, 3, 1, 1, 0, 3, 0, 1, 1, 3, 2, 2, 3, 1, 0, 3, 2, 2, 3, 3, 1, 3, 3, 3, 0, 1, 0, 2, 3, 0, 2, 2, 3, 1, 1, 0, 3, 0, 2, 3, 2, 3, 1, 0, 1, 0, 2, 0, 2, 2, 2, 3, 3, 2, 0, 1, 0, 0, 3, 0, 2, 3, 0, 0, 0, 0, 3, 3, 2, 0, 0, 0, 3, 2, 1, 1, 2, 3, 3, 0, 2, 3, 1, 3, 0, 2, 3, 0, 0, 3, 3, 3, 0, 0, 1, 1, 3, 2, 2, 3, 0, 3, 1, 2, 2, 0, 3, 0, 1, 3, 0, 1, 1, 3, 1, 0, 1, 3, 1, 2, 1, 0, 0, 1, 0, 1, 1, 3, 0, 2, 3, 0, 3, 3, 2, 3, 0, 1, 3, 3, 0, 2, 1, 0, 1, 2, 1, 0, 2, 1, 3, 3, 3, 1, 2, 0, 0, 2, 2, 0, 1, 2, 0, 3, 2, 2, 0, 0, 3, 0, 3, 1, 1, 2, 2, 3, 0, 3, 2, 0, 0, 3, 1, 1, 1, 1, 0, 1, 3, 3, 3, 0, 2, 3, 3, 3, 1, 3, 3, 0, 2, 0, 1, 0, 1, 2, 2, 1, 0, 2, 2, 3, 2, 0, 1, 1, 2, 0, 1, 2, 3, 3, 1, 1, 3, 0, 1, 3, 0, 2, 3, 1, 3, 0, 1, 3, 1, 1, 3, 2, 1, 3, 3, 0, 1, 1, 1, 1, 2, 2, 3, 2, 1, 2, 2, 2, 0, 0, 2, 2, 3, 3, 3, 3, 0, 3, 2, 0, 3, 3, 3, 0, 2, 2, 2, 1, 2, 2, 2, 1, 0, 0, 0, 2, 0, 1, 2, 2, 0, 2, 1, 2, 0, 0, 1, 1, 0, 2, 3, 0, 0, 3, 3, 2, 3, 2, 0, 1, 0, 0, 0, 2, 2, 2, 2, 2, 0, 0, 1, 2, 0, 3, 2, 1, 0, 2, 0, 1, 1, 0, 2, 2, 3, 1, 2, 1, 1, 2, 1, 0, 0, 0, 3, 3, 3, 3, 1, 3, 2, 2, 2, 0, 0, 2, 1, 0, 1, 3, 3, 2, 3, 2, 3, 3, 1, 3, 1, 3, 3, 0, 1, 0, 2, 2, 2, 1, 0, 3, 1, 0, 2, 1, 3, 3, 1, 3, 2, 1, 2, 0, 3, 3, 1, 1, 3, 0, 1, 3, 0, 0, 1, 2, 0, 3, 3, 1, 2, 2, 3, 3, 2, 0, 0, 0, 1, 3, 1, 0, 1, 0, 3, 1, 3, 1, 2, 3, 3, 0, 0, 2, 1, 2, 1, 3, 2, 3, 3, 2, 1, 1, 2, 0, 1, 1, 2, 1, 2, 1, 3, 1, 2, 3, 2, 3, 3, 1, 1, 3, 0, 0, 1, 1, 2, 0, 1, 2, 1, 3, 2, 3, 1, 2, 3, 0, 1, 0, 3, 0, 3, 3, 1, 0, 2, 0, 2, 2, 3, 3, 1, 2, 2, 1, 2, 2, 2, 2, 1, 3, 0, 3, 3, 2, 2, 3, 1, 2, 0, 0, 0, 0, 1, 1, 3, 3, 3, 3, 3, 3, 3, 0, 1, 1, 3, 0, 3, 2, 0, 3, 3, 0, 3, 0, 1, 1, 2, 1, 1, 1, 0, 0, 0, 2, 0, 2, 2, 3, 1, 3, 0, 0, 0, 2, 1, 3, 3, 2, 2, 1, 2, 1, 2, 1, 1, 3, 1, 0, 2, 2, 2, 1, 2, 0, 0, 1, 0, 2, 1, 0, 2, 1, 1, 2, 0, 0, 3, 0, 2, 3, 3, 1, 2, 1, 3, 1, 3, 1, 0, 3, 3, 2, 1, 3, 1, 3, 3, 3, 1, 1, 1, 2, 2, 1, 0, 3, 2, 0, 2, 3, 2, 1, 2, 0, 2, 1, 0, 3, 3, 2, 3, 1, 3, 0, 1, 2, 1, 1, 2, 1, 0, 1, 1, 3, 1, 1, 2, 0, 0, 1, 3, 1, 0, 0, 1, 2, 2, 2, 1, 0, 2, 0, 0, 3, 2, 3, 3, 3, 3, 0, 2, 1, 0, 2, 1, 2, 3, 1, 2, 0, 3, 2, 2, 3, 2, 2, 0, 0, 2, 3, 1, 2, 2, 0, 3, 3, 2, 1, 0, 2, 3, 0, 1, 3, 2, 0, 2, 3, 3, 1, 1, 0, 2, 1, 2, 2, 1, 3, 0, 0, 3, 3, 1, 2, 0, 2, 1, 0, 1, 3, 1, 0, 2, 1, 2, 0, 3, 0, 1, 0, 3, 3, 1, 0, 2, 1, 0, 2, 2, 2, 3, 3, 2, 0, 0, 2, 1, 2, 3, 1, 2, 2, 2, 0, 1, 1, 0, 2, 2, 2, 1, 2, 2, 1, 3, 3, 0, 3, 2, 3, 2, 0, 2, 3, 0, 2, 1, 1, 0, 0, 1, 1, 1, 2, 2, 2, 0, 0, 0, 3, 1, 2, 2, 1, 2, 3, 3, 3, 1, 1, 3, 0, 1, 3, 3, 3, 2, 1, 3, 2, 1, 3, 2, 0, 3, 2, 1, 1, 0, 0, 1, 1, 3, 2, 0, 0, 1, 2, 0, 3, 0, 1, 0, 1, 1, 3, 3, 1, 3, 2, 1, 3, 0, 0, 2, 1, 0, 0, 2, 3, 1, 0, 2, 1, 1, 0, 1, 2, 3, 0, 3, 2, 0, 2, 1, 3, 2, 3, 2, 2, 1, 3, 1, 2, 0, 3, 0, 1, 2, 1, 2, 1, 3, 1, 3, 0, 3, 3, 0, 2, 3, 3, 0, 3, 3, 0, 2, 1, 3, 0, 2, 3, 0, 3, 2, 2, 1, 1, 0, 3, 0, 3, 1, 2, 2, 2, 3, 3, 2, 1, 0, 3, 0, 0, 3, 3, 1, 2, 1, 2, 1, 1, 0, 0, 3, 3, 2, 0, 3, 0, 2, 2, 3, 3, 3, 3, 0, 3, 2, 0, 1, 0, 1, 2, 1, 0, 3, 0, 1, 3, 0, 2, 0, 1, 2, 1, 3, 3, 2, 3, 1, 3, 2, 2, 1, 2, 3, 2, 3, 3, 1, 0, 2, 0, 3, 1, 3, 0, 3, 1, 0, 0, 3, 0, 0, 1, 3, 3, 1, 1, 3, 1, 2, 0, 3, 0, 1, 0, 0, 2, 2, 1, 1, 1, 1, 2, 3, 1, 3, 0, 0, 2, 2, 2, 3, 1, 3, 3, 1, 2, 3, 3, 3, 0, 3, 0, 3, 2, 2, 1, 1, 2, 1, 0, 1, 2, 0, 0, 0, 0, 1, 3, 0, 2, 1, 3, 3, 3, 0, 1, 2, 3, 1, 2, 3, 1, 3, 0, 2, 3, 3, 0, 3, 3, 1, 3, 2, 2, 0, 1, 3, 2, 1, 1, 0, 0, 2, 1, 2, 1, 2, 1, 0, 1, 1, 0, 1, 3, 0, 2, 2, 2, 0, 1, 1, 2, 1, 0, 1, 0, 3, 2, 0, 2, 3, 1, 0, 3, 2, 2, 0, 1, 3, 2, 1, 1, 0, 3, 0, 2, 0, 1, 0, 0, 0, 0, 2, 0, 1, 3, 1, 0, 2, 0, 3, 0, 1, 0, 1, 0, 0, 0, 0, 1, 1, 0, 1, 0, 2, 1, 3, 0, 2, 1, 0, 1, 2, 1, 3, 1, 3, 0, 3, 1, 3, 3, 1, 2, 1, 2, 2, 3, 3, 2, 0, 2, 1, 3, 1, 3, 1, 3, 1, 3, 0, 0, 1, 1, 1, 0, 1, 2, 0, 1, 3, 0, 2, 2, 3, 0, 3, 3, 0, 3, 1, 0, 1, 2, 0, 2, 2, 0, 3, 1, 3, 2, 3, 3, 3, 3, 0, 3, 3, 0, 0, 0, 0, 0, 2, 3, 0, 1, 3, 3, 2, 2, 0, 0, 3, 3, 1, 1, 3, 0, 2, 0, 2, 1, 2, 2, 0, 1, 0, 1, 0, 2, 0, 1, 2, 1, 2, 3, 3, 0, 3, 1, 0, 2, 1, 3, 0, 1, 0, 3, 0, 3, 3, 2, 0, 3, 3, 3, 2, 3, 0, 1, 2, 2, 0, 2, 0, 0, 2, 1, 2, 1, 2, 0, 3, 0, 2, 3, 0, 0, 1, 3, 1, 0, 3, 2, 3, 0, 3, 2, 2, 1, 3, 1, 2, 0, 0, 1, 0, 3, 3, 3, 0, 3, 0, 3, 1, 2, 3, 2, 3, 2, 3, 1, 2, 3, 1, 3, 0, 0, 2, 1, 1, 2, 1, 1, 2, 0, 3, 0, 3, 3, 0, 1, 1, 3, 2, 1, 2, 1, 3, 2, 0, 3, 1, 2, 1, 1, 2, 2, 3, 0, 3, 2, 1, 2, 0, 2, 1, 2, 2, 0, 0, 2, 2, 0, 2, 2, 3, 1, 3, 1, 0, 0, 1, 2, 1, 2, 2, 1, 1, 3, 2, 2, 2, 1, 1, 0, 2, 1, 1, 1, 1, 0, 2, 2, 1, 3, 1, 2, 1, 0, 0, 3, 0, 0, 1, 3, 1, 0, 3, 1, 1, 3, 0, 1, 2, 3, 3, 1, 2, 2, 1, 1, 2, 1, 1, 2, 3, 3, 1, 2, 1, 2, 1, 3, 0, 0, 2, 0, 1, 3, 2, 1, 3, 0, 3, 2, 2, 1, 0, 0, 3, 2, 0, 3, 1, 0, 2, 1, 3, 3, 1, 1, 3, 0, 3, 1, 3, 3, 3, 0, 1, 3, 1, 2, 1, 1, 3, 0, 1, 0, 3, 2, 2, 0, 3, 0, 2, 2, 2, 2, 2, 1, 3, 1, 1, 2, 2, 1, 2, 2, 0, 0, 3, 1, 3, 2, 3, 0, 2, 1, 1, 0, 1, 1, 2, 2, 3, 0, 2, 0, 3, 0, 1, 0, 1, 1, 0, 0, 3, 0, 0, 2, 1, 2, 0, 1, 1, 0, 2, 0, 1, 2, 0, 3, 1, 0, 3, 3, 2, 3, 0, 0, 3, 2, 2, 3, 0, 2, 0, 1, 2, 1, 1, 0, 0, 0, 1, 1, 1, 1, 1, 3, 1, 0, 3, 0, 2, 0, 3, 3, 3, 1, 0, 1, 3, 2, 2, 0, 2, 3, 2, 1, 2, 3, 0, 1, 1, 2, 0, 3, 0, 1, 0, 2, 0, 1, 0, 2, 1, 1, 3, 1, 1, 0, 0, 3, 1, 1, 1, 3, 0, 0, 1, 0, 1, 1, 3, 1, 0, 1, 2, 3, 2, 2, 3, 3, 1, 3, 3, 3, 3, 2, 3, 2, 0, 0, 2, 0, 1, 3, 1, 2, 2, 0, 0, 0, 3, 2, 1, 2, 2, 3, 3, 2, 2, 2, 0, 2, 3, 3, 3, 3, 0, 3, 0, 1, 0, 2, 2, 0, 0, 2, 0, 3, 0, 2, 3, 0, 1, 0, 3, 2, 0, 1, 3, 2, 3, 1, 3, 2, 0, 0, 1, 0, 3, 2, 1, 3, 2, 0, 1, 0, 0, 3, 1, 0, 1, 2, 1, 2, 1, 1, 3, 0, 2, 0, 0, 0, 0, 0, 0, 0, 3, 2, 2, 3, 1, 0, 2, 0, 0, 2, 1, 0, 1, 2, 2, 3, 3, 1, 1, 1, 2, 0, 3, 0, 0, 2, 1, 1, 1, 2, 3, 2, 2, 2, 2, 0, 2, 1, 1, 3, 1, 1, 0, 0, 2, 3, 0, 3, 0, 0, 3, 3, 0, 0, 0, 2, 2, 3, 0, 1, 2, 2, 3, 1, 1, 3, 2, 3, 2, 0, 3, 1, 3, 3, 0, 3, 3, 0, 3, 0, 1, 1, 0, 3, 1, 1, 1, 2, 3, 2, 0, 2, 3, 1, 1, 0, 2, 3, 0, 3, 3, 2, 1, 0, 3, 0, 2, 2, 1, 2, 1, 1, 0, 2, 2, 0, 0, 2, 3, 3, 2, 0, 1, 1, 3, 1, 3, 2, 3, 1, 2, 3, 2, 0, 0, 2, 2, 2, 0, 1, 3, 1, 3, 1, 1, 2, 0, 1, 3, 0, 1, 2, 0, 2, 1, 2, 3, 2, 2, 1, 1, 1, 0, 2, 3, 0, 2, 0, 3, 1, 0, 3, 2, 0, 0, 1, 0, 2, 2, 3, 1, 1, 3, 2, 3, 3, 2, 3, 3, 2, 1, 1, 2, 2, 1, 0, 3, 3, 3, 2, 2, 3, 1, 3, 1, 2, 2, 0, 3, 3, 0, 0, 0, 1, 2, 3, 1, 0, 1, 1, 2, 0, 0, 0, 1, 2, 1, 2, 1, 2, 1, 0, 2, 2, 1, 3, 0, 0, 1, 1, 1, 3, 3, 0, 2, 3, 2, 0, 0, 2, 3, 3, 1, 1, 3, 2, 0, 3, 1, 0, 2, 1, 0, 1, 0, 0, 3, 3, 1, 2, 0, 3, 1, 0, 1, 3, 2, 0, 1, 2, 3, 3, 1, 2, 0, 2, 1, 0, 0, 2, 1, 2, 3, 2, 1, 2, 1, 2, 1, 1, 1, 1, 0, 2, 1, 2, 3, 0, 1, 2, 2, 2, 2, 3, 1, 3, 3, 0, 3, 3, 1, 1, 1, 1, 1, 3, 0, 0, 0, 3, 3, 3, 0, 2, 0, 2, 3, 3, 1, 1, 0, 0, 0, 0, 2, 3, 0, 1, 1, 1, 2, 1, 3, 2, 0, 1, 0, 0, 3, 0, 0, 2, 2, 2, 2, 3, 1, 3, 1, 1, 0, 3, 1, 1, 3, 0, 2, 1, 2, 1, 3, 3, 2, 3, 2, 0, 0, 0, 1, 2, 0, 3, 3, 3, 1, 2, 0, 3, 0, 0, 0, 3, 3, 1, 1, 1, 3, 1, 2, 1, 1, 0, 3, 2, 0, 0, 0, 2, 2, 0, 1, 1, 1, 2, 0, 0, 3, 1, 1, 2, 2, 2, 1, 2, 1, 1, 0, 1, 1, 2, 0, 1, 0, 0, 0, 3, 1, 3, 2, 2, 3, 1, 1, 3, 0, 3, 1, 3, 0, 0, 3, 2, 0, 1, 0, 1, 3, 1, 0, 0, 3, 1, 2, 1, 0, 2, 0, 2, 1, 0, 3, 3, 2, 0, 0, 0, 1, 2, 0, 2, 3, 1, 1, 0, 1, 2, 2, 0, 0, 2, 2, 3, 1, 0, 2, 2, 3, 3, 1, 2, 3, 0, 0, 0, 0, 1, 3, 0, 2, 3, 0, 3, 2, 0, 0, 3, 3, 3, 2, 1, 0, 1, 2, 3, 1, 0, 1, 2, 2, 3, 1, 2, 1, 3, 0, 2, 1, 1, 0, 0, 3, 3, 3, 1, 1, 3, 0, 0, 2, 3, 3, 1, 3, 1, 0, 2, 1, 2, 1, 0, 1, 3, 1, 2, 1, 3, 1, 2, 0, 2, 1, 3, 3, 2, 2, 2, 2, 3, 3, 3, 3, 3, 0, 1, 1, 1, 3, 2, 1, 3, 3, 3, 2, 2, 1, 0, 0, 2, 1, 2, 2, 1, 1, 3, 1, 0, 2, 0, 2, 0, 0, 3, 2, 2, 1, 2, 3, 1, 0, 2, 3, 1, 1, 2, 1, 2, 3, 1, 3, 3, 3, 1, 1, 0, 3, 2, 3, 0, 3, 2, 1, 3, 2, 3, 0, 2, 3, 3, 2, 0, 2, 0, 3, 1, 3, 2, 3, 3, 3, 2, 0, 3, 0, 3, 2, 1, 3, 2, 0, 3, 2, 3, 3, 1, 2, 3, 3, 3, 2, 1, 2, 0, 2, 0, 2, 2, 3, 2, 2, 1, 0, 1, 3, 0, 0, 0, 2, 0, 3, 0, 1, 2, 2, 2, 3, 3, 2, 1, 1, 0, 0, 0, 1, 3, 3, 3, 3, 1, 2, 2, 3, 0, 2, 0, 3, 1, 1, 1, 3, 2, 0, 2, 1, 0, 1, 2, 3, 3, 2, 1, 1, 2, 0, 1, 0, 2, 2, 1, 2, 3, 2, 0, 2, 0, 2, 1, 1, 3, 1, 1, 1, 2, 3, 2, 1, 2, 0, 0, 2, 1, 3, 0, 0, 3, 3, 1, 3, 0, 2, 0, 3, 0, 3, 0, 1, 0, 0, 2, 0, 3, 1, 1, 0, 2, 2, 0, 1, 2, 2, 3, 2, 2, 3, 1, 0, 0, 3, 2, 3, 1, 1, 2, 0, 1, 0, 2, 1, 3, 0, 2, 0, 3, 3, 3, 1, 0, 0, 1, 3, 1, 0, 1, 1, 1, 2, 0, 0, 3, 0, 3, 2, 0, 1, 3, 3, 0, 2, 3, 0, 1, 1, 2, 2, 2, 2, 2, 0, 1, 1, 2, 0, 2, 1, 3, 3, 1, 0, 1, 2, 2, 0, 2, 1, 2, 2, 3, 3, 1, 2, 3, 3, 2, 3, 0, 0, 3, 1, 0, 1, 1, 2, 2, 2, 2, 0, 2, 0, 3, 2, 2, 0, 0, 3, 2, 3, 3, 2, 3, 3, 0, 1, 0, 3, 3, 2, 0, 1, 1, 3, 2, 2, 3, 2, 1, 0, 3, 2, 0, 2, 3, 2, 0, 2, 1, 1, 0, 3, 1, 2, 0, 3, 1, 0, 2, 2, 0, 1, 3, 3, 1, 2, 3, 2, 0, 0, 1, 0, 0, 3, 0, 3, 3, 0, 2, 0, 0, 2, 3, 3, 2, 0, 1, 3, 2, 2, 2, 1, 1, 0, 3, 2, 0, 0, 3, 2, 1, 2, 1, 3, 0, 0, 1, 0, 2, 3, 3, 2, 0, 2, 2, 1, 1, 2, 2, 1, 1, 0, 0, 3, 1, 2, 2, 1, 2, 1, 1, 1, 3, 3, 0, 3, 3, 3, 0, 3, 2, 3, 1, 0, 3, 3, 0, 3, 0, 1, 1, 2, 2, 3, 3, 1, 1, 3, 1, 1, 2, 3, 3, 2, 2, 3, 3, 3, 0, 3, 0, 1, 3, 0, 0, 3, 2, 3, 1, 0, 2, 0, 0, 2, 0, 0, 1, 3, 1, 2, 3, 0, 2, 2, 2, 2, 1, 3, 1, 3, 2, 0, 3, 0, 1, 1, 1, 3, 0, 0, 0, 3, 3, 3, 1, 0, 2, 3, 3, 2, 2, 2, 3, 1, 3, 3, 3, 2, 2, 0, 1, 1, 1, 1, 2, 2, 2, 0, 1, 1, 1, 0, 1, 0, 2, 1, 1, 0, 2, 2, 3, 0, 2, 2, 1, 3, 1, 2, 2, 0, 0, 2, 3, 0, 1, 3, 2, 0, 3, 3, 1, 1, 2, 3, 1, 0, 3, 0, 1, 1, 3, 2, 3, 2, 1, 2, 3, 2, 0, 2, 1, 0, 3, 3, 3, 0, 2, 0, 1, 0, 0, 3, 1, 3, 2, 3, 1, 3, 1, 3, 1, 0, 0, 0, 3, 1, 0, 1, 1, 0, 0, 2, 1, 3, 2, 3, 3, 1, 1, 1, 2, 1, 3, 0, 0, 2, 0, 0, 2, 3, 3, 2, 3, 0, 0, 0, 3, 0, 2, 2, 1, 2, 2, 2, 0, 0, 0, 3, 2, 3, 0, 1, 0, 2, 2, 2, 3, 1, 0, 2, 1, 2, 3, 2, 1, 2, 2, 3, 0, 1, 3, 0, 3, 2, 2, 2, 1, 1, 0, 0, 2, 1, 0, 1, 2, 2, 1, 2, 2, 1, 1, 0, 2, 1, 0, 2, 3, 3, 3, 0, 2, 2, 0, 3, 0, 2, 0, 3, 2, 0, 1, 0, 3, 1, 1, 0, 1, 1, 2, 1, 0, 1, 3, 0, 2, 1, 1, 2, 0, 0, 0, 0, 2, 2, 3, 3, 3, 0, 1, 1, 0, 2, 0, 1, 3, 1, 3, 3, 2, 3, 0, 0, 1, 0, 3, 3, 2, 1, 0, 1, 3, 3, 2, 2, 3, 2, 0, 1, 3, 3, 3, 0, 0, 0, 2, 1, 0, 2, 1, 3, 0, 3, 1, 2, 0, 0, 3, 1, 2, 3, 0, 0, 3, 3, 0, 0, 1, 0, 2, 1, 0, 1, 1, 0, 1, 2, 0, 1, 3, 0, 1, 1, 2, 3, 3, 2, 2, 0, 1, 1, 1, 3, 1, 2, 1, 0, 2, 2, 1, 1, 2, 1, 2, 2, 2, 3, 3, 2, 1, 1, 1, 3, 0, 2, 3, 2, 1, 2, 0, 1, 2, 0, 3, 0, 2, 3, 2, 0, 0, 1, 2, 0, 1, 2, 2, 1, 1, 1, 2, 0, 0, 3, 3, 3, 2, 2, 2, 0, 3, 0, 3, 3, 2, 1, 3, 1, 3, 1, 2, 3, 0, 1, 3, 2, 3, 1, 1, 0, 3, 0, 0, 3, 2, 0, 0, 0, 2, 2, 3, 0, 0, 3, 3, 3, 1, 0, 0, 2, 0, 2, 3, 0, 2, 3, 1, 1, 0, 2, 3, 0, 1, 1, 0, 1, 3, 2, 3, 1, 3, 1, 0, 2, 3, 3, 3, 0, 2, 2, 1, 3, 0, 1, 2, 0, 2, 1, 1, 3, 0, 2, 0, 1, 0, 1, 1, 2, 3, 0, 2, 3, 0, 1, 2, 3, 3, 0, 2, 2, 0, 3, 1, 1, 1, 2, 2, 1, 2, 0, 2, 0, 1, 0, 0, 1, 0, 3, 0, 0, 1, 2, 1, 3, 1, 3, 3, 1, 3, 2, 0, 0, 2, 2, 2, 3, 1, 3, 0, 0, 2, 0, 3, 1, 1, 0, 0, 3, 1, 3, 3, 1, 1, 1, 2, 3, 0, 2, 0, 0, 2, 0, 1, 0, 3, 0, 1, 3, 3, 0, 2, 3, 3, 2, 3, 1, 1, 1, 3, 0, 1, 2, 3, 0, 2, 2, 2, 1, 2, 1, 2, 1, 1, 2, 2, 2, 2, 2, 3, 2, 1, 1, 1, 2, 1, 0, 1, 0, 1, 1, 1, 1, 0, 0, 2, 1, 1, 0, 0, 0, 0, 0, 1, 2, 2, 2, 1, 3, 0, 2, 2, 0, 2, 0, 2, 3, 2, 2, 2, 0, 2, 2, 1, 3, 2, 2, 2, 0, 3, 2, 3, 1, 1, 3, 0, 0, 1, 0, 0, 3, 0, 2, 2, 0, 1, 1, 1, 1, 3, 2, 1, 3, 3, 0, 2, 1, 2, 1, 3, 3, 3, 1, 0, 0, 0, 1, 2, 0, 0, 3, 3, 0, 2, 0, 2, 1, 2, 2, 3, 1, 3, 2, 1, 0, 2, 1, 3, 0, 0, 3, 3, 2, 2, 0, 2, 0, 2, 1, 2, 1, 1, 0, 2, 0, 0, 1, 0, 1, 3, 1, 0, 0, 0, 0, 2, 3, 2, 1, 3, 1, 1, 3, 0, 2, 2, 1, 3, 0, 2, 2, 2, 3, 0, 1, 2, 2, 0, 1, 3, 0, 2, 3, 1, 2, 2, 2, 1, 2, 0, 0, 1, 2, 3, 0, 3, 1, 3, 3, 3, 1, 0, 3, 0, 2, 0, 2, 2, 1, 0, 2, 1, 0, 3, 1, 0, 2, 2, 0, 3, 3, 2, 0, 3, 1, 0, 3, 1, 1, 3, 2, 3, 2, 1, 2, 0, 3, 0, 3, 0, 2, 0, 3, 3, 2, 0, 0, 2, 1, 1, 0, 2, 0, 2, 2, 2, 3, 3, 1, 3, 1, 2, 2, 3, 3, 1, 1, 2, 0, 1, 1, 1, 1, 3, 3, 2, 3, 3, 3, 1, 0, 3, 2, 0, 1, 0, 2, 0, 0, 1, 2, 1, 1, 2, 1, 3, 0, 1, 1, 0, 2, 3, 2, 3, 3, 0, 3, 0, 0, 3, 2, 3, 1, 3, 0, 1, 0, 1, 0, 3, 3, 1, 3, 1, 1, 1, 3, 2, 0, 1, 0, 3, 0, 1, 2, 1, 0, 0, 2, 2, 0, 2, 1, 1, 0, 2, 2, 0, 1, 2, 1, 0, 2, 1, 3, 0, 1, 1, 2, 3, 2, 2, 3, 0, 3, 1, 1, 0, 3, 1, 1, 2, 0, 0, 2, 1, 3, 0, 3, 2, 2, 1, 2, 0, 1, 3, 1, 3, 1, 0, 0, 3, 1, 2, 3, 2, 0, 0, 1, 0, 1, 2, 2, 0, 3, 1, 0, 2, 2, 2, 2, 0, 0, 3, 3, 0, 1, 2, 0, 2, 1, 2, 2, 0, 3, 2, 0, 2, 3, 2, 2, 1, 0, 2, 1, 0, 3, 2, 2, 3, 1, 3, 2, 2, 0, 2, 3, 0, 3, 3, 0, 0, 3, 0, 1, 1, 0, 1, 3, 3, 0, 1, 3, 2, 1, 0, 1, 3, 3, 1, 0, 0, 1, 1, 2, 3, 0, 2, 3, 1, 0, 3, 2, 3, 3, 0, 0, 0, 1, 2, 0, 3, 1, 2, 2, 3, 2, 3, 3, 0, 1, 0, 0, 2, 3, 0, 0, 3, 2, 0, 2, 1, 2, 3, 3, 2, 3, 3, 2, 2, 3, 2, 1, 2, 3, 3, 3, 3, 2, 3, 3, 3, 0, 1, 3, 2, 1, 1, 0, 0, 2, 2, 3, 0, 2, 0, 2, 3, 3, 2, 1, 0, 3, 3, 2, 3, 3, 1, 3, 3, 0, 2, 1, 2, 3, 3, 0, 3, 0, 2, 0, 2, 0, 1, 0, 3, 3, 2, 0, 2, 1, 0, 1, 0, 1, 0, 1, 1, 1, 0, 0, 1, 3, 3, 0, 1, 2, 1, 1, 0, 1, 1, 2, 1, 1, 1, 3, 1, 0, 3, 2, 0, 3, 2, 1, 1, 1, 3, 1, 0, 0, 1, 0, 3, 0, 1, 2, 2, 2, 1, 2, 2, 1, 1, 2, 3, 0, 3, 0, 2, 0, 0, 3, 1, 0, 3, 0, 1, 0, 3, 3, 1, 0, 0, 1, 1, 0, 2, 3, 0, 3, 1, 3, 2, 2, 3, 3, 3, 0, 1, 1, 1, 2, 2, 0, 3, 1, 1, 1, 0, 1, 0, 2, 3, 3, 2, 2, 2, 2, 2, 0, 2, 3, 1, 3, 2, 3, 2, 2, 3, 1, 3, 0, 1, 2, 0, 1, 3, 0, 3, 2, 1, 1, 3, 2, 1, 0, 0, 0, 2, 1, 0, 0, 3, 2, 0, 0, 2, 2, 2, 3, 2, 0, 0, 0, 2, 1, 0, 2, 1, 1, 3, 0, 0, 0, 3, 2, 3, 1, 2, 2, 2, 1, 2, 1, 0, 3, 3, 1, 1, 0, 1, 0, 3, 1, 3, 3, 0, 2, 2, 3, 1, 3, 3, 1, 0, 3, 0, 3, 2, 3, 3, 0, 0, 1, 0, 2, 3, 3, 2, 0, 3, 0, 0, 2, 2, 2, 1, 3, 3, 3, 0, 1, 3, 0, 3, 0, 1, 0, 0, 1, 0, 1, 3, 2, 0, 3, 1, 0, 2, 3, 1, 1, 0, 0, 1, 1, 0, 2, 1, 0, 0, 2, 0, 2, 0, 0, 3, 2, 1, 3, 2, 3, 0, 2, 1, 1, 0, 1, 1, 3, 2, 1, 2, 0, 0, 1, 0, 3, 2, 1, 1, 1, 2, 1, 0, 3, 1, 0, 3, 2, 3, 1, 0, 1, 2, 3, 1, 3, 0, 0, 3, 1, 0, 3, 1, 0, 3, 1, 2, 1, 0, 2, 2, 3, 3, 0, 0, 3, 2, 2, 0, 1, 0, 1, 1, 3, 1, 0, 3, 1, 0, 3, 3, 1, 0, 1, 3, 3, 2, 1, 1, 0, 0, 3, 0, 1, 1, 0, 3, 0, 1, 2, 1, 2, 3, 3, 3, 1, 2, 2, 3, 3, 0, 1, 2, 3, 0, 0, 1, 3, 0, 2, 0, 0, 3, 0, 0, 2, 3, 2, 3, 3, 0, 3, 0, 2, 2, 0, 1, 0, 0, 3, 1, 3, 0, 3, 0, 2, 2, 3, 2, 0, 3, 3, 3, 2, 3, 3, 0, 3, 2, 2, 2, 0, 3, 0, 3, 3, 0, 2, 1, 3, 1, 3, 3, 1, 1, 0, 2, 1, 3, 2, 1, 2, 0, 3, 0, 1, 0, 1, 0, 1, 1, 1, 1, 1, 3, 1, 2, 1, 1, 0, 2, 2, 1, 1, 0, 0, 2, 3, 0, 0, 1, 0, 3, 3, 2, 0, 1, 2, 3, 2, 1, 2, 1, 2, 3, 2, 1, 3, 3, 2, 0, 1, 2, 3, 0, 3, 3, 2, 0, 3, 2, 0, 2, 0, 3, 2, 1, 1, 0, 2, 3, 3, 2, 0, 3, 2, 3, 2, 3, 3, 3, 2, 0, 0, 3, 0, 1, 0, 0, 2, 3, 2, 0, 2, 3, 1, 1, 3, 2, 1, 3, 0, 2, 1, 3, 3, 2, 0, 0, 1, 3, 1, 0, 0, 2, 1, 1, 1, 1, 1, 0, 3, 1, 2, 3, 0, 0, 2, 3, 1, 0, 3, 0, 0, 0, 3, 3, 3, 1, 1, 0, 0, 3, 1, 0, 2, 0, 0, 0, 2, 2, 0, 2, 2, 1, 0, 0, 3, 3, 2, 3, 0, 3, 0, 2, 2, 2, 1, 3, 1, 1, 2, 1, 3, 0, 3, 0, 3, 1, 1, 1, 0, 1, 2, 1, 3, 2, 2, 1, 3, 3, 1, 0, 2, 2, 0, 3, 3, 2, 0, 1, 3, 2, 1, 3, 2, 3, 0, 3, 0, 0, 1, 0, 1, 2, 1, 1, 0, 3, 0, 3, 1, 1, 1, 2, 1, 3, 0, 0, 2, 2, 0, 0, 0, 0, 1, 2, 1, 3, 2, 0, 2, 0, 0, 3, 1, 0, 0, 1, 2, 1, 3, 2, 1, 2, 0, 3, 1, 3, 3, 1, 1, 3, 1, 1, 3, 3, 0, 2, 1, 3, 1, 0, 1, 0, 2, 3, 1, 3, 0, 0, 1, 0, 2, 2, 1, 1, 2, 3, 2, 3, 0, 2, 0, 2, 1, 3, 1, 1, 2, 0, 2, 1, 0, 3, 3, 0, 0, 0, 2, 1, 3, 1, 1, 0, 1, 0, 1, 3, 1, 3, 1, 0, 0, 3, 3, 1, 3, 2, 0, 3, 0, 3, 3, 2, 0, 3, 3, 0, 1, 0, 2, 0, 3, 1, 2, 0, 3, 3, 0, 1, 0, 1, 3, 3, 2, 3, 0, 2, 2, 2, 0, 3, 3, 2, 2, 3, 0, 3, 1, 1, 1, 0, 2, 3, 3, 2, 1, 0, 2, 2, 0, 1, 1, 1, 0, 2, 3, 3, 1, 0, 2, 2, 0, 0, 3, 3, 0, 3, 1, 1, 3, 1, 0, 2, 2, 2, 3, 1, 3, 1, 0, 0, 2, 3, 0, 2, 1, 2, 2, 2, 0, 1, 0, 3, 0, 3, 3, 1, 0, 1, 3, 1, 1, 0, 2, 2, 2, 3, 1, 1, 1, 0, 2, 1, 1, 3, 2, 0, 1, 3, 3, 2, 3, 0, 2, 2, 2, 3, 0, 2, 3, 2, 0, 3, 3, 0, 2, 1, 3, 2, 3, 2, 0, 0, 2, 1, 1, 2, 3, 2, 3, 2, 2, 0, 0, 2, 3, 3, 0, 3, 0, 0, 2, 0, 1, 1, 2, 3, 3, 1, 0, 1, 3, 1, 2, 0, 2, 2, 2, 2, 2, 3, 1, 3, 0, 2, 2, 3, 3, 3, 0, 1, 2, 3, 1, 2, 1, 3, 1, 2, 3, 0, 2, 1, 0, 1, 2, 0, 3, 1, 2, 0, 3, 1, 2, 1, 3, 2, 2, 2, 3, 2, 2, 3, 2, 0, 3, 2, 2, 2, 3, 3, 3, 3, 1, 1, 0, 3, 3, 0, 1, 2, 1, 1, 2, 0, 2, 0, 2, 0, 3, 2, 2, 0, 0, 2, 1, 2, 1, 1, 0, 1, 0, 0, 1, 2, 1, 2, 2, 1, 2, 3, 2, 2, 3, 2, 1, 3, 1, 0, 1, 3, 1, 0, 1, 3, 1, 2, 3, 3, 1, 0, 2, 1, 3, 3, 1, 1, 1, 1, 0, 1, 2, 3, 1, 1, 1, 3, 2, 0, 2, 2, 3, 1, 2, 0, 2, 3, 3, 2, 2, 0, 1, 1, 1, 1, 3, 1, 0, 1, 0, 3, 1, 0, 3, 1, 0, 3, 1, 1, 0, 0, 0, 1, 0, 3, 3, 0, 1, 3, 0, 0, 0, 1, 2, 3, 3, 2, 0, 0, 0, 3, 0, 0, 3, 3, 3, 2, 1, 3, 3, 2, 0, 3, 3, 1, 2, 0, 3, 2, 1, 1, 3, 0, 0, 1, 1, 3, 2, 2, 0, 3, 0, 2, 0, 3, 0, 0, 0, 0, 1, 3, 0, 0, 3, 2, 0, 3, 1, 3, 1, 0, 3, 2, 0, 3, 1, 3, 2, 1, 2, 1, 0, 2, 0, 1, 2, 1, 0, 0, 3, 2, 1, 0, 0, 2, 3, 0, 3, 2, 0, 0, 3, 0, 3, 1, 2, 1, 3, 3, 2, 0, 0, 3, 1, 2, 3, 0, 2, 3, 0, 3, 2, 0, 3, 1, 1, 0, 0, 1, 2, 3, 2, 1, 2, 0, 0, 1, 2, 3, 1, 3, 3, 0, 1, 1, 2, 3, 0, 2, 3, 1, 1, 3, 3, 0, 2, 3, 2, 1, 1, 3, 1, 2, 1, 1, 3, 1, 2, 3, 3, 1, 2, 3, 1, 0, 1, 1, 0, 0, 3, 0, 3, 0, 0, 1, 2, 2, 2, 1, 0, 2, 1, 3, 2, 1, 3, 0, 2, 2, 0, 2, 3, 0, 3, 1, 3, 2, 3, 1, 2, 2, 0, 2, 2, 1, 1, 1, 1, 1, 2, 1, 0, 3, 1, 0, 0, 3, 2, 0, 3, 0, 2, 0, 3, 3, 2, 1, 2, 2, 3, 1, 2, 0, 0, 2, 3, 2, 1, 2, 1, 2, 3, 3, 1, 0, 0, 0, 0, 3, 1, 2, 1, 0, 2, 2, 0, 0, 2, 1, 0, 2, 1, 0, 3, 2, 1, 2, 2, 1, 2, 3, 0, 3, 2, 3, 1, 2, 2, 1, 0, 2, 2, 1, 3, 1, 2, 1, 2, 1, 3, 3, 1, 1, 2, 2, 2, 2, 2, 3, 2, 1, 2, 3, 3, 1, 3, 1, 1, 0, 1, 2, 0, 0, 0, 3, 1, 0, 1, 0, 0, 3, 1, 2, 3, 0, 1, 3, 2, 2, 2, 0, 0, 1, 0, 1, 1, 2, 3, 2, 3, 3, 2, 1, 0, 1, 2, 2, 0, 1, 2, 0, 3, 1, 1, 0, 2, 3, 1, 3, 0, 1, 2, 0, 0, 1, 0, 1, 0, 2, 2, 1, 1, 2, 3, 1, 3, 1, 1, 1, 1, 2, 0, 3, 2, 1, 0, 3, 1, 2, 3, 1, 2, 0, 3, 0, 0, 1, 2, 0, 1, 0, 0, 0, 0, 0, 1, 0, 3, 2, 2, 2, 3, 0, 0, 3, 3, 1, 3, 2, 0, 3, 1, 0, 2, 2, 2, 3, 1, 2, 2, 2, 2, 2, 1, 2, 0, 2, 3, 2, 3, 1, 3, 1, 0, 3, 3, 3, 3, 3, 3, 1, 0, 0, 3, 3, 1, 2, 0, 0, 0, 2, 3, 2, 2, 0, 0, 2, 0, 0, 1, 1, 3, 2, 3, 1, 3, 3, 0, 2, 3, 3, 0, 1, 1, 1, 1, 3, 3, 1, 2, 0, 0, 1, 2, 3, 1, 0, 2, 3, 2, 2, 2, 1, 2, 0, 3, 3, 1, 3, 2, 1, 1, 1, 2, 2, 0, 2, 2, 2, 3, 2, 3, 3, 1, 3, 3, 3, 3, 0, 2, 2, 3, 0, 2, 1, 1, 0, 1, 2, 2, 1, 3, 2, 0, 0, 1, 0, 3, 2, 0, 3, 1, 3, 2, 2, 2, 2, 0, 1, 1, 2, 0, 0, 3, 2, 0, 2, 0, 2, 2, 0, 3, 1, 0, 3, 3, 0, 0, 0, 3, 3, 2, 3, 1, 3, 0, 0, 1, 2, 0, 0, 2, 1, 0, 2, 3, 2, 0, 2, 1, 0, 0, 2, 1, 3, 0, 3, 1, 2, 0, 1, 0, 1, 1, 0, 1, 1, 1, 3, 1, 1, 0, 1, 2, 1, 1, 2, 3, 1, 1, 1, 3, 0, 0, 2, 2, 2, 2, 1, 3, 2, 1, 0, 1, 1, 1, 1, 2, 1, 0, 3, 3, 0, 1, 0, 0, 3, 1, 1, 2, 2, 3, 0, 2, 1, 1, 3, 3, 3, 0, 0, 1, 2, 0, 0, 2, 3, 0, 1, 3, 3, 0, 3, 1, 2, 1, 3, 0, 1, 2, 3, 0, 3, 0, 0, 0, 3, 3, 1, 1, 2, 0, 0, 0, 0, 3, 2, 2, 1, 3, 0, 0, 3, 2, 0, 2, 1, 1, 1, 0, 1, 1, 3, 3, 0, 2, 0, 1, 3, 1, 1, 3, 0, 2, 1, 2, 2, 1, 3, 2, 2, 3, 1, 1, 0, 1, 3, 0, 1, 0, 0, 0, 2, 3, 2, 0, 1, 3, 2, 2, 1, 1, 3, 0, 1, 1, 0, 0, 0, 0, 0, 0, 0, 0, 0, 0, 2, 3, 1, 3, 1, 0, 2, 2, 2, 2, 3, 1, 2, 0, 1, 0, 3, 3, 0, 2, 3, 2, 1, 2, 0, 3, 3, 3, 2, 0, 3, 2, 1, 3, 1, 1, 1, 1, 3, 0, 3, 0, 1, 3, 2, 3, 0, 2, 1, 2, 0, 1, 3, 0, 0, 0, 2, 0, 2, 3, 0, 0, 1, 3, 1, 2, 0, 1, 0, 1, 2, 0, 0, 1, 3, 2, 0, 0, 3, 2, 2, 1, 3, 3, 3, 2, 2, 2, 2, 3, 1, 2, 3, 1, 2, 1, 3, 3, 0, 3, 2, 3, 0, 3, 3, 0, 1, 1, 2, 2, 3, 0, 3, 1, 1, 1, 3, 1, 1, 2, 0, 1, 2, 1, 2, 3, 3, 0, 3, 1, 2, 2, 0, 1, 3, 2, 0, 1, 3, 1, 2, 3, 2, 0, 0, 0, 3, 2, 1, 1, 1, 1, 3, 3, 2, 0, 2, 2, 2, 2, 3, 2, 0, 3, 0, 2, 3, 3, 0, 3, 1, 2, 0, 0, 3, 2, 2, 2, 2, 2, 3, 1, 3, 2, 1, 2, 0, 1, 3, 3, 1, 2, 3, 2, 2, 2, 2, 1, 1, 1, 1, 0, 0, 2, 3, 0, 1, 2, 0, 0, 3, 3, 1, 1, 1, 0, 2, 1, 2, 0, 3, 0, 3, 0, 2, 3, 1, 0, 0, 0, 2, 3, 2, 0, 1, 1, 2, 1, 0, 3, 0, 1, 3, 0, 2, 3, 0, 2, 0, 0, 2, 0, 3, 2, 1, 2, 0, 3, 2, 2, 0, 2, 2, 1, 2, 3, 3, 1, 1, 3, 0, 0, 2, 1, 3, 0, 3, 3, 2, 1, 1, 1, 3, 2, 3, 3, 3, 0, 3, 1, 3, 1, 1, 0, 2, 3, 0, 0, 1, 0, 3, 2, 2, 0, 3, 0, 0, 3, 1, 2, 2, 0, 0, 3, 3, 2, 1, 0, 0, 1, 0, 0, 3, 2, 0, 3, 2, 1, 1, 0, 0, 3, 3, 0, 1, 2, 1, 1, 2, 3, 0, 3, 3, 2, 2, 3, 0, 3, 0, 1, 2, 2, 3, 1, 1, 0, 3, 0, 3, 3, 3, 3, 2, 0, 1, 1, 3, 1, 0, 2, 2, 1, 3, 2, 0, 2, 3, 1, 3, 3, 3, 0, 3, 3, 3, 2, 0, 3, 2, 0, 0, 2, 1, 3, 1, 1, 2, 0, 3, 3, 1, 2, 1, 2, 0, 1, 1, 2, 1, 2, 2, 2, 0, 1, 3, 3, 2, 1, 1, 1, 1, 1, 0, 2, 0, 3, 3, 3, 3, 2, 3, 0, 2, 3, 3, 0, 3, 0, 1, 2, 3, 2, 0, 2, 0, 1, 2, 1, 2, 3, 2, 0, 3, 1, 0, 2, 2, 0, 0, 3, 1, 0, 3, 1, 3, 0, 2, 3, 2, 1, 2, 2, 3, 2, 3, 3, 3, 2, 2, 0, 0, 2, 3, 1, 1, 3, 3, 1, 3, 0, 3, 1, 3, 2, 0, 1, 3, 3, 0, 0, 2, 0, 3, 1, 2, 0, 0, 3, 1, 1, 3, 1, 3, 2, 3, 0, 2, 1, 0, 3, 3, 3, 3, 3, 3, 0, 3, 3, 2, 2, 2, 2, 3, 2, 0, 3, 1, 1, 2, 1, 1, 1, 1, 2, 3, 1, 3, 1, 1, 0, 3, 3, 3, 2, 2, 0, 2, 3, 0, 2, 1, 1, 2, 3, 1, 0, 2, 3, 0, 1, 2, 0, 0, 1, 3, 1, 2, 2, 2, 2, 0, 1, 2, 2, 3, 0, 1, 1, 0, 2, 0, 1, 0, 3, 0, 1, 2, 3, 3, 3, 3, 0, 0, 2, 1, 0, 0, 1, 2, 1, 2, 0, 0, 2, 0, 2, 0, 0, 2, 0, 3, 0, 1, 2, 1, 1, 3, 3, 1, 1, 3, 0, 0, 0, 1, 3, 1, 3, 2, 0, 1, 1, 1, 2, 3, 3, 0, 0, 3, 3, 2, 2, 3, 0, 1, 1, 2, 1, 1, 2, 3, 2, 1, 1, 2, 1, 2, 2, 0, 2, 0, 3, 2, 1, 3, 2, 1, 0, 3, 2, 0, 3, 1, 3, 2, 3, 1, 0, 3, 3, 0, 2, 2, 1, 2, 0, 0, 1, 1, 3, 2, 3, 1, 0, 2, 2, 2, 0, 2, 3, 2, 3, 3, 2, 3, 0, 2, 1, 1, 1, 1, 2, 3, 2, 1, 1, 2, 0, 0, 2, 3, 0, 0, 2, 2, 2, 3, 1, 2, 2, 2, 0, 2, 2, 0, 0, 1, 1, 2, 0, 3, 1, 2, 0, 0, 1, 1, 2, 1, 0, 2, 0, 3, 0, 0, 1, 3, 3, 2, 3, 0, 0, 1, 3, 0, 0, 3, 3, 1, 3, 0, 3, 1, 3, 0, 3, 2, 1, 0, 0, 2, 0, 0, 2, 3, 0, 0, 2, 1, 1, 2, 0, 3, 0, 2, 3, 0, 2, 2, 1, 0, 0, 2, 1, 0, 3, 3, 3, 2, 3, 1, 0, 1, 2, 2, 1, 0, 1, 3, 2, 1, 3, 2, 2, 3, 0, 2, 3, 2, 0, 2, 1, 2, 2, 0, 3, 3, 3, 1, 2, 2, 2, 1, 2, 0, 2, 2, 1, 1, 1, 3, 0, 0, 0, 0, 2, 0, 3, 3, 3, 1, 0, 3, 3, 0, 0, 3, 1, 0, 0, 2, 3, 3, 0, 1, 1, 2, 2, 2, 3, 0, 3, 1, 2, 0, 2, 0, 0, 3, 2, 0, 3, 1, 1, 3, 1, 0, 1, 3, 0, 2, 0, 0, 2, 0, 3, 3, 2, 2, 0, 1, 3, 2, 3, 1, 1, 3, 0, 0, 0, 1, 2, 1, 0, 3, 2, 2, 0, 3, 1, 0, 0, 0, 3, 3, 0, 0, 0, 2, 0, 1, 3, 3, 0, 3, 1, 3, 2, 3, 0, 1, 3, 3, 3, 2, 2, 0, 3, 2, 2, 3, 2, 3, 2, 2, 3, 3, 3, 2, 2, 0, 2, 2, 1, 1, 0, 1, 3, 2, 3, 1, 2, 2, 2, 1, 0, 1, 0, 2, 1, 2, 3, 3, 0, 2, 2, 2, 2, 0, 0, 0, 1, 3, 1, 0, 3, 3, 2, 3, 3, 0, 3, 0, 2, 3, 0, 2, 0, 1, 0, 3, 1, 2, 1, 1, 0, 2, 2, 1, 0, 1, 2, 3, 3, 1, 1, 0, 0, 2, 0, 3, 0, 2, 1, 1, 0, 1, 3, 3, 2, 3, 2, 0, 3, 2, 0, 3, 2, 1, 0, 2, 0, 3, 1, 1, 0, 1, 0, 1, 0, 2, 3, 1, 2, 3, 1, 3, 0, 2, 3, 0, 3, 0, 0, 2, 0, 0, 0, 2, 3, 1, 1, 3, 2, 2, 2, 0, 3, 3, 2, 3, 2, 0, 1, 0, 1, 3, 0, 0, 2, 2, 1, 1, 2, 3, 1, 3, 2, 3, 3, 1, 2, 3, 0, 2, 1, 2, 3, 0, 1, 2, 2, 2, 0, 2, 3, 0, 1, 3, 0, 0, 2, 1, 3, 1, 2, 3, 3, 2, 1, 3, 3, 1, 0, 3, 1, 1, 3, 1, 2, 3, 3, 2, 0, 3, 1, 2, 1, 2, 3, 1, 3, 2, 1, 2, 1, 0, 3, 0, 1, 2, 2, 2, 2, 3, 3, 3, 0, 0, 3, 1, 2, 3, 0, 3, 2, 2, 0, 1, 1, 3, 2, 1, 2, 3, 3, 1, 0, 1, 3, 1, 2, 3, 1, 3, 3, 0, 1, 0, 0, 3, 0, 2, 2, 2, 3, 2, 0, 0, 2, 2, 3, 3, 1, 2, 1, 0, 0, 3, 1, 0, 3, 0, 0, 2, 0, 2, 3, 2, 2, 2, 1, 3, 2, 3, 0, 0, 3, 2, 3, 1, 3, 1, 3, 0, 1, 1, 0, 0, 3, 3, 0, 1, 3, 0, 0, 2, 1, 3, 1, 0, 3, 2, 0, 1, 2, 2, 2, 1, 3, 1, 1, 3, 2, 1, 1, 0, 2, 2, 2, 2, 2, 3, 1, 2, 0, 2, 3, 1, 1, 3, 3, 3, 1, 0, 2, 2, 1, 3, 0, 3, 1, 2, 3, 3, 1, 1, 2, 1, 3, 2, 3, 1, 2, 2, 2, 3, 3, 2, 2, 1, 0, 0, 1, 1, 3, 3, 2, 1, 2, 2, 3, 1, 2, 0, 1, 3, 2, 2, 2, 0, 0, 0, 1, 3, 2, 0, 2, 1, 3, 3, 3, 3, 1, 2, 1, 1, 0, 0, 2, 3, 0, 2, 3, 3, 1, 3, 3, 3, 0, 3, 2, 3, 1, 2, 1, 3, 3, 3, 3, 2, 1, 0, 3, 0, 0, 0, 2, 2, 1, 0, 2, 2, 0, 3, 3, 1, 2, 0, 0, 2, 0, 3, 2, 2, 1, 1, 1, 0, 1, 2, 0, 1, 3, 2, 0, 0, 0, 3, 1, 0, 3, 3, 0, 1, 0, 2, 3, 1, 1, 1, 1, 0, 1, 3, 2, 3, 1, 1, 3, 1, 2, 3, 1, 3, 1, 0, 3, 0, 2, 2, 0, 0, 2, 1, 0, 1, 2, 2, 1, 3, 3, 2, 3, 3, 2, 2, 3, 0, 1, 2, 2, 2, 0, 0, 0, 3, 2, 1, 2, 1, 3, 1, 2, 1, 0, 1, 1, 2, 0, 1, 2, 3, 0, 1, 0, 1, 3, 0, 3, 0, 2, 3, 2, 0, 3, 2, 0, 2, 2, 3, 1, 3, 1, 1, 0, 2, 1, 3, 3, 2, 2, 2, 1, 1, 0, 0, 1, 3, 2, 0, 2, 2, 0, 1, 2, 0, 0, 2, 1, 2, 2, 2, 0, 0, 1, 0, 2, 2, 3, 3, 3, 3, 0, 1, 1, 0, 0, 2, 1, 1, 0, 2, 0, 1, 0, 0, 3, 1, 0, 2, 2, 1, 0, 2, 0, 3, 0, 0, 0, 1, 0, 1, 3, 3, 3, 0, 1, 0, 1, 1, 1, 1, 3, 3, 2, 0, 3, 2, 3, 1, 2, 2, 0, 1, 2, 0, 1, 2, 2, 2, 3, 0, 3, 3, 3, 0, 2, 2, 2, 2, 1, 2, 1, 0, 3, 1, 0, 2, 1, 3, 2, 3, 2, 3, 3, 0, 0, 1, 0, 2, 0, 1, 2, 3, 0, 3, 3, 3, 1, 3, 2, 1, 0, 1, 2, 2, 2, 2, 2, 2, 2, 1, 1, 0, 1, 0, 0, 0, 2, 1, 2, 3, 1, 2, 3, 3, 0, 2, 1, 0, 2, 1, 2, 0, 1, 2, 3, 0, 3, 1, 3, 3, 3, 0, 3, 2, 1, 2, 3, 3, 1, 3, 2, 3, 1, 3, 3, 0, 0, 2, 3, 1, 3, 3, 0, 0, 3, 1, 2, 0, 2, 1, 2, 2, 3, 0, 2, 2, 1, 3, 3, 0, 3, 0, 3, 0, 2, 1, 0, 1, 0, 0, 3, 1, 3, 0, 3, 1, 0, 3, 1, 3, 3, 0, 2, 2, 3, 0, 1, 1, 2, 0, 2, 3, 0, 1, 1, 1, 2, 3, 2, 1, 2, 2, 3, 2, 2, 0, 2, 0, 1, 3, 1, 0, 1, 1, 2, 3, 2, 2, 0, 1, 1, 2, 0, 2, 2, 2, 2, 1, 3, 3, 3, 0, 0, 3, 1, 1, 0, 0, 0, 3, 2, 2, 1, 3, 1, 0, 2, 0, 2, 0, 0, 0, 1, 3, 2, 1, 1, 0, 1, 2, 1, 0, 1, 2, 0, 2, 1, 3, 2, 3, 3, 3, 0, 1, 3, 0, 0, 0, 0, 3, 2, 0, 2, 2, 3, 0, 0, 0, 0, 0, 1, 2, 0, 1, 2, 1, 1, 3, 2, 2, 0, 1, 2, 3, 3, 3, 1, 3, 0, 0, 3, 3, 2, 0, 1, 1, 2, 2, 3, 1, 3, 3, 0, 0, 2, 0, 2, 1, 3, 1, 0, 1, 2, 2, 0, 0, 2, 1, 2, 3, 2, 0, 3, 0, 3, 0, 3, 2, 3, 1, 1, 1, 3, 0, 3, 2, 3, 2, 3, 1, 3, 2, 3, 3, 2, 1, 1, 0, 0, 2, 1, 1, 1, 3, 3, 2, 2, 2, 0, 3, 1, 3, 1, 1, 1, 0, 3, 1, 0, 2, 0, 1, 1, 3, 3, 0, 1, 2, 2, 0, 1, 2, 0, 0, 3, 3, 1, 0, 3, 3, 0, 1, 2, 1, 0, 1, 3, 0, 1, 3, 2, 2, 3, 1, 1, 0, 0, 3, 0, 2, 3, 0, 3, 0, 1, 1, 0, 2, 0, 0, 0, 0, 2, 0, 2, 0, 0, 0, 0, 0, 3, 1, 1, 1, 1, 2, 1, 1, 1, 2, 2, 0, 1, 1, 2, 3, 1, 2, 2, 0, 2, 1, 1, 2, 1, 0, 3, 2, 1, 2, 0, 1, 3, 2, 0, 1, 2, 2, 0, 1, 0, 0, 3, 0, 1, 3, 0, 2, 2, 2, 0, 3, 0, 1, 3, 3, 1, 1, 2, 1, 2, 0, 1, 0, 3, 0, 0, 0, 0, 3, 3, 2, 3, 1, 1, 1, 1, 3, 1, 3, 1, 0, 3, 1, 1, 0, 0, 0, 3, 0, 3, 1, 0, 3, 2, 2, 3, 2, 3, 0, 2, 2, 3, 2, 0, 3, 3, 0, 0, 1, 2, 0, 2, 3, 3, 3, 1, 0, 1, 3, 2, 3, 2, 2, 2, 3, 0, 0, 1, 1, 3, 0, 2, 0, 2, 0, 0, 3, 1, 0, 1, 3, 2, 2, 0, 2, 2, 0, 1, 0, 2, 0, 0, 2, 0, 3, 2, 1, 3, 0, 2, 0, 0, 2, 3, 1, 3, 0, 1, 3, 3, 3, 3, 1, 3, 0, 0, 3, 3, 2, 3, 2, 2, 0, 2, 3, 2, 0, 3, 2, 3, 2, 2, 1, 0, 3, 1, 2, 3, 3, 0, 2, 0, 2, 0, 2, 0, 1, 3, 1, 0, 0, 2, 3, 1, 3, 0, 0, 2, 1, 2, 1, 2, 0, 1, 2, 3, 3, 0, 0, 2, 0, 2, 2, 3, 3, 0, 0, 0, 2, 2, 0, 1, 1, 0, 3, 0, 3, 0, 1, 2, 0, 0, 3, 3, 1, 2, 2, 2, 2, 0, 0, 2, 0, 1, 1, 2, 3, 1, 0, 1, 0, 1, 0, 3, 0, 3, 2, 3, 2, 2, 0, 2, 3, 3, 1, 1, 2, 3, 2, 1, 0, 3, 1, 2, 0, 1, 0, 1, 3, 3, 2, 2, 1, 1, 3, 1, 1, 1, 2, 3, 1, 3, 2, 1, 1, 0, 0, 1, 3, 0, 2, 3, 3, 0, 3, 1, 1, 3, 0, 2, 2, 1, 1, 0, 2, 0, 3, 1, 1, 1, 2, 1, 2, 0, 3, 3, 3, 0, 3, 2, 2, 1, 1, 1, 2, 2, 0, 3, 1, 0, 0, 2, 0, 2, 0, 3, 3, 0, 3, 3, 0, 0, 1, 1, 3, 2, 3, 0, 3, 0, 0, 3, 2, 1, 3, 0, 1, 0, 2, 2, 0, 2, 3, 1, 2, 2, 2, 3, 2, 1, 2, 2, 0, 3, 2, 3, 2, 1, 1, 3, 2, 0, 1, 1, 3, 3, 1, 3, 2, 0, 3, 0, 0, 0, 0, 1, 0, 0, 3, 3, 2, 3, 1, 2, 1, 0, 2, 1, 1, 3, 0, 1, 0, 3, 1, 3, 1, 1, 3, 2, 3, 2, 2, 1, 3, 2, 1, 3, 2, 3, 2, 0, 1, 3, 1, 1, 2, 3, 3, 0, 0, 2, 0, 1, 2, 0, 3, 3, 1, 3, 1, 3, 1, 2, 1, 1, 2, 0, 1, 1, 1, 2, 0, 2, 2, 0, 0, 2, 2, 3, 1, 2, 0, 2, 2, 1, 0, 0, 0, 3, 1, 1, 0, 0, 1, 1, 2, 1, 2, 0, 0, 1, 0, 2, 0, 1, 3, 2, 2, 0, 1, 2, 1, 3, 2, 0, 0, 3, 0, 1, 3, 1, 2, 3, 2, 0, 0, 3, 3, 3, 3, 1, 2, 1, 3, 3, 3, 0, 2, 0, 2, 3, 0, 3, 2, 0, 2, 0, 1, 1, 3, 1, 3, 1, 1, 2, 0, 1, 3, 1, 3, 3, 3, 3, 1, 0, 1, 0, 3, 1, 1, 0, 2, 2, 3, 3, 2, 1, 3, 1, 2, 1, 1, 0, 1, 2, 1, 1, 3, 2, 3, 1, 0, 1, 0, 2, 0, 3, 0, 1, 1, 3, 1, 1, 3, 3, 0, 3, 2, 2, 3, 2, 0, 2, 3, 0, 0, 1, 3, 3, 2, 0, 3, 1, 3, 3, 0, 1, 3, 0, 1, 1, 0, 1, 0, 0, 0, 0, 1, 2, 2, 2, 1, 3, 0, 0, 3, 1, 2, 2, 2, 1, 3, 3, 1, 3, 3, 0, 1, 0, 2, 1, 0, 2, 3, 3, 0, 2, 0, 0, 3, 1, 3, 1, 3, 0, 0, 1, 3, 0, 2, 2, 3, 1, 2, 1, 3, 0, 2, 0, 2, 2, 3, 0, 0, 3, 2, 1, 1, 1, 0, 0, 0, 1, 1, 0, 3, 0, 2, 2, 1, 1, 1, 2, 0, 1, 1, 2, 1, 0, 2, 2, 1, 1, 3, 1, 2, 1, 3, 1, 2, 3, 0, 2, 2, 2, 3, 3, 0, 0, 3, 3, 3, 1, 3, 2, 2, 2, 3, 2, 0, 1, 1, 1, 3, 1, 0, 2, 0, 0, 2, 1, 0, 3, 1, 0, 2, 0, 2, 0, 2, 3, 3, 1, 2, 2, 2, 1, 1, 3, 0, 2, 2, 3, 2, 3, 2, 1, 0, 1, 0, 2, 3, 1, 1, 3, 1, 1, 0, 3, 1, 3, 2, 2, 1, 1, 3, 0, 1, 0, 0, 2, 3, 2, 1, 3, 2, 3, 1, 1, 1, 1, 2, 2, 1, 2, 1, 1, 2, 2, 2, 0, 0, 1, 3, 2, 2, 2, 1, 1, 0, 2, 0, 0, 3, 0, 2, 3, 2, 1, 2, 2, 2, 3, 3, 2, 0, 3, 2, 3, 0, 1, 3, 2, 0, 3, 2, 3, 0, 2, 1, 0, 2, 1, 2, 2, 3, 0, 3, 2, 1, 1, 0, 2, 0, 2, 0, 1, 2, 1, 3, 2, 2, 1, 1, 2, 3, 0, 3, 3, 0, 3, 0, 2, 1, 2, 2, 3, 2, 1, 3, 0, 3, 3, 0, 0, 2, 3, 2, 1, 0, 0, 1, 3, 1, 3, 2, 3, 1, 1, 0, 0, 0, 3, 3, 2, 0, 0, 3, 1, 1, 0, 2, 1, 0, 2, 2, 3, 1, 2, 2, 3, 3, 1, 1, 3, 0, 3, 0, 2, 1, 1, 0, 3, 3, 3, 1, 0, 2, 1, 0, 2, 3, 3, 2, 3, 0, 0, 2, 1, 1, 1, 1, 2, 2, 1, 2, 3, 3, 0, 0, 3, 2, 3, 2, 0, 1, 3, 1, 0, 2, 2, 1, 0, 0, 1, 3, 1, 2, 1, 2, 1, 2, 1, 0, 0, 2, 1, 3, 1, 2, 2, 1, 2, 3, 2, 1, 1, 3, 2, 0, 3, 1, 3, 0, 2, 0, 3, 0, 2, 0, 3, 0, 0, 0, 1, 2, 0, 2, 0, 3, 3, 2, 0, 0, 0, 1, 0, 1, 0, 0, 0, 0, 1, 3, 1, 2, 2, 1, 3, 3, 3, 3, 1, 3, 0, 2, 0, 1, 2, 1, 0, 1, 2, 3, 1, 2, 3, 1, 1, 2, 1, 0, 3, 3, 1, 2, 1, 1, 1, 2, 3, 1, 3, 3, 0, 2, 1, 1, 2, 3, 1, 2, 3, 0, 2, 0, 1, 3, 1, 2, 2, 2, 0, 2, 3, 3, 3, 2, 2, 2, 2, 1, 0, 0, 2, 3, 1, 1, 0, 1, 0, 1, 0, 0, 2, 2, 0, 1, 3, 3, 1, 1, 0, 0, 1, 0, 0, 0, 0, 2, 0, 1, 3, 0, 3, 1, 0, 2, 3, 1, 0, 0, 1, 0, 1, 2, 3, 2, 3, 0, 0, 0, 3, 0, 0, 2, 3, 1, 3, 0, 2, 3, 2, 1, 0, 3, 2, 3, 3, 3, 0, 2, 3, 2, 2, 1, 1, 3, 3, 0, 0, 2, 2, 1, 2, 1, 0, 0, 2, 1, 2, 0, 0, 1, 1, 0, 2, 1, 3, 0, 1, 0, 0, 2, 3, 2, 1, 2, 1, 0, 1, 3, 1, 2, 2, 3, 2, 1, 0, 2, 3, 3, 0, 0, 0, 2, 3, 3, 1, 2, 3, 2, 2, 0, 0, 0, 0, 0, 2, 1, 1, 3, 0, 2, 3, 1, 2, 0, 2, 2, 2, 3, 1, 1, 1, 3, 1, 3, 1, 3, 0, 0, 2, 3, 2, 2, 0, 0, 2, 2, 2, 3, 1, 2, 1, 2, 1, 1, 0, 0, 1, 1, 0, 1, 3, 0, 2, 1, 0, 0, 2, 3, 1, 1, 3, 3, 3, 0, 2, 2, 1, 1, 1, 2, 2, 0, 0, 1, 2, 3, 2, 0, 0, 1, 2, 1, 2, 0, 2, 2, 1, 0, 0, 0, 2, 0, 3, 2, 1, 0, 3, 2, 2, 0, 0, 2, 3, 2, 2, 2, 3, 2, 2, 2, 3, 2, 0, 3, 1, 3, 1, 0, 3, 3, 0, 3, 2, 2, 1, 0, 1, 3, 1, 3, 0, 2, 0, 3, 2, 3, 3, 3, 1, 3, 0, 2, 3, 1, 0, 0, 2, 2, 2, 3, 3, 0, 0, 0, 3, 0, 3, 1, 1, 3, 2, 2, 0, 0, 2, 0, 3, 1, 2, 1, 1, 3, 2, 2, 3, 1, 0, 3, 1, 0, 2, 0, 1, 3, 1, 2, 1, 3, 1, 2, 3, 3, 2, 1, 0, 1, 2, 0, 1, 3, 0, 1, 3, 2, 0, 3, 3, 0, 1, 2, 2, 2, 2, 1, 1, 1, 0, 3, 1, 3, 1, 0, 0, 0, 2, 1, 2, 3, 1, 3, 1, 1, 0, 3, 3, 3, 0, 0, 3, 0, 1, 2, 3, 1, 1, 2, 3, 0, 3, 3, 3, 0, 1, 2, 1, 3, 3, 3, 1, 0, 3, 3, 2, 2, 0, 3, 0, 0, 0, 1, 1, 2, 3, 3, 0, 3, 3, 1, 0, 0, 2, 0, 3, 1, 1, 0, 3, 0, 3, 1, 3, 3, 1, 0, 1, 2, 1, 3, 1, 3, 3, 1, 0, 3, 0, 1, 3, 1, 3, 3, 3, 0, 0, 1, 2, 2, 3, 2, 3, 2, 1, 2, 2, 2, 1, 0, 2, 0, 3, 1, 1, 3, 3, 3, 1, 1, 0, 2, 1, 0, 3, 3, 1, 3, 3, 2, 1, 3, 2, 1, 3, 3, 0, 3, 1, 1, 3, 3, 1, 3, 0, 3, 1, 3, 2, 2, 3, 1, 3, 2, 3, 0, 0, 2, 3, 0, 2, 0, 2, 0, 1, 0, 0, 0, 2, 0, 2, 2, 0, 3, 1, 2, 1, 0, 3, 1, 3, 1, 2, 1, 0, 2, 1, 0, 2, 0, 2, 3, 3, 0, 3, 0, 0, 2, 1, 1, 1, 0, 1, 2, 1, 0, 3, 2, 2, 2, 2, 1, 3, 3, 3, 0, 2, 3, 1, 0, 3, 0, 2, 0, 2, 3, 0, 1, 0, 1, 1, 2, 0, 1, 1, 2, 3, 1, 0, 0, 0, 1, 0, 0, 3, 1, 0, 1, 0, 0, 1, 2, 3, 0, 2, 2, 2, 1, 1, 1, 1, 1, 2, 2, 1, 2, 3, 0, 2, 0, 0, 3, 3, 2, 2, 3, 0, 3, 3, 2, 2, 0, 3, 0, 0, 1, 3, 0, 1, 0, 3, 0, 1, 0, 0, 1, 1, 3, 1, 2, 1, 0, 2, 2, 2, 0, 2, 0, 3, 2, 1, 2, 0, 1, 2, 3, 1, 3, 0, 0, 0, 1, 3, 2, 2, 1, 0, 3, 2, 3, 0, 0, 1, 2, 3, 3, 1, 0, 2, 2, 0, 2, 3, 0, 1, 1, 0, 0, 0, 2, 2, 2, 3, 3, 1, 0, 3, 3, 0, 3, 3, 2, 0, 2, 2, 3, 1, 1, 0, 3, 3, 2, 3, 2, 1, 2, 2, 0, 0, 0, 2, 3, 0, 3, 1, 2, 0, 1, 0, 0, 1, 0, 3, 3, 0, 0, 2, 1, 2, 1, 2, 3, 2, 2, 0, 1, 2, 0, 2, 0, 2, 3, 2, 1, 1, 2, 0, 2, 0, 0, 2, 1, 3, 0, 3, 2, 0, 3, 1, 0, 0, 1, 3, 2, 2, 3, 3, 0, 3, 2, 1, 3, 2, 0, 2, 2, 0, 2, 2, 1, 2, 1, 0, 2, 3, 1, 1, 3, 1, 1, 2, 1, 2, 3, 0, 0, 1, 3, 1, 1, 3, 1, 3, 3, 0, 0, 3, 1, 1, 2, 3, 2, 0, 0, 2, 0, 3, 0, 1, 2, 1, 3, 3, 0, 2, 1, 0, 2, 3, 1, 2, 3, 0, 2, 0, 2, 1, 3, 0, 1, 0, 2, 2, 3, 2, 1, 2, 0, 3, 2, 3, 0, 0, 1, 2, 3, 0, 1, 1, 2, 2, 2, 3, 3, 1, 1, 2, 3, 3, 1, 2, 3, 1, 3, 1, 1, 2, 1, 2, 0, 0, 3, 1, 3, 0, 1, 3, 1, 2, 0, 0, 3, 0, 0, 3, 0, 0, 2, 0, 1, 2, 0, 0, 2, 0, 0, 3, 0, 0, 3, 3, 1, 0, 1, 3, 3, 3, 0, 3, 0, 3, 3, 1, 1, 0, 3, 2, 2, 1, 0, 2, 0, 3, 1, 0, 0, 3, 0, 0, 2, 2, 1, 1, 0, 3, 0, 0, 0, 2, 1, 0, 0, 3, 2, 0, 3, 2, 2, 2, 2, 0, 2, 1, 2, 1, 3, 1, 3, 2, 1, 0, 2, 3, 1, 2, 0, 2, 2, 3, 3, 3, 1, 2, 2, 1, 2, 1, 3, 1, 0, 3, 2, 0, 1, 2, 2, 1, 1, 0, 2, 1, 2, 3, 0, 1, 2, 1, 3, 2, 3, 1, 2, 1, 2, 3, 3, 1, 3, 0, 0, 1, 1, 2, 1, 0, 2, 1, 0, 2, 2, 0, 2, 3, 0, 3, 1, 1, 2, 2, 0, 1, 3, 0, 3, 2, 2, 2, 3, 1, 1, 1, 2, 0, 2, 0, 2, 2, 3, 0, 0, 2, 2, 2, 3, 2, 0, 0, 1, 3, 3, 3, 0, 0, 3, 1, 3, 1, 2, 1, 1, 2, 3, 3, 3, 3, 0, 1, 2, 0, 2, 0, 0, 1, 1, 1, 2, 2, 3, 2, 2, 3, 2, 0, 2, 1, 0, 0, 3, 3, 2, 2, 3, 0, 3, 0, 2, 1, 2, 3, 1, 3, 3, 1, 1, 2, 3, 2, 2, 2, 0, 2, 2, 3, 0, 0, 0, 0, 0, 2, 0, 2, 3, 1, 1, 0, 3, 3, 0, 2, 0, 0, 1, 2, 0, 0, 2, 0, 1, 1, 0, 2, 1, 2, 0, 1, 1, 3, 3, 0, 0, 1, 2, 2, 2, 1, 2, 0, 2, 2, 0, 1, 2, 0, 1, 3, 1, 2, 3, 1, 2, 1, 3, 3, 1, 0, 0, 3, 2, 0, 2, 2, 1, 1, 0, 2, 2, 2, 0, 2, 3, 0, 2, 3, 0, 1, 1, 2, 1, 2, 1, 3, 0, 0, 2, 3, 2, 3, 1, 1, 1, 3, 3, 1, 0, 0, 2, 1, 2, 3, 1, 1, 3, 0, 3, 2, 0, 1, 3, 0, 0, 2, 0, 0, 0, 3, 1, 1, 1, 1, 3, 1, 1, 1, 3, 0, 2, 3, 1, 1, 2, 3, 1, 0, 1, 0, 3, 0, 2, 2, 3, 2, 2, 3, 0, 3, 0, 1, 0, 0, 2, 2, 3, 1, 1, 0, 2, 2, 1, 3, 2, 0, 2, 1, 3, 3, 0, 1, 1, 2, 1, 1, 1, 3, 0, 3, 3, 1, 2, 2, 3, 0, 1, 2, 2, 1, 2, 2, 1, 1, 2, 1, 0, 0, 3, 0, 1, 1, 2, 3, 1, 1, 0, 2, 3, 3, 0, 1, 1, 3, 3, 1, 3, 0, 0, 3, 1, 3, 2, 3, 3, 0, 1, 0, 2, 1, 1, 3, 0, 3, 3, 3, 2, 3, 0, 2, 1, 3, 1, 1, 3, 3, 2, 3, 3, 2, 2, 2, 0, 1, 1, 2, 1, 0, 2, 1, 3, 3, 2, 2, 2, 2, 1, 1, 1, 2, 3, 3, 1, 0, 0, 2, 3, 3, 0, 0, 0, 0, 1, 2, 3, 2, 1, 0, 3, 1, 0, 3, 2, 3, 1, 2, 1, 2, 3, 1, 1, 0, 2, 3, 1, 3, 3, 3, 0, 0, 3, 0, 0, 1, 3, 0, 1, 3, 2, 1, 0, 1, 0, 1, 3, 3, 0, 0, 3, 3, 3, 1, 2, 0, 0, 3, 2, 1, 3, 3, 2, 2, 1, 3, 0, 1, 2, 3, 0, 3, 0, 1, 1, 1, 0, 0, 2, 2, 1, 2, 0, 3, 2, 1, 0, 1, 0, 0, 0, 0, 3, 0, 2, 0, 3, 2, 3, 2, 3, 0, 0, 3, 3, 0, 1, 2, 2, 3, 3, 2, 0, 3, 3, 2, 2, 1, 1, 0, 1, 1, 0, 1, 0, 3, 0, 3, 3, 2, 0, 0, 2, 3, 1, 1, 2, 2, 2, 3, 2, 1, 3, 3, 2, 0, 0, 0, 1, 0, 0, 0, 0, 2, 2, 1, 0, 3, 1, 3, 2, 1, 0, 1, 3, 1, 2, 0, 1, 3, 1, 3, 0, 2, 2, 0, 3, 1, 1, 1, 3, 0, 1, 0, 0, 2, 2, 3, 3, 2, 1, 0, 2, 2, 1, 2, 2, 0, 3, 2, 0, 0, 1, 1, 0, 0, 1, 1, 0, 0, 1, 0, 1, 0, 2, 3, 3, 0, 2, 0, 1, 3, 0, 0, 0, 2, 1, 1, 1, 1, 3, 0, 1, 3, 3, 3, 1, 0, 0, 1, 3, 1, 2, 3, 0, 0, 2, 2, 0, 0, 3, 3, 1, 1, 1, 3, 3, 2, 2, 1, 3, 0, 1, 0, 1, 1, 2, 3, 0, 1, 0, 0, 1, 1, 2, 3, 1, 1, 1, 2, 2, 1, 2, 3, 2, 2, 3, 3, 1, 0, 3, 3, 0, 3, 3, 3, 1, 0, 2, 3, 3, 1, 1, 2, 0, 1, 3, 2, 1, 3, 3, 1, 1, 3, 3, 1, 0, 0, 1, 0, 1, 2, 2, 0, 1, 1, 0, 3, 2, 1, 1, 3, 2, 3, 2, 0, 3, 3, 0, 2, 1, 0, 3, 0, 1, 2, 0, 1, 0, 0, 2, 2, 2, 2, 0, 3, 1, 3, 2, 2, 0, 1, 0, 2, 2, 3, 2, 3, 1, 0, 2, 0, 0, 3, 0, 1, 1, 0, 2, 0, 3, 2, 0, 2, 2, 2, 0, 1, 0, 2, 2, 3, 0, 3, 0, 1, 3, 3, 1, 0, 0, 1, 2, 3, 3, 0, 2, 3, 0, 2, 2, 3, 1, 1, 2, 3, 3, 3, 2, 3, 0, 2, 3, 1, 1, 0, 3, 0, 1, 3, 3, 1, 3, 2, 3, 2, 2, 1, 1, 2, 0, 3, 0, 1, 0, 3, 3, 1, 2, 2, 2, 2, 2, 2, 3, 3, 2, 0, 2, 2, 2, 3, 2, 1, 1, 1, 3, 0, 3, 1, 2, 3, 3, 3, 1, 0, 1, 0, 1, 3, 3, 2, 2, 3, 2, 3, 3, 0, 3, 2, 0, 2, 1, 0, 0, 1, 3, 2, 3, 2, 1, 1, 0, 1, 3, 0, 1, 1, 2, 2, 2, 2, 1, 3, 3, 2, 1, 0, 1, 1, 2, 2, 2, 3, 3, 2, 1, 1, 2, 3, 0, 0, 3, 0, 0, 3, 3, 3, 3, 0, 0, 2, 2, 0, 2, 1, 0, 3, 2, 3, 0, 3, 0, 0, 2, 1, 2, 2, 3, 0, 3, 3, 1, 0, 3, 2, 3, 1, 2, 1, 2, 1, 0, 0, 1, 3, 1, 3, 2, 0, 0, 0, 0, 1, 2, 0, 2, 3, 3, 3, 3, 0, 3, 0, 0, 0, 1, 0, 1, 1, 1, 2, 1, 2, 3, 1, 2, 1, 1, 3, 0, 1, 2, 2, 1, 0, 0, 3, 2, 1, 3, 3, 1, 2, 3, 0, 1, 0, 1, 3, 3, 3, 2, 0, 2, 1, 1, 3, 2, 2, 1, 1, 2, 0, 0, 2, 1, 3, 2, 0, 2, 1, 2, 2, 0, 3, 3, 1, 1, 2, 2, 0, 1, 2, 3, 3, 0, 1, 3, 0, 1, 3, 3, 2, 1, 2, 2, 1, 2, 3, 0, 1, 2, 1, 0, 0, 1, 0, 2, 1, 2, 3, 0, 0, 0, 0, 1, 3, 3, 2, 1, 3, 3, 2, 3, 2, 0, 2, 3, 2, 3, 3, 2, 3, 3, 3, 3, 2, 3, 2, 1, 2, 2, 2, 3, 1, 0, 3, 2, 2, 3, 2, 2, 1, 0, 3, 3, 1, 0, 0, 1, 0, 2, 1, 3, 1, 2, 2, 0, 2, 1, 1, 1, 2, 0, 1, 0, 3, 3, 2, 0, 1, 1, 0, 3, 1, 0, 0, 3, 2, 1, 3, 3, 0, 0, 0, 1, 3, 0, 2, 0, 1, 3, 0, 3, 0, 1, 2, 1, 3, 3, 0, 1, 0, 1, 3, 3, 1, 3, 2, 3, 0, 1, 1, 1, 3, 2, 0, 2, 3, 0, 1, 0, 1, 0, 0, 3, 0, 2, 3, 3, 3, 0, 1, 1, 3, 0, 3, 2, 3, 3, 2, 2, 2, 0, 3, 3, 0, 1, 3, 3, 1, 1, 1, 3, 2, 1, 0, 1, 1, 0, 2, 3, 2, 2, 2, 3, 0, 1, 1, 3, 1, 0, 1, 1, 0, 2, 1, 3, 3, 1, 1, 1, 3, 3, 2, 2, 0, 3, 1, 1, 0, 2, 2, 0, 3, 1, 3, 1, 0, 0, 2, 1, 1, 0, 2, 1, 3, 2, 0, 1, 2, 2, 2, 3, 3, 2, 3, 3, 1, 0, 2, 1, 0, 1, 0, 3, 3, 1, 0, 0, 1, 0, 1, 1, 3, 3, 1, 1, 2, 0, 0, 3, 2, 1, 0, 3, 0, 3, 1, 2, 0, 0, 2, 3, 2, 2, 2, 2, 1, 1, 2, 2, 3, 2, 0, 1, 1, 3, 1, 2, 1, 1, 1, 2, 0, 0, 3, 0, 3, 0, 2, 0, 0, 0, 1, 0, 1, 3, 2, 0, 2, 3, 1, 0, 0, 3, 0, 3, 2, 2, 3, 3, 1, 0, 1, 0, 1, 0, 0, 0, 1, 3, 0, 0, 1, 0, 1, 0, 0, 1, 1, 0, 2, 2, 2, 2, 3, 0, 0, 1, 1, 2, 0, 2, 2, 2, 3, 0, 0, 2, 2, 3, 2, 1, 0, 3, 0, 3, 2, 2, 0, 0, 3, 1, 2, 3, 1, 2, 0, 3, 3, 2, 2, 1, 2, 1, 3, 1, 0, 2, 2, 1, 0, 1, 1, 1, 3, 0, 1, 0, 0, 3, 2, 3, 1, 3, 1, 2, 2, 0, 1, 1, 3, 2, 0, 1, 3, 1, 1, 2, 1, 1, 3, 3, 1, 1, 0, 2, 0, 3, 1, 0, 3, 2, 1, 2, 2, 1, 2, 1, 0, 3, 1, 0, 3, 0, 2, 0, 2, 1, 1, 2, 2, 0, 3, 0, 2, 3, 2, 2, 0, 1, 3, 2, 2, 2, 2, 1, 1, 2, 0, 0, 1, 0, 3, 2, 3, 0, 1, 0, 3, 2, 0, 3, 3, 2, 0, 2, 2, 1, 1, 2, 3, 0, 1, 0, 2, 3, 3, 1, 0, 0, 0, 3, 2, 0, 3, 3, 3, 3, 1, 0, 2, 1, 3, 0, 3, 0, 3, 2, 2, 2, 0, 2, 3, 3, 1, 1, 2, 0, 1, 2, 1, 0, 0, 2, 2, 1, 1, 0, 1, 2, 0, 3, 3, 1, 0, 0, 1, 2, 1, 2, 1, 0, 1, 3, 0, 3, 3, 2, 1, 1, 3, 0, 0, 2, 2, 3, 1, 1, 0, 1, 2, 1, 3, 3, 2, 1, 2, 1, 1, 1, 2, 3, 3, 2, 1, 2, 3, 2, 2, 2, 0, 2, 3, 3, 3, 2, 2, 1, 3, 3, 2, 1, 0, 1, 3, 3, 3, 3, 1, 0, 3, 0, 1, 2, 2, 2, 0, 2, 2, 1, 2, 1, 2, 3, 2, 1, 2, 1, 2, 2, 1, 1, 3, 2, 3, 0, 0, 0, 0, 0, 3, 1, 2, 1, 0, 0, 1, 0, 2, 2, 1, 3, 2, 1, 3, 3, 0, 2, 1, 1, 1, 1, 2, 0, 2, 0, 0, 3, 2, 2, 2, 0, 3, 1, 3, 3, 3, 2, 1, 2, 0, 1, 2, 3, 1, 0, 2, 0, 2, 2, 3, 3, 2, 3, 3, 0, 0, 3, 2, 0, 2, 1, 2, 3, 2, 0, 3, 2, 1, 2, 2, 1, 3, 2, 1, 3, 1, 2, 1, 0, 3, 0, 0, 2, 2, 3, 0, 0, 1, 2, 1, 3, 1, 0, 3, 1, 3, 1, 1, 3, 3, 3, 2, 0, 1, 0, 2, 0, 1, 1, 3, 2, 1, 2, 1, 0, 1, 1, 1, 0, 1, 0, 2, 0, 3, 3, 1, 0, 3, 1, 3, 1, 3, 1, 3, 2, 3, 2, 1, 0, 3, 3, 0, 3, 0, 3, 2, 1, 3, 0, 1, 1, 1, 1, 1, 0, 0, 2, 3, 1, 1, 3, 1, 1, 2, 0, 3, 3, 2, 0, 1, 2, 1, 1, 2, 3, 3, 3, 1, 1, 2, 1, 0, 3, 1, 1, 2, 2, 1, 1, 1, 0, 2, 2, 1, 0, 2, 0, 3, 1, 2, 1, 2, 1, 2, 1, 0, 1, 0, 0, 2, 0, 2, 2, 3, 2, 1, 2, 2, 0, 1, 2, 1, 3, 3, 3, 3, 1, 2, 1, 3, 3, 3, 3, 2, 2, 1, 0, 3, 0, 0, 1, 0, 2, 3, 0, 2, 2, 1, 1, 3, 2, 2, 2, 0, 1, 3, 1, 2, 3, 2, 2, 1, 1, 1, 0, 2, 2, 3, 0, 0, 3, 3, 2, 0, 0, 2, 1, 2, 2, 2, 2, 0, 0, 3, 2, 2, 0, 0, 1, 1, 1, 1, 2, 1, 2, 2, 1, 0, 1, 1, 3, 3, 3, 1, 3, 0, 1, 1, 2, 1, 0, 3, 0, 3, 0, 2, 3, 3, 3, 0, 2, 3, 2, 2, 1, 1, 1, 0, 1, 1, 1, 2, 0, 3, 3, 2, 2, 3, 1, 0, 0, 0, 3, 2, 1, 2, 0, 2, 3, 3, 2, 2, 0, 1, 0, 1, 2, 3, 1, 0, 2, 0, 1, 1, 3, 3, 1, 2, 2, 3, 1, 1, 3, 3, 3, 0, 2, 0, 3, 1, 0, 3, 3, 2, 3, 1, 2, 3, 2, 0, 2, 0, 3, 2, 1, 0, 2, 0, 1, 1, 2, 0, 0, 3, 0, 2, 2, 1, 2, 0, 1, 3, 3, 2, 3, 0, 0, 2, 2, 0, 1, 0, 0, 2, 0, 2, 3, 2, 0, 2, 1, 2, 2, 2, 3, 2, 0, 2, 1, 2, 2, 3, 2, 0, 3, 1, 3, 1, 1, 1, 1, 0, 2, 3, 2, 3, 2, 0, 0, 3, 2, 3, 2, 1, 1, 3, 3, 2, 2, 1, 0, 1, 3, 3, 3, 3, 2, 2, 3, 2, 1, 0, 3, 3, 2, 0, 2, 1, 3, 3, 0, 1, 2, 1, 0, 0, 0, 1, 0, 2, 1, 1, 0, 2, 0, 0, 1, 1, 0, 3, 0, 1, 3, 1, 2, 0, 2, 2, 2, 3, 0, 3, 2, 2, 3, 2, 1, 3, 2, 1, 1, 3, 2, 0, 0, 0, 0, 1, 2, 0, 0, 0, 0, 0, 2, 0, 0, 0, 0, 2, 0, 1, 3, 3, 3, 0, 2, 2, 1, 2, 0, 0, 0, 1, 1, 1, 1, 0, 0, 0, 2, 2, 0, 2, 2, 1, 2, 1, 0, 3, 0, 1, 0, 1, 1, 2, 0, 3, 3, 0, 2, 1, 1, 2, 0, 3, 1, 0, 0, 1, 2, 0, 2, 3, 3, 2, 1, 2, 1, 3, 3, 2, 0, 3, 1, 3, 3, 2, 0, 0, 2, 2, 0, 3, 3, 2, 2, 3, 1, 3, 0, 3, 3, 1, 3, 3, 2, 2, 0, 3, 0, 3, 3, 3, 0, 2, 3, 0, 3, 3, 0, 1, 3, 0, 1, 1, 2, 1, 0, 1, 0, 1, 1, 3, 2, 2, 2, 3, 3, 2, 0, 2, 0, 0, 3, 2, 3, 3, 0, 2, 2, 1, 2, 3, 1, 3, 1, 0, 3, 1, 2, 1, 0, 2, 3, 3, 1, 0, 2, 0, 3, 3, 2, 2, 3, 2, 0, 3, 2, 0, 3, 3, 2, 0, 2, 2, 2, 3, 2, 2, 0, 2, 0, 3, 1, 3, 0, 0, 1, 1, 0, 1, 2, 3, 0, 2, 1, 3, 3, 1, 3, 2, 2, 2, 0, 0, 1, 2, 0, 0, 1, 1, 0, 0, 1, 1, 2, 3, 0, 3, 1, 2, 0, 1, 1, 0, 3, 2, 3, 1, 0, 2, 3, 0, 3, 0, 1, 2, 1, 1, 2, 2, 1, 2, 1, 1, 2, 2, 2, 3, 1, 0, 0, 1, 3, 1, 1, 1, 2, 0, 1, 1, 2, 0, 0, 0, 2, 0, 2, 1, 0, 3, 0, 0, 1, 0, 3, 1, 2, 0, 1, 3, 2, 2, 0, 1, 0, 1, 1, 1, 0, 1, 2, 0, 1, 2, 3, 0, 2, 1, 2, 2, 0, 0, 1, 0, 0, 1, 2, 2, 3, 0, 2, 3, 0, 1, 0, 0, 2, 2, 0, 3, 2, 0, 2, 0, 0, 0, 0, 2, 2, 0, 1, 0, 2, 0, 1, 3, 1, 2, 0, 1, 0, 0, 3, 2, 1, 0, 1, 3, 3, 3, 1, 3, 3, 0, 0, 0, 0, 3, 3, 0, 2, 1, 2, 0, 1, 3, 0, 2, 0, 0, 2, 3, 2, 2, 3, 1, 0, 3, 2, 0, 2, 1, 1, 1, 1, 2, 3, 0, 3, 3, 0, 0, 3, 3, 1, 2, 1, 2, 1, 0, 1, 0, 1, 2, 2, 1, 1, 1, 1, 3, 1, 0, 0, 2, 2, 0, 1, 0, 0, 1, 0, 1, 3, 3, 2, 0, 0, 0, 3, 0, 1, 2, 2, 1, 1, 2, 0, 0, 0, 2, 0, 0, 0, 0, 3, 2, 2, 2, 2, 1, 0, 2, 3, 0, 2, 3, 2, 2, 0, 3, 0, 2, 1, 0, 0, 1, 0, 1, 3, 2, 1, 1, 2, 2, 3, 1, 1, 2, 2, 2, 2, 3, 1, 3, 2, 0, 1, 0, 2, 2, 1, 1, 0, 0, 0, 1, 2, 1, 0, 0, 2, 2, 3, 0, 3, 0, 2, 0, 1, 1, 0, 1, 0, 2, 2, 1, 2, 0, 0, 2, 2, 2, 0, 2, 0, 2, 2, 1, 0, 0, 1, 1, 0, 3, 2, 1, 2, 1, 3, 1, 3, 0, 0, 3, 3, 2, 1, 2, 2, 3, 3, 3, 1, 2, 2, 0, 1, 3, 0, 2, 3, 3, 3, 0, 0, 2, 1, 1, 3, 3, 2, 2, 3, 2, 3, 0, 1, 0, 1, 3, 1, 0, 0, 3, 1, 1, 2, 0, 2, 3, 0, 3, 3, 0, 1, 3, 0, 0, 2, 1, 2, 0, 0, 0, 3, 0, 2, 2, 0, 0, 1, 0, 2, 1, 2, 1, 1, 0, 2, 0, 1, 2, 0, 1, 2, 1, 2, 2, 1, 3, 1, 0, 1, 3, 0, 1, 3, 0, 2, 2, 1, 3, 2, 1, 3, 2, 0, 2, 1, 2, 0, 1, 1, 2, 0, 1, 3, 0, 0, 1, 0, 1, 2, 0, 2, 3, 2, 0, 3, 2, 0, 0, 1, 2, 2, 3, 0, 3, 1, 0, 1, 1, 2, 0, 1, 3, 0, 1, 3, 3, 1, 3, 1, 2, 0, 2, 3, 0, 3, 1, 0, 2, 3, 3, 0, 3, 2, 1, 2, 0, 1, 3, 3, 2, 1, 3, 2, 2, 1, 3, 0, 2, 2, 3, 0, 1, 2, 1, 2, 2, 3, 3, 3, 0, 0, 3, 3, 3, 2, 1, 1, 3, 3, 1, 1, 3, 0, 3, 0, 1, 2, 2, 2, 0, 0, 0, 0, 1, 0, 1, 2, 3, 1, 1, 2, 2, 1, 1, 2, 1, 2, 1, 2, 1, 1, 2, 2, 3, 1, 3, 3, 0, 1, 2, 2, 1, 3, 2, 2, 0, 2, 1, 2, 3, 3, 0, 2, 1, 1, 2, 1, 3, 0, 3, 3, 1, 2, 2, 0, 1, 2, 3, 3, 2, 2, 3, 1, 0, 1, 2, 1, 1, 3, 2, 1, 3, 2, 1, 3, 0, 0, 3, 3, 1, 1, 1, 3, 3, 0, 0, 0, 1, 1, 2, 2, 0, 3, 1, 1, 0, 3, 1, 0, 3, 1, 1, 3, 1, 1, 1, 0, 0, 1, 3, 3, 1, 3, 1, 1, 2, 3, 1, 3, 0, 0, 3, 1, 1, 0, 1, 1, 2, 1, 1, 3, 2, 0, 2, 1, 1, 3, 1, 3, 0, 1, 1, 2, 0, 0, 0, 3, 0, 0, 3, 2, 1, 1, 1, 1, 0, 3, 1, 1, 0, 3, 0, 1, 0, 0, 0, 3, 0, 1, 3, 1, 1, 1, 1, 2, 1, 0, 1, 3, 2, 3, 2, 3, 3, 0, 3, 3, 0, 1, 3, 1, 3, 1, 1, 0, 0, 1, 1, 0, 1, 3, 1, 1, 1, 3, 3, 1, 2, 3, 0, 0, 1, 3, 2, 2, 2, 2, 3, 1, 1, 0, 2, 1, 2, 0, 1, 3, 1, 2, 2, 3, 3, 0, 1, 3, 0, 2, 0, 3, 1, 1, 1, 0, 0, 1, 0, 0, 1, 3, 0, 3, 0, 1, 2, 0, 3, 1, 1, 1, 0, 0, 2, 3, 2, 1, 2, 1, 1, 3, 1, 0, 0, 0, 1, 2, 1, 3, 3, 2, 3, 3, 2, 1, 3, 2, 1, 0, 2, 2, 0, 0, 3, 0, 1, 2, 2, 1, 2, 1, 2, 3, 1, 1, 3, 0, 1, 2, 3, 0, 3, 3, 3, 1, 0, 1, 1, 3, 0, 1, 1, 0, 0, 3, 1, 3, 1, 0, 2, 0, 1, 0, 3, 3, 3, 3, 3, 2, 0, 3, 0, 0, 0, 0, 0, 0, 3, 0, 1, 2, 2, 0, 2, 3, 1, 1, 0, 3, 2, 3, 1, 1, 3, 1, 1, 1, 0, 2, 1, 2, 0, 3, 1, 0, 1, 1, 3, 1, 1, 2, 0, 2, 3, 2, 2, 1, 2, 1, 3, 0, 2, 3, 0, 1, 3, 1, 0, 3, 3, 3, 3, 3, 1, 0, 3, 0, 2, 3, 1, 3, 1, 3, 1, 2, 1, 3, 2, 3, 0, 2, 3, 3, 2, 3, 1, 0, 0, 1, 2, 1, 0, 0, 1, 3, 2, 3, 1, 2, 3, 3, 2, 0, 3, 3, 1, 1, 0, 0, 3, 2, 3, 0, 3, 2, 1, 0, 3, 1, 1, 3, 2, 1, 2, 1, 1, 0, 2, 1, 2, 2, 2, 1, 0, 0, 1, 1, 3, 0, 1, 1, 3, 2, 3, 1, 0, 3, 2, 2, 1, 1, 0, 2, 3, 1, 3, 2, 0, 3, 3, 1, 1, 0, 1, 3, 3, 0, 0, 3, 2, 1, 1, 1, 0, 3, 0, 1, 0, 1, 3, 1, 3, 0, 2, 1, 0, 2, 0, 0, 3, 2, 3, 0, 3, 0, 1, 2, 3, 3, 2, 3, 3, 1, 3, 3, 1, 3, 3, 3, 1, 2, 1, 2, 2, 3, 3, 2, 3, 1, 3, 3, 3, 0, 0, 2, 0, 2, 1, 3, 1, 3, 2, 2, 3, 0, 0, 0, 0, 2, 1, 0, 3, 0, 3, 3, 1, 3, 0, 1, 3, 3, 1, 0, 2, 0, 3, 2, 1, 0, 1, 1, 0, 2, 2, 3, 2, 0, 2, 0, 2, 2, 1, 0, 3, 1, 1, 2, 0, 3, 2, 3, 0, 2, 1, 1, 2, 3, 0, 3, 3, 0, 0, 0, 2, 1, 3, 3, 2, 1, 2, 2, 2, 3, 0, 1, 3, 0, 3, 3, 3, 0, 1, 3, 1, 3, 3, 0, 1, 1, 1, 0, 3, 2, 2, 1, 1, 2, 1, 2, 1, 2, 3, 2, 1, 2, 0, 1, 1, 2, 2, 1, 1, 1, 0, 0, 2, 3, 1, 3, 3, 1, 2, 0, 3, 0, 0, 1, 1, 2, 3, 1, 0, 2, 3, 0, 3, 0, 2, 3, 0, 2, 1, 1, 0, 0, 1, 2, 3, 2, 1, 1, 2, 2, 0, 0, 0, 2, 2, 3, 1, 2, 1, 1, 0, 2, 1, 3, 0, 1, 1, 1, 3, 1, 2, 1, 0, 1, 3, 1, 1, 1, 3, 2, 0, 3, 3, 1, 0, 0, 0, 2, 0, 1, 1, 2, 3, 1, 2, 1, 0, 2, 0, 0, 3, 1, 1, 0, 3, 3, 3, 0, 0, 1, 1, 3, 3, 2, 0, 1, 3, 2, 1, 1, 1, 3, 2, 1, 2, 3, 0, 0, 3, 0, 3, 2, 1, 2, 0, 0, 2, 0, 3, 3, 2, 3, 1, 2, 2, 0, 0, 0, 3, 0, 3, 2, 3, 2, 2, 1, 3, 1, 2, 3, 2, 1, 0, 2, 2, 2, 0, 0, 1, 3, 1, 2, 3, 1, 1, 1, 2, 2, 0, 2, 1, 2, 0, 3, 3, 0, 2, 1, 0, 1, 2, 3, 2, 1, 2, 3, 1, 1, 1, 1, 0, 2, 1, 3, 2, 2, 1, 2, 2, 1, 3, 1, 0, 2, 2, 0, 0, 2, 0, 3, 0, 2, 2, 0, 1, 1, 3, 1, 0, 2, 3, 2, 1, 0, 0, 0, 1, 3, 2, 0, 1, 3, 0, 0, 1, 2, 0, 1, 1, 1, 2, 1, 3, 3, 3, 2, 1, 0, 3, 2, 0, 0, 2, 0, 0, 2, 1, 1, 1, 3, 2, 1, 0, 2, 0, 2, 3, 1, 0, 1, 2, 0, 3, 2, 0, 0, 3, 2, 2, 3, 0, 0, 3, 1, 3, 0, 0, 2, 2, 0, 1, 3, 1, 2, 3, 1, 1, 1, 1, 3, 2, 1, 3, 1, 2, 2, 2, 3, 3, 0, 1, 0, 0, 1, 1, 1, 1, 2, 0, 3, 1, 1, 2, 2, 0, 0, 0, 2, 2, 3, 1, 2, 3, 2, 3, 3, 3, 3, 2, 2, 1, 2, 3, 1, 3, 0, 3, 1, 3, 3, 3, 3, 1, 0, 1, 2, 0, 3, 3, 1, 3, 1, 3, 1, 1, 3, 0, 2, 1, 0, 2, 0, 1, 3, 3, 0, 2, 2, 1, 2, 0, 1, 3, 3, 3, 1, 0, 2, 1, 1, 0, 1, 3, 0, 0, 2, 0, 2, 1, 1, 0, 2, 0, 1, 3, 2, 1, 2, 1, 0, 1, 2, 2, 1, 3, 0, 1, 2, 0, 2, 3, 2, 1, 3, 0, 3, 1, 3, 2, 3, 2, 0, 0, 1, 0, 3, 2, 1, 2, 2, 2, 3, 0, 1, 3, 1, 1, 2, 2, 0, 3, 0, 0, 2, 2, 3, 0, 1, 0, 3, 1, 3, 2, 3, 0, 0, 1, 1, 1, 2, 2, 0, 3, 2, 3, 1, 1, 2, 2, 0, 0, 3, 3, 3, 2, 3, 0, 3, 1, 0, 3, 1, 2, 2, 1, 0, 0, 3, 2, 1, 1, 0, 0, 1, 1, 1, 0, 1, 1, 0, 1, 2, 2, 2, 2, 2, 3, 3, 3, 3, 1, 1, 3, 3, 2, 1, 0, 1, 0, 1, 2, 2, 3, 2, 3, 0, 2, 1, 2, 3, 3, 1, 3, 1, 1, 2, 0, 2, 3, 2, 1, 3, 3, 3, 3, 2, 0, 1, 3, 1, 3, 2, 1, 0, 2, 1, 2, 3, 0, 0, 2, 1, 2, 2, 3, 1, 3, 2, 3, 2, 2, 1, 3, 0, 1, 2, 3, 3, 2, 0, 2, 0, 0, 2, 0, 2, 3, 2, 2, 0, 1, 2, 3, 0, 2, 3, 2, 1, 3, 0, 0, 2, 1, 0, 0, 1, 0, 3, 2, 1, 3, 2, 0, 3, 3, 2, 3, 2, 1, 3, 2, 1, 3, 0, 1, 3, 1, 2, 1, 1, 0, 1, 3, 2, 1, 0, 0, 1, 1, 1, 0, 1, 3, 0, 0, 2, 0, 2, 1, 1, 3, 2, 0, 1, 3, 2, 0, 2, 0, 1, 3, 2, 2, 0, 0, 2, 0, 3, 0, 3, 0, 0, 0, 0, 3, 3, 1, 3, 2, 1, 3, 3, 1, 0, 2, 0, 3, 3, 3, 3, 2, 0, 3, 3, 2, 0, 3, 2, 0, 0, 3, 2, 3, 1, 0, 3, 2, 3, 3, 2, 1, 1, 1, 2, 2, 0, 0, 0, 0, 1, 0, 0, 2, 3, 3, 2, 2, 0, 3, 1, 0, 3, 3, 2, 2, 0, 3, 2, 2, 2, 3, 3, 0, 3, 1, 1, 3, 3, 1, 2, 0, 3, 0, 2, 1, 3, 0, 1, 0, 1, 0, 0, 1, 0, 0, 2, 2, 1, 1, 2, 1, 1, 3, 0, 2, 0, 1, 3, 2, 0, 3, 0, 2, 0, 2, 3, 2, 0, 0, 0, 2, 3, 1, 1, 0, 3, 2, 2, 2, 2, 2, 3, 0, 1, 2, 2, 2, 1, 1, 3, 0, 2, 0, 3, 3, 0, 0, 2, 0, 3, 0, 0, 3, 0, 2, 1, 2, 3, 3, 1, 3, 1, 1, 2, 1, 2, 3, 0, 0, 3, 0, 3, 0, 0, 2, 2, 3, 2, 3, 1, 2, 0, 0, 3, 2, 3, 0, 3, 3, 1, 3, 1, 0, 1, 3, 2, 0, 0, 3, 2, 2, 0, 3, 2, 1, 2, 3, 2, 3, 0, 0, 0, 3, 1, 2, 1, 2, 2, 0, 2, 1, 0, 0, 0, 1, 1, 1, 0, 2, 0, 0, 3, 2, 3, 2, 0, 1, 2, 2, 0, 2, 2, 1, 0, 1, 2, 0, 0, 3, 0, 3, 0, 3, 0, 0, 1, 3, 3, 0, 3, 0, 3, 3, 3, 1, 3, 3, 0, 3, 2, 2, 2, 0, 0, 2, 0, 3, 2, 3, 0, 0, 1, 0, 0, 2, 0, 2, 2, 2, 1, 0, 2, 0, 3, 0, 2, 0, 1, 1, 2, 1, 3, 1, 2, 2, 3, 3, 2, 1, 3, 3, 2, 2, 1, 2, 1, 0, 0, 1, 3, 2, 3, 3, 1, 2, 2, 0, 0, 2, 3, 1, 2, 0, 2, 3, 3, 0, 0, 2, 0, 1, 3, 2, 2, 2, 3, 3, 3, 0, 0, 3, 1, 1, 2, 0, 1, 1, 0, 0, 3, 0, 3, 2, 2, 1, 3, 2, 3, 0, 3, 2, 2, 2, 1, 3, 3, 1, 3, 0, 3, 3, 1, 1, 3, 2, 0, 3, 1, 3, 3, 0, 2, 2, 3, 3, 2, 1, 0, 0, 0, 1, 1, 2, 3, 0, 3, 2, 2, 1, 3, 0, 0, 0, 3, 0, 2, 2, 2, 0, 0, 2, 0, 1, 0, 3, 1, 0, 3, 1, 1, 2, 0, 0, 0, 0, 3, 1, 2, 1, 3, 2, 3, 3, 3, 2, 0, 3, 1, 1, 1, 3, 2, 3, 0, 1, 0, 1, 1, 2, 0, 0, 3, 2, 0, 1, 3, 2, 0, 3, 3, 3, 2, 0, 3, 2, 1, 1, 2, 0, 1, 1, 2, 3, 3, 1, 3, 0, 3, 2, 1, 1, 1, 3, 3, 0, 2, 3, 3, 3, 3, 1, 2, 1, 0, 3, 2, 0, 2, 3, 2, 1, 1, 1, 1, 3, 0, 3, 2, 1, 3, 1, 0, 3, 3, 1, 3, 2, 1, 3, 2, 1, 1, 2, 2, 2, 1, 1, 3, 2, 0, 3, 2, 0, 3, 2, 1, 0, 3, 0, 1, 3, 0, 3, 1, 0, 3, 1, 0, 2, 2, 1, 2, 0, 1, 0, 3, 2, 0, 1, 1, 3, 2, 0, 0, 1, 2, 3, 0, 3, 1, 3, 2, 2, 3, 0, 0, 3, 2, 2, 0, 3, 0, 2, 3, 1, 0, 1, 3, 0, 3, 2, 2, 2, 3, 2, 3, 3, 1, 1, 1, 3, 0, 0, 2, 1, 3, 1, 2, 0, 2, 3, 0, 0, 0, 2, 1, 1, 1, 1, 1, 3, 1, 1, 2, 0, 3, 2, 3, 2, 1, 2, 0, 3, 1, 3, 3, 1, 3, 0, 0, 1, 3, 2, 0, 2, 0, 1, 1, 1, 1, 3, 1, 0, 2, 0, 3, 0, 3, 3, 1, 3, 0, 1, 1, 2, 1, 3, 1, 3, 1, 1, 3, 3, 3, 1, 3, 2, 1, 2, 3, 0, 1, 2, 0, 2, 0, 0, 2, 0, 2, 0, 1, 2, 0, 2, 0, 0, 2, 1, 0, 0, 3, 1, 0, 0, 0, 1, 1, 1, 3, 1, 2, 2, 0, 2, 1, 2, 2, 3, 1, 3, 0, 0, 3, 2, 0, 1, 0, 2, 2, 0, 2, 2, 1, 0, 2, 1, 0, 3, 1, 1, 1, 1, 1, 0, 2, 1, 2, 2, 1, 0, 0, 3, 0, 2, 0, 0, 1, 2, 1, 0, 0, 1, 3, 2, 0, 3, 3, 2, 3, 3, 1, 0, 3, 0, 2, 3, 2, 0, 0, 0, 3, 3, 3, 0, 1, 1, 3, 1, 2, 0, 3, 0, 0, 0, 0, 1, 0, 2, 1, 1, 3, 3, 2, 3, 2, 0, 3, 3, 3, 0, 3, 1, 1, 0, 3, 3, 1, 1, 2, 0, 0, 0, 0, 2, 0, 2, 2, 3, 3, 0, 3, 0, 2, 3, 2, 0, 2, 1, 1, 3, 1, 1, 0, 2, 2, 0, 0, 2, 3, 0, 3, 0, 1, 2, 1, 2, 0, 0, 0, 2, 3, 0, 3, 0, 1, 2, 3, 1, 0, 2, 2, 3, 1, 1, 2, 1, 2, 2, 3, 0, 0, 0, 3, 0, 3, 1, 0, 2, 2, 0, 2, 0, 0, 2, 3, 1, 3, 0, 0, 1, 2, 3, 2, 3, 1, 1, 1, 2, 3, 3, 1, 0, 3, 3, 0, 3, 1, 2, 3, 1, 0, 2, 1, 3, 2, 0, 3, 1, 0, 3, 1, 1, 1, 2, 0, 1, 1, 3, 2, 3, 0, 1, 1, 0, 3, 0, 2, 1, 1, 0, 1, 0, 2, 3, 0, 1, 0, 0, 1, 1, 3, 2, 2, 0, 1, 2, 2, 3, 1, 0, 1, 1, 0, 3, 3, 3, 3, 2, 1, 0, 2, 1, 0, 0, 3, 2, 2, 2, 3, 1, 2, 2, 0, 1, 0, 1, 2, 1, 2, 0, 1, 0, 3, 1, 0, 2, 1, 2, 2, 3, 1, 2, 1, 0, 1, 3, 1, 0, 3, 2, 2, 1, 3, 2, 0, 0, 0, 0, 3, 3, 3, 0, 3, 2, 2, 2, 0, 2, 0, 1, 1, 1, 1, 0, 1, 3, 1, 2, 1, 1, 1, 3, 0, 0, 0, 0, 3, 2, 3, 2, 0, 2, 1, 0, 0, 1, 3, 2, 3, 3, 2, 1, 0, 1, 0, 3, 0, 3, 3, 0, 0, 2, 2, 1, 3, 0, 0, 2, 1, 0, 0, 3, 2, 0, 0, 2, 2, 1, 3, 1, 0, 1, 2, 2, 3, 3, 0, 0, 0, 0, 3, 2, 3, 2, 3, 2, 0, 0, 3, 3, 0, 2]\n"
          ]
        }
      ]
    },
    {
      "cell_type": "markdown",
      "source": [
        "Using the unique tokens you found in the training news, represent the testing news as another numpy array called `x_test`. (5 points)\n",
        "\n",
        "Note: Do not forget to remove stopwords and the `#` token."
      ],
      "metadata": {
        "id": "lew_jlNPqhPb"
      }
    },
    {
      "cell_type": "code",
      "source": [
        "test_df['text'] = test_df['text'].apply(lambda x: x.split(\" \"))\n",
        "test_df['text'] = test_df['text'].apply(lambda x: [s for s in x if s not in stopwords])\n",
        "x_test = test_df['text'].to_numpy()\n",
        "vectorizer = CountVectorizer(vocabulary=unique_token_list)\n",
        "x_test = [vectorizer.fit_transform([' '.join(x)]).toarray().tolist()[0] for x in x_test]"
      ],
      "metadata": {
        "id": "RIy2qMABrQcy"
      },
      "execution_count": 63,
      "outputs": []
    },
    {
      "cell_type": "markdown",
      "source": [
        "Convert the topics associated with the testing news to their equivalent numbers (as before), and save the result as a numpy array called `y_test`. (5 points)"
      ],
      "metadata": {
        "id": "QWIRhxS_rX7M"
      }
    },
    {
      "cell_type": "code",
      "source": [
        "y_test = [topic_dict[t] for t in test_df['topic'].to_numpy()]"
      ],
      "metadata": {
        "id": "T0tXlWRHrWUI"
      },
      "execution_count": 62,
      "outputs": []
    },
    {
      "cell_type": "markdown",
      "source": [
        "# Model Training and Evaluation"
      ],
      "metadata": {
        "id": "LQdf4UuQrvme"
      }
    },
    {
      "cell_type": "markdown",
      "source": [
        "## Using sklearn (10 points)"
      ],
      "metadata": {
        "id": "MwkWJbTEsoWy"
      }
    },
    {
      "cell_type": "markdown",
      "source": [
        "Train a Multinomial Naive Bayes Model on the training news (`x_train` and `y_train`) using `sklearn`."
      ],
      "metadata": {
        "id": "sGcrjKBgr1uL"
      }
    },
    {
      "cell_type": "code",
      "source": [
        "clf = MultinomialNB()\n",
        "\n",
        "clf.fit(x_train, y_train)"
      ],
      "metadata": {
        "id": "yJTD0NB7rW2P",
        "colab": {
          "base_uri": "https://localhost:8080/",
          "height": 74
        },
        "outputId": "63144d05-7981-4d83-892b-4839b623714d"
      },
      "execution_count": 65,
      "outputs": [
        {
          "output_type": "execute_result",
          "data": {
            "text/plain": [
              "MultinomialNB()"
            ],
            "text/html": [
              "<style>#sk-container-id-1 {color: black;background-color: white;}#sk-container-id-1 pre{padding: 0;}#sk-container-id-1 div.sk-toggleable {background-color: white;}#sk-container-id-1 label.sk-toggleable__label {cursor: pointer;display: block;width: 100%;margin-bottom: 0;padding: 0.3em;box-sizing: border-box;text-align: center;}#sk-container-id-1 label.sk-toggleable__label-arrow:before {content: \"▸\";float: left;margin-right: 0.25em;color: #696969;}#sk-container-id-1 label.sk-toggleable__label-arrow:hover:before {color: black;}#sk-container-id-1 div.sk-estimator:hover label.sk-toggleable__label-arrow:before {color: black;}#sk-container-id-1 div.sk-toggleable__content {max-height: 0;max-width: 0;overflow: hidden;text-align: left;background-color: #f0f8ff;}#sk-container-id-1 div.sk-toggleable__content pre {margin: 0.2em;color: black;border-radius: 0.25em;background-color: #f0f8ff;}#sk-container-id-1 input.sk-toggleable__control:checked~div.sk-toggleable__content {max-height: 200px;max-width: 100%;overflow: auto;}#sk-container-id-1 input.sk-toggleable__control:checked~label.sk-toggleable__label-arrow:before {content: \"▾\";}#sk-container-id-1 div.sk-estimator input.sk-toggleable__control:checked~label.sk-toggleable__label {background-color: #d4ebff;}#sk-container-id-1 div.sk-label input.sk-toggleable__control:checked~label.sk-toggleable__label {background-color: #d4ebff;}#sk-container-id-1 input.sk-hidden--visually {border: 0;clip: rect(1px 1px 1px 1px);clip: rect(1px, 1px, 1px, 1px);height: 1px;margin: -1px;overflow: hidden;padding: 0;position: absolute;width: 1px;}#sk-container-id-1 div.sk-estimator {font-family: monospace;background-color: #f0f8ff;border: 1px dotted black;border-radius: 0.25em;box-sizing: border-box;margin-bottom: 0.5em;}#sk-container-id-1 div.sk-estimator:hover {background-color: #d4ebff;}#sk-container-id-1 div.sk-parallel-item::after {content: \"\";width: 100%;border-bottom: 1px solid gray;flex-grow: 1;}#sk-container-id-1 div.sk-label:hover label.sk-toggleable__label {background-color: #d4ebff;}#sk-container-id-1 div.sk-serial::before {content: \"\";position: absolute;border-left: 1px solid gray;box-sizing: border-box;top: 0;bottom: 0;left: 50%;z-index: 0;}#sk-container-id-1 div.sk-serial {display: flex;flex-direction: column;align-items: center;background-color: white;padding-right: 0.2em;padding-left: 0.2em;position: relative;}#sk-container-id-1 div.sk-item {position: relative;z-index: 1;}#sk-container-id-1 div.sk-parallel {display: flex;align-items: stretch;justify-content: center;background-color: white;position: relative;}#sk-container-id-1 div.sk-item::before, #sk-container-id-1 div.sk-parallel-item::before {content: \"\";position: absolute;border-left: 1px solid gray;box-sizing: border-box;top: 0;bottom: 0;left: 50%;z-index: -1;}#sk-container-id-1 div.sk-parallel-item {display: flex;flex-direction: column;z-index: 1;position: relative;background-color: white;}#sk-container-id-1 div.sk-parallel-item:first-child::after {align-self: flex-end;width: 50%;}#sk-container-id-1 div.sk-parallel-item:last-child::after {align-self: flex-start;width: 50%;}#sk-container-id-1 div.sk-parallel-item:only-child::after {width: 0;}#sk-container-id-1 div.sk-dashed-wrapped {border: 1px dashed gray;margin: 0 0.4em 0.5em 0.4em;box-sizing: border-box;padding-bottom: 0.4em;background-color: white;}#sk-container-id-1 div.sk-label label {font-family: monospace;font-weight: bold;display: inline-block;line-height: 1.2em;}#sk-container-id-1 div.sk-label-container {text-align: center;}#sk-container-id-1 div.sk-container {/* jupyter's `normalize.less` sets `[hidden] { display: none; }` but bootstrap.min.css set `[hidden] { display: none !important; }` so we also need the `!important` here to be able to override the default hidden behavior on the sphinx rendered scikit-learn.org. See: https://github.com/scikit-learn/scikit-learn/issues/21755 */display: inline-block !important;position: relative;}#sk-container-id-1 div.sk-text-repr-fallback {display: none;}</style><div id=\"sk-container-id-1\" class=\"sk-top-container\"><div class=\"sk-text-repr-fallback\"><pre>MultinomialNB()</pre><b>In a Jupyter environment, please rerun this cell to show the HTML representation or trust the notebook. <br />On GitHub, the HTML representation is unable to render, please try loading this page with nbviewer.org.</b></div><div class=\"sk-container\" hidden><div class=\"sk-item\"><div class=\"sk-estimator sk-toggleable\"><input class=\"sk-toggleable__control sk-hidden--visually\" id=\"sk-estimator-id-1\" type=\"checkbox\" checked><label for=\"sk-estimator-id-1\" class=\"sk-toggleable__label sk-toggleable__label-arrow\">MultinomialNB</label><div class=\"sk-toggleable__content\"><pre>MultinomialNB()</pre></div></div></div></div></div>"
            ]
          },
          "metadata": {},
          "execution_count": 65
        }
      ]
    },
    {
      "cell_type": "markdown",
      "source": [
        "Get the predictions of the model for the testing news (`x_test`)."
      ],
      "metadata": {
        "id": "OeFDzw61sCna"
      }
    },
    {
      "cell_type": "code",
      "source": [
        "y_test_pred = clf.predict(x_test)"
      ],
      "metadata": {
        "id": "f0KP-84CsCJX"
      },
      "execution_count": 66,
      "outputs": []
    },
    {
      "cell_type": "markdown",
      "source": [
        "Print the classification report containing \"precision\", \"recall\", and \"f1-score\" for each class, and their averages. (you can use `sklearn` for this part)"
      ],
      "metadata": {
        "id": "G1KAXbhJsb5o"
      }
    },
    {
      "cell_type": "code",
      "source": [
        "print(classification_report(y_test, y_test_pred))"
      ],
      "metadata": {
        "id": "1fLYOmgMsWns",
        "colab": {
          "base_uri": "https://localhost:8080/"
        },
        "outputId": "812a8079-ff9c-47fa-d423-d1018cee0748"
      },
      "execution_count": 67,
      "outputs": [
        {
          "output_type": "stream",
          "name": "stdout",
          "text": [
            "              precision    recall  f1-score   support\n",
            "\n",
            "           0       0.99      0.98      0.99      2253\n",
            "           1       0.91      0.94      0.93      2268\n",
            "           2       0.94      0.90      0.92      2262\n",
            "           3       0.94      0.96      0.95      2255\n",
            "\n",
            "    accuracy                           0.95      9038\n",
            "   macro avg       0.95      0.95      0.95      9038\n",
            "weighted avg       0.95      0.95      0.95      9038\n",
            "\n"
          ]
        }
      ]
    },
    {
      "cell_type": "markdown",
      "source": [
        "## Using your own code (15 points)"
      ],
      "metadata": {
        "id": "dM7sjbu6stRn"
      }
    },
    {
      "cell_type": "code",
      "source": [
        "print(len(x_train[0]))"
      ],
      "metadata": {
        "colab": {
          "base_uri": "https://localhost:8080/"
        },
        "id": "TEyBxVzbaMnv",
        "outputId": "15cb4caa-1ad2-4038-d9a4-6994c0505e5f"
      },
      "execution_count": 78,
      "outputs": [
        {
          "output_type": "stream",
          "name": "stdout",
          "text": [
            "4827\n"
          ]
        }
      ]
    },
    {
      "cell_type": "code",
      "source": [
        "class Naive_Bayes:\n",
        "    \"\"\"\n",
        "    Fits it on data, then uses predict to get results.\n",
        "    \"\"\"\n",
        "\n",
        "    def __init__(self):\n",
        "        self.prior = None\n",
        "        self.likelihood = None\n",
        "    \n",
        "    def fit(self, X, y):\n",
        "        \"\"\"Fit the training data\n",
        "        Parameters\n",
        "        ----------\n",
        "        x : array-like, shape = [n_samples, n_features]\n",
        "            Training samples\n",
        "        y : array-like, shape = [n_samples, n_target_values]\n",
        "            Target values\n",
        "        Returns\n",
        "        -------\n",
        "        self : object\n",
        "        \"\"\"\n",
        "\n",
        "        n_samples, n_features = X.shape\n",
        "        classes = np.unique(y)\n",
        "        n_classes = len(classes)\n",
        "\n",
        "        self.prior = np.zeros(n_classes)\n",
        "        for i, c in enumerate(classes):\n",
        "            self.prior[i] = np.sum(y == c) / n_samples\n",
        "\n",
        "        self.likelihood = np.zeros((n_classes, n_features))\n",
        "        for i, c in enumerate(classes):\n",
        "            X_c = X[y == c]\n",
        "            self.likelihood[i, :] = (np.sum(X_c, axis=0) + 1) / (np.sum(X_c) + n_features)\n",
        "\n",
        "        return self\n",
        "    \n",
        "    def predict(self, X):\n",
        "        \"\"\" Predicts the value after the model has been trained.\n",
        "        Parameters\n",
        "        ----------\n",
        "        x : array-like, shape = [n_samples, n_features]\n",
        "            Test samples\n",
        "        Returns\n",
        "        -------\n",
        "        Predicted value\n",
        "        \"\"\"\n",
        "        \n",
        "        n_samples, n_features = X.shape\n",
        "        n_classes = len(self.prior)\n",
        "        y_pred = np.zeros(n_samples)\n",
        "\n",
        "        for i in range(n_samples):\n",
        "            posterior = np.zeros(n_classes)\n",
        "            for j in range(n_classes):\n",
        "                posterior[j] = np.log(self.prior[j]) + np.sum(np.log(self.likelihood[j, :]) * X[i, :])\n",
        "            y_pred[i] = np.argmax(posterior)\n",
        "\n",
        "        return y_pred"
      ],
      "metadata": {
        "id": "LgTbqyNwsZ5U"
      },
      "execution_count": 70,
      "outputs": []
    },
    {
      "cell_type": "markdown",
      "source": [
        "Train your own Multinomial Naive Bayes Model on the training news (`x_train` and `y_train`)."
      ],
      "metadata": {
        "id": "ZYpwLACxtlFy"
      }
    },
    {
      "cell_type": "code",
      "source": [
        "naive_bayes_model = Naive_Bayes()\n",
        "naive_bayes_model.fit(np.array(x_train), np.array(y_train))"
      ],
      "metadata": {
        "id": "QBnzQoqyIl-q",
        "colab": {
          "base_uri": "https://localhost:8080/"
        },
        "outputId": "0a344da6-1abe-4cad-85d9-419bb359bf3a"
      },
      "execution_count": 74,
      "outputs": [
        {
          "output_type": "execute_result",
          "data": {
            "text/plain": [
              "<__main__.Naive_Bayes at 0x7fbb6f39be20>"
            ]
          },
          "metadata": {},
          "execution_count": 74
        }
      ]
    },
    {
      "cell_type": "markdown",
      "source": [
        "Get the predictions of your model for the testing news (`x_test`)."
      ],
      "metadata": {
        "id": "pPSZVHBCtndS"
      }
    },
    {
      "cell_type": "code",
      "source": [
        "y_test_naive_bayes = naive_bayes_model.predict(np.array(x_test))"
      ],
      "metadata": {
        "id": "T7SMtuR0tskf"
      },
      "execution_count": 76,
      "outputs": []
    },
    {
      "cell_type": "markdown",
      "source": [
        "Print the classification report containing \"precision\", \"recall\", and \"f1-score\" for each class, and their averages. (you can use `sklearn` for this part)"
      ],
      "metadata": {
        "id": "hIlERTP1ttCW"
      }
    },
    {
      "cell_type": "code",
      "source": [
        "print(classification_report(y_test, y_test_naive_bayes))"
      ],
      "metadata": {
        "id": "9MfxJtbmtugx",
        "colab": {
          "base_uri": "https://localhost:8080/"
        },
        "outputId": "94db53cf-4649-46ed-e1bf-10d52667aa8d"
      },
      "execution_count": 77,
      "outputs": [
        {
          "output_type": "stream",
          "name": "stdout",
          "text": [
            "              precision    recall  f1-score   support\n",
            "\n",
            "           0       0.99      0.98      0.99      2253\n",
            "           1       0.91      0.94      0.93      2268\n",
            "           2       0.94      0.90      0.92      2262\n",
            "           3       0.94      0.96      0.95      2255\n",
            "\n",
            "    accuracy                           0.95      9038\n",
            "   macro avg       0.95      0.95      0.95      9038\n",
            "weighted avg       0.95      0.95      0.95      9038\n",
            "\n"
          ]
        }
      ]
    },
    {
      "cell_type": "markdown",
      "source": [
        "# Kaggle"
      ],
      "metadata": {
        "id": "ElMEcOMAeFA1"
      }
    },
    {
      "cell_type": "code",
      "source": [
        "import csv\n",
        "test_kaggle_df = pd.read_csv('assignment4-test-data.csv')\n",
        "test_kaggle_df['text'] = test_kaggle_df['text'].apply(lambda x: x.split(\" \"))\n",
        "test_kaggle_df['text'] = test_kaggle_df['text'].apply(lambda x: [s for s in x if s not in stopwords])\n",
        "x_kaggle_test = test_kaggle_df['text'].to_numpy()\n",
        "vectorizer = CountVectorizer(vocabulary=unique_token_list)\n",
        "x_kaggle_test = [vectorizer.fit_transform([' '.join(x)]).toarray().tolist()[0] for x in x_kaggle_test]\n",
        "y_test_kaggle_naive_bayes = naive_bayes_model.predict(np.array(x_kaggle_test))\n",
        "\n",
        "with open('result.csv', 'w', newline='') as file:\n",
        "    writer = csv.writer(file)\n",
        "    for item in y_test_kaggle_naive_bayes:\n",
        "        writer.writerow([item+1])"
      ],
      "metadata": {
        "id": "-uNcytcWhM_O"
      },
      "execution_count": 79,
      "outputs": []
    },
    {
      "cell_type": "markdown",
      "source": [
        "Competition Link: https://www.kaggle.com/t/88f1b6e251e34575b2e4cb4b91aed0ef"
      ],
      "metadata": {
        "id": "64J1wFXweGsH"
      }
    }
  ]
}