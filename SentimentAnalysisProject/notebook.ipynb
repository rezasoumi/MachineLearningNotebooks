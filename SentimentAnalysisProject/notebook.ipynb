{
  "cells": [
    {
      "attachments": {},
      "cell_type": "markdown",
      "metadata": {},
      "source": [
        "<div>Kaggle Competition: https://www.kaggle.com/competitions/sharif-ml-1401-pr/leaderboard</div>"
      ]
    },
    {
      "cell_type": "code",
      "execution_count": 1,
      "metadata": {
        "colab": {
          "base_uri": "https://localhost:8080/"
        },
        "execution": {
          "iopub.execute_input": "2023-06-25T00:23:58.550732Z",
          "iopub.status.busy": "2023-06-25T00:23:58.550334Z",
          "iopub.status.idle": "2023-06-25T00:25:19.805673Z",
          "shell.execute_reply": "2023-06-25T00:25:19.804713Z",
          "shell.execute_reply.started": "2023-06-25T00:23:58.550701Z"
        },
        "id": "8fepFcMXauPc",
        "outputId": "08290f66-b5e1-4db2-c1bb-699c43109516",
        "trusted": true
      },
      "outputs": [
        {
          "name": "stdout",
          "output_type": "stream",
          "text": [
            "Collecting fasttext\n",
            "  Downloading fasttext-0.9.2.tar.gz (68 kB)\n",
            "\u001b[?25l     \u001b[90m━━━━━━━━━━━━━━━━━━━━━━━━━━━━━━━━━━━━━━━━\u001b[0m \u001b[32m0.0/68.8 kB\u001b[0m \u001b[31m?\u001b[0m eta \u001b[36m-:--:--\u001b[0m\r\u001b[2K     \u001b[90m━━━━━━━━━━━━━━━━━━━━━━━━━━━━━━━━━━━━━━━━\u001b[0m \u001b[32m68.8/68.8 kB\u001b[0m \u001b[31m5.3 MB/s\u001b[0m eta \u001b[36m0:00:00\u001b[0m\n",
            "\u001b[?25h  Preparing metadata (setup.py) ... \u001b[?25l\u001b[?25hdone\n",
            "Collecting pybind11>=2.2 (from fasttext)\n",
            "  Using cached pybind11-2.10.4-py3-none-any.whl (222 kB)\n",
            "Requirement already satisfied: setuptools>=0.7.0 in /usr/local/lib/python3.10/dist-packages (from fasttext) (67.7.2)\n",
            "Requirement already satisfied: numpy in /usr/local/lib/python3.10/dist-packages (from fasttext) (1.22.4)\n",
            "Building wheels for collected packages: fasttext\n",
            "  Building wheel for fasttext (setup.py) ... \u001b[?25l\u001b[?25hdone\n",
            "  Created wheel for fasttext: filename=fasttext-0.9.2-cp310-cp310-linux_x86_64.whl size=4393151 sha256=bb18e10fe4ea7c16492993fe5a376da62bd5c04962292057ff5e9f98e9eadb17\n",
            "  Stored in directory: /root/.cache/pip/wheels/a5/13/75/f811c84a8ab36eedbaef977a6a58a98990e8e0f1967f98f394\n",
            "Successfully built fasttext\n",
            "Installing collected packages: pybind11, fasttext\n",
            "Successfully installed fasttext-0.9.2 pybind11-2.10.4\n",
            "Collecting transformers\n",
            "  Downloading transformers-4.30.2-py3-none-any.whl (7.2 MB)\n",
            "\u001b[2K     \u001b[90m━━━━━━━━━━━━━━━━━━━━━━━━━━━━━━━━━━━━━━━━\u001b[0m \u001b[32m7.2/7.2 MB\u001b[0m \u001b[31m61.3 MB/s\u001b[0m eta \u001b[36m0:00:00\u001b[0m\n",
            "\u001b[?25hRequirement already satisfied: filelock in /usr/local/lib/python3.10/dist-packages (from transformers) (3.12.2)\n",
            "Collecting huggingface-hub<1.0,>=0.14.1 (from transformers)\n",
            "  Downloading huggingface_hub-0.15.1-py3-none-any.whl (236 kB)\n",
            "\u001b[2K     \u001b[90m━━━━━━━━━━━━━━━━━━━━━━━━━━━━━━━━━━━━━━\u001b[0m \u001b[32m236.8/236.8 kB\u001b[0m \u001b[31m29.9 MB/s\u001b[0m eta \u001b[36m0:00:00\u001b[0m\n",
            "\u001b[?25hRequirement already satisfied: numpy>=1.17 in /usr/local/lib/python3.10/dist-packages (from transformers) (1.22.4)\n",
            "Requirement already satisfied: packaging>=20.0 in /usr/local/lib/python3.10/dist-packages (from transformers) (23.1)\n",
            "Requirement already satisfied: pyyaml>=5.1 in /usr/local/lib/python3.10/dist-packages (from transformers) (6.0)\n",
            "Requirement already satisfied: regex!=2019.12.17 in /usr/local/lib/python3.10/dist-packages (from transformers) (2022.10.31)\n",
            "Requirement already satisfied: requests in /usr/local/lib/python3.10/dist-packages (from transformers) (2.27.1)\n",
            "Collecting tokenizers!=0.11.3,<0.14,>=0.11.1 (from transformers)\n",
            "  Downloading tokenizers-0.13.3-cp310-cp310-manylinux_2_17_x86_64.manylinux2014_x86_64.whl (7.8 MB)\n",
            "\u001b[2K     \u001b[90m━━━━━━━━━━━━━━━━━━━━━━━━━━━━━━━━━━━━━━━━\u001b[0m \u001b[32m7.8/7.8 MB\u001b[0m \u001b[31m107.7 MB/s\u001b[0m eta \u001b[36m0:00:00\u001b[0m\n",
            "\u001b[?25hCollecting safetensors>=0.3.1 (from transformers)\n",
            "  Downloading safetensors-0.3.1-cp310-cp310-manylinux_2_17_x86_64.manylinux2014_x86_64.whl (1.3 MB)\n",
            "\u001b[2K     \u001b[90m━━━━━━━━━━━━━━━━━━━━━━━━━━━━━━━━━━━━━━━━\u001b[0m \u001b[32m1.3/1.3 MB\u001b[0m \u001b[31m82.4 MB/s\u001b[0m eta \u001b[36m0:00:00\u001b[0m\n",
            "\u001b[?25hRequirement already satisfied: tqdm>=4.27 in /usr/local/lib/python3.10/dist-packages (from transformers) (4.65.0)\n",
            "Requirement already satisfied: fsspec in /usr/local/lib/python3.10/dist-packages (from huggingface-hub<1.0,>=0.14.1->transformers) (2023.6.0)\n",
            "Requirement already satisfied: typing-extensions>=3.7.4.3 in /usr/local/lib/python3.10/dist-packages (from huggingface-hub<1.0,>=0.14.1->transformers) (4.6.3)\n",
            "Requirement already satisfied: urllib3<1.27,>=1.21.1 in /usr/local/lib/python3.10/dist-packages (from requests->transformers) (1.26.16)\n",
            "Requirement already satisfied: certifi>=2017.4.17 in /usr/local/lib/python3.10/dist-packages (from requests->transformers) (2023.5.7)\n",
            "Requirement already satisfied: charset-normalizer~=2.0.0 in /usr/local/lib/python3.10/dist-packages (from requests->transformers) (2.0.12)\n",
            "Requirement already satisfied: idna<4,>=2.5 in /usr/local/lib/python3.10/dist-packages (from requests->transformers) (3.4)\n",
            "Installing collected packages: tokenizers, safetensors, huggingface-hub, transformers\n",
            "Successfully installed huggingface-hub-0.15.1 safetensors-0.3.1 tokenizers-0.13.3 transformers-4.30.2\n",
            "Collecting evaluate\n",
            "  Downloading evaluate-0.4.0-py3-none-any.whl (81 kB)\n",
            "\u001b[2K     \u001b[90m━━━━━━━━━━━━━━━━━━━━━━━━━━━━━━━━━━━━━━━━\u001b[0m \u001b[32m81.4/81.4 kB\u001b[0m \u001b[31m5.5 MB/s\u001b[0m eta \u001b[36m0:00:00\u001b[0m\n",
            "\u001b[?25hCollecting datasets>=2.0.0 (from evaluate)\n",
            "  Downloading datasets-2.13.1-py3-none-any.whl (486 kB)\n",
            "\u001b[2K     \u001b[90m━━━━━━━━━━━━━━━━━━━━━━━━━━━━━━━━━━━━━━\u001b[0m \u001b[32m486.2/486.2 kB\u001b[0m \u001b[31m27.6 MB/s\u001b[0m eta \u001b[36m0:00:00\u001b[0m\n",
            "\u001b[?25hRequirement already satisfied: numpy>=1.17 in /usr/local/lib/python3.10/dist-packages (from evaluate) (1.22.4)\n",
            "Collecting dill (from evaluate)\n",
            "  Downloading dill-0.3.6-py3-none-any.whl (110 kB)\n",
            "\u001b[2K     \u001b[90m━━━━━━━━━━━━━━━━━━━━━━━━━━━━━━━━━━━━━━\u001b[0m \u001b[32m110.5/110.5 kB\u001b[0m \u001b[31m14.9 MB/s\u001b[0m eta \u001b[36m0:00:00\u001b[0m\n",
            "\u001b[?25hRequirement already satisfied: pandas in /usr/local/lib/python3.10/dist-packages (from evaluate) (1.5.3)\n",
            "Requirement already satisfied: requests>=2.19.0 in /usr/local/lib/python3.10/dist-packages (from evaluate) (2.27.1)\n",
            "Requirement already satisfied: tqdm>=4.62.1 in /usr/local/lib/python3.10/dist-packages (from evaluate) (4.65.0)\n",
            "Collecting xxhash (from evaluate)\n",
            "  Downloading xxhash-3.2.0-cp310-cp310-manylinux_2_17_x86_64.manylinux2014_x86_64.whl (212 kB)\n",
            "\u001b[2K     \u001b[90m━━━━━━━━━━━━━━━━━━━━━━━━━━━━━━━━━━━━━━\u001b[0m \u001b[32m212.5/212.5 kB\u001b[0m \u001b[31m20.0 MB/s\u001b[0m eta \u001b[36m0:00:00\u001b[0m\n",
            "\u001b[?25hCollecting multiprocess (from evaluate)\n",
            "  Downloading multiprocess-0.70.14-py310-none-any.whl (134 kB)\n",
            "\u001b[2K     \u001b[90m━━━━━━━━━━━━━━━━━━━━━━━━━━━━━━━━━━━━━━\u001b[0m \u001b[32m134.3/134.3 kB\u001b[0m \u001b[31m18.3 MB/s\u001b[0m eta \u001b[36m0:00:00\u001b[0m\n",
            "\u001b[?25hRequirement already satisfied: fsspec[http]>=2021.05.0 in /usr/local/lib/python3.10/dist-packages (from evaluate) (2023.6.0)\n",
            "Requirement already satisfied: huggingface-hub>=0.7.0 in /usr/local/lib/python3.10/dist-packages (from evaluate) (0.15.1)\n",
            "Requirement already satisfied: packaging in /usr/local/lib/python3.10/dist-packages (from evaluate) (23.1)\n",
            "Collecting responses<0.19 (from evaluate)\n",
            "  Downloading responses-0.18.0-py3-none-any.whl (38 kB)\n",
            "Requirement already satisfied: pyarrow>=8.0.0 in /usr/local/lib/python3.10/dist-packages (from datasets>=2.0.0->evaluate) (9.0.0)\n",
            "Requirement already satisfied: aiohttp in /usr/local/lib/python3.10/dist-packages (from datasets>=2.0.0->evaluate) (3.8.4)\n",
            "Requirement already satisfied: pyyaml>=5.1 in /usr/local/lib/python3.10/dist-packages (from datasets>=2.0.0->evaluate) (6.0)\n",
            "Requirement already satisfied: filelock in /usr/local/lib/python3.10/dist-packages (from huggingface-hub>=0.7.0->evaluate) (3.12.2)\n",
            "Requirement already satisfied: typing-extensions>=3.7.4.3 in /usr/local/lib/python3.10/dist-packages (from huggingface-hub>=0.7.0->evaluate) (4.6.3)\n",
            "Requirement already satisfied: urllib3<1.27,>=1.21.1 in /usr/local/lib/python3.10/dist-packages (from requests>=2.19.0->evaluate) (1.26.16)\n",
            "Requirement already satisfied: certifi>=2017.4.17 in /usr/local/lib/python3.10/dist-packages (from requests>=2.19.0->evaluate) (2023.5.7)\n",
            "Requirement already satisfied: charset-normalizer~=2.0.0 in /usr/local/lib/python3.10/dist-packages (from requests>=2.19.0->evaluate) (2.0.12)\n",
            "Requirement already satisfied: idna<4,>=2.5 in /usr/local/lib/python3.10/dist-packages (from requests>=2.19.0->evaluate) (3.4)\n",
            "Requirement already satisfied: python-dateutil>=2.8.1 in /usr/local/lib/python3.10/dist-packages (from pandas->evaluate) (2.8.2)\n",
            "Requirement already satisfied: pytz>=2020.1 in /usr/local/lib/python3.10/dist-packages (from pandas->evaluate) (2022.7.1)\n",
            "Requirement already satisfied: attrs>=17.3.0 in /usr/local/lib/python3.10/dist-packages (from aiohttp->datasets>=2.0.0->evaluate) (23.1.0)\n",
            "Requirement already satisfied: multidict<7.0,>=4.5 in /usr/local/lib/python3.10/dist-packages (from aiohttp->datasets>=2.0.0->evaluate) (6.0.4)\n",
            "Requirement already satisfied: async-timeout<5.0,>=4.0.0a3 in /usr/local/lib/python3.10/dist-packages (from aiohttp->datasets>=2.0.0->evaluate) (4.0.2)\n",
            "Requirement already satisfied: yarl<2.0,>=1.0 in /usr/local/lib/python3.10/dist-packages (from aiohttp->datasets>=2.0.0->evaluate) (1.9.2)\n",
            "Requirement already satisfied: frozenlist>=1.1.1 in /usr/local/lib/python3.10/dist-packages (from aiohttp->datasets>=2.0.0->evaluate) (1.3.3)\n",
            "Requirement already satisfied: aiosignal>=1.1.2 in /usr/local/lib/python3.10/dist-packages (from aiohttp->datasets>=2.0.0->evaluate) (1.3.1)\n",
            "Requirement already satisfied: six>=1.5 in /usr/local/lib/python3.10/dist-packages (from python-dateutil>=2.8.1->pandas->evaluate) (1.16.0)\n",
            "Installing collected packages: xxhash, dill, responses, multiprocess, datasets, evaluate\n",
            "Successfully installed datasets-2.13.1 dill-0.3.6 evaluate-0.4.0 multiprocess-0.70.14 responses-0.18.0 xxhash-3.2.0\n",
            "Collecting accelerate\n",
            "  Downloading accelerate-0.20.3-py3-none-any.whl (227 kB)\n",
            "\u001b[2K     \u001b[90m━━━━━━━━━━━━━━━━━━━━━━━━━━━━━━━━━━━━━━\u001b[0m \u001b[32m227.6/227.6 kB\u001b[0m \u001b[31m10.0 MB/s\u001b[0m eta \u001b[36m0:00:00\u001b[0m\n",
            "\u001b[?25hRequirement already satisfied: numpy>=1.17 in /usr/local/lib/python3.10/dist-packages (from accelerate) (1.22.4)\n",
            "Requirement already satisfied: packaging>=20.0 in /usr/local/lib/python3.10/dist-packages (from accelerate) (23.1)\n",
            "Requirement already satisfied: psutil in /usr/local/lib/python3.10/dist-packages (from accelerate) (5.9.5)\n",
            "Requirement already satisfied: pyyaml in /usr/local/lib/python3.10/dist-packages (from accelerate) (6.0)\n",
            "Requirement already satisfied: torch>=1.6.0 in /usr/local/lib/python3.10/dist-packages (from accelerate) (2.0.1+cu118)\n",
            "Requirement already satisfied: filelock in /usr/local/lib/python3.10/dist-packages (from torch>=1.6.0->accelerate) (3.12.2)\n",
            "Requirement already satisfied: typing-extensions in /usr/local/lib/python3.10/dist-packages (from torch>=1.6.0->accelerate) (4.6.3)\n",
            "Requirement already satisfied: sympy in /usr/local/lib/python3.10/dist-packages (from torch>=1.6.0->accelerate) (1.11.1)\n",
            "Requirement already satisfied: networkx in /usr/local/lib/python3.10/dist-packages (from torch>=1.6.0->accelerate) (3.1)\n",
            "Requirement already satisfied: jinja2 in /usr/local/lib/python3.10/dist-packages (from torch>=1.6.0->accelerate) (3.1.2)\n",
            "Requirement already satisfied: triton==2.0.0 in /usr/local/lib/python3.10/dist-packages (from torch>=1.6.0->accelerate) (2.0.0)\n",
            "Requirement already satisfied: cmake in /usr/local/lib/python3.10/dist-packages (from triton==2.0.0->torch>=1.6.0->accelerate) (3.25.2)\n",
            "Requirement already satisfied: lit in /usr/local/lib/python3.10/dist-packages (from triton==2.0.0->torch>=1.6.0->accelerate) (16.0.6)\n",
            "Requirement already satisfied: MarkupSafe>=2.0 in /usr/local/lib/python3.10/dist-packages (from jinja2->torch>=1.6.0->accelerate) (2.1.3)\n",
            "Requirement already satisfied: mpmath>=0.19 in /usr/local/lib/python3.10/dist-packages (from sympy->torch>=1.6.0->accelerate) (1.3.0)\n",
            "Installing collected packages: accelerate\n",
            "Successfully installed accelerate-0.20.3\n",
            "Requirement already satisfied: accelerate in /usr/local/lib/python3.10/dist-packages (0.20.3)\n",
            "Requirement already satisfied: numpy>=1.17 in /usr/local/lib/python3.10/dist-packages (from accelerate) (1.22.4)\n",
            "Requirement already satisfied: packaging>=20.0 in /usr/local/lib/python3.10/dist-packages (from accelerate) (23.1)\n",
            "Requirement already satisfied: psutil in /usr/local/lib/python3.10/dist-packages (from accelerate) (5.9.5)\n",
            "Requirement already satisfied: pyyaml in /usr/local/lib/python3.10/dist-packages (from accelerate) (6.0)\n",
            "Requirement already satisfied: torch>=1.6.0 in /usr/local/lib/python3.10/dist-packages (from accelerate) (2.0.1+cu118)\n",
            "Requirement already satisfied: filelock in /usr/local/lib/python3.10/dist-packages (from torch>=1.6.0->accelerate) (3.12.2)\n",
            "Requirement already satisfied: typing-extensions in /usr/local/lib/python3.10/dist-packages (from torch>=1.6.0->accelerate) (4.6.3)\n",
            "Requirement already satisfied: sympy in /usr/local/lib/python3.10/dist-packages (from torch>=1.6.0->accelerate) (1.11.1)\n",
            "Requirement already satisfied: networkx in /usr/local/lib/python3.10/dist-packages (from torch>=1.6.0->accelerate) (3.1)\n",
            "Requirement already satisfied: jinja2 in /usr/local/lib/python3.10/dist-packages (from torch>=1.6.0->accelerate) (3.1.2)\n",
            "Requirement already satisfied: triton==2.0.0 in /usr/local/lib/python3.10/dist-packages (from torch>=1.6.0->accelerate) (2.0.0)\n",
            "Requirement already satisfied: cmake in /usr/local/lib/python3.10/dist-packages (from triton==2.0.0->torch>=1.6.0->accelerate) (3.25.2)\n",
            "Requirement already satisfied: lit in /usr/local/lib/python3.10/dist-packages (from triton==2.0.0->torch>=1.6.0->accelerate) (16.0.6)\n",
            "Requirement already satisfied: MarkupSafe>=2.0 in /usr/local/lib/python3.10/dist-packages (from jinja2->torch>=1.6.0->accelerate) (2.1.3)\n",
            "Requirement already satisfied: mpmath>=0.19 in /usr/local/lib/python3.10/dist-packages (from sympy->torch>=1.6.0->accelerate) (1.3.0)\n"
          ]
        }
      ],
      "source": [
        "!pip install fasttext\n",
        "!pip install transformers\n",
        "!pip install evaluate\n",
        "!pip install --upgrade accelerate\n",
        "!pip install accelerate -U\n",
        "import pandas as pd\n",
        "from sklearn.model_selection import train_test_split\n",
        "import fasttext\n",
        "from sklearn.feature_extraction.text import TfidfVectorizer\n",
        "import torch\n",
        "from torch import nn\n",
        "from torch.utils.data import DataLoader, Dataset\n",
        "import matplotlib.pyplot as plt\n",
        "import pickle\n",
        "import numpy as np\n",
        "from time import time\n",
        "from tqdm import tqdm\n",
        "from sklearn.metrics import recall_score, precision_score, f1_score, confusion_matrix, ConfusionMatrixDisplay\n",
        "from sklearn.utils import resample\n",
        "from transformers import BertTokenizer, BertForSequenceClassification, TrainingArguments, Trainer, AutoModelForSequenceClassification, AutoTokenizer, AutoModel\n",
        "import evaluate\n",
        "from sklearn.metrics import accuracy_score"
      ]
    },
    {
      "cell_type": "code",
      "execution_count": 2,
      "metadata": {
        "colab": {
          "base_uri": "https://localhost:8080/"
        },
        "execution": {
          "iopub.execute_input": "2023-06-25T00:25:19.808605Z",
          "iopub.status.busy": "2023-06-25T00:25:19.807761Z",
          "iopub.status.idle": "2023-06-25T00:25:35.410408Z",
          "shell.execute_reply": "2023-06-25T00:25:35.409113Z",
          "shell.execute_reply.started": "2023-06-25T00:25:19.808570Z"
        },
        "id": "FAm0zdagauPf",
        "outputId": "ba6dd985-2418-44ac-e2e1-8b60a42384a8",
        "trusted": true
      },
      "outputs": [
        {
          "name": "stdout",
          "output_type": "stream",
          "text": [
            "Requirement already satisfied: gdown in /usr/local/lib/python3.10/dist-packages (4.6.6)\n",
            "Requirement already satisfied: filelock in /usr/local/lib/python3.10/dist-packages (from gdown) (3.12.2)\n",
            "Requirement already satisfied: requests[socks] in /usr/local/lib/python3.10/dist-packages (from gdown) (2.27.1)\n",
            "Requirement already satisfied: six in /usr/local/lib/python3.10/dist-packages (from gdown) (1.16.0)\n",
            "Requirement already satisfied: tqdm in /usr/local/lib/python3.10/dist-packages (from gdown) (4.65.0)\n",
            "Requirement already satisfied: beautifulsoup4 in /usr/local/lib/python3.10/dist-packages (from gdown) (4.11.2)\n",
            "Requirement already satisfied: soupsieve>1.2 in /usr/local/lib/python3.10/dist-packages (from beautifulsoup4->gdown) (2.4.1)\n",
            "Requirement already satisfied: urllib3<1.27,>=1.21.1 in /usr/local/lib/python3.10/dist-packages (from requests[socks]->gdown) (1.26.16)\n",
            "Requirement already satisfied: certifi>=2017.4.17 in /usr/local/lib/python3.10/dist-packages (from requests[socks]->gdown) (2023.5.7)\n",
            "Requirement already satisfied: charset-normalizer~=2.0.0 in /usr/local/lib/python3.10/dist-packages (from requests[socks]->gdown) (2.0.12)\n",
            "Requirement already satisfied: idna<4,>=2.5 in /usr/local/lib/python3.10/dist-packages (from requests[socks]->gdown) (3.4)\n",
            "Requirement already satisfied: PySocks!=1.5.7,>=1.5.6 in /usr/local/lib/python3.10/dist-packages (from requests[socks]->gdown) (1.7.1)\n",
            "/usr/local/lib/python3.10/dist-packages/gdown/cli.py:121: FutureWarning: Option `--id` was deprecated in version 4.3.1 and will be removed in 5.0. You don't need to pass it anymore to use a file ID.\n",
            "  warnings.warn(\n",
            "Downloading...\n",
            "From: https://drive.google.com/uc?id=1BRhlDz-JASvfEljf_XxrL-ZH4gUvOg0v\n",
            "To: /content/data-train.csv\n",
            "100% 8.48M/8.48M [00:00<00:00, 230MB/s]\n"
          ]
        }
      ],
      "source": [
        "!pip install gdown\n",
        "!gdown --id 1BRhlDz-JASvfEljf_XxrL-ZH4gUvOg0v # data-train.csv\n",
        "# !gdown --id 1jdVascv6Y13CDTCQ04LqpcALqAWTi4a9 # total embeddings (large)"
      ]
    },
    {
      "attachments": {},
      "cell_type": "markdown",
      "metadata": {
        "id": "z_stskanauPh"
      },
      "source": [
        "<div dir=\"rtl\">\n",
        "<font face=\"XB Zar\" size=5>\n",
        "</font>\n",
        "<font face=\"XB Zar\" size=3>\n",
        "     <br>\n",
        "در این قسمت از fasttext کمک می‌گیریم تا به یک embedding اولیه برای هر نظر برسیم.\n",
        "    با استفاده از داده‌هایی که داریم یک مدل fasttext آموزش می دهیم که برای هر توکن یک امبدینگ ۱۰۰تایی بدهد.\n",
        "    در مرحله‌ی بعد میانگین وزن دار امبدینگ های fasttext\n",
        "        توکن‌های ورودی\n",
        "    را بر اساس tfidif آن‌ها محاسبه می کنیم و به امبدینگ نهایی متن می رسیم.\n",
        "    <br>\n",
        "    در واقع به عبارت ساده‌تر بر اساس میانگین وزن‌دار که وزن‌های ما tfidf توکن‌ها می‌باشد به امبدینگ نهایی متن بر اساس fasttext می‌رسیم.\n",
        "    </font>\n",
        "</div>"
      ]
    },
    {
      "attachments": {},
      "cell_type": "markdown",
      "metadata": {
        "id": "YhV4sMyUGcJw"
      },
      "source": [
        "<div>We can do this feature engineering but it barely reduce accuracy of kaggle and our test accuracy will be biased so the code below is not appropriate for our task and it is schematic of a kind of feature engineering:</div>"
      ]
    },
    {
      "cell_type": "code",
      "execution_count": null,
      "metadata": {
        "colab": {
          "base_uri": "https://localhost:8080/"
        },
        "id": "oqpOgoC2auPv",
        "outputId": "d8d8c356-0567-488b-c7a6-ddae045f1020"
      },
      "outputs": [
        {
          "name": "stdout",
          "output_type": "stream",
          "text": [
            "2    79064\n",
            "\n",
            "3    32714\n",
            "\n",
            "1    27084\n",
            "\n",
            "4     9160\n",
            "\n",
            "0     7026\n",
            "\n",
            "Name: Sentiment, dtype: int64\n",
            "\n",
            "4    7301\n",
            "\n",
            "3    7287\n",
            "\n",
            "2    7090\n",
            "\n",
            "0    7026\n",
            "\n",
            "1    7013\n",
            "\n",
            "Name: Sentiment, dtype: int64\n",
            "\n",
            "Train set size: 22858\n",
            "\n",
            "Validation set size: 5715\n",
            "\n",
            "Test set size: 7144\n"
          ]
        },
        {
          "name": "stderr",
          "output_type": "stream",
          "text": [
            "<ipython-input-3-58062c9abeb3>:13: UserWarning: Boolean Series key will be reindexed to match DataFrame index.\n",
            "\n",
            "  df = df[~rows_to_remove2]\n",
            "\n",
            "<ipython-input-3-58062c9abeb3>:14: UserWarning: Boolean Series key will be reindexed to match DataFrame index.\n",
            "\n",
            "  df = df[~rows_to_remove3]\n",
            "\n",
            "<ipython-input-3-58062c9abeb3>:15: UserWarning: Boolean Series key will be reindexed to match DataFrame index.\n",
            "\n",
            "  df = df[~rows_to_remove4]\n"
          ]
        }
      ],
      "source": [
        "df = pd.read_csv('data-train.csv')\n",
        "\n",
        "df = df.drop_duplicates(subset='Phrase')\n",
        "topic_counts = df['Sentiment'].value_counts()\n",
        "print(topic_counts)\n",
        "\n",
        "df['phrase_length'] = df['Phrase'].apply(lambda t: len(t.split()))\n",
        "rows_to_remove1 = (df['Sentiment'] == 2) & (df['phrase_length'] < 13)\n",
        "rows_to_remove2 = (df['Sentiment'] == 3) & (df['phrase_length'] < 13)\n",
        "rows_to_remove3 = (df['Sentiment'] == 1) & (df['phrase_length'] < 13)\n",
        "rows_to_remove4 = (df['Sentiment'] == 4) & (df['phrase_length'] < 4)\n",
        "df = df[~rows_to_remove1]\n",
        "df = df[~rows_to_remove2]\n",
        "df = df[~rows_to_remove3]\n",
        "df = df[~rows_to_remove4]\n",
        "\n",
        "topic_counts = df['Sentiment'].value_counts()\n",
        "print(topic_counts)\n",
        "\n",
        "X = df['Phrase'].values\n",
        "y = df['Sentiment'].values\n",
        "\n",
        "X_train, X_test, y_train, y_test = train_test_split(X, y, test_size=0.2, random_state=42)\n",
        "X_train, X_val, y_train, y_val = train_test_split(X_train, y_train, test_size=0.2, random_state=42)\n",
        "\n",
        "print(\"Train set size:\", len(X_train))\n",
        "print(\"Validation set size:\", len(X_val))\n",
        "print(\"Test set size:\", len(X_test))"
      ]
    },
    {
      "attachments": {},
      "cell_type": "markdown",
      "metadata": {
        "id": "lrgxYdBvG3ba"
      },
      "source": [
        "<div></div>"
      ]
    },
    {
      "cell_type": "code",
      "execution_count": null,
      "metadata": {},
      "outputs": [],
      "source": [
        "def preprocess_text(text, minimum_length=1, stopword_removal=True, stopwords_domain=[], lower_case=True,\n",
        "                       punctuation_removal=True):\n",
        "    \"\"\"\n",
        "    preprocess text by removing stopwords, punctuations, and converting to lowercase, and also filter based on a min length\n",
        "    for stopwords use nltk.corpus.stopwords.words('english')\n",
        "    for punctuations use string.punctuation\n",
        "\n",
        "    Parameters\n",
        "    ----------\n",
        "    text: str\n",
        "        text to be preprocessed\n",
        "    minimum_length: int\n",
        "        minimum length of the token\n",
        "    stopword_removal: bool\n",
        "        whether to remove stopwords\n",
        "    stopwords_domain: list\n",
        "        list of stopwords to be removed base on domain\n",
        "    lower_case: bool\n",
        "        whether to convert to lowercase\n",
        "    punctuation_removal: bool\n",
        "        whether to remove punctuations\n",
        "    \"\"\"\n",
        "    normalized_tokens = word_tokenize(text)\n",
        "\n",
        "    if stopword_removal:\n",
        "        stopwords = [x.lower() for x in nltk.corpus.stopwords.words('english')]\n",
        "        normalized_tokens = [word for word in normalized_tokens if word.lower() not in stopwords]\n",
        "\n",
        "    if punctuation_removal:\n",
        "        normalized_tokens = [word for word in normalized_tokens if word not in string.punctuation]\n",
        "\n",
        "    if lower_case:\n",
        "        normalized_tokens = [word.lower() for word in normalized_tokens if len(word) > minimum_length]\n",
        "    else:\n",
        "        normalized_tokens = [word for word in normalized_tokens if len(word) > minimum_length]\n",
        "\n",
        "    return normalized_tokens"
      ]
    },
    {
      "cell_type": "code",
      "execution_count": 9,
      "metadata": {
        "colab": {
          "base_uri": "https://localhost:8080/"
        },
        "id": "TIZN5jDzG2pM",
        "outputId": "70bcf7f1-bdcf-4a0b-b847-15e89ec5d18d"
      },
      "outputs": [
        {
          "name": "stdout",
          "output_type": "stream",
          "text": [
            "2    79064\n",
            "3    32714\n",
            "1    27084\n",
            "4     9160\n",
            "0     7026\n",
            "Name: Sentiment, dtype: int64\n",
            "Train set size: 99230\n",
            "Validation set size: 24808\n",
            "Test set size: 31010\n"
          ]
        }
      ],
      "source": [
        "df = pd.read_csv('data-train.csv')\n",
        "\n",
        "df = df.drop_duplicates(subset='Phrase')\n",
        "topic_counts = df['Sentiment'].value_counts()\n",
        "print(topic_counts)\n",
        "\n",
        "X = df['Phrase'].values\n",
        "y = df['Sentiment'].values\n",
        "\n",
        "X_train, X_test, y_train, y_test = train_test_split(X, y, test_size=0.2, random_state=42)\n",
        "X_train, X_val, y_train, y_val = train_test_split(X_train, y_train, test_size=0.2, random_state=42)\n",
        "\n",
        "print(\"Train set size:\", len(X_train))\n",
        "print(\"Validation set size:\", len(X_val))\n",
        "print(\"Test set size:\", len(X_test))"
      ]
    },
    {
      "cell_type": "code",
      "execution_count": 10,
      "metadata": {
        "colab": {
          "base_uri": "https://localhost:8080/",
          "height": 35
        },
        "id": "7Jkn16y-auPw",
        "outputId": "f33cb8e0-462c-4c40-d11c-8b8df85133bf"
      },
      "outputs": [
        {
          "data": {
            "application/vnd.google.colaboratory.intrinsic+json": {
              "type": "string"
            },
            "text/plain": [
              "'A series of escapades demonstrating the adage that what is good for the goose is also good for the gander , some of which occasionally amuses but none of which amounts to much of a story .'"
            ]
          },
          "execution_count": 10,
          "metadata": {},
          "output_type": "execute_result"
        }
      ],
      "source": [
        "X[0]"
      ]
    },
    {
      "cell_type": "code",
      "execution_count": 11,
      "metadata": {
        "execution": {
          "iopub.execute_input": "2023-06-24T23:26:39.690864Z",
          "iopub.status.busy": "2023-06-24T23:26:39.690489Z",
          "iopub.status.idle": "2023-06-24T23:26:39.703781Z",
          "shell.execute_reply": "2023-06-24T23:26:39.702489Z",
          "shell.execute_reply.started": "2023-06-24T23:26:39.690827Z"
        },
        "id": "NmE24-sJauPx",
        "trusted": true
      },
      "outputs": [],
      "source": [
        "KAGGLE_RUN = 0\n",
        "COLAB_RUN = 1\n",
        "if COLAB_RUN:\n",
        "  PATH = \"\"\n",
        "else:\n",
        "    PATH = \"/kaggle/working\""
      ]
    },
    {
      "cell_type": "code",
      "execution_count": 12,
      "metadata": {
        "id": "zJEH0h73auPx"
      },
      "outputs": [],
      "source": [
        "class FastText:\n",
        "\n",
        "    def __init__(self, preprocessor=None, method='skipgram'):\n",
        "        self.method = method\n",
        "        self.model = None\n",
        "        self.preprocessor = preprocessor\n",
        "\n",
        "    def train_fasttext(self, corpus_file):\n",
        "        model = fasttext.train_unsupervised(corpus_file, dim=100, model='skipgram', thread=1)\n",
        "        return model\n",
        "\n",
        "    def train(self, texts):\n",
        "        \"\"\"\n",
        "        train the fasttext model and save it into self.model\n",
        "        Parameters\n",
        "        ----------\n",
        "        texts: list of list of str\n",
        "        \"\"\"\n",
        "        with open(\"corpus.txt\", 'w') as file:\n",
        "            for doc_text in texts:\n",
        "                file.write(doc_text + '\\n')\n",
        "        self.model = self.train_fasttext(\"corpus.txt\")\n",
        "\n",
        "    def get_query_embedding(self, query, tf_idf_vectorizer):\n",
        "        \"\"\"\n",
        "        get the embedding of the query. using the tf_idf_vectorizer to get the weights of the words in the query. preprocess the query using self.preprocessor if it is not None\n",
        "        Parameters\n",
        "        ----------\n",
        "        query: str\n",
        "        tf_idf_vectorizer: TfidfVectorizer\n",
        "        Returns embedding of the query\n",
        "        \"\"\"\n",
        "        if self.preprocessor is not None:\n",
        "            query = self.preprocessor(query)\n",
        "\n",
        "        query_vector = tf_idf_vectorizer.transform([query])\n",
        "\n",
        "        query_embeddings = []\n",
        "        total_tf_idf_weight = 0\n",
        "        feature_names = tf_idf_vectorizer.get_feature_names_out()\n",
        "        for word_idx in query_vector.indices:\n",
        "            word = feature_names[word_idx]\n",
        "            tfidf_weight = query_vector[0, word_idx]\n",
        "            embedding = self.model.get_sentence_vector(word)\n",
        "            query_embeddings.append(embedding*tfidf_weight)\n",
        "            total_tf_idf_weight += tfidf_weight\n",
        "\n",
        "        if len(query_embeddings) == 0:\n",
        "           return None\n",
        "        query_embed = sum(query_embeddings) / total_tf_idf_weight\n",
        "        return query_embed\n",
        "\n",
        "    def save_FastText_model(self, path=PATH+'FastText_model.bin'):\n",
        "        self.model.save_model(path)\n",
        "\n",
        "    def load_FastText_model(self, path=PATH+\"FastText_model.bin\"):\n",
        "            self.model = fasttext.load_model(path)\n",
        "\n",
        "    def prepare(self, dataset, mode, save=False):\n",
        "        if mode == 'train':\n",
        "            self.train(dataset)\n",
        "        if mode == 'load':\n",
        "            self.load_FastText_model()\n",
        "        if save:\n",
        "            self.save_FastText_model()"
      ]
    },
    {
      "cell_type": "code",
      "execution_count": 13,
      "metadata": {
        "id": "CqGO7HTIauPy"
      },
      "outputs": [],
      "source": [
        "FastText_model = FastText()\n",
        "FastText_model.prepare(np.concatenate((X_train, X_val), axis=0), mode='train', save=True)"
      ]
    },
    {
      "cell_type": "code",
      "execution_count": null,
      "metadata": {
        "id": "-R1DtQ3_auPz"
      },
      "outputs": [],
      "source": [
        "FastText_model = FastText()\n",
        "FastText_model.prepare(X, mode='load') # X is not important it just load"
      ]
    },
    {
      "cell_type": "code",
      "execution_count": 14,
      "metadata": {
        "colab": {
          "base_uri": "https://localhost:8080/"
        },
        "id": "c5wMM0TQauP0",
        "outputId": "462b6640-c760-4169-99ac-3ec538a26eb8"
      },
      "outputs": [
        {
          "data": {
            "text/plain": [
              "[(0.9571107625961304, 'Filmmaker'),\n",
              " (0.8954034447669983, 'filmmakers'),\n",
              " (0.8323990106582642, 'Filmmakers'),\n",
              " (0.8219836354255676, 'maker'),\n",
              " (0.8183867335319519, 'Widowmaker'),\n",
              " (0.8180163502693176, 'filmmaking'),\n",
              " (0.7613285779953003, 'moviemaker'),\n",
              " (0.7247695326805115, 'film'),\n",
              " (0.6816705465316772, 'Whitaker'),\n",
              " (0.6722875237464905, 'Baker')]"
            ]
          },
          "execution_count": 14,
          "metadata": {},
          "output_type": "execute_result"
        }
      ],
      "source": [
        "text = 'filmmaker'\n",
        "FastText_model.model.get_nearest_neighbors(text)"
      ]
    },
    {
      "cell_type": "code",
      "execution_count": 15,
      "metadata": {
        "id": "flEL5KYYauP1"
      },
      "outputs": [],
      "source": [
        "class TF_IDF:\n",
        "\n",
        "    def __init__(self):\n",
        "        self.vectorizer = TfidfVectorizer()\n",
        "\n",
        "    def fit_vectorizer(self, data):\n",
        "        \"\"\"\n",
        "        fit the vectorizer on the data\n",
        "        Parameters\n",
        "        ----------\n",
        "        data: list of list of str\n",
        "        \"\"\"\n",
        "        self.vectorizer.fit(data)"
      ]
    },
    {
      "cell_type": "code",
      "execution_count": 16,
      "metadata": {
        "id": "LsqFD5llauP1"
      },
      "outputs": [],
      "source": [
        "TF_IDF_model = TF_IDF()\n",
        "TF_IDF_model.fit_vectorizer(np.concatenate((X_train, X_val), axis=0))"
      ]
    },
    {
      "cell_type": "code",
      "execution_count": 17,
      "metadata": {
        "colab": {
          "base_uri": "https://localhost:8080/"
        },
        "id": "oUPfRfUuauP1",
        "outputId": "04e0e1a3-d548-43bf-b47f-3f1d8035a4c8"
      },
      "outputs": [
        {
          "name": "stdout",
          "output_type": "stream",
          "text": [
            "[-0.0175683  -0.05075959 -0.04655918  0.02370078  0.17468354 -0.04192305\n",
            " -0.07108051 -0.09135047 -0.03040291  0.13150744 -0.00773409  0.03174071\n",
            " -0.05552308 -0.01567124  0.01584682  0.07651385 -0.02176052 -0.0043556\n",
            " -0.04306502 -0.01256169 -0.02655373  0.04320953  0.04439824  0.02879911\n",
            " -0.03671648 -0.0081905   0.0671249  -0.125997   -0.0952822   0.00984657\n",
            "  0.02211099 -0.02201249 -0.04809056 -0.06255992 -0.1593283  -0.11429734\n",
            "  0.02620865 -0.03811052  0.01584379  0.11576615 -0.0458205   0.09378083\n",
            "  0.01835918  0.0577494   0.07291764 -0.04468565  0.01644262  0.13376845\n",
            "  0.02755518  0.07325929 -0.11079513  0.0185699   0.03593416  0.03250759\n",
            "  0.00424216 -0.02624241 -0.02313476  0.02592382 -0.04004644  0.00733271\n",
            "  0.01993223  0.07004878  0.1836217   0.07999543 -0.11743205  0.026768\n",
            " -0.00443194  0.11008079  0.01296073 -0.05213154 -0.00800286  0.07914153\n",
            " -0.02060326 -0.01564295 -0.12856068  0.12346449  0.10818127 -0.01814982\n",
            " -0.05014098 -0.01182928 -0.03022019 -0.02517278  0.03531887 -0.10271595\n",
            "  0.10618278 -0.01446165 -0.02482734  0.19284588  0.00646644 -0.0748859\n",
            "  0.08572437 -0.06097092  0.13070798 -0.13523284 -0.03284301 -0.08939946\n",
            "  0.04067443  0.14425065 -0.04720674  0.10957626]\n"
          ]
        }
      ],
      "source": [
        "text =  \"this movie is awesome\"\n",
        "TF_IDF_model.vectorizer.transform([text])\n",
        "print(FastText_model.get_query_embedding(text, TF_IDF_model.vectorizer))"
      ]
    },
    {
      "cell_type": "code",
      "execution_count": 18,
      "metadata": {
        "id": "RrXvlmEIauP2"
      },
      "outputs": [],
      "source": [
        "X_train = [FastText_model.get_query_embedding(X_train[i], TF_IDF_model.vectorizer) for i in range(len(X_train))]\n",
        "X_val = [FastText_model.get_query_embedding(X_val[i], TF_IDF_model.vectorizer) for i in range(len(X_val))]\n",
        "X_test = [FastText_model.get_query_embedding(X_test[i], TF_IDF_model.vectorizer) for i in range(len(X_test))]"
      ]
    },
    {
      "cell_type": "code",
      "execution_count": 19,
      "metadata": {
        "id": "KRogt94PauP2"
      },
      "outputs": [],
      "source": [
        "x_train_bad_data_indices = [index for index, value in enumerate(X_train) if value is None]\n",
        "x_val_bad_data_indices = [index for index, value in enumerate(X_val) if value is None]\n",
        "x_test_bad_data_indices = [index for index, value in enumerate(X_test) if value is None]\n",
        "X_train, y_train = [X_train[i] for i in range(len(X_train)) if i not in x_train_bad_data_indices], [y_train[i] for i in range(len(X_train)) if i not in x_train_bad_data_indices]\n",
        "X_val, y_val = [X_val[i] for i in range(len(X_val)) if i not in x_val_bad_data_indices], [y_val[i] for i in range(len(y_val)) if i not in x_val_bad_data_indices]\n",
        "X_test, y_test = [X_test[i] for i in range(len(X_test)) if i not in x_test_bad_data_indices], [y_test[i] for i in range(len(y_test)) if i not in x_test_bad_data_indices]"
      ]
    },
    {
      "cell_type": "code",
      "execution_count": 20,
      "metadata": {
        "colab": {
          "base_uri": "https://localhost:8080/"
        },
        "id": "2zjc-geLauP2",
        "outputId": "841ed444-078e-47b3-c9ac-11ee7cc58afb"
      },
      "outputs": [
        {
          "name": "stdout",
          "output_type": "stream",
          "text": [
            "99126 24786 30977\n"
          ]
        }
      ],
      "source": [
        "print(len(X_train), len(X_val), len(X_test))"
      ]
    },
    {
      "cell_type": "code",
      "execution_count": 21,
      "metadata": {
        "id": "v1Scg990auP2"
      },
      "outputs": [],
      "source": [
        "class PapersDataSet(Dataset):\n",
        "    def __init__(self, embeddings: list, labels: list):\n",
        "        self.embeddings = embeddings\n",
        "        self.labels = labels\n",
        "\n",
        "    def __len__(self):\n",
        "        return len(self.embeddings)\n",
        "\n",
        "    def __getitem__(self, index):\n",
        "        embedding = self.embeddings[index]\n",
        "        label = self.labels[index]\n",
        "        return embedding, label"
      ]
    },
    {
      "cell_type": "code",
      "execution_count": 22,
      "metadata": {
        "id": "5X07fJKNauP3"
      },
      "outputs": [],
      "source": [
        "train_dataset = PapersDataSet(X_train, y_train)\n",
        "val_dataset = PapersDataSet(X_val, y_val)\n",
        "test_dataset = PapersDataSet(X_test, y_test)\n",
        "\n",
        "batch_size = 32\n",
        "\n",
        "train_loader = DataLoader(train_dataset, batch_size=batch_size, shuffle=True)\n",
        "val_loader = DataLoader(val_dataset, batch_size=batch_size)\n",
        "test_loader = DataLoader(test_dataset, batch_size=batch_size)"
      ]
    },
    {
      "cell_type": "code",
      "execution_count": 23,
      "metadata": {
        "id": "rb_X0FvaauP3"
      },
      "outputs": [],
      "source": [
        "class ClassifierModel(nn.Module):\n",
        "    def __init__(self, in_features=100, num_classes=5):\n",
        "        super(ClassifierModel, self).__init__()\n",
        "        self.fc1 = nn.Linear(in_features, 128)\n",
        "        self.bn1 = nn.BatchNorm1d(128)\n",
        "        self.relu1 = nn.ReLU()\n",
        "        self.fc2 = nn.Linear(128, 64)\n",
        "        self.bn2 = nn.BatchNorm1d(64)\n",
        "        self.relu2 = nn.ReLU()\n",
        "        self.fc3 = nn.Linear(64, 32)\n",
        "        self.bn3 = nn.BatchNorm1d(32)\n",
        "        self.relu3 = nn.ReLU()\n",
        "        self.fc4 = nn.Linear(32, num_classes)\n",
        "        self.bn4 = nn.BatchNorm1d(num_classes)\n",
        "        self.relu4 = nn.ReLU()\n",
        "\n",
        "    def forward(self, x):\n",
        "        out = self.relu1(self.bn1(self.fc1(x)))\n",
        "        out = self.relu2(self.bn2(self.fc2(out)))\n",
        "        out = self.relu3(self.bn3(self.fc3(out)))\n",
        "        out = self.relu4(self.bn4(self.fc4(out)))\n",
        "        return out"
      ]
    },
    {
      "cell_type": "code",
      "execution_count": 24,
      "metadata": {
        "id": "kopVcHNnauP4"
      },
      "outputs": [],
      "source": [
        "device = torch.device('cuda' if torch.cuda.is_available() else 'cpu')\n",
        "model = ClassifierModel().to(device)\n",
        "\n",
        "criterion = nn.CrossEntropyLoss()\n",
        "learning_rate = 0.001\n",
        "optimizer = torch.optim.Adam(model.parameters(), lr=learning_rate)"
      ]
    },
    {
      "cell_type": "code",
      "execution_count": 25,
      "metadata": {
        "colab": {
          "base_uri": "https://localhost:8080/"
        },
        "id": "RZVTVeTYauP4",
        "outputId": "796d3b4a-2b9e-4b32-fb9b-be24a22c2634"
      },
      "outputs": [
        {
          "data": {
            "text/plain": [
              "device(type='cuda')"
            ]
          },
          "execution_count": 25,
          "metadata": {},
          "output_type": "execute_result"
        }
      ],
      "source": [
        "device"
      ]
    },
    {
      "cell_type": "code",
      "execution_count": 26,
      "metadata": {
        "id": "Z-1GykJWauP4"
      },
      "outputs": [],
      "source": [
        "def eval_epoch(model: nn.Module, criterion: nn.Module, dataloader: torch.utils.data.DataLoader, test_mode=False):\n",
        "    \"\"\"\n",
        "    Evaluate the model on the given dataloader. used for validation and test\n",
        "    Parameters\n",
        "    ----------\n",
        "    model: nn.Module\n",
        "    criterion: nn.Module\n",
        "    dataloader: torch.utils.data.DataLoader\n",
        "    test_mode: bool\n",
        "        If True, the function will print 'Test' instead of 'Validation'\n",
        "    Returns\n",
        "    -------\n",
        "    eval_loss: float\n",
        "        The loss on the given dataloader\n",
        "    predicted_labels: list\n",
        "        The predicted labels\n",
        "    true_labels: list\n",
        "        The true labels\n",
        "    f1_score_micro: float\n",
        "        The f1 score on the given dataloader\n",
        "    \"\"\"\n",
        "    eval_loss = 0.0\n",
        "    predicted_labels = []\n",
        "    true_labels = []\n",
        "\n",
        "    model.eval()\n",
        "\n",
        "    with torch.no_grad():\n",
        "        for inputs, labels in dataloader:\n",
        "            inputs = inputs.to(device)\n",
        "            labels = labels.to(device)\n",
        "\n",
        "            outputs = model(inputs)\n",
        "            loss = criterion(outputs, labels)\n",
        "            eval_loss += loss.item() * inputs.size(0)\n",
        "\n",
        "            _, predicted = torch.max(outputs, 1)\n",
        "            predicted_labels.extend(predicted.cpu().tolist())\n",
        "            true_labels.extend(labels.cpu().tolist())\n",
        "\n",
        "    f1_score_micro = f1_score(true_labels, predicted_labels, average='micro')\n",
        "\n",
        "    return eval_loss, predicted_labels, true_labels, f1_score_micro"
      ]
    },
    {
      "cell_type": "code",
      "execution_count": 31,
      "metadata": {
        "colab": {
          "base_uri": "https://localhost:8080/"
        },
        "id": "mzpvf0peauP5",
        "outputId": "b3231d0c-4333-4a77-c9e7-113c9bc974b7"
      },
      "outputs": [
        {
          "name": "stderr",
          "output_type": "stream",
          "text": [
            "Train Loss: 90287.7596: 100%|██████████| 3098/3098 [00:20<00:00, 151.73it/s]\n"
          ]
        },
        {
          "name": "stdout",
          "output_type": "stream",
          "text": [
            "Epoch 1 finished in 21.14s\n",
            "[Epoch 1]\tTrain Loss: 0.9108\tValidation Loss: 0.9748\t F1 score micro: 0.6019123698862261\n"
          ]
        },
        {
          "name": "stderr",
          "output_type": "stream",
          "text": [
            "Train Loss: 90031.4444: 100%|██████████| 3098/3098 [00:17<00:00, 179.92it/s]\n"
          ]
        },
        {
          "name": "stdout",
          "output_type": "stream",
          "text": [
            "Epoch 2 finished in 17.96s\n",
            "[Epoch 2]\tTrain Loss: 0.9083\tValidation Loss: 0.9717\t F1 score micro: 0.6028403130799646\n"
          ]
        },
        {
          "name": "stderr",
          "output_type": "stream",
          "text": [
            "Train Loss: 89845.4967: 100%|██████████| 3098/3098 [00:17<00:00, 175.42it/s]\n"
          ]
        },
        {
          "name": "stdout",
          "output_type": "stream",
          "text": [
            "Epoch 3 finished in 18.53s\n",
            "[Epoch 3]\tTrain Loss: 0.9064\tValidation Loss: 0.9698\t F1 score micro: 0.6038892923424514\n"
          ]
        },
        {
          "name": "stderr",
          "output_type": "stream",
          "text": [
            "Train Loss: 89361.3878: 100%|██████████| 3098/3098 [00:17<00:00, 175.25it/s]\n"
          ]
        },
        {
          "name": "stdout",
          "output_type": "stream",
          "text": [
            "Epoch 4 finished in 18.79s\n",
            "[Epoch 4]\tTrain Loss: 0.9015\tValidation Loss: 0.9717\t F1 score micro: 0.603687565561204\n"
          ]
        },
        {
          "name": "stderr",
          "output_type": "stream",
          "text": [
            "Train Loss: 89120.0997: 100%|██████████| 3098/3098 [00:17<00:00, 172.84it/s]\n"
          ]
        },
        {
          "name": "stdout",
          "output_type": "stream",
          "text": [
            "Epoch 5 finished in 18.67s\n",
            "[Epoch 5]\tTrain Loss: 0.8991\tValidation Loss: 0.9719\t F1 score micro: 0.6049786169611878\n"
          ]
        },
        {
          "name": "stderr",
          "output_type": "stream",
          "text": [
            "Train Loss: 89146.4863: 100%|██████████| 3098/3098 [00:17<00:00, 177.40it/s]\n"
          ]
        },
        {
          "name": "stdout",
          "output_type": "stream",
          "text": [
            "Epoch 6 finished in 18.20s\n",
            "[Epoch 6]\tTrain Loss: 0.8993\tValidation Loss: 0.9711\t F1 score micro: 0.6034858387799564\n"
          ]
        },
        {
          "name": "stderr",
          "output_type": "stream",
          "text": [
            "Train Loss: 88772.9784: 100%|██████████| 3098/3098 [00:17<00:00, 178.06it/s]\n"
          ]
        },
        {
          "name": "stdout",
          "output_type": "stream",
          "text": [
            "Epoch 7 finished in 18.14s\n",
            "[Epoch 7]\tTrain Loss: 0.8956\tValidation Loss: 0.9702\t F1 score micro: 0.6057451787299282\n"
          ]
        },
        {
          "name": "stderr",
          "output_type": "stream",
          "text": [
            "Train Loss: 88401.0888: 100%|██████████| 3098/3098 [00:17<00:00, 178.08it/s]\n"
          ]
        },
        {
          "name": "stdout",
          "output_type": "stream",
          "text": [
            "Epoch 8 finished in 18.13s\n",
            "[Epoch 8]\tTrain Loss: 0.8918\tValidation Loss: 0.9745\t F1 score micro: 0.607923827967401\n"
          ]
        },
        {
          "name": "stderr",
          "output_type": "stream",
          "text": [
            "Train Loss: 88357.9666: 100%|██████████| 3098/3098 [00:17<00:00, 179.27it/s]\n"
          ]
        },
        {
          "name": "stdout",
          "output_type": "stream",
          "text": [
            "Epoch 9 finished in 18.10s\n",
            "[Epoch 9]\tTrain Loss: 0.8914\tValidation Loss: 0.9689\t F1 score micro: 0.6078834826111514\n"
          ]
        },
        {
          "name": "stderr",
          "output_type": "stream",
          "text": [
            "Train Loss: 88112.1615: 100%|██████████| 3098/3098 [00:17<00:00, 176.28it/s]\n"
          ]
        },
        {
          "name": "stdout",
          "output_type": "stream",
          "text": [
            "Epoch 10 finished in 18.68s\n",
            "[Epoch 10]\tTrain Loss: 0.8889\tValidation Loss: 0.9719\t F1 score micro: 0.6038489469862018\n"
          ]
        },
        {
          "name": "stderr",
          "output_type": "stream",
          "text": [
            "Train Loss: 88115.8835: 100%|██████████| 3098/3098 [00:17<00:00, 172.68it/s]\n"
          ]
        },
        {
          "name": "stdout",
          "output_type": "stream",
          "text": [
            "Epoch 11 finished in 18.72s\n",
            "[Epoch 11]\tTrain Loss: 0.8889\tValidation Loss: 0.9687\t F1 score micro: 0.6048172355361898\n"
          ]
        },
        {
          "name": "stderr",
          "output_type": "stream",
          "text": [
            "Train Loss: 87850.7529: 100%|██████████| 3098/3098 [00:17<00:00, 176.12it/s]\n"
          ]
        },
        {
          "name": "stdout",
          "output_type": "stream",
          "text": [
            "Epoch 12 finished in 18.32s\n",
            "[Epoch 12]\tTrain Loss: 0.8863\tValidation Loss: 0.9691\t F1 score micro: 0.6064310497861696\n"
          ]
        },
        {
          "name": "stderr",
          "output_type": "stream",
          "text": [
            "Train Loss: 87624.7479: 100%|██████████| 3098/3098 [00:18<00:00, 165.04it/s]\n"
          ]
        },
        {
          "name": "stdout",
          "output_type": "stream",
          "text": [
            "Epoch 13 finished in 19.50s\n",
            "[Epoch 13]\tTrain Loss: 0.8840\tValidation Loss: 0.9677\t F1 score micro: 0.608085209392399\n"
          ]
        },
        {
          "name": "stderr",
          "output_type": "stream",
          "text": [
            "Train Loss: 87550.5427: 100%|██████████| 3098/3098 [00:17<00:00, 176.95it/s]\n"
          ]
        },
        {
          "name": "stdout",
          "output_type": "stream",
          "text": [
            "Epoch 14 finished in 18.25s\n",
            "[Epoch 14]\tTrain Loss: 0.8832\tValidation Loss: 0.9713\t F1 score micro: 0.6040103284111998\n"
          ]
        },
        {
          "name": "stderr",
          "output_type": "stream",
          "text": [
            "Train Loss: 87369.1651: 100%|██████████| 3098/3098 [00:17<00:00, 175.79it/s]\n"
          ]
        },
        {
          "name": "stdout",
          "output_type": "stream",
          "text": [
            "Epoch 15 finished in 18.61s\n",
            "[Epoch 15]\tTrain Loss: 0.8814\tValidation Loss: 0.9653\t F1 score micro: 0.6055434519486808\n"
          ]
        },
        {
          "name": "stderr",
          "output_type": "stream",
          "text": [
            "Train Loss: 87101.1274: 100%|██████████| 3098/3098 [00:17<00:00, 175.03it/s]\n"
          ]
        },
        {
          "name": "stdout",
          "output_type": "stream",
          "text": [
            "Epoch 16 finished in 18.88s\n",
            "[Epoch 16]\tTrain Loss: 0.8787\tValidation Loss: 0.9684\t F1 score micro: 0.6071572661986605\n"
          ]
        },
        {
          "name": "stderr",
          "output_type": "stream",
          "text": [
            "Train Loss: 87212.6948: 100%|██████████| 3098/3098 [00:17<00:00, 176.48it/s]\n"
          ]
        },
        {
          "name": "stdout",
          "output_type": "stream",
          "text": [
            "Epoch 17 finished in 18.28s\n",
            "[Epoch 17]\tTrain Loss: 0.8798\tValidation Loss: 0.9647\t F1 score micro: 0.608246590817397\n"
          ]
        },
        {
          "name": "stderr",
          "output_type": "stream",
          "text": [
            "Train Loss: 87080.0392: 100%|██████████| 3098/3098 [00:17<00:00, 176.79it/s]\n"
          ]
        },
        {
          "name": "stdout",
          "output_type": "stream",
          "text": [
            "Epoch 18 finished in 18.26s\n",
            "[Epoch 18]\tTrain Loss: 0.8785\tValidation Loss: 0.9660\t F1 score micro: 0.6096183329298798\n"
          ]
        },
        {
          "name": "stderr",
          "output_type": "stream",
          "text": [
            "Train Loss: 86776.7248: 100%|██████████| 3098/3098 [00:17<00:00, 177.09it/s]\n"
          ]
        },
        {
          "name": "stdout",
          "output_type": "stream",
          "text": [
            "Epoch 19 finished in 18.24s\n",
            "[Epoch 19]\tTrain Loss: 0.8754\tValidation Loss: 0.9666\t F1 score micro: 0.607923827967401\n"
          ]
        },
        {
          "name": "stderr",
          "output_type": "stream",
          "text": [
            "Train Loss: 86647.6606: 100%|██████████| 3098/3098 [00:17<00:00, 172.82it/s]\n"
          ]
        },
        {
          "name": "stdout",
          "output_type": "stream",
          "text": [
            "Epoch 20 finished in 18.68s\n",
            "[Epoch 20]\tTrain Loss: 0.8741\tValidation Loss: 0.9630\t F1 score micro: 0.611595255386105\n"
          ]
        },
        {
          "name": "stderr",
          "output_type": "stream",
          "text": [
            "Train Loss: 86428.4995: 100%|██████████| 3098/3098 [00:17<00:00, 174.19it/s]\n"
          ]
        },
        {
          "name": "stdout",
          "output_type": "stream",
          "text": [
            "Epoch 21 finished in 18.67s\n",
            "[Epoch 21]\tTrain Loss: 0.8719\tValidation Loss: 0.9668\t F1 score micro: 0.6117162914548535\n"
          ]
        },
        {
          "name": "stderr",
          "output_type": "stream",
          "text": [
            "Train Loss: 86441.5293: 100%|██████████| 3098/3098 [00:17<00:00, 173.40it/s]\n"
          ]
        },
        {
          "name": "stdout",
          "output_type": "stream",
          "text": [
            "Epoch 22 finished in 18.97s\n",
            "[Epoch 22]\tTrain Loss: 0.8720\tValidation Loss: 0.9662\t F1 score micro: 0.6104655854111192\n"
          ]
        },
        {
          "name": "stderr",
          "output_type": "stream",
          "text": [
            "Train Loss: 86085.2353: 100%|██████████| 3098/3098 [00:17<00:00, 176.17it/s]\n"
          ]
        },
        {
          "name": "stdout",
          "output_type": "stream",
          "text": [
            "Epoch 23 finished in 18.63s\n",
            "[Epoch 23]\tTrain Loss: 0.8684\tValidation Loss: 0.9675\t F1 score micro: 0.608085209392399\n"
          ]
        },
        {
          "name": "stderr",
          "output_type": "stream",
          "text": [
            "Train Loss: 86178.3797: 100%|██████████| 3098/3098 [00:17<00:00, 173.60it/s]\n"
          ]
        },
        {
          "name": "stdout",
          "output_type": "stream",
          "text": [
            "Epoch 24 finished in 18.60s\n",
            "[Epoch 24]\tTrain Loss: 0.8694\tValidation Loss: 0.9652\t F1 score micro: 0.6096990236423787\n"
          ]
        },
        {
          "name": "stderr",
          "output_type": "stream",
          "text": [
            "Train Loss: 85819.4190: 100%|██████████| 3098/3098 [00:17<00:00, 175.66it/s]\n"
          ]
        },
        {
          "name": "stdout",
          "output_type": "stream",
          "text": [
            "Epoch 25 finished in 18.39s\n",
            "[Epoch 25]\tTrain Loss: 0.8658\tValidation Loss: 0.9749\t F1 score micro: 0.6063100137174211\n"
          ]
        },
        {
          "name": "stderr",
          "output_type": "stream",
          "text": [
            "Train Loss: 85971.7796: 100%|██████████| 3098/3098 [00:17<00:00, 173.42it/s]\n"
          ]
        },
        {
          "name": "stdout",
          "output_type": "stream",
          "text": [
            "Epoch 26 finished in 18.58s\n",
            "[Epoch 26]\tTrain Loss: 0.8673\tValidation Loss: 0.9674\t F1 score micro: 0.6073993383361576\n"
          ]
        },
        {
          "name": "stderr",
          "output_type": "stream",
          "text": [
            "Train Loss: 86206.3905: 100%|██████████| 3098/3098 [00:17<00:00, 175.99it/s]\n"
          ]
        },
        {
          "name": "stdout",
          "output_type": "stream",
          "text": [
            "Epoch 27 finished in 18.31s\n",
            "[Epoch 27]\tTrain Loss: 0.8697\tValidation Loss: 0.9719\t F1 score micro: 0.6053417251674332\n"
          ]
        },
        {
          "name": "stderr",
          "output_type": "stream",
          "text": [
            "Train Loss: 85615.4800: 100%|██████████| 3098/3098 [00:17<00:00, 179.06it/s]\n"
          ]
        },
        {
          "name": "stdout",
          "output_type": "stream",
          "text": [
            "Epoch 28 finished in 18.01s\n",
            "[Epoch 28]\tTrain Loss: 0.8637\tValidation Loss: 0.9685\t F1 score micro: 0.6081659001048979\n"
          ]
        },
        {
          "name": "stderr",
          "output_type": "stream",
          "text": [
            "Train Loss: 85798.8087: 100%|██████████| 3098/3098 [00:17<00:00, 176.94it/s]\n"
          ]
        },
        {
          "name": "stdout",
          "output_type": "stream",
          "text": [
            "Epoch 29 finished in 18.23s\n",
            "[Epoch 29]\tTrain Loss: 0.8656\tValidation Loss: 0.9700\t F1 score micro: 0.6061082869361737\n"
          ]
        },
        {
          "name": "stderr",
          "output_type": "stream",
          "text": [
            "Train Loss: 85436.3804: 100%|██████████| 3098/3098 [00:17<00:00, 176.72it/s]\n"
          ]
        },
        {
          "name": "stdout",
          "output_type": "stream",
          "text": [
            "Epoch 30 finished in 18.25s\n",
            "[Epoch 30]\tTrain Loss: 0.8619\tValidation Loss: 0.9699\t F1 score micro: 0.6063907044299202\n"
          ]
        }
      ],
      "source": [
        "\"\"\"\n",
        "Train the model for num_epochs epochs\n",
        "epoch_true and epoch_all are used to calculate the accuracy.\n",
        "epoch_true is the number of correct predictions and epoch_all is the total number of predictions in the epoch\n",
        "\"\"\"\n",
        "num_epochs = 30\n",
        "\n",
        "train_loss_arr, val_loss_arr = [], []\n",
        "f1_macro_scores_train, f1_macro_scores_val = [], []\n",
        "for epoch in range(num_epochs):\n",
        "    start_time = time()\n",
        "\n",
        "    train_loss, val_loss = 0, 0\n",
        "    epoch_all = 0\n",
        "    epoch_true = 0\n",
        "\n",
        "    model.train()\n",
        "\n",
        "    with tqdm(enumerate(train_loader), total=len(train_loader)) as pbar:\n",
        "        for i, (x, label) in pbar:\n",
        "            optimizer.zero_grad()\n",
        "            inputs = x.to(device)\n",
        "            labels = label.to(device)\n",
        "\n",
        "            optimizer.zero_grad()\n",
        "\n",
        "            outputs = model(inputs)\n",
        "            _, y_preds = torch.max(outputs, dim=1)\n",
        "            loss = criterion(outputs, labels)\n",
        "            loss.backward()\n",
        "            optimizer.step()\n",
        "\n",
        "            train_loss += loss.item() * inputs.size(0)\n",
        "\n",
        "            pbar.set_description(f'Train Loss: {train_loss:.4f}')\n",
        "\n",
        "    f1_score_micro_train = f1_score(labels.cpu(), y_preds.cpu().tolist(), average=\"micro\")\n",
        "\n",
        "    model.eval()\n",
        "\n",
        "    val_loss, predicted_labels, true_labels, f1_score_micro_val = eval_epoch(model, criterion, val_loader)\n",
        "\n",
        "    train_loss /= len(train_loader.dataset)\n",
        "    val_loss /= len(val_loader.dataset)\n",
        "    train_loss_arr.append(train_loss)\n",
        "    val_loss_arr.append(val_loss)\n",
        "    f1_macro_scores_train.append(f1_score_micro_train)\n",
        "    f1_macro_scores_val.append(f1_score_micro_val)\n",
        "\n",
        "    end_time = time()\n",
        "\n",
        "    print(f'Epoch {epoch + 1} finished in {end_time - start_time:.2f}s')\n",
        "\n",
        "    print(f\"[Epoch {epoch + 1}]\\t\"\n",
        "        f\"Train Loss: {train_loss:.4f}\\t\"\n",
        "        f\"Validation Loss: {val_loss:.4f}\\t F1 score micro: {f1_score_micro_val}\")"
      ]
    },
    {
      "cell_type": "code",
      "execution_count": 32,
      "metadata": {
        "colab": {
          "base_uri": "https://localhost:8080/",
          "height": 472
        },
        "id": "eyjsl5LqauP6",
        "outputId": "6ffdf3b3-2a54-4cda-c8ff-dade09ace8c7"
      },
      "outputs": [
        {
          "data": {
            "image/png": "[encoded data removed]",
            "text/plain": [
              "<Figure size 640x480 with 1 Axes>"
            ]
          },
          "metadata": {},
          "output_type": "display_data"
        }
      ],
      "source": [
        "plt.plot(range(1, num_epochs + 1), train_loss_arr, label='Train Loss')\n",
        "plt.plot(range(1, num_epochs + 1), val_loss_arr, label='Validation Loss')\n",
        "plt.xlabel('Epoch')\n",
        "plt.ylabel('Loss')\n",
        "plt.title('Training and Validation Loss')\n",
        "plt.legend()\n",
        "plt.show()"
      ]
    },
    {
      "cell_type": "code",
      "execution_count": 33,
      "metadata": {
        "colab": {
          "base_uri": "https://localhost:8080/"
        },
        "id": "7Ax6m9syaPTW",
        "outputId": "1622508e-0b79-450b-ef19-c67d25608ce3"
      },
      "outputs": [
        {
          "name": "stdout",
          "output_type": "stream",
          "text": [
            "Accuracy: 0.6069\n",
            "\n",
            "Loss: 29809.9774\n",
            "F1-Macro: 0.6069\n",
            "F1-Micro: 0.6069\n",
            "Confusion Matrix:\n",
            "[[  339   725   244    64    12]\n",
            " [  324  2510  2216   379    32]\n",
            " [  113  1644 12352  1516    78]\n",
            " [   40   489  2561  3002   465]\n",
            " [   11    96   225   944   596]]\n",
            "Macro-Average Precision: 0.5167\n",
            "Macro-Average Recall: 0.4535\n",
            "Micro-Average Precision: 0.6069\n",
            "Micro-Average Recall: 0.6069\n"
          ]
        }
      ],
      "source": [
        "model.eval()\n",
        "eval_loss, predicted_labels, true_labels, f1_score_macro = eval_epoch(model, criterion, test_loader, test_mode=True)\n",
        "\n",
        "accuracy = accuracy_score(true_labels, predicted_labels)\n",
        "\n",
        "f1_score_micro = f1_score(true_labels, predicted_labels, average='micro')\n",
        "\n",
        "confusion_mat = confusion_matrix(true_labels, predicted_labels)\n",
        "\n",
        "precision_macro = precision_score(true_labels, predicted_labels, average='macro')\n",
        "recall_macro = recall_score(true_labels, predicted_labels, average='macro')\n",
        "\n",
        "precision_micro = precision_score(true_labels, predicted_labels, average='micro')\n",
        "recall_micro = recall_score(true_labels, predicted_labels, average='micro')\n",
        "\n",
        "print(f\"Accuracy: {accuracy:.4f}\\n\")\n",
        "print(f\"Loss: {eval_loss:.4f}\")\n",
        "print(f\"F1-Macro: {f1_score_macro:.4f}\")\n",
        "print(f\"F1-Micro: {f1_score_micro:.4f}\")\n",
        "print(\"Confusion Matrix:\")\n",
        "print(confusion_mat)\n",
        "print(f\"Macro-Average Precision: {precision_macro:.4f}\")\n",
        "print(f\"Macro-Average Recall: {recall_macro:.4f}\")\n",
        "print(f\"Micro-Average Precision: {precision_micro:.4f}\")\n",
        "print(f\"Micro-Average Recall: {recall_micro:.4f}\")"
      ]
    },
    {
      "attachments": {},
      "cell_type": "markdown",
      "metadata": {
        "id": "ncOZYuy-OHlx"
      },
      "source": [
        "<div>accuracy with fasttext and neural network is 60% maximum, because the data is so challenging and sometime hard for experts to predict its sentiment score. but there is a better way to get a high accuracy result and it is pre-trained bert models that find a better embedding for the phrases and we will do this approach next</div>"
      ]
    },
    {
      "cell_type": "code",
      "execution_count": null,
      "metadata": {
        "execution": {
          "iopub.execute_input": "2023-06-25T00:25:35.413004Z",
          "iopub.status.busy": "2023-06-25T00:25:35.412335Z",
          "iopub.status.idle": "2023-06-25T00:25:35.419338Z",
          "shell.execute_reply": "2023-06-25T00:25:35.418131Z",
          "shell.execute_reply.started": "2023-06-25T00:25:35.412966Z"
        },
        "id": "17foc7_Fa_io",
        "trusted": true
      },
      "outputs": [],
      "source": [
        "from sklearn.metrics import accuracy_score"
      ]
    },
    {
      "cell_type": "code",
      "execution_count": null,
      "metadata": {
        "colab": {
          "base_uri": "https://localhost:8080/"
        },
        "execution": {
          "iopub.execute_input": "2023-06-25T00:25:35.423161Z",
          "iopub.status.busy": "2023-06-25T00:25:35.422887Z",
          "iopub.status.idle": "2023-06-25T00:25:35.663920Z",
          "shell.execute_reply": "2023-06-25T00:25:35.662887Z",
          "shell.execute_reply.started": "2023-06-25T00:25:35.423138Z"
        },
        "id": "YLk-CPkNtcrf",
        "outputId": "5b20561e-611f-4c96-ebd6-cc84917be6e0",
        "trusted": true
      },
      "outputs": [
        {
          "name": "stdout",
          "output_type": "stream",
          "text": [
            "2    79064\n",
            "3    32714\n",
            "1    27084\n",
            "4     9160\n",
            "0     7026\n",
            "Name: Sentiment, dtype: int64\n",
            "Train set size: 99230\n",
            "Validation set size: 24808\n",
            "Test set size: 31010\n"
          ]
        }
      ],
      "source": [
        "df = pd.read_csv('data-train.csv')\n",
        "\n",
        "df = df.drop_duplicates(subset='Phrase')\n",
        "topic_counts = df['Sentiment'].value_counts()\n",
        "print(topic_counts)\n",
        "\n",
        "X = df['Phrase'].values\n",
        "y = df['Sentiment'].values\n",
        "\n",
        "X_train_bert, X_test_bert, y_train_bert, y_test_bert = train_test_split(X, y, test_size=0.2, random_state=42)\n",
        "X_train_bert, X_val_bert, y_train_bert, y_val_bert = train_test_split(X_train_bert, y_train_bert, test_size=0.2, random_state=42)\n",
        "\n",
        "print(\"Train set size:\", len(X_train_bert))\n",
        "print(\"Validation set size:\", len(X_val_bert))\n",
        "print(\"Test set size:\", len(X_test_bert))"
      ]
    },
    {
      "cell_type": "code",
      "execution_count": null,
      "metadata": {
        "colab": {
          "base_uri": "https://localhost:8080/"
        },
        "execution": {
          "iopub.execute_input": "2023-06-25T00:25:35.665676Z",
          "iopub.status.busy": "2023-06-25T00:25:35.665318Z",
          "iopub.status.idle": "2023-06-25T00:25:35.739902Z",
          "shell.execute_reply": "2023-06-25T00:25:35.738873Z",
          "shell.execute_reply.started": "2023-06-25T00:25:35.665643Z"
        },
        "id": "OFcT1QYYyw3g",
        "outputId": "252e250f-6a55-4068-c2dd-97c7618a7ed0",
        "trusted": true
      },
      "outputs": [
        {
          "data": {
            "text/plain": [
              "device(type='cuda')"
            ]
          },
          "execution_count": 6,
          "metadata": {},
          "output_type": "execute_result"
        }
      ],
      "source": [
        "device = torch.device('cuda' if torch.cuda.is_available() else 'cpu')\n",
        "device"
      ]
    },
    {
      "cell_type": "code",
      "execution_count": null,
      "metadata": {
        "colab": {
          "base_uri": "https://localhost:8080/",
          "referenced_widgets": [
            "5639f59f32a94b889cabd5dc3dab2c1d",
            "b7e974176d2a4f6a83ad559f8859574c",
            "6eaafb251c88483980bc7a35c6dec139",
            "c585931bf3eb4149acf5423f4b5bd365"
          ]
        },
        "execution": {
          "iopub.execute_input": "2023-06-25T00:25:35.743022Z",
          "iopub.status.busy": "2023-06-25T00:25:35.741977Z",
          "iopub.status.idle": "2023-06-25T00:26:43.115619Z",
          "shell.execute_reply": "2023-06-25T00:26:43.114574Z",
          "shell.execute_reply.started": "2023-06-25T00:25:35.742988Z"
        },
        "id": "Z2_CWoTlauP6",
        "outputId": "e43ca5f8-9913-4eaa-fa56-47fa1272cd96",
        "trusted": true
      },
      "outputs": [
        {
          "data": {
            "application/vnd.jupyter.widget-view+json": {
              "model_id": "5639f59f32a94b889cabd5dc3dab2c1d",
              "version_major": 2,
              "version_minor": 0
            },
            "text/plain": [
              "Downloading (…)lve/main/config.json:   0%|          | 0.00/570 [00:00<?, ?B/s]"
            ]
          },
          "metadata": {},
          "output_type": "display_data"
        },
        {
          "data": {
            "application/vnd.jupyter.widget-view+json": {
              "model_id": "b7e974176d2a4f6a83ad559f8859574c",
              "version_major": 2,
              "version_minor": 0
            },
            "text/plain": [
              "Downloading model.safetensors:   0%|          | 0.00/440M [00:00<?, ?B/s]"
            ]
          },
          "metadata": {},
          "output_type": "display_data"
        },
        {
          "name": "stderr",
          "output_type": "stream",
          "text": [
            "Some weights of the model checkpoint at bert-base-uncased were not used when initializing BertForSequenceClassification: ['cls.predictions.transform.dense.bias', 'cls.predictions.transform.dense.weight', 'cls.predictions.bias', 'cls.seq_relationship.bias', 'cls.predictions.transform.LayerNorm.weight', 'cls.predictions.transform.LayerNorm.bias', 'cls.seq_relationship.weight']\n",
            "- This IS expected if you are initializing BertForSequenceClassification from the checkpoint of a model trained on another task or with another architecture (e.g. initializing a BertForSequenceClassification model from a BertForPreTraining model).\n",
            "- This IS NOT expected if you are initializing BertForSequenceClassification from the checkpoint of a model that you expect to be exactly identical (initializing a BertForSequenceClassification model from a BertForSequenceClassification model).\n",
            "Some weights of BertForSequenceClassification were not initialized from the model checkpoint at bert-base-uncased and are newly initialized: ['classifier.bias', 'classifier.weight']\n",
            "You should probably TRAIN this model on a down-stream task to be able to use it for predictions and inference.\n"
          ]
        },
        {
          "data": {
            "application/vnd.jupyter.widget-view+json": {
              "model_id": "6eaafb251c88483980bc7a35c6dec139",
              "version_major": 2,
              "version_minor": 0
            },
            "text/plain": [
              "Downloading (…)solve/main/vocab.txt: 0.00B [00:00, ?B/s]"
            ]
          },
          "metadata": {},
          "output_type": "display_data"
        },
        {
          "data": {
            "application/vnd.jupyter.widget-view+json": {
              "model_id": "c585931bf3eb4149acf5423f4b5bd365",
              "version_major": 2,
              "version_minor": 0
            },
            "text/plain": [
              "Downloading (…)okenizer_config.json:   0%|          | 0.00/28.0 [00:00<?, ?B/s]"
            ]
          },
          "metadata": {},
          "output_type": "display_data"
        },
        {
          "name": "stdout",
          "output_type": "stream",
          "text": [
            "Using tokenizer on all texts. This can take a while...\n",
            "Texts padded or truncated to 71 length!\n",
            "Using tokenizer on all texts. This can take a while...\n",
            "Texts padded or truncated to 78 length!\n"
          ]
        }
      ],
      "source": [
        "MODEL_NAME = \"bert-base-uncased\"\n",
        "\n",
        "model_bert = BertForSequenceClassification.from_pretrained(MODEL_NAME, num_labels=5)\n",
        "\n",
        "tokenizer = BertTokenizer.from_pretrained(MODEL_NAME)\n",
        "\n",
        "class CustomDataset(torch.utils.data.Dataset):\n",
        "    def __init__(self, tokenizer, texts, labels):\n",
        "        self.n_examples = len(labels)\n",
        "\n",
        "        print('Using tokenizer on all texts. This can take a while...')\n",
        "        self.inputs = tokenizer(texts, add_special_tokens=True, truncation=True, padding=True, return_tensors='pt').to(device)\n",
        "\n",
        "        self.sequence_len = self.inputs['input_ids'].shape[-1]\n",
        "        print('Texts padded or truncated to %d length!' % self.sequence_len)\n",
        "\n",
        "        self.inputs.update({'labels':torch.tensor(labels).to(device)})\n",
        "\n",
        "        return\n",
        "\n",
        "    def __getitem__(self, idx):\n",
        "        return {key: self.inputs[key][idx] for key in self.inputs.keys()}\n",
        "\n",
        "    def __len__(self):\n",
        "        return self.n_examples\n",
        "\n",
        "train_dataset = CustomDataset(tokenizer, X_train_bert.tolist(), y_train_bert)\n",
        "val_dataset = CustomDataset(tokenizer, X_val_bert.tolist(), y_val_bert)"
      ]
    },
    {
      "cell_type": "code",
      "execution_count": null,
      "metadata": {
        "colab": {
          "base_uri": "https://localhost:8080/",
          "height": 321,
          "referenced_widgets": [
            "600248e349ad4b219319300c37bd2330"
          ]
        },
        "execution": {
          "iopub.execute_input": "2023-06-25T00:26:43.118066Z",
          "iopub.status.busy": "2023-06-25T00:26:43.117088Z",
          "iopub.status.idle": "2023-06-25T00:45:28.628420Z",
          "shell.execute_reply": "2023-06-25T00:45:28.627303Z",
          "shell.execute_reply.started": "2023-06-25T00:26:43.118030Z"
        },
        "id": "bwaOn0Q5r85z",
        "outputId": "37a67590-7ac0-42f7-a761-dc2109922886",
        "trusted": true
      },
      "outputs": [
        {
          "data": {
            "application/vnd.jupyter.widget-view+json": {
              "model_id": "600248e349ad4b219319300c37bd2330",
              "version_major": 2,
              "version_minor": 0
            },
            "text/plain": [
              "Downloading builder script: 0.00B [00:00, ?B/s]"
            ]
          },
          "metadata": {},
          "output_type": "display_data"
        },
        {
          "name": "stderr",
          "output_type": "stream",
          "text": [
            "/opt/conda/lib/python3.10/site-packages/transformers/optimization.py:411: FutureWarning: This implementation of AdamW is deprecated and will be removed in a future version. Use the PyTorch implementation torch.optim.AdamW instead, or set `no_deprecation_warning=True` to disable this warning\n",
            "  warnings.warn(\n",
            "\u001b[34m\u001b[1mwandb\u001b[0m: Logging into wandb.ai. (Learn how to deploy a W&B server locally: https://wandb.me/wandb-server)\n",
            "\u001b[34m\u001b[1mwandb\u001b[0m: You can find your API key in your browser here: https://wandb.ai/authorize\n",
            "\u001b[34m\u001b[1mwandb\u001b[0m: Paste an API key from your profile and hit enter, or press ctrl+c to quit:"
          ]
        },
        {
          "name": "stdout",
          "output_type": "stream",
          "text": [
            "  ········································\n"
          ]
        },
        {
          "name": "stderr",
          "output_type": "stream",
          "text": [
            "\u001b[34m\u001b[1mwandb\u001b[0m: Appending key for api.wandb.ai to your netrc file: /root/.netrc\n"
          ]
        },
        {
          "data": {
            "text/html": [
              "Tracking run with wandb version 0.15.4"
            ],
            "text/plain": [
              "<IPython.core.display.HTML object>"
            ]
          },
          "metadata": {},
          "output_type": "display_data"
        },
        {
          "data": {
            "text/html": [
              "Run data is saved locally in <code>/kaggle/working/wandb/run-20230625_002703-pnwxacf2</code>"
            ],
            "text/plain": [
              "<IPython.core.display.HTML object>"
            ]
          },
          "metadata": {},
          "output_type": "display_data"
        },
        {
          "data": {
            "text/html": [
              "Syncing run <strong><a href='https://wandb.ai/agharezasharif/huggingface/runs/pnwxacf2' target=\"_blank\">winter-shape-7</a></strong> to <a href='https://wandb.ai/agharezasharif/huggingface' target=\"_blank\">Weights & Biases</a> (<a href='https://wandb.me/run' target=\"_blank\">docs</a>)<br/>"
            ],
            "text/plain": [
              "<IPython.core.display.HTML object>"
            ]
          },
          "metadata": {},
          "output_type": "display_data"
        },
        {
          "data": {
            "text/html": [
              " View project at <a href='https://wandb.ai/agharezasharif/huggingface' target=\"_blank\">https://wandb.ai/agharezasharif/huggingface</a>"
            ],
            "text/plain": [
              "<IPython.core.display.HTML object>"
            ]
          },
          "metadata": {},
          "output_type": "display_data"
        },
        {
          "data": {
            "text/html": [
              " View run at <a href='https://wandb.ai/agharezasharif/huggingface/runs/pnwxacf2' target=\"_blank\">https://wandb.ai/agharezasharif/huggingface/runs/pnwxacf2</a>"
            ],
            "text/plain": [
              "<IPython.core.display.HTML object>"
            ]
          },
          "metadata": {},
          "output_type": "display_data"
        },
        {
          "name": "stderr",
          "output_type": "stream",
          "text": [
            "/opt/conda/lib/python3.10/site-packages/torch/nn/parallel/_functions.py:68: UserWarning: Was asked to gather along dimension 0, but all input tensors were scalars; will instead unsqueeze and return a vector.\n",
            "  warnings.warn('Was asked to gather along dimension 0, but all '\n"
          ]
        },
        {
          "data": {
            "text/html": [
              "\n",
              "    <div>\n",
              "      \n",
              "      <progress value='3101' max='3101' style='width:300px; height:20px; vertical-align: middle;'></progress>\n",
              "      [3101/3101 17:46, Epoch 1/1]\n",
              "    </div>\n",
              "    <table border=\"1\" class=\"dataframe\">\n",
              "  <thead>\n",
              " <tr style=\"text-align: left;\">\n",
              "      <th>Epoch</th>\n",
              "      <th>Training Loss</th>\n",
              "      <th>Validation Loss</th>\n",
              "      <th>Accuracy</th>\n",
              "    </tr>\n",
              "  </thead>\n",
              "  <tbody>\n",
              "    <tr>\n",
              "      <td>1</td>\n",
              "      <td>0.750100</td>\n",
              "      <td>0.739232</td>\n",
              "      <td>0.687601</td>\n",
              "    </tr>\n",
              "  </tbody>\n",
              "</table><p>"
            ],
            "text/plain": [
              "<IPython.core.display.HTML object>"
            ]
          },
          "metadata": {},
          "output_type": "display_data"
        },
        {
          "name": "stderr",
          "output_type": "stream",
          "text": [
            "/opt/conda/lib/python3.10/site-packages/torch/nn/parallel/_functions.py:68: UserWarning: Was asked to gather along dimension 0, but all input tensors were scalars; will instead unsqueeze and return a vector.\n",
            "  warnings.warn('Was asked to gather along dimension 0, but all '\n",
            "/opt/conda/lib/python3.10/site-packages/torch/nn/parallel/_functions.py:68: UserWarning: Was asked to gather along dimension 0, but all input tensors were scalars; will instead unsqueeze and return a vector.\n",
            "  warnings.warn('Was asked to gather along dimension 0, but all '\n",
            "/opt/conda/lib/python3.10/site-packages/torch/nn/parallel/_functions.py:68: UserWarning: Was asked to gather along dimension 0, but all input tensors were scalars; will instead unsqueeze and return a vector.\n",
            "  warnings.warn('Was asked to gather along dimension 0, but all '\n",
            "/opt/conda/lib/python3.10/site-packages/torch/nn/parallel/_functions.py:68: UserWarning: Was asked to gather along dimension 0, but all input tensors were scalars; will instead unsqueeze and return a vector.\n",
            "  warnings.warn('Was asked to gather along dimension 0, but all '\n",
            "/opt/conda/lib/python3.10/site-packages/torch/nn/parallel/_functions.py:68: UserWarning: Was asked to gather along dimension 0, but all input tensors were scalars; will instead unsqueeze and return a vector.\n",
            "  warnings.warn('Was asked to gather along dimension 0, but all '\n",
            "/opt/conda/lib/python3.10/site-packages/torch/nn/parallel/_functions.py:68: UserWarning: Was asked to gather along dimension 0, but all input tensors were scalars; will instead unsqueeze and return a vector.\n",
            "  warnings.warn('Was asked to gather along dimension 0, but all '\n"
          ]
        },
        {
          "data": {
            "text/plain": [
              "TrainOutput(global_step=3101, training_loss=0.8022068125784148, metrics={'train_runtime': 1124.4937, 'train_samples_per_second': 88.244, 'train_steps_per_second': 2.758, 'total_flos': 3620613559855260.0, 'train_loss': 0.8022068125784148, 'epoch': 1.0})"
            ]
          },
          "execution_count": 8,
          "metadata": {},
          "output_type": "execute_result"
        }
      ],
      "source": [
        "accuracy = evaluate.load(\"accuracy\")\n",
        "def compute_metrics(eval_pred):\n",
        "    predictions, labels = eval_pred\n",
        "    predictions = np.argmax(predictions, axis=1)\n",
        "    return accuracy.compute(predictions=predictions, references=labels)\n",
        "\n",
        "training_args = TrainingArguments(\n",
        "    output_dir=\"my_awesome_model_without_freezing_bert_parameter\",\n",
        "    learning_rate=2e-5,\n",
        "    per_device_train_batch_size=16,\n",
        "    per_device_eval_batch_size=16,\n",
        "    num_train_epochs=1,\n",
        "    evaluation_strategy=\"epoch\"\n",
        ")\n",
        "\n",
        "trainer = Trainer(\n",
        "    model=model_bert,\n",
        "    args=training_args,\n",
        "    train_dataset=train_dataset,\n",
        "    eval_dataset=val_dataset,\n",
        "    tokenizer=tokenizer,\n",
        "    compute_metrics=compute_metrics\n",
        ")\n",
        "\n",
        "trainer.train()"
      ]
    },
    {
      "attachments": {},
      "cell_type": "markdown",
      "metadata": {
        "id": "RjHkaSl8PmWk"
      },
      "source": [
        "<div>As you see, using bert pretrained models for embedding each phrase leads to higher accuracy.</div>"
      ]
    }
  ],
  "metadata": {
    "accelerator": "GPU",
    "colab": {
      "provenance": []
    },
    "kernelspec": {
      "display_name": "Python 3",
      "language": "python",
      "name": "python3"
    },
    "language_info": {
      "codemirror_mode": {
        "name": "ipython",
        "version": 3
      },
      "file_extension": ".py",
      "mimetype": "text/x-python",
      "name": "python",
      "nbconvert_exporter": "python",
      "pygments_lexer": "ipython3",
      "version": "3.10.10"
    }
  },
  "nbformat": 4,
  "nbformat_minor": 0
}
